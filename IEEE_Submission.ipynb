{
 "cells": [
  {
   "cell_type": "code",
   "execution_count": 1,
   "metadata": {},
   "outputs": [],
   "source": [
    "import pandas as pd\n",
    "import numpy as np\n",
    "from gensim.models import Word2Vec\n",
    "from nltk.tokenize import TweetTokenizer\n",
    "from nltk.corpus import stopwords\n",
    "from math import ceil\n",
    "from sklearn.metrics import f1_score, classification_report, confusion_matrix, accuracy_score, precision_score, recall_score\n",
    "import string\n",
    "from math import log10\n",
    "from scipy.stats import norm\n",
    "import re\n",
    "import pickle\n",
    "import matplotlib.pyplot as plt\n",
    "%matplotlib inline"
   ]
  },
  {
   "cell_type": "code",
   "execution_count": 2,
   "metadata": {},
   "outputs": [],
   "source": [
    "columns = ['tweet_id','timestamp','tweet_text','user_id',\n",
    "           'tweet_coords','tweet_coords_list','tweet_long','tweet_lat','location',\n",
    "           'enc_url','tweet_lang','hashtags']\n",
    "tweet_full = pd.read_csv(r'./tweetCoords.csv',\n",
    "                         header=None,\n",
    "                         names=columns,\n",
    "                         parse_dates=[1],\n",
    "                         infer_datetime_format=True,\n",
    "                         index_col='timestamp')"
   ]
  },
  {
   "cell_type": "code",
   "execution_count": 3,
   "metadata": {},
   "outputs": [],
   "source": [
    "tweet_full_en = tweet_full[tweet_full['tweet_lang'] == 'en']"
   ]
  },
  {
   "cell_type": "code",
   "execution_count": 4,
   "metadata": {},
   "outputs": [],
   "source": [
    "tweet_stops = stopwords.words('english')\n",
    "tweet_tokenizer = TweetTokenizer(strip_handles=True,preserve_case=False,reduce_len=True)\n",
    "\n",
    "def clean_tweet(tweet):\n",
    "#     takes input string and converts or removes characters depending on settings.\n",
    "#     returns a string\n",
    "#     convert case:\n",
    "    tweet = tweet.lower()\n",
    "#     remove URLs:\n",
    "    tweet = re.sub('https?://\\S+','',tweet)\n",
    "#     remove @mentions, including those with a leading '-' or '.' : \n",
    "    tweet = re.sub('[-\\.]?@\\w+','',tweet)\n",
    "#     remove punctuation, but not hashtags:\n",
    "    tweet = tweet.translate(tweet.maketrans('','',string.punctuation.replace(\"#\",\"\")))\n",
    "#     remove non-hashtag '#'.\n",
    "    tweet = re.sub('#\\B','',tweet)\n",
    "#     remove 'amp', 'gt', 'lt', indicating decoded ampersand, greater-than, less-than characters\n",
    "    tweet = re.sub(r'\\b(amp|gt|lt)\\b','',tweet)\n",
    "#     drop numbers and words of < 4 characters.\n",
    "    tweet = re.sub(r'\\b\\w{1,3}\\b','',tweet)\n",
    "    tweet = re.sub(r'\\b\\d+\\b','',tweet)\n",
    "    return tweet\n",
    "\n",
    "def tokens_no_stopwords(tweet_as_string):\n",
    "#     wrapper function that combines the tokenizer, cleaner, and stopword removal.\n",
    "#     takes a string and returns a list of strings\n",
    "    cleaned_tweet = clean_tweet(tweet_as_string)\n",
    "    tweet_as_tokens = tweet_tokenizer.tokenize(cleaned_tweet)\n",
    "    tweet_no_stops = [word for word in tweet_as_tokens if word not in tweet_stops]\n",
    "    \n",
    "    return tweet_no_stops"
   ]
  },
  {
   "cell_type": "code",
   "execution_count": 5,
   "metadata": {},
   "outputs": [],
   "source": [
    "search_term = \"irma\""
   ]
  },
  {
   "cell_type": "code",
   "execution_count": 6,
   "metadata": {},
   "outputs": [],
   "source": [
    "related_words = pd.DataFrame()\n",
    "tweet_date = pd.to_datetime(\"2017-09-10 00:00:00\")\n",
    "date_delta = pd.Timedelta(\"24HR\")\n",
    "end_date = pd.to_datetime(\"2017-09-10 00:00:00\")"
   ]
  },
  {
   "cell_type": "code",
   "execution_count": 11,
   "metadata": {},
   "outputs": [],
   "source": [
    "vectors_series = pd.Series(np.zeros((11))) #eliminating the off-by-one error in the loop later. This will have a zero row, unfilled by vectors."
   ]
  },
  {
   "cell_type": "code",
   "execution_count": 190,
   "metadata": {},
   "outputs": [],
   "source": [
    "for i in range(1,11):\n",
    "    for tweet_day in pd.date_range(start = tweet_date, end = end_date, freq = date_delta):\n",
    "        tweet_text = tweet_full_en.loc[tweet_day:tweet_day + date_delta,\"tweet_text\"]\n",
    "\n",
    "        tweets_tokens = tweet_text.apply(tokens_no_stopwords)\n",
    "#         this line uses the for loop to iterate the minimum word count for inclusion in the vectors:\n",
    "        vector_model = Word2Vec(tweets_tokens, min_count=1, window=i, workers=1, size=100, seed=1, sg=1)\n",
    "#         this line uses the for loop to iterate the context window size for any given word\n",
    "#         vector_model = Word2Vec(tweets_tokens, min_count=i, window=6, workers=1, size=100, seed=1, sg=1)\n",
    "        \n",
    "        word_matrix = vector_model.wv[vector_model.wv.vocab]\n",
    "        vector_model.train(tweets_tokens, total_examples=len(tweet_text), epochs=10)\n",
    "\n",
    "        vectors_series.iloc[i] = vector_model"
   ]
  },
  {
   "cell_type": "code",
   "execution_count": 192,
   "metadata": {},
   "outputs": [],
   "source": [
    "# pickle.dump(vectors_series,open(r'./pkl_sets/vectors_by_min_word_count.pkl',\"wb\"))\n",
    "# pickle.dump(vectors_series,open(r'./pkl_sets/vectors_by_window_size.pkl',\"wb\"))"
   ]
  },
  {
   "cell_type": "code",
   "execution_count": 208,
   "metadata": {},
   "outputs": [],
   "source": [
    "# comparison_type = \"Min. Word Freq.\"\n",
    "comparison_type = \"Window Size\""
   ]
  },
  {
   "cell_type": "code",
   "execution_count": 209,
   "metadata": {},
   "outputs": [],
   "source": [
    "# vectors_series = pickle.load(open(r'./pkl_sets/vectors_by_min_word_count.pkl',\"rb\"))\n",
    "vectors_series = pickle.load(open(r'./pkl_sets/vectors_by_window_size.pkl',\"rb\"))"
   ]
  },
  {
   "cell_type": "markdown",
   "metadata": {},
   "source": [
    "This is the starting point for changing the scoring function."
   ]
  },
  {
   "cell_type": "code",
   "execution_count": 210,
   "metadata": {},
   "outputs": [],
   "source": [
    "coded_tweets = pd.read_csv(r'./irma_related_tweets.csv')\n",
    "\n",
    "tweets_on_date = tweet_full_en.loc[tweet_date:tweet_date+date_delta]\n",
    "\n",
    "tweet_encoded = pd.concat([coded_tweets.reset_index(),tweets_on_date.iloc[:-1].reset_index()],axis=1)"
   ]
  },
  {
   "cell_type": "code",
   "execution_count": 211,
   "metadata": {},
   "outputs": [],
   "source": [
    "# func_type = \"Mean Cos. Sim.\"\n",
    "# def ScoreTweetFromVectors(tweet,vector_set):\n",
    "#     tweet_as_terms = tokens_no_stopwords(tweet)\n",
    "#     score = 0\n",
    "#     for i in tweet_as_terms:\n",
    "#         if i in vector_set.wv.vocab:\n",
    "#             score += vector_set.wv.similarity(i,search_term)\n",
    "#     if len(tweet_as_terms) > 0:\n",
    "#         score /= len(tweet_as_terms)\n",
    "#     else:\n",
    "#         score = 0\n",
    "#     return score"
   ]
  },
  {
   "cell_type": "code",
   "execution_count": 212,
   "metadata": {},
   "outputs": [],
   "source": [
    "# from math import sqrt\n",
    "# func_type = \"Sum Score over Sqrt Cos. Sim.\"\n",
    "# def ScoreTweetFromVectors(tweet,vector_set):\n",
    "#     tweet_as_terms = tokens_no_stopwords(tweet)\n",
    "#     score = 0\n",
    "#     for i in tweet_as_terms:\n",
    "#         if i in vector_set.wv.vocab:\n",
    "#             score += vector_set.wv.similarity(i,search_term)\n",
    "#     if len(tweet_as_terms) > 0:\n",
    "#         score /= sqrt(len(tweet_as_terms))\n",
    "#     else:\n",
    "#         score = 0\n",
    "#     return score"
   ]
  },
  {
   "cell_type": "code",
   "execution_count": 213,
   "metadata": {},
   "outputs": [],
   "source": [
    "func_type = \"Dot Product of Tweet Vector and Search Term\"\n",
    "def ScoreTweetFromVectors(tweet,vector_set):\n",
    "    tweet_as_terms = tokens_no_stopwords(tweet)\n",
    "#     initialize vector as 100 dimension vector of zeroes.\n",
    "    score_matrix = np.zeros(100,) \n",
    "#     iterate over each word after processing. If the word is in the vocabulary,\n",
    "#     add its vector's value to the score matrix.\n",
    "#     this essentially treats a word not in the vocabulary as a zero-vector.\n",
    "    for i in tweet_as_terms:\n",
    "        if i in vector_set.wv.vocab:\n",
    "            score_matrix = np.add(score_matrix,vector_set.wv.get_vector(i))\n",
    "#     if the number of words remaining in the tweet after processing is equal to zero, return zero.\n",
    "#     otherwise, take the dot product of the score vector, and the vector of the search term.\n",
    "    if len(tweet_as_terms) > 0:\n",
    "        score = np.dot(score_matrix,vector_set.wv.get_vector(search_term))\n",
    "    else:\n",
    "        score = 0\n",
    "    return score"
   ]
  },
  {
   "cell_type": "code",
   "execution_count": 214,
   "metadata": {},
   "outputs": [
    {
     "data": {
      "text/plain": [
       "0    63.070434\n",
       "1    43.819699\n",
       "2    36.723814\n",
       "3    14.715966\n",
       "4    17.891711\n",
       "Name: tweet_text, dtype: float64"
      ]
     },
     "execution_count": 214,
     "metadata": {},
     "output_type": "execute_result"
    }
   ],
   "source": [
    "tweet_encoded.iloc[0:5].tweet_text.apply(ScoreTweetFromVectors,args=(vectors_series.iloc[1],))"
   ]
  },
  {
   "cell_type": "code",
   "execution_count": 215,
   "metadata": {},
   "outputs": [],
   "source": [
    "for i in range(1,11):\n",
    "    tweet_encoded['score_window_'+str(i)] = tweet_encoded.tweet_text.apply(ScoreTweetFromVectors,args=(vectors_series.iloc[i],))"
   ]
  },
  {
   "cell_type": "code",
   "execution_count": 216,
   "metadata": {},
   "outputs": [],
   "source": [
    "for i in range(1,11):\n",
    "    tweet_encoded['MM_score_window_'+str(i)] = (tweet_encoded['score_window_'+str(i)] - tweet_encoded['score_window_'+str(i)].min())* 100 / (tweet_encoded['score_window_'+str(i)].max() - tweet_encoded['score_window_'+str(i)].min())"
   ]
  },
  {
   "cell_type": "code",
   "execution_count": 217,
   "metadata": {},
   "outputs": [
    {
     "data": {
      "text/html": [
       "<div>\n",
       "<style scoped>\n",
       "    .dataframe tbody tr th:only-of-type {\n",
       "        vertical-align: middle;\n",
       "    }\n",
       "\n",
       "    .dataframe tbody tr th {\n",
       "        vertical-align: top;\n",
       "    }\n",
       "\n",
       "    .dataframe thead th {\n",
       "        text-align: right;\n",
       "    }\n",
       "</style>\n",
       "<table border=\"1\" class=\"dataframe\">\n",
       "  <thead>\n",
       "    <tr style=\"text-align: right;\">\n",
       "      <th></th>\n",
       "      <th>index</th>\n",
       "      <th>irma_rel</th>\n",
       "      <th>tweet</th>\n",
       "      <th>timestamp</th>\n",
       "      <th>tweet_id</th>\n",
       "      <th>tweet_text</th>\n",
       "      <th>user_id</th>\n",
       "      <th>tweet_coords</th>\n",
       "      <th>tweet_coords_list</th>\n",
       "      <th>tweet_long</th>\n",
       "      <th>...</th>\n",
       "      <th>MM_score_window_1</th>\n",
       "      <th>MM_score_window_2</th>\n",
       "      <th>MM_score_window_3</th>\n",
       "      <th>MM_score_window_4</th>\n",
       "      <th>MM_score_window_5</th>\n",
       "      <th>MM_score_window_6</th>\n",
       "      <th>MM_score_window_7</th>\n",
       "      <th>MM_score_window_8</th>\n",
       "      <th>MM_score_window_9</th>\n",
       "      <th>MM_score_window_10</th>\n",
       "    </tr>\n",
       "  </thead>\n",
       "  <tbody>\n",
       "    <tr>\n",
       "      <th>0</th>\n",
       "      <td>0</td>\n",
       "      <td>1</td>\n",
       "      <td>Wind 2.0 mph N. Barometer 29.880 in, Steady. T...</td>\n",
       "      <td>2017-09-10 00:00:01</td>\n",
       "      <td>906668545542680576</td>\n",
       "      <td>Wind 2.0 mph N. Barometer 29.880 in, Steady. T...</td>\n",
       "      <td>1227982520</td>\n",
       "      <td>[28.87527778,-81.2525]</td>\n",
       "      <td>[[[-81.285896, 28.84511], [-81.285896, 28.9640...</td>\n",
       "      <td>-81.2525</td>\n",
       "      <td>...</td>\n",
       "      <td>42.820987</td>\n",
       "      <td>39.603564</td>\n",
       "      <td>39.905114</td>\n",
       "      <td>41.516834</td>\n",
       "      <td>42.191121</td>\n",
       "      <td>44.742654</td>\n",
       "      <td>42.426235</td>\n",
       "      <td>42.525448</td>\n",
       "      <td>42.624488</td>\n",
       "      <td>41.564537</td>\n",
       "    </tr>\n",
       "    <tr>\n",
       "      <th>1</th>\n",
       "      <td>1</td>\n",
       "      <td>0</td>\n",
       "      <td>There is always beauty regardless the circumst...</td>\n",
       "      <td>2017-09-10 00:00:03</td>\n",
       "      <td>906668555185291265</td>\n",
       "      <td>There is always beauty regardless the circumst...</td>\n",
       "      <td>42239064</td>\n",
       "      <td>[29.5381,-81.2234]</td>\n",
       "      <td>[[[-81.279617, 29.424649], [-81.279617, 29.627...</td>\n",
       "      <td>-81.2234</td>\n",
       "      <td>...</td>\n",
       "      <td>29.756268</td>\n",
       "      <td>27.793564</td>\n",
       "      <td>28.995698</td>\n",
       "      <td>27.863899</td>\n",
       "      <td>29.092119</td>\n",
       "      <td>28.117540</td>\n",
       "      <td>29.234418</td>\n",
       "      <td>28.381771</td>\n",
       "      <td>29.990653</td>\n",
       "      <td>28.540889</td>\n",
       "    </tr>\n",
       "    <tr>\n",
       "      <th>2</th>\n",
       "      <td>2</td>\n",
       "      <td>0</td>\n",
       "      <td>#Carpool #Orlando - gt  #Orlando #KIrkmanRoad ...</td>\n",
       "      <td>2017-09-10 00:00:03</td>\n",
       "      <td>906668556493889536</td>\n",
       "      <td>#Carpool #Orlando - gt  #Orlando #KIrkmanRoad ...</td>\n",
       "      <td>87188071</td>\n",
       "      <td>[28.4363045,-81.4797168]</td>\n",
       "      <td>[[[-87.634643, 24.396308], [-87.634643, 31.001...</td>\n",
       "      <td>-81.4797</td>\n",
       "      <td>...</td>\n",
       "      <td>24.940569</td>\n",
       "      <td>25.410596</td>\n",
       "      <td>26.437632</td>\n",
       "      <td>26.578259</td>\n",
       "      <td>25.760327</td>\n",
       "      <td>27.651049</td>\n",
       "      <td>27.040204</td>\n",
       "      <td>26.628831</td>\n",
       "      <td>26.750303</td>\n",
       "      <td>26.145981</td>\n",
       "    </tr>\n",
       "    <tr>\n",
       "      <th>3</th>\n",
       "      <td>3</td>\n",
       "      <td>0</td>\n",
       "      <td>@avictoria_x nah i m chillin my eyes never get...</td>\n",
       "      <td>2017-09-10 00:00:06</td>\n",
       "      <td>906668570079309830</td>\n",
       "      <td>@avictoria_x nah i m chillin my eyes never get...</td>\n",
       "      <td>746764728</td>\n",
       "      <td>NaN</td>\n",
       "      <td>[[[-81.25235, 28.549308], [-81.25235, 28.58224...</td>\n",
       "      <td>-81.2380</td>\n",
       "      <td>...</td>\n",
       "      <td>10.004705</td>\n",
       "      <td>9.508551</td>\n",
       "      <td>9.798487</td>\n",
       "      <td>9.865332</td>\n",
       "      <td>9.398804</td>\n",
       "      <td>10.013580</td>\n",
       "      <td>9.867294</td>\n",
       "      <td>9.389795</td>\n",
       "      <td>10.526124</td>\n",
       "      <td>9.560389</td>\n",
       "    </tr>\n",
       "    <tr>\n",
       "      <th>4</th>\n",
       "      <td>4</td>\n",
       "      <td>0</td>\n",
       "      <td>@jvnvy @sza That s how I feel bout seein travis</td>\n",
       "      <td>2017-09-10 00:00:08</td>\n",
       "      <td>906668576056246278</td>\n",
       "      <td>@jvnvy @sza That s how I feel bout seein travis</td>\n",
       "      <td>1679199278</td>\n",
       "      <td>NaN</td>\n",
       "      <td>[[[-82.31457, 27.823335], [-82.31457, 27.85374...</td>\n",
       "      <td>-82.2877</td>\n",
       "      <td>...</td>\n",
       "      <td>12.159959</td>\n",
       "      <td>12.350920</td>\n",
       "      <td>12.163101</td>\n",
       "      <td>12.328527</td>\n",
       "      <td>11.417566</td>\n",
       "      <td>12.054639</td>\n",
       "      <td>11.871215</td>\n",
       "      <td>12.402214</td>\n",
       "      <td>12.520807</td>\n",
       "      <td>11.709483</td>\n",
       "    </tr>\n",
       "  </tbody>\n",
       "</table>\n",
       "<p>5 rows × 35 columns</p>\n",
       "</div>"
      ],
      "text/plain": [
       "   index  irma_rel                                              tweet  \\\n",
       "0      0         1  Wind 2.0 mph N. Barometer 29.880 in, Steady. T...   \n",
       "1      1         0  There is always beauty regardless the circumst...   \n",
       "2      2         0  #Carpool #Orlando - gt  #Orlando #KIrkmanRoad ...   \n",
       "3      3         0  @avictoria_x nah i m chillin my eyes never get...   \n",
       "4      4         0    @jvnvy @sza That s how I feel bout seein travis   \n",
       "\n",
       "            timestamp            tweet_id  \\\n",
       "0 2017-09-10 00:00:01  906668545542680576   \n",
       "1 2017-09-10 00:00:03  906668555185291265   \n",
       "2 2017-09-10 00:00:03  906668556493889536   \n",
       "3 2017-09-10 00:00:06  906668570079309830   \n",
       "4 2017-09-10 00:00:08  906668576056246278   \n",
       "\n",
       "                                          tweet_text     user_id  \\\n",
       "0  Wind 2.0 mph N. Barometer 29.880 in, Steady. T...  1227982520   \n",
       "1  There is always beauty regardless the circumst...    42239064   \n",
       "2  #Carpool #Orlando - gt  #Orlando #KIrkmanRoad ...    87188071   \n",
       "3  @avictoria_x nah i m chillin my eyes never get...   746764728   \n",
       "4    @jvnvy @sza That s how I feel bout seein travis  1679199278   \n",
       "\n",
       "               tweet_coords  \\\n",
       "0    [28.87527778,-81.2525]   \n",
       "1        [29.5381,-81.2234]   \n",
       "2  [28.4363045,-81.4797168]   \n",
       "3                       NaN   \n",
       "4                       NaN   \n",
       "\n",
       "                                   tweet_coords_list  tweet_long  \\\n",
       "0  [[[-81.285896, 28.84511], [-81.285896, 28.9640...    -81.2525   \n",
       "1  [[[-81.279617, 29.424649], [-81.279617, 29.627...    -81.2234   \n",
       "2  [[[-87.634643, 24.396308], [-87.634643, 31.001...    -81.4797   \n",
       "3  [[[-81.25235, 28.549308], [-81.25235, 28.58224...    -81.2380   \n",
       "4  [[[-82.31457, 27.823335], [-82.31457, 27.85374...    -82.2877   \n",
       "\n",
       "          ...          MM_score_window_1 MM_score_window_2 MM_score_window_3  \\\n",
       "0         ...                  42.820987         39.603564         39.905114   \n",
       "1         ...                  29.756268         27.793564         28.995698   \n",
       "2         ...                  24.940569         25.410596         26.437632   \n",
       "3         ...                  10.004705          9.508551          9.798487   \n",
       "4         ...                  12.159959         12.350920         12.163101   \n",
       "\n",
       "  MM_score_window_4 MM_score_window_5  MM_score_window_6  MM_score_window_7  \\\n",
       "0         41.516834         42.191121          44.742654          42.426235   \n",
       "1         27.863899         29.092119          28.117540          29.234418   \n",
       "2         26.578259         25.760327          27.651049          27.040204   \n",
       "3          9.865332          9.398804          10.013580           9.867294   \n",
       "4         12.328527         11.417566          12.054639          11.871215   \n",
       "\n",
       "   MM_score_window_8  MM_score_window_9  MM_score_window_10  \n",
       "0          42.525448          42.624488           41.564537  \n",
       "1          28.381771          29.990653           28.540889  \n",
       "2          26.628831          26.750303           26.145981  \n",
       "3           9.389795          10.526124            9.560389  \n",
       "4          12.402214          12.520807           11.709483  \n",
       "\n",
       "[5 rows x 35 columns]"
      ]
     },
     "execution_count": 217,
     "metadata": {},
     "output_type": "execute_result"
    }
   ],
   "source": [
    "tweet_encoded.head()"
   ]
  },
  {
   "cell_type": "code",
   "execution_count": 257,
   "metadata": {},
   "outputs": [
    {
     "data": {
      "image/png": "[encoded data removed]",
      "text/plain": [
       "<Figure size 1152x576 with 1 Axes>"
      ]
     },
     "metadata": {},
     "output_type": "display_data"
    }
   ],
   "source": [
    "plt.figure(figsize=(16,8),facecolor='w')\n",
    "for j in range(5,6):\n",
    "    window_label = comparison_type+\":\"+str(j)\n",
    "    plt.plot(range(101),[len(tweet_encoded[tweet_encoded['MM_score_window_'+str(j)] > i])/len(tweet_encoded) for i in range(101)],label=window_label)\n",
    "plt.xlabel(\"Min-Max Scaled Tweet Score Threshold\")\n",
    "plt.ylabel(\"Percent of Tweets at or below Threshold\")\n",
    "plt.title(\"Percent of Tweets at or below Threshold by Word2Vec \"+comparison_type+\" (\"+str(func_type)+\")\")\n",
    "plt.legend();"
   ]
  },
  {
   "cell_type": "code",
   "execution_count": 263,
   "metadata": {},
   "outputs": [],
   "source": [
    "pd.Series([len(tweet_encoded[tweet_encoded['MM_score_window_'+str(j)] > i])*100/len(tweet_encoded) for i in range(101)]).to_csv('./min_max_window_5_dot.csv')"
   ]
  },
  {
   "cell_type": "code",
   "execution_count": 232,
   "metadata": {},
   "outputs": [],
   "source": [
    "f1_window_score_df = pd.DataFrame(np.zeros((101,11)))\n",
    "pre_score_df = pd.DataFrame(np.zeros((101,11)))\n",
    "rec_score_df = pd.DataFrame(np.zeros((101,11)))"
   ]
  },
  {
   "cell_type": "code",
   "execution_count": 233,
   "metadata": {},
   "outputs": [
    {
     "name": "stderr",
     "output_type": "stream",
     "text": [
      "/Users/brown/.local/share/virtualenvs/TwitterDisaster-4Cppn-LV/lib/python3.7/site-packages/sklearn/metrics/classification.py:1143: UndefinedMetricWarning: F-score is ill-defined and being set to 0.0 due to no predicted samples.\n",
      "  'precision', 'predicted', average, warn_for)\n",
      "/Users/brown/.local/share/virtualenvs/TwitterDisaster-4Cppn-LV/lib/python3.7/site-packages/sklearn/metrics/classification.py:1143: UndefinedMetricWarning: Precision is ill-defined and being set to 0.0 due to no predicted samples.\n",
      "  'precision', 'predicted', average, warn_for)\n"
     ]
    }
   ],
   "source": [
    "for i in range(1,11):\n",
    "    for j in range(101):\n",
    "        f1_window_score_df.iloc[j,i] = f1_score(tweet_encoded.irma_rel,tweet_encoded['MM_score_window_'+str(i)] > j)\n",
    "        pre_score_df.iloc[j,i] = precision_score(tweet_encoded.irma_rel,tweet_encoded['MM_score_window_'+str(i)] > j)\n",
    "        rec_score_df.iloc[j,i] = recall_score(tweet_encoded.irma_rel,tweet_encoded['MM_score_window_'+str(i)] > j)"
   ]
  },
  {
   "cell_type": "code",
   "execution_count": 221,
   "metadata": {},
   "outputs": [
    {
     "data": {
      "image/png": "[encoded data removed]",
      "text/plain": [
       "<Figure size 1152x576 with 1 Axes>"
      ]
     },
     "metadata": {},
     "output_type": "display_data"
    }
   ],
   "source": [
    "plt.figure(figsize=(16,8),facecolor='w')\n",
    "for i in range(1,11):\n",
    "    plt.plot(f1_window_score_df.iloc[:,i],label=comparison_type+\":\"+str(i))\n",
    "plt.xlabel(\"Min-Max Scaled Tweet Score Threshold\")\n",
    "plt.ylabel(\"F1 Score of Tweets at or below Threshold\")\n",
    "plt.title(\"F1 Score of Tweets by Word2Vec \"+comparison_type+\" (\"+str(func_type)+\")\")\n",
    "plt.legend();"
   ]
  },
  {
   "cell_type": "code",
   "execution_count": 243,
   "metadata": {},
   "outputs": [],
   "source": [
    "score_table = pd.concat([f1_window_score_df.idxmax(),f1_window_score_df.max()],names=['Window_size','F1_score'],axis=1)"
   ]
  },
  {
   "cell_type": "code",
   "execution_count": 252,
   "metadata": {},
   "outputs": [
    {
     "data": {
      "text/html": [
       "<div>\n",
       "<style scoped>\n",
       "    .dataframe tbody tr th:only-of-type {\n",
       "        vertical-align: middle;\n",
       "    }\n",
       "\n",
       "    .dataframe tbody tr th {\n",
       "        vertical-align: top;\n",
       "    }\n",
       "\n",
       "    .dataframe thead th {\n",
       "        text-align: right;\n",
       "    }\n",
       "</style>\n",
       "<table border=\"1\" class=\"dataframe\">\n",
       "  <thead>\n",
       "    <tr style=\"text-align: right;\">\n",
       "      <th></th>\n",
       "      <th>0</th>\n",
       "      <th>1</th>\n",
       "    </tr>\n",
       "  </thead>\n",
       "  <tbody>\n",
       "    <tr>\n",
       "      <th>0</th>\n",
       "      <td>0</td>\n",
       "      <td>0.000000</td>\n",
       "    </tr>\n",
       "    <tr>\n",
       "      <th>1</th>\n",
       "      <td>21</td>\n",
       "      <td>0.726557</td>\n",
       "    </tr>\n",
       "    <tr>\n",
       "      <th>2</th>\n",
       "      <td>19</td>\n",
       "      <td>0.728475</td>\n",
       "    </tr>\n",
       "    <tr>\n",
       "      <th>3</th>\n",
       "      <td>19</td>\n",
       "      <td>0.731454</td>\n",
       "    </tr>\n",
       "    <tr>\n",
       "      <th>4</th>\n",
       "      <td>20</td>\n",
       "      <td>0.730419</td>\n",
       "    </tr>\n",
       "    <tr>\n",
       "      <th>5</th>\n",
       "      <td>19</td>\n",
       "      <td>0.731824</td>\n",
       "    </tr>\n",
       "    <tr>\n",
       "      <th>6</th>\n",
       "      <td>21</td>\n",
       "      <td>0.731577</td>\n",
       "    </tr>\n",
       "    <tr>\n",
       "      <th>7</th>\n",
       "      <td>19</td>\n",
       "      <td>0.729684</td>\n",
       "    </tr>\n",
       "    <tr>\n",
       "      <th>8</th>\n",
       "      <td>19</td>\n",
       "      <td>0.729231</td>\n",
       "    </tr>\n",
       "    <tr>\n",
       "      <th>9</th>\n",
       "      <td>21</td>\n",
       "      <td>0.728449</td>\n",
       "    </tr>\n",
       "    <tr>\n",
       "      <th>10</th>\n",
       "      <td>20</td>\n",
       "      <td>0.730812</td>\n",
       "    </tr>\n",
       "  </tbody>\n",
       "</table>\n",
       "</div>"
      ],
      "text/plain": [
       "     0         1\n",
       "0    0  0.000000\n",
       "1   21  0.726557\n",
       "2   19  0.728475\n",
       "3   19  0.731454\n",
       "4   20  0.730419\n",
       "5   19  0.731824\n",
       "6   21  0.731577\n",
       "7   19  0.729684\n",
       "8   19  0.729231\n",
       "9   21  0.728449\n",
       "10  20  0.730812"
      ]
     },
     "execution_count": 252,
     "metadata": {},
     "output_type": "execute_result"
    }
   ],
   "source": [
    "score_table"
   ]
  },
  {
   "cell_type": "code",
   "execution_count": 254,
   "metadata": {},
   "outputs": [
    {
     "data": {
      "text/html": [
       "<div>\n",
       "<style scoped>\n",
       "    .dataframe tbody tr th:only-of-type {\n",
       "        vertical-align: middle;\n",
       "    }\n",
       "\n",
       "    .dataframe tbody tr th {\n",
       "        vertical-align: top;\n",
       "    }\n",
       "\n",
       "    .dataframe thead th {\n",
       "        text-align: right;\n",
       "    }\n",
       "</style>\n",
       "<table border=\"1\" class=\"dataframe\">\n",
       "  <thead>\n",
       "    <tr style=\"text-align: right;\">\n",
       "      <th></th>\n",
       "      <th>19</th>\n",
       "      <th>20</th>\n",
       "      <th>21</th>\n",
       "    </tr>\n",
       "  </thead>\n",
       "  <tbody>\n",
       "    <tr>\n",
       "      <th>0</th>\n",
       "      <td>0.000000</td>\n",
       "      <td>0.000000</td>\n",
       "      <td>0.000000</td>\n",
       "    </tr>\n",
       "    <tr>\n",
       "      <th>1</th>\n",
       "      <td>0.632370</td>\n",
       "      <td>0.643850</td>\n",
       "      <td>0.657332</td>\n",
       "    </tr>\n",
       "    <tr>\n",
       "      <th>2</th>\n",
       "      <td>0.637325</td>\n",
       "      <td>0.649144</td>\n",
       "      <td>0.660499</td>\n",
       "    </tr>\n",
       "    <tr>\n",
       "      <th>3</th>\n",
       "      <td>0.637038</td>\n",
       "      <td>0.648293</td>\n",
       "      <td>0.659419</td>\n",
       "    </tr>\n",
       "    <tr>\n",
       "      <th>4</th>\n",
       "      <td>0.629594</td>\n",
       "      <td>0.642028</td>\n",
       "      <td>0.650244</td>\n",
       "    </tr>\n",
       "    <tr>\n",
       "      <th>5</th>\n",
       "      <td>0.634123</td>\n",
       "      <td>0.644751</td>\n",
       "      <td>0.655967</td>\n",
       "    </tr>\n",
       "    <tr>\n",
       "      <th>6</th>\n",
       "      <td>0.631616</td>\n",
       "      <td>0.643192</td>\n",
       "      <td>0.657099</td>\n",
       "    </tr>\n",
       "    <tr>\n",
       "      <th>7</th>\n",
       "      <td>0.632529</td>\n",
       "      <td>0.641647</td>\n",
       "      <td>0.654646</td>\n",
       "    </tr>\n",
       "    <tr>\n",
       "      <th>8</th>\n",
       "      <td>0.630303</td>\n",
       "      <td>0.640497</td>\n",
       "      <td>0.653009</td>\n",
       "    </tr>\n",
       "    <tr>\n",
       "      <th>9</th>\n",
       "      <td>0.627239</td>\n",
       "      <td>0.639061</td>\n",
       "      <td>0.650497</td>\n",
       "    </tr>\n",
       "    <tr>\n",
       "      <th>10</th>\n",
       "      <td>0.634812</td>\n",
       "      <td>0.647004</td>\n",
       "      <td>0.659086</td>\n",
       "    </tr>\n",
       "  </tbody>\n",
       "</table>\n",
       "</div>"
      ],
      "text/plain": [
       "          19        20        21\n",
       "0   0.000000  0.000000  0.000000\n",
       "1   0.632370  0.643850  0.657332\n",
       "2   0.637325  0.649144  0.660499\n",
       "3   0.637038  0.648293  0.659419\n",
       "4   0.629594  0.642028  0.650244\n",
       "5   0.634123  0.644751  0.655967\n",
       "6   0.631616  0.643192  0.657099\n",
       "7   0.632529  0.641647  0.654646\n",
       "8   0.630303  0.640497  0.653009\n",
       "9   0.627239  0.639061  0.650497\n",
       "10  0.634812  0.647004  0.659086"
      ]
     },
     "execution_count": 254,
     "metadata": {},
     "output_type": "execute_result"
    }
   ],
   "source": [
    "pre_score_df.iloc[19:22].T"
   ]
  },
  {
   "cell_type": "code",
   "execution_count": 256,
   "metadata": {},
   "outputs": [],
   "source": [
    "tweet_encoded['MM_score_window_5'].to_csv('min_max_window_5_dot.csv')"
   ]
  }
 ],
 "metadata": {
  "kernelspec": {
   "display_name": "Python 3",
   "language": "python",
   "name": "python3"
  },
  "language_info": {
   "codemirror_mode": {
    "name": "ipython",
    "version": 3
   },
   "file_extension": ".py",
   "mimetype": "text/x-python",
   "name": "python",
   "nbconvert_exporter": "python",
   "pygments_lexer": "ipython3",
   "version": "3.7.0"
  }
 },
 "nbformat": 4,
 "nbformat_minor": 2
}
