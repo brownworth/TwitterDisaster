{
 "cells": [
  {
   "cell_type": "code",
   "execution_count": 1,
   "metadata": {},
   "outputs": [],
   "source": [
    "# import nltk\n",
    "# nltk.download('wordnet')\n",
    "# nltk.download('stopwords')"
   ]
  },
  {
   "cell_type": "code",
   "execution_count": 2,
   "metadata": {},
   "outputs": [],
   "source": [
    "import pandas as pd\n",
    "import numpy as np\n",
    "from gensim.models import Word2Vec\n",
    "# from nltk.tokenize import TweetTokenizer\n",
    "from nltk.tokenize.casual import reduce_lengthening\n",
    "# from nltk.tokenize import sent_tokenize, word_tokenize\n",
    "from nltk.corpus import stopwords\n",
    "from nltk.stem import PorterStemmer, WordNetLemmatizer\n",
    "from math import ceil\n",
    "from sklearn.metrics import (f1_score, classification_report, \n",
    "                            confusion_matrix, accuracy_score, \n",
    "                            precision_score, recall_score, \n",
    "                            roc_auc_score, roc_curve)\n",
    "from sklearn.preprocessing import label_binarize\n",
    "from scipy.spatial.distance import cosine\n",
    "import string\n",
    "from math import log10, sqrt\n",
    "from scipy.stats import norm\n",
    "import re\n",
    "import pickle\n",
    "import matplotlib.pyplot as plt\n",
    "import networkx as nx\n",
    "%matplotlib inline"
   ]
  },
  {
   "cell_type": "markdown",
   "metadata": {},
   "source": [
    "## Importing Tweet Data\n",
    "***"
   ]
  },
  {
   "cell_type": "code",
   "execution_count": 3,
   "metadata": {},
   "outputs": [],
   "source": [
    "columns = ['tweet_id','timestamp','tweet_text','user_id',\n",
    "           'tweet_coords','tweet_coords_list','tweet_long','tweet_lat','location',\n",
    "           'enc_url','tweet_lang','hashtags']\n",
    "tweet_full = pd.read_csv(r'./tweetCoords.csv',\n",
    "                         header=None,\n",
    "                         names=columns,\n",
    "                         parse_dates=[1],\n",
    "                         infer_datetime_format=True,\n",
    "                         index_col='timestamp')"
   ]
  },
  {
   "cell_type": "code",
   "execution_count": 4,
   "metadata": {},
   "outputs": [],
   "source": [
    "related_words = pd.DataFrame()\n",
    "tweet_date = pd.to_datetime(\"2017-09-10 00:00:00\")\n",
    "date_delta = pd.Timedelta(\"24HR\")\n",
    "end_date = pd.to_datetime(\"2017-09-10 00:00:00\")"
   ]
  },
  {
   "cell_type": "code",
   "execution_count": 5,
   "metadata": {},
   "outputs": [],
   "source": [
    "tweet_full_en = tweet_full[tweet_full['tweet_lang'] == 'en']"
   ]
  },
  {
   "cell_type": "code",
   "execution_count": 6,
   "metadata": {},
   "outputs": [],
   "source": [
    "tweet_text = tweet_full_en.loc[tweet_date:tweet_date + date_delta,\"tweet_text\"]"
   ]
  },
  {
   "cell_type": "markdown",
   "metadata": {},
   "source": [
    "## Helper Functions\n",
    "***"
   ]
  },
  {
   "cell_type": "code",
   "execution_count": 7,
   "metadata": {},
   "outputs": [],
   "source": [
    "tweet_stops = stopwords.words('english')\n",
    "stemmer = PorterStemmer()\n",
    "\n",
    "def clean_tweet(tweet):\n",
    "##     takes input string and converts or removes characters depending on settings.\n",
    "##     returns a string\n",
    "##     convert case:\n",
    "    tweet = tweet.lower()\n",
    "##    remove URLs:\n",
    "    tweet = re.sub('https?://\\S+','',tweet)\n",
    "##     remove @mentions, including those with a leading '-' or '.' : \n",
    "    tweet = re.sub('[-\\.]?@\\w+','',tweet)\n",
    "##     remove non-hashtag punctuation:\n",
    "#     tweet = tweet.translate(tweet.maketrans('','',string.punctuation.replace(\"#\",\"\")))\n",
    "##     convert non-hashtag punctuation to whitespace:\n",
    "    tweet = tweet.translate(tweet.maketrans(string.punctuation.replace(\"#\",\"\"),\" \"*len(string.punctuation.replace(\"#\",\"\"))))\n",
    "#     remove non-hashtag '#'.\n",
    "    tweet = re.sub('\\B#\\B','',tweet)\n",
    "##     remove 'amp', 'gt', 'lt', indicating decoded ampersand, greater-than, less-than characters\n",
    "    tweet = re.sub(r'\\b(amp|gt|lt)\\b','',tweet)\n",
    "##     drop numbers and words of < 4 characters.\n",
    "#     tweet = re.sub(r'\\b(?<!#)\\w{1,3}\\b','',tweet)\n",
    "    tweet = re.sub(r'\\b(?<!#)\\d+\\b','',tweet)\n",
    "    return tweet\n",
    "\n",
    "def tokens_no_stopwords(tweet_as_string):\n",
    "#     wrapper function that combines the tokenizer, cleaner, and stopword removal.\n",
    "#     takes a string and returns a list of strings\n",
    "    cleaned_tweet = clean_tweet(tweet_as_string)\n",
    "    tweet_reduce_len = reduce_lengthening(cleaned_tweet)\n",
    "#     tweet_as_tokens = word_tokenize(tweet_reduce_len)\n",
    "    tweet_as_tokens = tweet_reduce_len.split()\n",
    "    tweet_no_stops = [stemmer.stem(word) for word in tweet_as_tokens if word not in tweet_stops]\n",
    "    \n",
    "    return tweet_no_stops"
   ]
  },
  {
   "cell_type": "markdown",
   "metadata": {},
   "source": [
    "## Miscellaneous Tests:\n",
    "***"
   ]
  },
  {
   "cell_type": "code",
   "execution_count": 8,
   "metadata": {},
   "outputs": [
    {
     "data": {
      "text/plain": [
       "'This is some     text that has   char  in it'"
      ]
     },
     "execution_count": 8,
     "metadata": {},
     "output_type": "execute_result"
    }
   ],
   "source": [
    "punc_test = \"This is some (&) text$that has &*char$ in it\"\n",
    "punc_test.translate(punc_test.maketrans(string.punctuation.replace(\"#\",\"\"),\" \"*len(string.punctuation.replace(\"#\",\"\"))))"
   ]
  },
  {
   "cell_type": "code",
   "execution_count": 9,
   "metadata": {},
   "outputs": [
    {
     "data": {
      "text/plain": [
       "'This is some  textthat has char in it'"
      ]
     },
     "execution_count": 9,
     "metadata": {},
     "output_type": "execute_result"
    }
   ],
   "source": [
    "punc_test.translate(punc_test.maketrans('','',string.punctuation.replace(\"#\",\"\")))"
   ]
  },
  {
   "cell_type": "code",
   "execution_count": 10,
   "metadata": {},
   "outputs": [],
   "source": [
    "# tweet_tokenizer = TweetTokenizer(strip_handles=True,preserve_case=False,reduce_len=True)"
   ]
  },
  {
   "cell_type": "code",
   "execution_count": 11,
   "metadata": {},
   "outputs": [
    {
     "name": "stdout",
     "output_type": "stream",
     "text": [
      "# #34 4#3 A#36 3 A! #hashtag\n",
      "# #34 4!3 A!36 3 A# #hashtag\n",
      "! #34 4#3 A#36 3 A# #hashtag\n"
     ]
    }
   ],
   "source": [
    "re_hash_test = '# #34 4#3 A#36 3 A# #hashtag'\n",
    "print(re.sub(r'\\b#\\B','!',re_hash_test))\n",
    "print(re.sub(r'\\b#\\b','!',re_hash_test))\n",
    "print(re.sub(r'\\B#\\B','!',re_hash_test))"
   ]
  },
  {
   "cell_type": "code",
   "execution_count": 12,
   "metadata": {},
   "outputs": [
    {
     "data": {
      "text/plain": [
       "['tweet', '#1', '#hashtag', '#123', '#12345', 'apm', 'yooo']"
      ]
     },
     "execution_count": 12,
     "metadata": {},
     "output_type": "execute_result"
    }
   ],
   "source": [
    "text=\"this is a tweet # #### ####1 #hashtag #123 #12345 apm yooooo\"\n",
    "tokens_no_stopwords(text)"
   ]
  },
  {
   "cell_type": "markdown",
   "metadata": {},
   "source": [
    "## Word/Token Statistics\n",
    "***"
   ]
  },
  {
   "cell_type": "code",
   "execution_count": 13,
   "metadata": {},
   "outputs": [],
   "source": [
    "word_counts = tweet_text.str.split(\"\\s+\").apply(pd.Series).stack().value_counts()"
   ]
  },
  {
   "cell_type": "code",
   "execution_count": 14,
   "metadata": {},
   "outputs": [
    {
     "data": {
      "text/plain": [
       "43387"
      ]
     },
     "execution_count": 14,
     "metadata": {},
     "output_type": "execute_result"
    }
   ],
   "source": [
    "word_counts.size"
   ]
  },
  {
   "cell_type": "code",
   "execution_count": 15,
   "metadata": {},
   "outputs": [],
   "source": [
    "# word_counts.head(20)"
   ]
  },
  {
   "cell_type": "code",
   "execution_count": 16,
   "metadata": {},
   "outputs": [],
   "source": [
    "# word_counts.tail(20)"
   ]
  },
  {
   "cell_type": "code",
   "execution_count": 17,
   "metadata": {},
   "outputs": [],
   "source": [
    "# tweet_reduce_len = TweetTokenizer(reduce_len=True)\n",
    "word_counts_reduce = tweet_text.apply(reduce_lengthening).str.split().apply(pd.Series).stack().value_counts()"
   ]
  },
  {
   "cell_type": "code",
   "execution_count": 18,
   "metadata": {
    "scrolled": true
   },
   "outputs": [
    {
     "data": {
      "text/plain": [
       "43254"
      ]
     },
     "execution_count": 18,
     "metadata": {},
     "output_type": "execute_result"
    }
   ],
   "source": [
    "word_counts_reduce.size"
   ]
  },
  {
   "cell_type": "code",
   "execution_count": 19,
   "metadata": {},
   "outputs": [],
   "source": [
    "# np.setdiff1d(word_counts.index.values,word_counts_reduce.index.values)"
   ]
  },
  {
   "cell_type": "code",
   "execution_count": 20,
   "metadata": {},
   "outputs": [],
   "source": [
    "# word_counts_reduce.head(20)"
   ]
  },
  {
   "cell_type": "code",
   "execution_count": 21,
   "metadata": {},
   "outputs": [],
   "source": [
    "# word_counts_full_tokenizer = tweet_text.apply(tweet_tokenizer.tokenize).apply(pd.Series).stack().value_counts()"
   ]
  },
  {
   "cell_type": "code",
   "execution_count": 22,
   "metadata": {},
   "outputs": [],
   "source": [
    "# word_counts_full_tokenizer.size"
   ]
  },
  {
   "cell_type": "code",
   "execution_count": 23,
   "metadata": {},
   "outputs": [],
   "source": [
    "# word_counts_full_tokenizer.head(20)"
   ]
  },
  {
   "cell_type": "code",
   "execution_count": 24,
   "metadata": {},
   "outputs": [],
   "source": [
    "tokenized_tweets = tweet_text.apply(tokens_no_stopwords)"
   ]
  },
  {
   "cell_type": "code",
   "execution_count": 25,
   "metadata": {},
   "outputs": [],
   "source": [
    "# tweet_test = tweet_text.loc['2017-09-10 00:03:40'][1]\n",
    "# print(tweet_test)\n",
    "# tweet_test = tweet_test.lower()\n",
    "# print(word_tokenize(tweet_test))\n",
    "# print(tweet_test.split())\n",
    "# i=0\n",
    "# print(f\"S: {tweet_test}\");i+=1\n",
    "# #     1: remove URLs:\n",
    "# tweet_test = re.sub('https?://\\S+','',tweet_test)\n",
    "# print(f\"{i}: {tweet_test}\");i+=1\n",
    "# #     2: remove @mentions, including those with a leading '-' or '.' : \n",
    "# tweet_test = re.sub('[-\\.]?@\\w+','',tweet_test)\n",
    "# print(f\"{i}: {tweet_test}\");i+=1\n",
    "# #     3: remove punctuation, but not hashtags:\n",
    "# tweet_test = tweet_test.translate(tweet_test.maketrans('','',string.punctuation.replace(\"#\",\"\")))\n",
    "# print(f\"{i}: {tweet_test}\");i+=1\n",
    "# #     4: remove non-hashtag '#'.\n",
    "# # tweet_test = re.sub('#\\B','',tweet_test)\n",
    "# print(f\"{i}: {tweet_test}\");i+=1\n",
    "# #     5: remove 'amp', 'gt', 'lt', indicating decoded ampersand, greater-than, less-than characters\n",
    "# # tweet_test = re.sub(r'\\b(amp|gt|lt)\\b','',tweet_test)\n",
    "# print(f\"{i}: {tweet_test}\");i+=1\n",
    "# #     6: drop words of < 4 characters, but not hashtags\n",
    "# tweet_test = re.sub(r'\\b(?<!#)\\w{1,3}\\b','',tweet_test)\n",
    "# print(f\"{i}: {tweet_test}\");i+=1\n",
    "# #     7: drop numbers, but not hashtags\n",
    "# tweet_test = re.sub(r'\\b(?<!#)\\d+\\b','',tweet_test)\n",
    "# print(f\"{i}: {tweet_test}\");i+=1\n",
    "\n",
    "# print(word_tokenize(tweet_test))\n",
    "# print(tokens_no_stopwords(tweet_test))"
   ]
  },
  {
   "cell_type": "code",
   "execution_count": 26,
   "metadata": {},
   "outputs": [
    {
     "name": "stdout",
     "output_type": "stream",
     "text": [
      "timestamp\n",
      "2017-09-10 00:03:40    #NaturalRemedies This Is the Only Product That...\n",
      "2017-09-10 00:03:40    TAGGED 2017  #1 @ US 1-Biscayne Blvd. https://...\n",
      "Name: tweet_text, dtype: object\n",
      "timestamp\n",
      "2017-09-10 00:03:40    [#naturalremedi, product, kill, virus, fungal,...\n",
      "2017-09-10 00:03:40                         [tag, #1, us, biscayn, blvd]\n",
      "Name: tweet_text, dtype: object\n"
     ]
    }
   ],
   "source": [
    "date_test = '2017-09-10 00:03:40'\n",
    "print(tweet_text.loc[date_test].apply(reduce_lengthening))\n",
    "print(tweet_text.loc[date_test].apply(tokens_no_stopwords))"
   ]
  },
  {
   "cell_type": "code",
   "execution_count": 27,
   "metadata": {},
   "outputs": [],
   "source": [
    "# tokenized_tweets[tokenized_tweets.apply(lambda x: '@' in x)]"
   ]
  },
  {
   "cell_type": "code",
   "execution_count": 28,
   "metadata": {},
   "outputs": [],
   "source": [
    "word_counts_full_token_clean = tweet_text.apply(tokens_no_stopwords).apply(pd.Series).stack().value_counts()"
   ]
  },
  {
   "cell_type": "code",
   "execution_count": 29,
   "metadata": {},
   "outputs": [
    {
     "data": {
      "text/plain": [
       "14439"
      ]
     },
     "execution_count": 29,
     "metadata": {},
     "output_type": "execute_result"
    }
   ],
   "source": [
    "word_counts_full_token_clean.size"
   ]
  },
  {
   "cell_type": "code",
   "execution_count": 30,
   "metadata": {},
   "outputs": [],
   "source": [
    "# word_counts_full_token_clean.head(20)"
   ]
  },
  {
   "cell_type": "code",
   "execution_count": 31,
   "metadata": {},
   "outputs": [],
   "source": [
    "# word_counts_full_token_clean.tail(20)"
   ]
  },
  {
   "cell_type": "code",
   "execution_count": 32,
   "metadata": {},
   "outputs": [],
   "source": [
    "tweet_len = tweet_text.groupby(tweet_text.str.split().apply(len)).size()"
   ]
  },
  {
   "cell_type": "code",
   "execution_count": 33,
   "metadata": {},
   "outputs": [],
   "source": [
    "tweet_len_post = tweet_text.apply(tokens_no_stopwords).apply(len).value_counts().sort_index()"
   ]
  },
  {
   "cell_type": "code",
   "execution_count": 34,
   "metadata": {},
   "outputs": [
    {
     "data": {
      "text/plain": [
       "15971"
      ]
     },
     "execution_count": 34,
     "metadata": {},
     "output_type": "execute_result"
    }
   ],
   "source": [
    "tweet_len_post[tweet_len_post.index <= 10].sum()"
   ]
  },
  {
   "cell_type": "code",
   "execution_count": 35,
   "metadata": {},
   "outputs": [
    {
     "data": {
      "text/plain": [
       "19089"
      ]
     },
     "execution_count": 35,
     "metadata": {},
     "output_type": "execute_result"
    }
   ],
   "source": [
    "tweet_len_post.sum()"
   ]
  },
  {
   "cell_type": "code",
   "execution_count": 36,
   "metadata": {},
   "outputs": [
    {
     "data": {
      "text/plain": [
       "tweet_text\n",
       "1       37\n",
       "2      342\n",
       "3      622\n",
       "4      753\n",
       "5      815\n",
       "6      911\n",
       "7      956\n",
       "8     1052\n",
       "9     1121\n",
       "10    1022\n",
       "11    1020\n",
       "12    1040\n",
       "13     988\n",
       "14    1005\n",
       "15    1308\n",
       "16    1112\n",
       "17     876\n",
       "18     862\n",
       "19     736\n",
       "20     587\n",
       "21     493\n",
       "22     349\n",
       "23     317\n",
       "24     239\n",
       "25     151\n",
       "26     163\n",
       "27      70\n",
       "28      68\n",
       "29      33\n",
       "30      21\n",
       "31      12\n",
       "32       6\n",
       "33       2\n",
       "Name: tweet_text, dtype: int64"
      ]
     },
     "execution_count": 36,
     "metadata": {},
     "output_type": "execute_result"
    }
   ],
   "source": [
    "tweet_len"
   ]
  },
  {
   "cell_type": "code",
   "execution_count": 37,
   "metadata": {
    "scrolled": false
   },
   "outputs": [
    {
     "data": {
      "text/plain": [
       "0       91\n",
       "1      874\n",
       "2     1402\n",
       "3     1565\n",
       "4     1745\n",
       "5     1854\n",
       "6     1800\n",
       "7     1812\n",
       "8     1865\n",
       "9     1684\n",
       "10    1279\n",
       "11    1278\n",
       "12     870\n",
       "13     526\n",
       "14     206\n",
       "15     117\n",
       "16      73\n",
       "17      26\n",
       "18      14\n",
       "19       6\n",
       "20       2\n",
       "Name: tweet_text, dtype: int64"
      ]
     },
     "execution_count": 37,
     "metadata": {},
     "output_type": "execute_result"
    }
   ],
   "source": [
    "tweet_len_post"
   ]
  },
  {
   "cell_type": "code",
   "execution_count": 38,
   "metadata": {},
   "outputs": [
    {
     "data": {
      "text/plain": [
       "15971"
      ]
     },
     "execution_count": 38,
     "metadata": {},
     "output_type": "execute_result"
    }
   ],
   "source": [
    "tweet_len_post[tweet_len_post.index < 11].sum()"
   ]
  },
  {
   "cell_type": "code",
   "execution_count": 39,
   "metadata": {},
   "outputs": [
    {
     "data": {
      "text/plain": [
       "0.8366598564618367"
      ]
     },
     "execution_count": 39,
     "metadata": {},
     "output_type": "execute_result"
    }
   ],
   "source": [
    "tweet_len_post[tweet_len_post.index < 11].sum()/tweet_len_post.sum()"
   ]
  },
  {
   "cell_type": "code",
   "execution_count": 40,
   "metadata": {
    "scrolled": false
   },
   "outputs": [
    {
     "data": {
      "image/png": "[encoded data removed]",
      "text/plain": [
       "<Figure size 1152x576 with 1 Axes>"
      ]
     },
     "metadata": {
      "needs_background": "light"
     },
     "output_type": "display_data"
    }
   ],
   "source": [
    "fig_tweet_hist = plt.figure(figsize=(16,8))\n",
    "plt.style.use('bmh')\n",
    "plt.rc('text', usetex=True)\n",
    "plt.rc('font', family='serif')\n",
    "plt.bar(tweet_len.index,tweet_len.values,alpha=.7,label=\"Tweets by length\")\n",
    "plt.bar(tweet_len_post.index,tweet_len_post.values,alpha=.7,label=\"Tweets by length (after cleaning)\")\n",
    "plt.xlabel(\"Quantity of Tokens Per Tweet\")\n",
    "plt.ylabel(\"Number of Tweets\")\n",
    "plt.title(\"Histogram of Tweets by Length (Token Quantity)\")\n",
    "plt.legend()\n",
    "plt.show()\n",
    "fig_tweet_hist.savefig(f'./figures/TweetsByLength.pdf',bbox_inches='tight')"
   ]
  },
  {
   "cell_type": "markdown",
   "metadata": {},
   "source": [
    "## Skip-Gram"
   ]
  },
  {
   "cell_type": "markdown",
   "metadata": {},
   "source": [
    "### Search Term"
   ]
  },
  {
   "cell_type": "code",
   "execution_count": 41,
   "metadata": {},
   "outputs": [],
   "source": [
    "search_term = 'irma'"
   ]
  },
  {
   "cell_type": "markdown",
   "metadata": {},
   "source": [
    "### Window Size: 1-10"
   ]
  },
  {
   "cell_type": "code",
   "execution_count": 42,
   "metadata": {},
   "outputs": [],
   "source": [
    "# comparison_type = \"Min. Word Freq.\"\n",
    "# comparison_short = \"MinWordFreq\"\n",
    "comparison_type = \"Window Size\"\n",
    "comparison_short = \"WindowSize\""
   ]
  },
  {
   "cell_type": "code",
   "execution_count": 43,
   "metadata": {},
   "outputs": [],
   "source": [
    "# eliminating the off-by-one error in the loop later. This will have a zero row, unfilled by vectors.\n",
    "vectors_series = pd.Series(np.zeros((12)))"
   ]
  },
  {
   "cell_type": "code",
   "execution_count": 44,
   "metadata": {},
   "outputs": [],
   "source": [
    "tweet_text = tweet_full_en.loc[tweet_date:tweet_date + date_delta,\"tweet_text\"]\n",
    "tweets_tokens = tweet_text.apply(tokens_no_stopwords)\n",
    "for i in range(0,11):\n",
    "    # ---------- Skip-Gram ----------\n",
    "    # initialize the Word2Vec vectors with window size i, min count 1, and Skip-Gram\n",
    "    vector_model = Word2Vec(tweets_tokens, seed=1, sg=1, min_count=i)#, window=8, workers=1, size=100, negative=i)\n",
    "    \n",
    "    # train the model over 10 epochs\n",
    "    vector_model.train(tweets_tokens, total_examples=len(tweet_text), epochs=10)\n",
    "    \n",
    "    # assign the vector data to its position in a series\n",
    "    vectors_series.iloc[i] = vector_model"
   ]
  },
  {
   "cell_type": "code",
   "execution_count": 45,
   "metadata": {},
   "outputs": [],
   "source": [
    "coded_tweets = pd.read_csv(r'./irma_related_tweets.csv')\n",
    "\n",
    "tweets_on_date = tweet_full_en.loc[tweet_date:tweet_date+date_delta]\n",
    "\n",
    "tweet_encoded = pd.concat([coded_tweets.reset_index(),tweets_on_date.iloc[:-1].reset_index()],axis=1)"
   ]
  },
  {
   "cell_type": "markdown",
   "metadata": {},
   "source": [
    "### Comparison Functions"
   ]
  },
  {
   "cell_type": "markdown",
   "metadata": {},
   "source": [
    "Need a way to write the comparison functions with a larger function that calls them.\n",
    "\n",
    "how about writing the functions as separate, with a larger function that calls the smaller functions with an argument.\n",
    "\n",
    "- Mean Cosine Similarity\n",
    "- Sum Cosine Similarity Over Square Root of Length\n",
    "- Dot Product of Tweet As Matrix Sum of Term Vectors and Search Term\n",
    "- Cosine Similarity of Tweet As Matrix Sum of Term Vectors and Search Term"
   ]
  },
  {
   "cell_type": "code",
   "execution_count": 46,
   "metadata": {},
   "outputs": [],
   "source": [
    "def meanCosSim(tweet,vector_set):\n",
    "    tweet_as_terms = tokens_no_stopwords(tweet)\n",
    "    score = 0\n",
    "    for i in tweet_as_terms:\n",
    "        if i in vector_set.wv.vocab:\n",
    "            score += vector_set.wv.similarity(i,search_term)\n",
    "    if len(tweet_as_terms) > 0:\n",
    "        score /= len(tweet_as_terms)\n",
    "    else:\n",
    "        score = 0\n",
    "    return score"
   ]
  },
  {
   "cell_type": "code",
   "execution_count": 47,
   "metadata": {},
   "outputs": [],
   "source": [
    "def sumCosSimSqrtSum(tweet,vector_set):\n",
    "    tweet_as_terms = tokens_no_stopwords(tweet)\n",
    "    score = 0\n",
    "    for i in tweet_as_terms:\n",
    "        if i in vector_set.wv.vocab:\n",
    "            score += vector_set.wv.similarity(i,search_term)\n",
    "    if len(tweet_as_terms) > 0:\n",
    "        score /= sqrt(len(tweet_as_terms))\n",
    "    else:\n",
    "        score = 0\n",
    "    return score"
   ]
  },
  {
   "cell_type": "code",
   "execution_count": 48,
   "metadata": {},
   "outputs": [],
   "source": [
    "def dotProductOfTweetMatrixTermVector(tweet,vector_set):\n",
    "    tweet_as_terms = tokens_no_stopwords(tweet)\n",
    "#     initialize vector with dimensionality of the vector set.\n",
    "    vector_dim = len(vector_set.wv.vectors[0])\n",
    "    score_matrix = np.zeros(vector_dim,) \n",
    "#     iterate over each word after processing. If the word is in the vocabulary,\n",
    "#     add its vector's value to the score matrix.\n",
    "#     this essentially treats a word not in the vocabulary as a zero-vector.\n",
    "    for i in tweet_as_terms:\n",
    "        if i in vector_set.wv.vocab:\n",
    "            score_matrix = np.add(score_matrix,vector_set.wv.get_vector(i))\n",
    "#     if the number of words remaining in the tweet after processing is equal to zero, return zero.\n",
    "#     otherwise, take the dot product of the score vector, and the vector of the search term.\n",
    "    if len(tweet_as_terms) > 0:\n",
    "        score = np.dot(score_matrix,vector_set.wv.get_vector(search_term))\n",
    "    else:\n",
    "        score = 0\n",
    "    return score"
   ]
  },
  {
   "cell_type": "code",
   "execution_count": 49,
   "metadata": {},
   "outputs": [],
   "source": [
    "def cosSimOfTweetMatrixTermVector(tweet,vector_set):\n",
    "    tweet_as_terms = tokens_no_stopwords(tweet)\n",
    "#     initialize vector with dimensionality of the vector set.\n",
    "    vector_dim = len(vector_set.wv.vectors[0])\n",
    "    score_matrix = np.zeros(vector_dim,) \n",
    "#     iterate over each word after processing. If the word is in the vocabulary,\n",
    "#     add its vector's value to the score matrix.\n",
    "#     this essentially treats a word not in the vocabulary as a zero-vector.\n",
    "    for i in tweet_as_terms:\n",
    "        if i in vector_set.wv.vocab:\n",
    "            score_matrix = np.add(score_matrix,vector_set.wv.get_vector(i))\n",
    "#     if the number of words remaining in the tweet after processing is equal to zero, return zero.\n",
    "#     otherwise, take the pairwise cosine of the score vector and the vector of the search term.\n",
    "    if ((len(tweet_as_terms) > 0) & (np.all(score_matrix != np.zeros(vector_dim,)))):\n",
    "        score = 1 - cosine(score_matrix,vector_set.wv.get_vector(search_term))\n",
    "    else:\n",
    "        score = 0\n",
    "    return score"
   ]
  },
  {
   "cell_type": "markdown",
   "metadata": {},
   "source": [
    "Wrapper Function for the scalar comparison formulas:"
   ]
  },
  {
   "cell_type": "code",
   "execution_count": 50,
   "metadata": {},
   "outputs": [],
   "source": [
    "def scalarFunctions(tweet,vector_set,formula='dp'):\n",
    "    if(formula.upper() == 'DP'):\n",
    "        return dotProductOfTweetMatrixTermVector(tweet,vector_set)\n",
    "    elif(formula.upper() == 'MCS'):\n",
    "        return meanCosSim(tweet,vector_set)\n",
    "    elif(formula.upper() == 'SCSSC'):\n",
    "        return sumCosSimSqrtSum(tweet,vector_set)\n",
    "    elif(formula.upper() == 'CSTVS'):\n",
    "        return cosSimOfTweetMatrixTermVector(tweet,vector_set)\n",
    "    else:\n",
    "        return np.NaN"
   ]
  },
  {
   "cell_type": "code",
   "execution_count": 51,
   "metadata": {},
   "outputs": [
    {
     "data": {
      "text/plain": [
       "0.3062766700983047"
      ]
     },
     "execution_count": 51,
     "metadata": {},
     "output_type": "execute_result"
    }
   ],
   "source": [
    "scalarFunctions(tweets_on_date.iloc[0,1],vectors_series[1],'mcs')"
   ]
  },
  {
   "cell_type": "code",
   "execution_count": 52,
   "metadata": {},
   "outputs": [],
   "source": [
    "# func_type = \"Mean Cosine Similarity\"\n",
    "# func_short = \"MeanCosSim\"\n",
    "# def ScoreTweetFromVectors(tweet,vector_set):\n",
    "#     tweet_as_terms = tokens_no_stopwords(tweet)\n",
    "#     score = 0\n",
    "#     for i in tweet_as_terms:\n",
    "#         if i in vector_set.wv.vocab:\n",
    "#             score += vector_set.wv.similarity(i,search_term)\n",
    "#     if len(tweet_as_terms) > 0:\n",
    "#         score /= len(tweet_as_terms)\n",
    "#     else:\n",
    "#         score = 0\n",
    "#     return score"
   ]
  },
  {
   "cell_type": "code",
   "execution_count": 53,
   "metadata": {},
   "outputs": [],
   "source": [
    "# from math import sqrt\n",
    "# func_type = \"Sum Score over Sqrt Cos. Sim.\"\n",
    "# func_short = \"SumOverSqrtLen\"\n",
    "# def ScoreTweetFromVectors(tweet,vector_set):\n",
    "#     tweet_as_terms = tokens_no_stopwords(tweet)\n",
    "#     score = 0\n",
    "#     for i in tweet_as_terms:\n",
    "#         if i in vector_set.wv.vocab:\n",
    "#             score += vector_set.wv.similarity(i,search_term)\n",
    "#     if len(tweet_as_terms) > 0:\n",
    "#         score /= sqrt(len(tweet_as_terms))\n",
    "#     else:\n",
    "#         score = 0\n",
    "#     return score"
   ]
  },
  {
   "cell_type": "code",
   "execution_count": 54,
   "metadata": {},
   "outputs": [],
   "source": [
    "func_type = \"Dot Product of Tweet Vector and Search Term\"\n",
    "func_short = \"DotProduct\"\n",
    "def ScoreTweetFromVectors(tweet,vector_set):\n",
    "    tweet_as_terms = tokens_no_stopwords(tweet)\n",
    "#     initialize vector with dimensionality of the vector set.\n",
    "    vector_dim = len(vector_set.wv.vectors[0])\n",
    "    score_matrix = np.zeros(vector_dim,) \n",
    "#     iterate over each word after processing. If the word is in the vocabulary,\n",
    "#     add its vector's value to the score matrix.\n",
    "#     this essentially treats a word not in the vocabulary as a zero-vector.\n",
    "    for i in tweet_as_terms:\n",
    "        if i in vector_set.wv.vocab:\n",
    "            score_matrix = np.add(score_matrix,vector_set.wv.get_vector(i))\n",
    "#     if the number of words remaining in the tweet after processing is equal to zero, return zero.\n",
    "#     otherwise, take the dot product of the score vector, and the vector of the search term.\n",
    "    if len(tweet_as_terms) > 0:\n",
    "        score = np.dot(score_matrix,vector_set.wv.get_vector(search_term))\n",
    "    else:\n",
    "        score = 0\n",
    "    return score"
   ]
  },
  {
   "cell_type": "code",
   "execution_count": 55,
   "metadata": {},
   "outputs": [],
   "source": [
    "# func_type = \"Cosine Similarity of Tweet Vector Sum and Search Term\"\n",
    "# func_short = \"CosSimTweetVecSum\"\n",
    "# def ScoreTweetFromVectorsCSTVS(tweet,vector_set):\n",
    "#     tweet_as_terms = tokens_no_stopwords(tweet)\n",
    "# #     initialize vector with dimensionality of the vector set.\n",
    "#     vector_dim = len(vector_set.wv.vectors[0])\n",
    "#     score_matrix = np.zeros(vector_dim,) \n",
    "# #     iterate over each word after processing. If the word is in the vocabulary,\n",
    "# #     add its vector's value to the score matrix.\n",
    "# #     this essentially treats a word not in the vocabulary as a zero-vector.\n",
    "#     for i in tweet_as_terms:\n",
    "#         if i in vector_set.wv.vocab:\n",
    "#             score_matrix = np.add(score_matrix,vector_set.wv.get_vector(i))\n",
    "# #     if the number of words remaining in the tweet after processing is equal to zero, return zero.\n",
    "# #     otherwise, take the pairwise cosine of the score vector and the vector of the search term.\n",
    "#     if len(tweet_as_terms) > 0:\n",
    "#         score = 1 - cosine(score_matrix,vector_set.wv.get_vector(search_term))\n",
    "#     else:\n",
    "#         score = 0\n",
    "#     return score"
   ]
  },
  {
   "cell_type": "code",
   "execution_count": 56,
   "metadata": {},
   "outputs": [
    {
     "data": {
      "text/plain": [
       "0    0.306277\n",
       "1    0.463105\n",
       "2    0.454753\n",
       "3    0.489112\n",
       "4    0.432905\n",
       "Name: tweet_text, dtype: float64"
      ]
     },
     "execution_count": 56,
     "metadata": {},
     "output_type": "execute_result"
    }
   ],
   "source": [
    "tweet_encoded.iloc[0:5].tweet_text.apply(scalarFunctions,args=(vectors_series.iloc[1],'mcs'))"
   ]
  },
  {
   "cell_type": "code",
   "execution_count": 57,
   "metadata": {},
   "outputs": [],
   "source": [
    "for i in range(0,11):\n",
    "#     create strings for column heads\n",
    "    sw = f'score_window_{i}'\n",
    "    mmsw = f'MM_{sw}'\n",
    "    \n",
    "#     Scoring tweets in this column:\n",
    "    tweet_encoded[sw] = tweet_encoded.tweet_text.apply(scalarFunctions,args=(vectors_series.iloc[i],'dp'))\n",
    "                                                       \n",
    "#     column of scores for this iteration\n",
    "    tweet_scores = tweet_encoded[sw]\n",
    "\n",
    "#     calculating Min Max Scaling for this column \n",
    "    tweet_encoded[mmsw] = ((tweet_scores - tweet_scores.min())* 100) / (tweet_scores.max() - tweet_scores.min())"
   ]
  },
  {
   "cell_type": "code",
   "execution_count": 58,
   "metadata": {
    "slideshow": {
     "slide_type": "-"
    }
   },
   "outputs": [
    {
     "data": {
      "text/plain": [
       "[('project', 0.7210524082183838),\n",
       " ('arriv', 0.7160718441009521),\n",
       " ('devast', 0.7110164761543274),\n",
       " ('directli', 0.7097166776657104),\n",
       " ('#hurricaineirma', 0.7074827551841736),\n",
       " ('await', 0.7055332660675049),\n",
       " ('slightli', 0.6983752250671387),\n",
       " ('tortur', 0.6977524757385254),\n",
       " ('standbi', 0.6944078207015991),\n",
       " ('shortli', 0.6932754516601562)]"
      ]
     },
     "execution_count": 58,
     "metadata": {},
     "output_type": "execute_result"
    }
   ],
   "source": [
    "vectors_series.iloc[1].wv.similar_by_word(\"irma\", topn=10, restrict_vocab=None)"
   ]
  },
  {
   "cell_type": "code",
   "execution_count": 59,
   "metadata": {},
   "outputs": [
    {
     "name": "stdout",
     "output_type": "stream",
     "text": [
      "0.81723\n",
      "0.81906\n",
      "0.82079\n",
      "0.82925\n",
      "0.82993\n",
      "0.8149\n",
      "0.82782\n",
      "0.82505\n",
      "0.8253\n",
      "0.82678\n",
      "0.82777\n"
     ]
    }
   ],
   "source": [
    "for i in range(0,11):\n",
    "    print(round(roc_auc_score(tweet_encoded['irma_rel'],tweet_encoded[f'MM_score_window_{i}']),5))"
   ]
  },
  {
   "cell_type": "code",
   "execution_count": 60,
   "metadata": {
    "scrolled": false
   },
   "outputs": [
    {
     "data": {
      "image/png": "[encoded data removed]",
      "text/plain": [
       "<Figure size 1152x576 with 1 Axes>"
      ]
     },
     "metadata": {},
     "output_type": "display_data"
    }
   ],
   "source": [
    "fig_0 = plt.figure(figsize=(16,8),facecolor='w')\n",
    "\n",
    "for j in range(1,11):\n",
    "    window_label = f\"{comparison_type}: {j}\"\n",
    "    plt.plot(range(101),[100*len(tweet_encoded[tweet_encoded[f'MM_score_window_{j}'] > i])/len(tweet_encoded) for i in range(101)],label=window_label)\n",
    "plt.xlabel(\"Min-Max Scaled Tweet Score Threshold\")\n",
    "plt.ylabel(\"Percent of Tweets at or above Threshold\")\n",
    "plt.title(f\"Percent of Tweets at or above Threshold by Word2Vec {comparison_type} ({func_type})\")\n",
    "plt.legend();\n",
    "\n",
    "# fig_0.savefig(f'./figures/{comparison_short}{func_short}PercentTweetsBelow.pdf',bbox_inches='tight')"
   ]
  },
  {
   "cell_type": "markdown",
   "metadata": {},
   "source": [
    "### F1 Score Comparisons"
   ]
  },
  {
   "cell_type": "code",
   "execution_count": 61,
   "metadata": {},
   "outputs": [],
   "source": [
    "f1_window_score_df = pd.DataFrame(np.zeros((101,11)))\n",
    "pre_score_df = pd.DataFrame(np.zeros((101,11)))\n",
    "rec_score_df = pd.DataFrame(np.zeros((101,11)))"
   ]
  },
  {
   "cell_type": "code",
   "execution_count": 62,
   "metadata": {},
   "outputs": [
    {
     "name": "stderr",
     "output_type": "stream",
     "text": [
      "/Users/brown/.local/share/virtualenvs/TwitterDisaster-4Cppn-LV/lib/python3.7/site-packages/sklearn/metrics/classification.py:1437: UndefinedMetricWarning: F-score is ill-defined and being set to 0.0 due to no predicted samples.\n",
      "  'precision', 'predicted', average, warn_for)\n",
      "/Users/brown/.local/share/virtualenvs/TwitterDisaster-4Cppn-LV/lib/python3.7/site-packages/sklearn/metrics/classification.py:1437: UndefinedMetricWarning: Precision is ill-defined and being set to 0.0 due to no predicted samples.\n",
      "  'precision', 'predicted', average, warn_for)\n"
     ]
    }
   ],
   "source": [
    "for i in range(1,11):\n",
    "    for j in range(101):\n",
    "        f1_window_score_df.iloc[j,i] = f1_score(tweet_encoded.irma_rel,tweet_encoded[f'MM_score_window_{i}'] > j)\n",
    "        pre_score_df.iloc[j,i] = precision_score(tweet_encoded.irma_rel,tweet_encoded[f'MM_score_window_{i}'] > j)\n",
    "        rec_score_df.iloc[j,i] = recall_score(tweet_encoded.irma_rel,tweet_encoded[f'MM_score_window_{i}'] > j)"
   ]
  },
  {
   "cell_type": "code",
   "execution_count": 63,
   "metadata": {},
   "outputs": [
    {
     "name": "stdout",
     "output_type": "stream",
     "text": [
      "     0         1\n",
      "0    0  0.000000\n",
      "1   22  0.721271\n",
      "2   21  0.724562\n",
      "3   20  0.727263\n",
      "4   21  0.726646\n",
      "5   19  0.714150\n",
      "6   21  0.727607\n",
      "7   22  0.723824\n",
      "8   18  0.724984\n",
      "9   19  0.727725\n",
      "10  19  0.724679\n",
      "22\n",
      "0.7277246047274073\n"
     ]
    }
   ],
   "source": [
    "print(pd.concat([f1_window_score_df.idxmax(),f1_window_score_df.max()],axis=1,names=['TweetScore','F1Score']))\n",
    "print(f1_window_score_df.idxmax().max())\n",
    "print(f1_window_score_df.max().max())"
   ]
  },
  {
   "cell_type": "code",
   "execution_count": 64,
   "metadata": {
    "scrolled": false
   },
   "outputs": [
    {
     "data": {
      "image/png": "[encoded data removed]",
      "text/plain": [
       "<Figure size 1152x576 with 1 Axes>"
      ]
     },
     "metadata": {},
     "output_type": "display_data"
    }
   ],
   "source": [
    "fig_1 = plt.figure(figsize=(16,8),facecolor='w')\n",
    "for i in range(1,11):\n",
    "    plt.plot(f1_window_score_df.iloc[:,i],label=f\"{comparison_type}: {i}\")\n",
    "plt.xlabel(\"Min-Max Scaled Tweet Score Threshold\")\n",
    "plt.ylabel(\"F1 Score of Tweets Above Threshold\")\n",
    "plt.title(f\"F1 Score of Tweets by Word2Vec {comparison_type} ({func_type})\")\n",
    "plt.legend();\n",
    "# fig_1.savefig(f'./figures/{comparison_short}{func_short}F1Score.pdf',bbox_inches='tight')"
   ]
  },
  {
   "cell_type": "markdown",
   "metadata": {},
   "source": [
    "### Hidden Layer Dimensionality (window size 7)"
   ]
  },
  {
   "cell_type": "code",
   "execution_count": 65,
   "metadata": {},
   "outputs": [],
   "source": [
    "comparison_type = \"Hidden Layer Dimensionality\"\n",
    "comparison_short = \"HLD\""
   ]
  },
  {
   "cell_type": "code",
   "execution_count": 66,
   "metadata": {},
   "outputs": [],
   "source": [
    "# eliminating the off-by-one error in the loop later. This will have a zero row, unfilled by vectors.\n",
    "vectors_series = pd.Series(np.zeros((11)))"
   ]
  },
  {
   "cell_type": "code",
   "execution_count": 67,
   "metadata": {},
   "outputs": [],
   "source": [
    "# %%timeit\n",
    "# tweet_text = tweet_full_en.loc[tweet_date:tweet_date + date_delta,\"tweet_text\"]\n",
    "# tweets_tokens = tweet_text.apply(tokens_no_stopwords)\n",
    "# for i in range(1,11):\n",
    "#     hidden_layer_dim = 50*i\n",
    "#     # ---------- Skip-Gram ----------\n",
    "#     # initialize the Word2Vec vectors with window size 8, min count 1, and Skip-Gram (Hidden Layer Dim. Test)\n",
    "#     vector_model = Word2Vec(tweets_tokens, min_count=1, window=8, workers=1, size=hidden_layer_dim, seed=1, sg=1, negative=5)\n",
    "    \n",
    "#     # train the model over 10 epochs\n",
    "#     vector_model.train(tweets_tokens, total_examples=len(tweet_text), epochs=10)\n",
    "    \n",
    "#     # assign the vector data to its position in a series\n",
    "#     vectors_series.iloc[i] = vector_model\n",
    "\n",
    "## 2min 29s ± 544 ms per loop (mean ± std. dev. of 7 runs, 1 loop each)"
   ]
  },
  {
   "cell_type": "code",
   "execution_count": 68,
   "metadata": {},
   "outputs": [],
   "source": [
    "# %%timeit\n",
    "# tweet_text = tweet_full_en.loc[tweet_date:tweet_date + date_delta,\"tweet_text\"]\n",
    "# tweets_tokens = tweet_text.apply(tokens_no_stopwords)\n",
    "\n",
    "# opt_vector_model = Word2Vec(tweets_tokens, min_count=1, window=8, workers=1, size=150, seed=1, sg=1, negative=1)\n",
    "    \n",
    "# # train the model over 10 epochs\n",
    "# opt_vector_model.train(tweets_tokens, total_examples=len(tweet_text), epochs=10)\n",
    "## 6.67 s ± 42.8 ms per loop (mean ± std. dev. of 7 runs, 1 loop each)"
   ]
  },
  {
   "cell_type": "code",
   "execution_count": 69,
   "metadata": {},
   "outputs": [],
   "source": [
    "# %%timeit\n",
    "# tweet_text = tweet_full_en.loc[tweet_date:tweet_date + date_delta,\"tweet_text\"]\n",
    "# tweets_tokens = tweet_text.apply(tokens_no_stopwords)\n",
    "\n",
    "# opt_vector_model = Word2Vec(tweets_tokens, min_count=1, window=8, workers=1, size=150, seed=1, sg=1, negative=1)\n",
    "    \n",
    "# # train the model over 10 epochs\n",
    "# opt_vector_model.train(tweets_tokens, total_examples=len(tweet_text), epochs=50)\n",
    "## 16.1 s ± 122 ms per loop (mean ± std. dev. of 7 runs, 1 loop each)"
   ]
  },
  {
   "cell_type": "code",
   "execution_count": 70,
   "metadata": {},
   "outputs": [
    {
     "data": {
      "text/plain": [
       "(1051663, 1289640)"
      ]
     },
     "execution_count": 70,
     "metadata": {},
     "output_type": "execute_result"
    }
   ],
   "source": [
    "tweet_text = tweet_full_en.loc[tweet_date:tweet_date + date_delta,\"tweet_text\"]\n",
    "tweets_tokens = tweet_text.apply(tokens_no_stopwords)\n",
    "\n",
    "opt_vector_model = Word2Vec(tweets_tokens, min_count=3, window=8, workers=1, size=150, seed=1, sg=1, negative=1)\n",
    "    \n",
    "# train the model over 10 epochs\n",
    "opt_vector_model.train(tweets_tokens, total_examples=len(tweet_text), epochs=10)"
   ]
  },
  {
   "cell_type": "code",
   "execution_count": 107,
   "metadata": {},
   "outputs": [
    {
     "data": {
      "text/plain": [
       "array([ 0.05583398, -0.16964225, -0.24978063, -0.5116523 , -0.04886265,\n",
       "       -0.03259129, -0.01309117,  0.28682345,  0.16617066,  0.08423751,\n",
       "       -0.12915827,  0.1045065 , -0.10562009,  0.24263953,  0.10590621,\n",
       "       -0.03680001, -0.1418977 , -0.12057551, -0.14878431,  0.10871943,\n",
       "       -0.28139728,  0.17550819,  0.25419143, -0.02224697, -0.00722718,\n",
       "       -0.05943703,  0.1460032 , -0.17010221,  0.14582682,  0.11589276,\n",
       "       -0.00177217, -0.10109309, -0.13494894, -0.16322777,  0.1153229 ,\n",
       "        0.36417124, -0.19318269, -0.07805439, -0.06790753, -0.44774443,\n",
       "        0.02776827,  0.19366379, -0.25336143, -0.08880188, -0.14135316,\n",
       "       -0.32393342, -0.09729595,  0.19595538,  0.26233196,  0.03616119,\n",
       "        0.01935313, -0.2379273 ,  0.09911886, -0.01100178, -0.18750328,\n",
       "        0.30541968,  0.1956325 ,  0.10614002, -0.23730296, -0.04804969,\n",
       "        0.34881654, -0.1318759 ,  0.07637101, -0.15317091,  0.3269045 ,\n",
       "       -0.17901777, -0.15399389,  0.24402903, -0.12735437, -0.01794566,\n",
       "       -0.01798402, -0.13985941,  0.02820257, -0.0022087 ,  0.12361483,\n",
       "        0.20387097, -0.28565577, -0.00161791, -0.14396043, -0.00895892,\n",
       "        0.1226377 ,  0.17121723,  0.02263316,  0.16215575, -0.03656518,\n",
       "       -0.11163105, -0.16959046, -0.27085656,  0.15373613,  0.4275384 ,\n",
       "        0.02044404, -0.03781765, -0.18800233,  0.22161151, -0.40063807,\n",
       "       -0.08656394,  0.10450219,  0.34630415, -0.1657034 ,  0.24541046,\n",
       "       -0.17747058, -0.01205696,  0.06558787,  0.12774512, -0.67143977,\n",
       "        0.1423899 ,  0.11975463,  0.04028294, -0.00536335,  0.06274769,\n",
       "       -0.29103437,  0.1594217 ,  0.18946767, -0.04324082, -0.43088707,\n",
       "       -0.03587008, -0.16799676,  0.28429106,  0.14391688,  0.46051368,\n",
       "        0.18079281,  0.41230872, -0.06875116,  0.07548784,  0.45699096,\n",
       "        0.06615202, -0.03966096,  0.36647692, -0.0219066 ,  0.03269891,\n",
       "        0.17817777,  0.06864425, -0.2025478 ,  0.00699197,  0.08029612,\n",
       "        0.0293793 , -0.21248305, -0.09406272, -0.36685994, -0.5046806 ,\n",
       "        0.26057583,  0.17901886,  0.13742511, -0.08661963, -0.30969393,\n",
       "        0.21076222, -0.04903829, -0.18777603, -0.02092826,  0.07956424],\n",
       "      dtype=float32)"
      ]
     },
     "execution_count": 107,
     "metadata": {},
     "output_type": "execute_result"
    }
   ],
   "source": [
    "opt_vector_model.wv.get_vector('irma')"
   ]
  },
  {
   "cell_type": "markdown",
   "metadata": {},
   "source": [
    "### AU-ROC Score"
   ]
  },
  {
   "cell_type": "code",
   "execution_count": 71,
   "metadata": {},
   "outputs": [],
   "source": [
    "for i in ['dp','mcs','scssc','cstvs']:\n",
    "#     create strings for column heads\n",
    "    sw = f'sw_{i}'\n",
    "    mmsw = f'MM_{sw}'\n",
    "    \n",
    "#     Scoring tweets in this column:\n",
    "    tweet_encoded[sw] = tweet_encoded.tweet_text.apply(scalarFunctions,args=(opt_vector_model,i))\n",
    "                                                       \n",
    "#     column of scores for this iteration\n",
    "    tweet_scores = tweet_encoded[sw]\n",
    "\n",
    "#     calculating Min Max Scaling for this column \n",
    "    tweet_encoded[mmsw] = ((tweet_scores - tweet_scores.min())* 100) / (tweet_scores.max() - tweet_scores.min())"
   ]
  },
  {
   "cell_type": "code",
   "execution_count": 72,
   "metadata": {},
   "outputs": [
    {
     "data": {
      "text/html": [
       "<div>\n",
       "<style scoped>\n",
       "    .dataframe tbody tr th:only-of-type {\n",
       "        vertical-align: middle;\n",
       "    }\n",
       "\n",
       "    .dataframe tbody tr th {\n",
       "        vertical-align: top;\n",
       "    }\n",
       "\n",
       "    .dataframe thead th {\n",
       "        text-align: right;\n",
       "    }\n",
       "</style>\n",
       "<table border=\"1\" class=\"dataframe\">\n",
       "  <thead>\n",
       "    <tr style=\"text-align: right;\">\n",
       "      <th></th>\n",
       "      <th>index</th>\n",
       "      <th>irma_rel</th>\n",
       "      <th>tweet</th>\n",
       "      <th>timestamp</th>\n",
       "      <th>tweet_id</th>\n",
       "      <th>tweet_text</th>\n",
       "      <th>user_id</th>\n",
       "      <th>tweet_coords</th>\n",
       "      <th>tweet_coords_list</th>\n",
       "      <th>tweet_long</th>\n",
       "      <th>...</th>\n",
       "      <th>score_window_10</th>\n",
       "      <th>MM_score_window_10</th>\n",
       "      <th>sw_dp</th>\n",
       "      <th>MM_sw_dp</th>\n",
       "      <th>sw_mcs</th>\n",
       "      <th>MM_sw_mcs</th>\n",
       "      <th>sw_scssc</th>\n",
       "      <th>MM_sw_scssc</th>\n",
       "      <th>sw_cstvs</th>\n",
       "      <th>MM_sw_cstvs</th>\n",
       "    </tr>\n",
       "  </thead>\n",
       "  <tbody>\n",
       "    <tr>\n",
       "      <th>0</th>\n",
       "      <td>0</td>\n",
       "      <td>1</td>\n",
       "      <td>Wind 2.0 mph N. Barometer 29.880 in, Steady. T...</td>\n",
       "      <td>2017-09-10 00:00:01</td>\n",
       "      <td>906668545542680576</td>\n",
       "      <td>Wind 2.0 mph N. Barometer 29.880 in, Steady. T...</td>\n",
       "      <td>1227982520</td>\n",
       "      <td>[28.87527778,-81.2525]</td>\n",
       "      <td>[[[-81.285896, 28.84511], [-81.285896, 28.9640...</td>\n",
       "      <td>-81.2525</td>\n",
       "      <td>...</td>\n",
       "      <td>55.744161</td>\n",
       "      <td>50.061697</td>\n",
       "      <td>30.064465</td>\n",
       "      <td>56.489432</td>\n",
       "      <td>0.250399</td>\n",
       "      <td>50.965790</td>\n",
       "      <td>0.791831</td>\n",
       "      <td>57.597276</td>\n",
       "      <td>0.316280</td>\n",
       "      <td>55.275330</td>\n",
       "    </tr>\n",
       "    <tr>\n",
       "      <th>1</th>\n",
       "      <td>1</td>\n",
       "      <td>0</td>\n",
       "      <td>There is always beauty regardless the circumst...</td>\n",
       "      <td>2017-09-10 00:00:03</td>\n",
       "      <td>906668555185291265</td>\n",
       "      <td>There is always beauty regardless the circumst...</td>\n",
       "      <td>42239064</td>\n",
       "      <td>[29.5381,-81.2234]</td>\n",
       "      <td>[[[-81.279617, 29.424649], [-81.279617, 29.627...</td>\n",
       "      <td>-81.2234</td>\n",
       "      <td>...</td>\n",
       "      <td>34.676610</td>\n",
       "      <td>31.146749</td>\n",
       "      <td>15.495239</td>\n",
       "      <td>32.381678</td>\n",
       "      <td>0.422990</td>\n",
       "      <td>62.255624</td>\n",
       "      <td>1.119127</td>\n",
       "      <td>66.888369</td>\n",
       "      <td>0.620471</td>\n",
       "      <td>75.173597</td>\n",
       "    </tr>\n",
       "    <tr>\n",
       "      <th>2</th>\n",
       "      <td>2</td>\n",
       "      <td>0</td>\n",
       "      <td>#Carpool #Orlando - gt  #Orlando #KIrkmanRoad ...</td>\n",
       "      <td>2017-09-10 00:00:03</td>\n",
       "      <td>906668556493889536</td>\n",
       "      <td>#Carpool #Orlando - gt  #Orlando #KIrkmanRoad ...</td>\n",
       "      <td>87188071</td>\n",
       "      <td>[28.4363045,-81.4797168]</td>\n",
       "      <td>[[[-87.634643, 24.396308], [-87.634643, 31.001...</td>\n",
       "      <td>-81.4797</td>\n",
       "      <td>...</td>\n",
       "      <td>32.634242</td>\n",
       "      <td>29.313062</td>\n",
       "      <td>9.586555</td>\n",
       "      <td>22.604555</td>\n",
       "      <td>0.328686</td>\n",
       "      <td>56.086848</td>\n",
       "      <td>0.986059</td>\n",
       "      <td>63.110899</td>\n",
       "      <td>0.552125</td>\n",
       "      <td>70.702838</td>\n",
       "    </tr>\n",
       "    <tr>\n",
       "      <th>3</th>\n",
       "      <td>3</td>\n",
       "      <td>0</td>\n",
       "      <td>@avictoria_x nah i m chillin my eyes never get...</td>\n",
       "      <td>2017-09-10 00:00:06</td>\n",
       "      <td>906668570079309830</td>\n",
       "      <td>@avictoria_x nah i m chillin my eyes never get...</td>\n",
       "      <td>746764728</td>\n",
       "      <td>NaN</td>\n",
       "      <td>[[[-81.25235, 28.549308], [-81.25235, 28.58224...</td>\n",
       "      <td>-81.2380</td>\n",
       "      <td>...</td>\n",
       "      <td>24.036231</td>\n",
       "      <td>21.593564</td>\n",
       "      <td>9.504491</td>\n",
       "      <td>22.468763</td>\n",
       "      <td>0.373415</td>\n",
       "      <td>59.012695</td>\n",
       "      <td>0.914675</td>\n",
       "      <td>61.084499</td>\n",
       "      <td>0.604334</td>\n",
       "      <td>74.117975</td>\n",
       "    </tr>\n",
       "    <tr>\n",
       "      <th>4</th>\n",
       "      <td>4</td>\n",
       "      <td>0</td>\n",
       "      <td>@jvnvy @sza That s how I feel bout seein travis</td>\n",
       "      <td>2017-09-10 00:00:08</td>\n",
       "      <td>906668576056246278</td>\n",
       "      <td>@jvnvy @sza That s how I feel bout seein travis</td>\n",
       "      <td>1679199278</td>\n",
       "      <td>NaN</td>\n",
       "      <td>[[[-82.31457, 27.823335], [-82.31457, 27.85374...</td>\n",
       "      <td>-82.2877</td>\n",
       "      <td>...</td>\n",
       "      <td>12.030672</td>\n",
       "      <td>10.814688</td>\n",
       "      <td>2.966316</td>\n",
       "      <td>11.650021</td>\n",
       "      <td>0.169239</td>\n",
       "      <td>45.656791</td>\n",
       "      <td>0.338478</td>\n",
       "      <td>44.727702</td>\n",
       "      <td>0.337193</td>\n",
       "      <td>56.643318</td>\n",
       "    </tr>\n",
       "  </tbody>\n",
       "</table>\n",
       "<p>5 rows × 45 columns</p>\n",
       "</div>"
      ],
      "text/plain": [
       "   index  irma_rel                                              tweet  \\\n",
       "0      0         1  Wind 2.0 mph N. Barometer 29.880 in, Steady. T...   \n",
       "1      1         0  There is always beauty regardless the circumst...   \n",
       "2      2         0  #Carpool #Orlando - gt  #Orlando #KIrkmanRoad ...   \n",
       "3      3         0  @avictoria_x nah i m chillin my eyes never get...   \n",
       "4      4         0    @jvnvy @sza That s how I feel bout seein travis   \n",
       "\n",
       "            timestamp            tweet_id  \\\n",
       "0 2017-09-10 00:00:01  906668545542680576   \n",
       "1 2017-09-10 00:00:03  906668555185291265   \n",
       "2 2017-09-10 00:00:03  906668556493889536   \n",
       "3 2017-09-10 00:00:06  906668570079309830   \n",
       "4 2017-09-10 00:00:08  906668576056246278   \n",
       "\n",
       "                                          tweet_text     user_id  \\\n",
       "0  Wind 2.0 mph N. Barometer 29.880 in, Steady. T...  1227982520   \n",
       "1  There is always beauty regardless the circumst...    42239064   \n",
       "2  #Carpool #Orlando - gt  #Orlando #KIrkmanRoad ...    87188071   \n",
       "3  @avictoria_x nah i m chillin my eyes never get...   746764728   \n",
       "4    @jvnvy @sza That s how I feel bout seein travis  1679199278   \n",
       "\n",
       "               tweet_coords  \\\n",
       "0    [28.87527778,-81.2525]   \n",
       "1        [29.5381,-81.2234]   \n",
       "2  [28.4363045,-81.4797168]   \n",
       "3                       NaN   \n",
       "4                       NaN   \n",
       "\n",
       "                                   tweet_coords_list  tweet_long  ...  \\\n",
       "0  [[[-81.285896, 28.84511], [-81.285896, 28.9640...    -81.2525  ...   \n",
       "1  [[[-81.279617, 29.424649], [-81.279617, 29.627...    -81.2234  ...   \n",
       "2  [[[-87.634643, 24.396308], [-87.634643, 31.001...    -81.4797  ...   \n",
       "3  [[[-81.25235, 28.549308], [-81.25235, 28.58224...    -81.2380  ...   \n",
       "4  [[[-82.31457, 27.823335], [-82.31457, 27.85374...    -82.2877  ...   \n",
       "\n",
       "   score_window_10 MM_score_window_10      sw_dp   MM_sw_dp    sw_mcs  \\\n",
       "0        55.744161          50.061697  30.064465  56.489432  0.250399   \n",
       "1        34.676610          31.146749  15.495239  32.381678  0.422990   \n",
       "2        32.634242          29.313062   9.586555  22.604555  0.328686   \n",
       "3        24.036231          21.593564   9.504491  22.468763  0.373415   \n",
       "4        12.030672          10.814688   2.966316  11.650021  0.169239   \n",
       "\n",
       "   MM_sw_mcs  sw_scssc  MM_sw_scssc  sw_cstvs  MM_sw_cstvs  \n",
       "0  50.965790  0.791831    57.597276  0.316280    55.275330  \n",
       "1  62.255624  1.119127    66.888369  0.620471    75.173597  \n",
       "2  56.086848  0.986059    63.110899  0.552125    70.702838  \n",
       "3  59.012695  0.914675    61.084499  0.604334    74.117975  \n",
       "4  45.656791  0.338478    44.727702  0.337193    56.643318  \n",
       "\n",
       "[5 rows x 45 columns]"
      ]
     },
     "execution_count": 72,
     "metadata": {},
     "output_type": "execute_result"
    }
   ],
   "source": [
    "tweet_encoded.head()"
   ]
  },
  {
   "cell_type": "code",
   "execution_count": 73,
   "metadata": {},
   "outputs": [
    {
     "data": {
      "image/png": "[encoded data removed]",
      "text/plain": [
       "<Figure size 864x864 with 1 Axes>"
      ]
     },
     "metadata": {},
     "output_type": "display_data"
    }
   ],
   "source": [
    "fig_roc_s = plt.figure(figsize=(12,12),facecolor='w')\n",
    "for i in ['dp','mcs','scssc','cstvs']:\n",
    "    fpr, tpr, thresholds = roc_curve(tweet_encoded['irma_rel'],tweet_encoded[f'MM_sw_{i}'])\n",
    "    plt.plot(fpr,tpr,label=i.upper())\n",
    "plt.plot([0,1],[0,1],linestyle=\"-.\",label=\".5 Threshold\")\n",
    "plt.xlabel(\"False Positive Rate\")\n",
    "plt.ylabel(\"True Positive Rate\")\n",
    "plt.title(\"AU-ROC of Scalar Comparison Formulas\")\n",
    "plt.legend()\n",
    "plt.show()\n",
    "fig_roc_s.savefig(f'./figures/scalar_roc_curve.pdf',bbox_inches='tight')"
   ]
  },
  {
   "cell_type": "markdown",
   "metadata": {},
   "source": [
    "### Related Words by 1 Hour Increments"
   ]
  },
  {
   "cell_type": "code",
   "execution_count": 71,
   "metadata": {},
   "outputs": [],
   "source": [
    "related_words = pd.DataFrame()\n",
    "tweet_date = pd.to_datetime(\"2017-09-10 00:00:00\")\n",
    "date_delta = pd.Timedelta(\"1HR\")\n",
    "end_date = pd.to_datetime(\"2017-09-11 00:00:00\")\n",
    "top_num_words = 20\n",
    "search_term = 'irma'"
   ]
  },
  {
   "cell_type": "code",
   "execution_count": 72,
   "metadata": {},
   "outputs": [],
   "source": [
    "for tweet_day in pd.date_range(start = tweet_date, end = end_date, freq = date_delta):\n",
    "    tweet_text = tweet_full_en.loc[tweet_day:tweet_day + date_delta,\"tweet_text\"]\n",
    "    tweets_tokens = tweet_text.apply(tokens_no_stopwords)\n",
    "    opt_vector_model_1hr = Word2Vec(tweets_tokens, min_count=3, window=8, workers=1, size=150, seed=1, sg=1, negative=1)\n",
    "    opt_vector_model_1hr.train(tweets_tokens, total_examples=len(tweet_text), epochs=10)\n",
    "    opt_word_matrix_1hr = opt_vector_model_1hr.wv[opt_vector_model_1hr.wv.vocab]\n",
    "    terms_from_range = pd.DataFrame.from_records(opt_vector_model_1hr.wv.most_similar(search_term,topn=top_num_words),columns=[tweet_day,\"Cos_Sim\"])\n",
    "    related_words = pd.concat([related_words,terms_from_range],axis=1)"
   ]
  },
  {
   "cell_type": "code",
   "execution_count": 73,
   "metadata": {},
   "outputs": [
    {
     "data": {
      "text/html": [
       "<div>\n",
       "<style scoped>\n",
       "    .dataframe tbody tr th:only-of-type {\n",
       "        vertical-align: middle;\n",
       "    }\n",
       "\n",
       "    .dataframe tbody tr th {\n",
       "        vertical-align: top;\n",
       "    }\n",
       "\n",
       "    .dataframe thead th {\n",
       "        text-align: right;\n",
       "    }\n",
       "</style>\n",
       "<table border=\"1\" class=\"dataframe\">\n",
       "  <thead>\n",
       "    <tr style=\"text-align: right;\">\n",
       "      <th></th>\n",
       "      <th>2017-09-10 00:00:00</th>\n",
       "      <th>Cos_Sim</th>\n",
       "      <th>2017-09-10 01:00:00</th>\n",
       "      <th>Cos_Sim</th>\n",
       "      <th>2017-09-10 02:00:00</th>\n",
       "      <th>Cos_Sim</th>\n",
       "      <th>2017-09-10 03:00:00</th>\n",
       "      <th>Cos_Sim</th>\n",
       "      <th>2017-09-10 04:00:00</th>\n",
       "      <th>Cos_Sim</th>\n",
       "      <th>...</th>\n",
       "      <th>2017-09-10 20:00:00</th>\n",
       "      <th>Cos_Sim</th>\n",
       "      <th>2017-09-10 21:00:00</th>\n",
       "      <th>Cos_Sim</th>\n",
       "      <th>2017-09-10 22:00:00</th>\n",
       "      <th>Cos_Sim</th>\n",
       "      <th>2017-09-10 23:00:00</th>\n",
       "      <th>Cos_Sim</th>\n",
       "      <th>2017-09-11 00:00:00</th>\n",
       "      <th>Cos_Sim</th>\n",
       "    </tr>\n",
       "  </thead>\n",
       "  <tbody>\n",
       "    <tr>\n",
       "      <th>0</th>\n",
       "      <td>#repost</td>\n",
       "      <td>0.265424</td>\n",
       "      <td>alreadi</td>\n",
       "      <td>0.606717</td>\n",
       "      <td>storm</td>\n",
       "      <td>0.909438</td>\n",
       "      <td>soon</td>\n",
       "      <td>0.252239</td>\n",
       "      <td>surpris</td>\n",
       "      <td>0.188537</td>\n",
       "      <td>...</td>\n",
       "      <td>get</td>\n",
       "      <td>0.947654</td>\n",
       "      <td>hurrican</td>\n",
       "      <td>0.976098</td>\n",
       "      <td>come</td>\n",
       "      <td>0.778499</td>\n",
       "      <td>#hurricaneirma</td>\n",
       "      <td>0.944047</td>\n",
       "      <td>let</td>\n",
       "      <td>0.942177</td>\n",
       "    </tr>\n",
       "    <tr>\n",
       "      <th>1</th>\n",
       "      <td>#orlando</td>\n",
       "      <td>0.240334</td>\n",
       "      <td>hit</td>\n",
       "      <td>0.590511</td>\n",
       "      <td>stay</td>\n",
       "      <td>0.904531</td>\n",
       "      <td>#repost</td>\n",
       "      <td>0.244770</td>\n",
       "      <td>photo</td>\n",
       "      <td>0.181449</td>\n",
       "      <td>...</td>\n",
       "      <td>come</td>\n",
       "      <td>0.944228</td>\n",
       "      <td>time</td>\n",
       "      <td>0.974473</td>\n",
       "      <td>get</td>\n",
       "      <td>0.756552</td>\n",
       "      <td>everyon</td>\n",
       "      <td>0.939520</td>\n",
       "      <td>still</td>\n",
       "      <td>0.937081</td>\n",
       "    </tr>\n",
       "    <tr>\n",
       "      <th>2</th>\n",
       "      <td>staff</td>\n",
       "      <td>0.224587</td>\n",
       "      <td>pray</td>\n",
       "      <td>0.578684</td>\n",
       "      <td>like</td>\n",
       "      <td>0.901244</td>\n",
       "      <td>look</td>\n",
       "      <td>0.232497</td>\n",
       "      <td>soon</td>\n",
       "      <td>0.179610</td>\n",
       "      <td>...</td>\n",
       "      <td>go</td>\n",
       "      <td>0.932334</td>\n",
       "      <td>still</td>\n",
       "      <td>0.971939</td>\n",
       "      <td>make</td>\n",
       "      <td>0.750371</td>\n",
       "      <td>time</td>\n",
       "      <td>0.934324</td>\n",
       "      <td>come</td>\n",
       "      <td>0.936665</td>\n",
       "    </tr>\n",
       "    <tr>\n",
       "      <th>3</th>\n",
       "      <td>al</td>\n",
       "      <td>0.212681</td>\n",
       "      <td>get</td>\n",
       "      <td>0.562127</td>\n",
       "      <td>updat</td>\n",
       "      <td>0.900670</td>\n",
       "      <td>let</td>\n",
       "      <td>0.224351</td>\n",
       "      <td>intl</td>\n",
       "      <td>0.176604</td>\n",
       "      <td>...</td>\n",
       "      <td>right</td>\n",
       "      <td>0.925093</td>\n",
       "      <td>like</td>\n",
       "      <td>0.969609</td>\n",
       "      <td>go</td>\n",
       "      <td>0.742437</td>\n",
       "      <td>right</td>\n",
       "      <td>0.934134</td>\n",
       "      <td>power</td>\n",
       "      <td>0.933240</td>\n",
       "    </tr>\n",
       "    <tr>\n",
       "      <th>4</th>\n",
       "      <td>cool</td>\n",
       "      <td>0.212410</td>\n",
       "      <td>talk</td>\n",
       "      <td>0.560051</td>\n",
       "      <td>back</td>\n",
       "      <td>0.899459</td>\n",
       "      <td>hard</td>\n",
       "      <td>0.218504</td>\n",
       "      <td>hard</td>\n",
       "      <td>0.166168</td>\n",
       "      <td>...</td>\n",
       "      <td>thank</td>\n",
       "      <td>0.924381</td>\n",
       "      <td>thank</td>\n",
       "      <td>0.968329</td>\n",
       "      <td>look</td>\n",
       "      <td>0.741640</td>\n",
       "      <td>#irma</td>\n",
       "      <td>0.928680</td>\n",
       "      <td>back</td>\n",
       "      <td>0.933216</td>\n",
       "    </tr>\n",
       "    <tr>\n",
       "      <th>5</th>\n",
       "      <td>alreadi</td>\n",
       "      <td>0.211902</td>\n",
       "      <td>friend</td>\n",
       "      <td>0.553401</td>\n",
       "      <td>realli</td>\n",
       "      <td>0.899030</td>\n",
       "      <td>hear</td>\n",
       "      <td>0.215968</td>\n",
       "      <td>deltona</td>\n",
       "      <td>0.164060</td>\n",
       "      <td>...</td>\n",
       "      <td>good</td>\n",
       "      <td>0.923284</td>\n",
       "      <td>#irma</td>\n",
       "      <td>0.968140</td>\n",
       "      <td>like</td>\n",
       "      <td>0.734918</td>\n",
       "      <td>get</td>\n",
       "      <td>0.925436</td>\n",
       "      <td>go</td>\n",
       "      <td>0.930846</td>\n",
       "    </tr>\n",
       "    <tr>\n",
       "      <th>6</th>\n",
       "      <td>time</td>\n",
       "      <td>0.200519</td>\n",
       "      <td>stay</td>\n",
       "      <td>0.548691</td>\n",
       "      <td>thank</td>\n",
       "      <td>0.898961</td>\n",
       "      <td>front</td>\n",
       "      <td>0.209566</td>\n",
       "      <td>look</td>\n",
       "      <td>0.158768</td>\n",
       "      <td>...</td>\n",
       "      <td>still</td>\n",
       "      <td>0.920706</td>\n",
       "      <td>start</td>\n",
       "      <td>0.967555</td>\n",
       "      <td>day</td>\n",
       "      <td>0.732494</td>\n",
       "      <td>power</td>\n",
       "      <td>0.922647</td>\n",
       "      <td>time</td>\n",
       "      <td>0.930116</td>\n",
       "    </tr>\n",
       "    <tr>\n",
       "      <th>7</th>\n",
       "      <td>soon</td>\n",
       "      <td>0.199584</td>\n",
       "      <td>like</td>\n",
       "      <td>0.544238</td>\n",
       "      <td>good</td>\n",
       "      <td>0.897408</td>\n",
       "      <td>outsid</td>\n",
       "      <td>0.207140</td>\n",
       "      <td>#tbt</td>\n",
       "      <td>0.157732</td>\n",
       "      <td>...</td>\n",
       "      <td>hous</td>\n",
       "      <td>0.920248</td>\n",
       "      <td>watch</td>\n",
       "      <td>0.967278</td>\n",
       "      <td>pick</td>\n",
       "      <td>0.731816</td>\n",
       "      <td>still</td>\n",
       "      <td>0.921019</td>\n",
       "      <td>get</td>\n",
       "      <td>0.929392</td>\n",
       "    </tr>\n",
       "    <tr>\n",
       "      <th>8</th>\n",
       "      <td>need</td>\n",
       "      <td>0.196033</td>\n",
       "      <td>night</td>\n",
       "      <td>0.543114</td>\n",
       "      <td>tomorrow</td>\n",
       "      <td>0.896601</td>\n",
       "      <td>import</td>\n",
       "      <td>0.203823</td>\n",
       "      <td>airport</td>\n",
       "      <td>0.157586</td>\n",
       "      <td>...</td>\n",
       "      <td>feel</td>\n",
       "      <td>0.916373</td>\n",
       "      <td>#hurricaneirma</td>\n",
       "      <td>0.966146</td>\n",
       "      <td>still</td>\n",
       "      <td>0.730234</td>\n",
       "      <td>know</td>\n",
       "      <td>0.919919</td>\n",
       "      <td>lost</td>\n",
       "      <td>0.928404</td>\n",
       "    </tr>\n",
       "    <tr>\n",
       "      <th>9</th>\n",
       "      <td>beauti</td>\n",
       "      <td>0.194624</td>\n",
       "      <td>safe</td>\n",
       "      <td>0.543033</td>\n",
       "      <td>fuck</td>\n",
       "      <td>0.895543</td>\n",
       "      <td>nigga</td>\n",
       "      <td>0.199595</td>\n",
       "      <td>pray</td>\n",
       "      <td>0.155617</td>\n",
       "      <td>...</td>\n",
       "      <td>noth</td>\n",
       "      <td>0.916281</td>\n",
       "      <td>get</td>\n",
       "      <td>0.964911</td>\n",
       "      <td>wait</td>\n",
       "      <td>0.726693</td>\n",
       "      <td>first</td>\n",
       "      <td>0.915182</td>\n",
       "      <td>hear</td>\n",
       "      <td>0.928191</td>\n",
       "    </tr>\n",
       "    <tr>\n",
       "      <th>10</th>\n",
       "      <td>look</td>\n",
       "      <td>0.187923</td>\n",
       "      <td>shit</td>\n",
       "      <td>0.538583</td>\n",
       "      <td>#hurricaneirma</td>\n",
       "      <td>0.893185</td>\n",
       "      <td>pray</td>\n",
       "      <td>0.197796</td>\n",
       "      <td>cool</td>\n",
       "      <td>0.154737</td>\n",
       "      <td>...</td>\n",
       "      <td>#hurricaneirma</td>\n",
       "      <td>0.914525</td>\n",
       "      <td>go</td>\n",
       "      <td>0.964797</td>\n",
       "      <td>power</td>\n",
       "      <td>0.724964</td>\n",
       "      <td>last</td>\n",
       "      <td>0.911085</td>\n",
       "      <td>one</td>\n",
       "      <td>0.927615</td>\n",
       "    </tr>\n",
       "    <tr>\n",
       "      <th>11</th>\n",
       "      <td>speed</td>\n",
       "      <td>0.187596</td>\n",
       "      <td>wait</td>\n",
       "      <td>0.525599</td>\n",
       "      <td>get</td>\n",
       "      <td>0.891285</td>\n",
       "      <td>time</td>\n",
       "      <td>0.197133</td>\n",
       "      <td>girl</td>\n",
       "      <td>0.152002</td>\n",
       "      <td>...</td>\n",
       "      <td>us</td>\n",
       "      <td>0.914469</td>\n",
       "      <td>hour</td>\n",
       "      <td>0.964252</td>\n",
       "      <td>safe</td>\n",
       "      <td>0.721773</td>\n",
       "      <td>wait</td>\n",
       "      <td>0.910220</td>\n",
       "      <td>got</td>\n",
       "      <td>0.925501</td>\n",
       "    </tr>\n",
       "    <tr>\n",
       "      <th>12</th>\n",
       "      <td>airport</td>\n",
       "      <td>0.186879</td>\n",
       "      <td>everyon</td>\n",
       "      <td>0.518285</td>\n",
       "      <td>us</td>\n",
       "      <td>0.888558</td>\n",
       "      <td>realli</td>\n",
       "      <td>0.173714</td>\n",
       "      <td>want</td>\n",
       "      <td>0.150922</td>\n",
       "      <td>...</td>\n",
       "      <td>back</td>\n",
       "      <td>0.912894</td>\n",
       "      <td>lol</td>\n",
       "      <td>0.963908</td>\n",
       "      <td>good</td>\n",
       "      <td>0.716916</td>\n",
       "      <td>video</td>\n",
       "      <td>0.909460</td>\n",
       "      <td>right</td>\n",
       "      <td>0.923093</td>\n",
       "    </tr>\n",
       "    <tr>\n",
       "      <th>13</th>\n",
       "      <td>mile</td>\n",
       "      <td>0.184611</td>\n",
       "      <td>bitch</td>\n",
       "      <td>0.517613</td>\n",
       "      <td>wait</td>\n",
       "      <td>0.887852</td>\n",
       "      <td>said</td>\n",
       "      <td>0.172112</td>\n",
       "      <td>realli</td>\n",
       "      <td>0.144286</td>\n",
       "      <td>...</td>\n",
       "      <td>thing</td>\n",
       "      <td>0.912624</td>\n",
       "      <td>love</td>\n",
       "      <td>0.963493</td>\n",
       "      <td>time</td>\n",
       "      <td>0.709429</td>\n",
       "      <td>day</td>\n",
       "      <td>0.906363</td>\n",
       "      <td>wind</td>\n",
       "      <td>0.922176</td>\n",
       "    </tr>\n",
       "    <tr>\n",
       "      <th>14</th>\n",
       "      <td>back</td>\n",
       "      <td>0.183439</td>\n",
       "      <td>last</td>\n",
       "      <td>0.506139</td>\n",
       "      <td>go</td>\n",
       "      <td>0.886544</td>\n",
       "      <td>readi</td>\n",
       "      <td>0.172065</td>\n",
       "      <td>nigga</td>\n",
       "      <td>0.138094</td>\n",
       "      <td>...</td>\n",
       "      <td>one</td>\n",
       "      <td>0.907880</td>\n",
       "      <td>say</td>\n",
       "      <td>0.962365</td>\n",
       "      <td>hous</td>\n",
       "      <td>0.695760</td>\n",
       "      <td>want</td>\n",
       "      <td>0.905680</td>\n",
       "      <td>us</td>\n",
       "      <td>0.918373</td>\n",
       "    </tr>\n",
       "    <tr>\n",
       "      <th>15</th>\n",
       "      <td>expect</td>\n",
       "      <td>0.180501</td>\n",
       "      <td>home</td>\n",
       "      <td>0.501063</td>\n",
       "      <td>readi</td>\n",
       "      <td>0.886319</td>\n",
       "      <td>point</td>\n",
       "      <td>0.167147</td>\n",
       "      <td>said</td>\n",
       "      <td>0.130166</td>\n",
       "      <td>...</td>\n",
       "      <td>#irma</td>\n",
       "      <td>0.907687</td>\n",
       "      <td>safe</td>\n",
       "      <td>0.959561</td>\n",
       "      <td>peopl</td>\n",
       "      <td>0.693990</td>\n",
       "      <td>watch</td>\n",
       "      <td>0.904550</td>\n",
       "      <td>updat</td>\n",
       "      <td>0.917767</td>\n",
       "    </tr>\n",
       "    <tr>\n",
       "      <th>16</th>\n",
       "      <td>readi</td>\n",
       "      <td>0.174340</td>\n",
       "      <td>tomorrow</td>\n",
       "      <td>0.498914</td>\n",
       "      <td>safe</td>\n",
       "      <td>0.884978</td>\n",
       "      <td>florida</td>\n",
       "      <td>0.166901</td>\n",
       "      <td>one</td>\n",
       "      <td>0.124507</td>\n",
       "      <td>...</td>\n",
       "      <td>eye</td>\n",
       "      <td>0.906843</td>\n",
       "      <td>thing</td>\n",
       "      <td>0.959077</td>\n",
       "      <td>see</td>\n",
       "      <td>0.692595</td>\n",
       "      <td>hit</td>\n",
       "      <td>0.903230</td>\n",
       "      <td>hour</td>\n",
       "      <td>0.917390</td>\n",
       "    </tr>\n",
       "    <tr>\n",
       "      <th>17</th>\n",
       "      <td>protect</td>\n",
       "      <td>0.169028</td>\n",
       "      <td>come</td>\n",
       "      <td>0.495525</td>\n",
       "      <td>pray</td>\n",
       "      <td>0.882919</td>\n",
       "      <td>ryan</td>\n",
       "      <td>0.163728</td>\n",
       "      <td>kill</td>\n",
       "      <td>0.121183</td>\n",
       "      <td>...</td>\n",
       "      <td>safe</td>\n",
       "      <td>0.905207</td>\n",
       "      <td>power</td>\n",
       "      <td>0.958449</td>\n",
       "      <td>feel</td>\n",
       "      <td>0.688934</td>\n",
       "      <td>florida</td>\n",
       "      <td>0.901121</td>\n",
       "      <td>#irma</td>\n",
       "      <td>0.916693</td>\n",
       "    </tr>\n",
       "    <tr>\n",
       "      <th>18</th>\n",
       "      <td>long</td>\n",
       "      <td>0.167226</td>\n",
       "      <td>back</td>\n",
       "      <td>0.494883</td>\n",
       "      <td>see</td>\n",
       "      <td>0.882319</td>\n",
       "      <td>fuck</td>\n",
       "      <td>0.162409</td>\n",
       "      <td>#wearespark</td>\n",
       "      <td>0.119851</td>\n",
       "      <td>...</td>\n",
       "      <td>got</td>\n",
       "      <td>0.904802</td>\n",
       "      <td>tree</td>\n",
       "      <td>0.958019</td>\n",
       "      <td>cat</td>\n",
       "      <td>0.688407</td>\n",
       "      <td>make</td>\n",
       "      <td>0.900282</td>\n",
       "      <td>bad</td>\n",
       "      <td>0.915642</td>\n",
       "    </tr>\n",
       "    <tr>\n",
       "      <th>19</th>\n",
       "      <td>ahead</td>\n",
       "      <td>0.166217</td>\n",
       "      <td>sinc</td>\n",
       "      <td>0.490252</td>\n",
       "      <td>watch</td>\n",
       "      <td>0.881526</td>\n",
       "      <td>want</td>\n",
       "      <td>0.161856</td>\n",
       "      <td>lake</td>\n",
       "      <td>0.119213</td>\n",
       "      <td>...</td>\n",
       "      <td>stay</td>\n",
       "      <td>0.903789</td>\n",
       "      <td>eye</td>\n",
       "      <td>0.957736</td>\n",
       "      <td>thing</td>\n",
       "      <td>0.686665</td>\n",
       "      <td>way</td>\n",
       "      <td>0.898477</td>\n",
       "      <td>outsid</td>\n",
       "      <td>0.915362</td>\n",
       "    </tr>\n",
       "  </tbody>\n",
       "</table>\n",
       "<p>20 rows × 50 columns</p>\n",
       "</div>"
      ],
      "text/plain": [
       "   2017-09-10 00:00:00   Cos_Sim 2017-09-10 01:00:00   Cos_Sim  \\\n",
       "0              #repost  0.265424             alreadi  0.606717   \n",
       "1             #orlando  0.240334                 hit  0.590511   \n",
       "2                staff  0.224587                pray  0.578684   \n",
       "3                   al  0.212681                 get  0.562127   \n",
       "4                 cool  0.212410                talk  0.560051   \n",
       "5              alreadi  0.211902              friend  0.553401   \n",
       "6                 time  0.200519                stay  0.548691   \n",
       "7                 soon  0.199584                like  0.544238   \n",
       "8                 need  0.196033               night  0.543114   \n",
       "9               beauti  0.194624                safe  0.543033   \n",
       "10                look  0.187923                shit  0.538583   \n",
       "11               speed  0.187596                wait  0.525599   \n",
       "12             airport  0.186879             everyon  0.518285   \n",
       "13                mile  0.184611               bitch  0.517613   \n",
       "14                back  0.183439                last  0.506139   \n",
       "15              expect  0.180501                home  0.501063   \n",
       "16               readi  0.174340            tomorrow  0.498914   \n",
       "17             protect  0.169028                come  0.495525   \n",
       "18                long  0.167226                back  0.494883   \n",
       "19               ahead  0.166217                sinc  0.490252   \n",
       "\n",
       "   2017-09-10 02:00:00   Cos_Sim 2017-09-10 03:00:00   Cos_Sim  \\\n",
       "0                storm  0.909438                soon  0.252239   \n",
       "1                 stay  0.904531             #repost  0.244770   \n",
       "2                 like  0.901244                look  0.232497   \n",
       "3                updat  0.900670                 let  0.224351   \n",
       "4                 back  0.899459                hard  0.218504   \n",
       "5               realli  0.899030                hear  0.215968   \n",
       "6                thank  0.898961               front  0.209566   \n",
       "7                 good  0.897408              outsid  0.207140   \n",
       "8             tomorrow  0.896601              import  0.203823   \n",
       "9                 fuck  0.895543               nigga  0.199595   \n",
       "10      #hurricaneirma  0.893185                pray  0.197796   \n",
       "11                 get  0.891285                time  0.197133   \n",
       "12                  us  0.888558              realli  0.173714   \n",
       "13                wait  0.887852                said  0.172112   \n",
       "14                  go  0.886544               readi  0.172065   \n",
       "15               readi  0.886319               point  0.167147   \n",
       "16                safe  0.884978             florida  0.166901   \n",
       "17                pray  0.882919                ryan  0.163728   \n",
       "18                 see  0.882319                fuck  0.162409   \n",
       "19               watch  0.881526                want  0.161856   \n",
       "\n",
       "   2017-09-10 04:00:00   Cos_Sim  ... 2017-09-10 20:00:00   Cos_Sim  \\\n",
       "0              surpris  0.188537  ...                 get  0.947654   \n",
       "1                photo  0.181449  ...                come  0.944228   \n",
       "2                 soon  0.179610  ...                  go  0.932334   \n",
       "3                 intl  0.176604  ...               right  0.925093   \n",
       "4                 hard  0.166168  ...               thank  0.924381   \n",
       "5              deltona  0.164060  ...                good  0.923284   \n",
       "6                 look  0.158768  ...               still  0.920706   \n",
       "7                 #tbt  0.157732  ...                hous  0.920248   \n",
       "8              airport  0.157586  ...                feel  0.916373   \n",
       "9                 pray  0.155617  ...                noth  0.916281   \n",
       "10                cool  0.154737  ...      #hurricaneirma  0.914525   \n",
       "11                girl  0.152002  ...                  us  0.914469   \n",
       "12                want  0.150922  ...                back  0.912894   \n",
       "13              realli  0.144286  ...               thing  0.912624   \n",
       "14               nigga  0.138094  ...                 one  0.907880   \n",
       "15                said  0.130166  ...               #irma  0.907687   \n",
       "16                 one  0.124507  ...                 eye  0.906843   \n",
       "17                kill  0.121183  ...                safe  0.905207   \n",
       "18         #wearespark  0.119851  ...                 got  0.904802   \n",
       "19                lake  0.119213  ...                stay  0.903789   \n",
       "\n",
       "   2017-09-10 21:00:00   Cos_Sim 2017-09-10 22:00:00   Cos_Sim  \\\n",
       "0             hurrican  0.976098                come  0.778499   \n",
       "1                 time  0.974473                 get  0.756552   \n",
       "2                still  0.971939                make  0.750371   \n",
       "3                 like  0.969609                  go  0.742437   \n",
       "4                thank  0.968329                look  0.741640   \n",
       "5                #irma  0.968140                like  0.734918   \n",
       "6                start  0.967555                 day  0.732494   \n",
       "7                watch  0.967278                pick  0.731816   \n",
       "8       #hurricaneirma  0.966146               still  0.730234   \n",
       "9                  get  0.964911                wait  0.726693   \n",
       "10                  go  0.964797               power  0.724964   \n",
       "11                hour  0.964252                safe  0.721773   \n",
       "12                 lol  0.963908                good  0.716916   \n",
       "13                love  0.963493                time  0.709429   \n",
       "14                 say  0.962365                hous  0.695760   \n",
       "15                safe  0.959561               peopl  0.693990   \n",
       "16               thing  0.959077                 see  0.692595   \n",
       "17               power  0.958449                feel  0.688934   \n",
       "18                tree  0.958019                 cat  0.688407   \n",
       "19                 eye  0.957736               thing  0.686665   \n",
       "\n",
       "   2017-09-10 23:00:00   Cos_Sim 2017-09-11 00:00:00   Cos_Sim  \n",
       "0       #hurricaneirma  0.944047                 let  0.942177  \n",
       "1              everyon  0.939520               still  0.937081  \n",
       "2                 time  0.934324                come  0.936665  \n",
       "3                right  0.934134               power  0.933240  \n",
       "4                #irma  0.928680                back  0.933216  \n",
       "5                  get  0.925436                  go  0.930846  \n",
       "6                power  0.922647                time  0.930116  \n",
       "7                still  0.921019                 get  0.929392  \n",
       "8                 know  0.919919                lost  0.928404  \n",
       "9                first  0.915182                hear  0.928191  \n",
       "10                last  0.911085                 one  0.927615  \n",
       "11                wait  0.910220                 got  0.925501  \n",
       "12               video  0.909460               right  0.923093  \n",
       "13                 day  0.906363                wind  0.922176  \n",
       "14                want  0.905680                  us  0.918373  \n",
       "15               watch  0.904550               updat  0.917767  \n",
       "16                 hit  0.903230                hour  0.917390  \n",
       "17             florida  0.901121               #irma  0.916693  \n",
       "18                make  0.900282                 bad  0.915642  \n",
       "19                 way  0.898477              outsid  0.915362  \n",
       "\n",
       "[20 rows x 50 columns]"
      ]
     },
     "execution_count": 73,
     "metadata": {},
     "output_type": "execute_result"
    }
   ],
   "source": [
    "related_words"
   ]
  },
  {
   "cell_type": "code",
   "execution_count": 78,
   "metadata": {},
   "outputs": [],
   "source": [
    "related_words.to_csv('./top_words_no_scores.csv')"
   ]
  },
  {
   "cell_type": "markdown",
   "metadata": {},
   "source": [
    "### Network Graphs"
   ]
  },
  {
   "cell_type": "code",
   "execution_count": 76,
   "metadata": {},
   "outputs": [],
   "source": [
    "token_counts = tweets_tokens.apply(pd.Series).stack().value_counts()"
   ]
  },
  {
   "cell_type": "code",
   "execution_count": null,
   "metadata": {},
   "outputs": [],
   "source": [
    "# from itertools import combinations\n",
    "# word_pairs = list(combinations(list(vector_model.wv.vocab.keys()),2))\n",
    "# tweet_graph = nx.Graph()\n",
    "# for word_count in token_counts.iteritems():\n",
    "#     tweet_graph.add_node(word_count[0],count=word_count[1])\n",
    "# for pair in word_pairs:\n",
    "#     edge_weight = vector_model.wv.similarity(pair[0],pair[1])\n",
    "#     if edge_weight > .80:\n",
    "#         tweet_graph.add_edge(pair[0],pair[1],weight=edge_weight)\n",
    "# nx.write_gexf(tweet_graph,path=r'./tweet_graph.gexf')"
   ]
  },
  {
   "cell_type": "code",
   "execution_count": 77,
   "metadata": {
    "slideshow": {
     "slide_type": "-"
    }
   },
   "outputs": [],
   "source": [
    "num_words = 10\n",
    "tweet_graph = nx.Graph()\n",
    "for word_count in token_counts.iteritems():\n",
    "    tweet_graph.add_node(word_count[0],count=word_count[1])\n",
    "for word in list(opt_vector_model.wv.vocab.keys()):\n",
    "    word_scores = opt_vector_model.wv.most_similar(word, topn=num_words)\n",
    "    for i in range(num_words):\n",
    "        tweet_graph.add_edge(word,word_scores[i][0],weight=word_scores[i][1])\n",
    "nx.write_gexf(tweet_graph,path=f'./tweet_graph_{num_words}.gexf')"
   ]
  },
  {
   "cell_type": "code",
   "execution_count": 207,
   "metadata": {},
   "outputs": [],
   "source": [
    "for i in range(1,11):\n",
    "#     create strings for column heads\n",
    "    sw = f'score_window_{i}'\n",
    "    mmsw = f'MM_{sw}'\n",
    "    \n",
    "#     Scoring tweets in this column:\n",
    "    tweet_encoded[sw] = tweet_encoded.tweet_text.apply(scalarFunctions,args=(vectors_series.iloc[i],'scssc'))\n",
    "                                                       \n",
    "#     column of scores for this iteration\n",
    "    tweet_scores = tweet_encoded[sw]\n",
    "\n",
    "#     calculating Min Max Scaling for this column \n",
    "    tweet_encoded[mmsw] = ((tweet_scores - tweet_scores.min())* 100) / (tweet_scores.max() - tweet_scores.min())"
   ]
  },
  {
   "cell_type": "code",
   "execution_count": 208,
   "metadata": {},
   "outputs": [
    {
     "name": "stdout",
     "output_type": "stream",
     "text": [
      "0.779\n",
      "0.784\n",
      "0.784\n",
      "0.781\n",
      "0.779\n",
      "0.779\n",
      "0.777\n",
      "0.777\n",
      "0.776\n",
      "0.775\n"
     ]
    }
   ],
   "source": [
    "for i in range(1,11):\n",
    "    print(round(roc_auc_score(tweet_encoded['irma_rel'],tweet_encoded[f'MM_score_window_{i}']),3))"
   ]
  },
  {
   "cell_type": "code",
   "execution_count": null,
   "metadata": {},
   "outputs": [],
   "source": []
  },
  {
   "cell_type": "code",
   "execution_count": null,
   "metadata": {},
   "outputs": [],
   "source": [
    "coded_tweets = pd.read_csv(r'./irma_related_tweets.csv')\n",
    "\n",
    "tweets_on_date = tweet_full_en.loc[tweet_date:tweet_date+date_delta]\n",
    "\n",
    "tweet_encoded = pd.concat([coded_tweets.reset_index(),tweets_on_date.iloc[:-1].reset_index()],axis=1)"
   ]
  },
  {
   "cell_type": "code",
   "execution_count": null,
   "metadata": {},
   "outputs": [],
   "source": [
    "for i in range(1,11):\n",
    "#     create strings for column heads\n",
    "    sw = f'score_window_{i}'\n",
    "    mmsw = f'MM_{sw}'\n",
    "    \n",
    "#     Scoring tweets in this column:\n",
    "    tweet_encoded[sw] = tweet_encoded.tweet_text.apply(ScoreTweetFromVectors,args=(vectors_series.iloc[i],))\n",
    "                                                       \n",
    "#     column of scores for this iteration\n",
    "    tweet_scores = tweet_encoded[sw]\n",
    "\n",
    "#     calculating Min Max Scaling for this column \n",
    "    tweet_encoded[mmsw] = ((tweet_scores - tweet_scores.min())* 100) / (tweet_scores.max() - tweet_scores.min())"
   ]
  },
  {
   "cell_type": "code",
   "execution_count": null,
   "metadata": {
    "scrolled": false
   },
   "outputs": [],
   "source": [
    "fig_hld_1 = plt.figure(figsize=(16,8),facecolor='w')\n",
    "\n",
    "for j in range(1,11):\n",
    "    window_label = f\"{comparison_type}: {25*j + 25}\"\n",
    "    plt.plot(range(101),[len(tweet_encoded[tweet_encoded[f'MM_score_window_{j}'] > i])/len(tweet_encoded) for i in range(101)],label=window_label)\n",
    "plt.xlabel(\"Min-Max Scaled Tweet Score Threshold\")\n",
    "plt.ylabel(\"Percent of Tweets at or Above Threshold\")\n",
    "plt.title(f\"Percent of Tweets at or Above Threshold by Word2Vec {comparison_type} ({func_type})\")\n",
    "plt.legend();\n",
    "\n",
    "# fig_hld_1.savefig(f'./figures/{comparison_short}{func_short}PercentTweetsBelow.pdf',bbox_inches='tight')"
   ]
  },
  {
   "cell_type": "markdown",
   "metadata": {},
   "source": [
    "### F1 Score Comparisons"
   ]
  },
  {
   "cell_type": "code",
   "execution_count": null,
   "metadata": {},
   "outputs": [],
   "source": [
    "f1_window_score_df = pd.DataFrame(np.zeros((101,11)))\n",
    "pre_score_df = pd.DataFrame(np.zeros((101,11)))\n",
    "rec_score_df = pd.DataFrame(np.zeros((101,11)))"
   ]
  },
  {
   "cell_type": "code",
   "execution_count": null,
   "metadata": {},
   "outputs": [],
   "source": [
    "for i in range(1,11):\n",
    "    for j in range(101):\n",
    "        f1_window_score_df.iloc[j,i] = f1_score(tweet_encoded.irma_rel,tweet_encoded[f'MM_score_window_{i}'] > j)\n",
    "        pre_score_df.iloc[j,i] = precision_score(tweet_encoded.irma_rel,tweet_encoded[f'MM_score_window_{i}'] > j)\n",
    "        rec_score_df.iloc[j,i] = recall_score(tweet_encoded.irma_rel,tweet_encoded[f'MM_score_window_{i}'] > j)"
   ]
  },
  {
   "cell_type": "code",
   "execution_count": null,
   "metadata": {},
   "outputs": [],
   "source": [
    "print(pd.concat([f1_window_score_df.idxmax(),f1_window_score_df.max()],axis=1,names=['TweetScore','F1Score']))\n",
    "print(f1_window_score_df.idxmax().max())\n",
    "print(f1_window_score_df.max().max())"
   ]
  },
  {
   "cell_type": "code",
   "execution_count": null,
   "metadata": {
    "scrolled": false
   },
   "outputs": [],
   "source": [
    "fig_hld_2 = plt.figure(figsize=(16,8),facecolor='w')\n",
    "for i in range(1,11):\n",
    "    window_label = f\"{comparison_type}: {25*i + 25}\"\n",
    "    plt.plot(f1_window_score_df.iloc[:,i],label=window_label)\n",
    "plt.xlabel(\"Min-Max Scaled Tweet Score Threshold\")\n",
    "plt.ylabel(\"F1 Score of Tweets Above Threshold\")\n",
    "plt.title(f\"F1 Score of Tweets by Word2Vec {comparison_type} ({func_type})\")\n",
    "plt.legend();\n",
    "# fig_hld_2.savefig(f'./figures/{comparison_short}{func_short}F1Score.pdf',bbox_inches='tight')"
   ]
  },
  {
   "cell_type": "markdown",
   "metadata": {},
   "source": [
    "### Negative Sampling (window size 7, dim = 100)"
   ]
  },
  {
   "cell_type": "code",
   "execution_count": null,
   "metadata": {},
   "outputs": [],
   "source": [
    "comparison_type = \"Negative Sampling Test\"\n",
    "comparison_short = \"NS\""
   ]
  },
  {
   "cell_type": "code",
   "execution_count": null,
   "metadata": {},
   "outputs": [],
   "source": [
    "# eliminating the off-by-one error in the loop later. This will have a zero row, unfilled by vectors.\n",
    "vectors_series = pd.Series(np.zeros((11)))"
   ]
  },
  {
   "cell_type": "code",
   "execution_count": null,
   "metadata": {},
   "outputs": [],
   "source": [
    "tweet_text = tweet_full_en.loc[tweet_date:tweet_date + date_delta,\"tweet_text\"]\n",
    "tweets_tokens = tweet_text.apply(tokens_no_stopwords)\n",
    "for i in range(0,11):\n",
    "    ns_size = i\n",
    "    # ---------- Skip-Gram ----------\n",
    "    # initialize the Word2Vec vectors with window size 7, min count 1, and Skip-Gram (Negative Sampling Test)\n",
    "    vector_model = Word2Vec(tweets_tokens, min_count=1, window=7, workers=1, size=100, seed=1, sg=1, negative=ns_size)\n",
    "    \n",
    "    # train the model over 10 epochs\n",
    "    vector_model.train(tweets_tokens, total_examples=len(tweet_text), epochs=10)\n",
    "    \n",
    "    # assign the vector data to its position in a series\n",
    "    vectors_series.iloc[i] = vector_model"
   ]
  },
  {
   "cell_type": "code",
   "execution_count": null,
   "metadata": {},
   "outputs": [],
   "source": [
    "coded_tweets = pd.read_csv(r'./irma_related_tweets.csv')\n",
    "\n",
    "tweets_on_date = tweet_full_en.loc[tweet_date:tweet_date+date_delta]\n",
    "\n",
    "tweet_encoded = pd.concat([coded_tweets.reset_index(),tweets_on_date.iloc[:-1].reset_index()],axis=1)"
   ]
  },
  {
   "cell_type": "code",
   "execution_count": null,
   "metadata": {},
   "outputs": [],
   "source": [
    "vectors_series"
   ]
  },
  {
   "cell_type": "code",
   "execution_count": null,
   "metadata": {},
   "outputs": [],
   "source": [
    "for i in range(0,11):\n",
    "#     create strings for column heads\n",
    "    sw = f'score_window_{i}'\n",
    "    mmsw = f'MM_{sw}'\n",
    "    \n",
    "#     Scoring tweets in this column:\n",
    "    tweet_encoded[sw] = tweet_encoded.tweet_text.apply(ScoreTweetFromVectors,args=(vectors_series.iloc[i],))\n",
    "                                                       \n",
    "#     column of scores for this iteration\n",
    "    tweet_scores = tweet_encoded[sw]\n",
    "\n",
    "#     calculating Min Max Scaling for this column \n",
    "    tweet_encoded[mmsw] = ((tweet_scores - tweet_scores.min())* 100) / (tweet_scores.max() - tweet_scores.min())"
   ]
  },
  {
   "cell_type": "code",
   "execution_count": null,
   "metadata": {},
   "outputs": [],
   "source": [
    "fig_roc_1 = plt.figure(figsize=(12,12),facecolor='w')\n",
    "for i in range(1,2):\n",
    "    fpr, tpr, thresholds = roc_curve(tweet_encoded['irma_rel'],tweet_encoded[f'MM_score_window_{i}'])\n",
    "    plt.plot(fpr,tpr,label=f\"Negative Sample Test: {i}\")\n",
    "plt.plot([0,1],[0,1],linestyle=\"-.\",label=\".5 Threshold\")\n",
    "plt.legend()\n",
    "plt.show()\n",
    "# fig_roc_1.savefig(f'./figures/neg_samp_size_1-10_roc_curve.pdf',bbox_inches='tight')"
   ]
  },
  {
   "cell_type": "code",
   "execution_count": null,
   "metadata": {
    "scrolled": false
   },
   "outputs": [],
   "source": [
    "fig_ns_1 = plt.figure(figsize=(16,8),facecolor='w')\n",
    "\n",
    "for j in range(0,11):\n",
    "    window_label = f\"{comparison_type}: {j}\"\n",
    "    plt.plot(range(101),[100 * len(tweet_encoded[tweet_encoded[f'MM_score_window_{j}'] > i])/len(tweet_encoded) for i in range(101)],label=window_label)\n",
    "plt.xlabel(\"Min-Max Scaled Tweet Score Threshold\")\n",
    "plt.ylabel(\"Percent of Tweets Above Threshold\")\n",
    "plt.title(f\"Percent of Tweets Above Threshold by Word2Vec {comparison_type} ({func_type})\")\n",
    "plt.legend();\n",
    "\n",
    "#fig_ns_1.savefig(f'./figures/{comparison_short}{func_short}PercentTweetsBelow.pdf',bbox_inches='tight')"
   ]
  },
  {
   "cell_type": "code",
   "execution_count": null,
   "metadata": {},
   "outputs": [],
   "source": [
    "from scipy.stats import norm\n",
    "print(np.linspace(1,100,100))\n",
    "#norm.cdf(tweet_encoded['MM_score_window_1'],np.linspace(1,100,100))"
   ]
  },
  {
   "cell_type": "code",
   "execution_count": null,
   "metadata": {},
   "outputs": [],
   "source": [
    "plt.hist(tweet_encoded['MM_score_window_1'].values,bins=100)"
   ]
  },
  {
   "cell_type": "markdown",
   "metadata": {},
   "source": [
    "### F1 Score Comparisons"
   ]
  },
  {
   "cell_type": "code",
   "execution_count": null,
   "metadata": {},
   "outputs": [],
   "source": [
    "f1_window_score_df = pd.DataFrame(np.zeros((101,11)))\n",
    "pre_score_df = pd.DataFrame(np.zeros((101,11)))\n",
    "rec_score_df = pd.DataFrame(np.zeros((101,11)))"
   ]
  },
  {
   "cell_type": "code",
   "execution_count": null,
   "metadata": {},
   "outputs": [],
   "source": [
    "for i in range(0,11):\n",
    "    for j in range(101):\n",
    "        f1_window_score_df.iloc[j,i] = f1_score(tweet_encoded.irma_rel,tweet_encoded[f'MM_score_window_{i}'] > j)\n",
    "        pre_score_df.iloc[j,i] = precision_score(tweet_encoded.irma_rel,tweet_encoded[f'MM_score_window_{i}'] > j)\n",
    "        rec_score_df.iloc[j,i] = recall_score(tweet_encoded.irma_rel,tweet_encoded[f'MM_score_window_{i}'] > j)"
   ]
  },
  {
   "cell_type": "code",
   "execution_count": null,
   "metadata": {},
   "outputs": [],
   "source": [
    "ns_test = pd.DataFrame(pd.concat([f1_window_score_df.idxmax().rename('MM_Score'),f1_window_score_df.max().rename('F1_Score_Max')],axis=1))\n",
    "ns_test['Neg_Samp_Size'] = pd.Series(range(0,11))"
   ]
  },
  {
   "cell_type": "code",
   "execution_count": null,
   "metadata": {},
   "outputs": [],
   "source": [
    "ns_test[['Neg_Samp_Size','MM_Score','F1_Score_Max']]"
   ]
  },
  {
   "cell_type": "code",
   "execution_count": null,
   "metadata": {},
   "outputs": [],
   "source": [
    "print(f1_window_score_df.idxmax().max())\n",
    "print(f1_window_score_df.max().idxmax())"
   ]
  },
  {
   "cell_type": "code",
   "execution_count": null,
   "metadata": {
    "scrolled": false
   },
   "outputs": [],
   "source": [
    "fig_ns_2 = plt.figure(figsize=(16,8),facecolor='w')\n",
    "for i in range(0,11):\n",
    "    if i == f1_window_score_df.max().idxmax():\n",
    "        plt.plot(f1_window_score_df.iloc[:,i],label=f\"{comparison_type}: {i} (F1 Max)\",linestyle=\":\")\n",
    "    else:\n",
    "        plt.plot(f1_window_score_df.iloc[:,i],label=f\"{comparison_type}: {i}\")\n",
    "plt.xlabel(\"Min-Max Scaled Tweet Score Threshold\")\n",
    "plt.ylabel(\"F1 Score of Tweets Above Threshold\")\n",
    "plt.title(f\"F1 Score of Tweets by Word2Vec {comparison_type} ({func_type})\")\n",
    "plt.legend();\n",
    "# fig_ns_2.savefig(f'./figures/neg_samp_size_1-10_F1Score.pdf',bbox_inches='tight')"
   ]
  },
  {
   "cell_type": "code",
   "execution_count": null,
   "metadata": {},
   "outputs": [],
   "source": [
    "tweet_to_score = tweet_full[tweet_full.tweet_text.str.contains('will post again')].tweet_text[0]\n",
    "\n",
    "ScoreTweetFromVectors(tweet_to_score,vector_set=vectors_series.iloc[1])\n",
    "# print(type(tweet_to_score))\n",
    "# print(tweet_to_score)"
   ]
  },
  {
   "cell_type": "code",
   "execution_count": null,
   "metadata": {},
   "outputs": [],
   "source": [
    "print(tweet_to_score)"
   ]
  },
  {
   "cell_type": "code",
   "execution_count": null,
   "metadata": {},
   "outputs": [],
   "source": [
    "tweet_encoded[(tweet_encoded['score_window_1'] > 22.85) & (tweet_encoded['score_window_1'] < 22.88)]['MM_score_window_1']"
   ]
  },
  {
   "cell_type": "code",
   "execution_count": 49,
   "metadata": {},
   "outputs": [
    {
     "data": {
      "text/plain": [
       "0.813429069570445"
      ]
     },
     "execution_count": 49,
     "metadata": {},
     "output_type": "execute_result"
    }
   ],
   "source": [
    "roc_auc_score(tweet_encoded['irma_rel'],tweet_encoded['MM_score_window_1'])"
   ]
  },
  {
   "cell_type": "code",
   "execution_count": 50,
   "metadata": {},
   "outputs": [],
   "source": [
    "fpr, tpr, thresholds = roc_curve(tweet_encoded['irma_rel'],tweet_encoded['MM_score_window_1'])"
   ]
  },
  {
   "cell_type": "code",
   "execution_count": 51,
   "metadata": {},
   "outputs": [
    {
     "data": {
      "image/png": "[encoded data removed]",
      "text/plain": [
       "<Figure size 864x864 with 1 Axes>"
      ]
     },
     "metadata": {},
     "output_type": "display_data"
    }
   ],
   "source": [
    "fig_roc_1 = plt.figure(figsize=(12,12),facecolor='w')\n",
    "plt.plot(fpr,tpr,label='Score of Text Module')\n",
    "plt.plot([0,1],[0,1],label='.5 AUROC Threshold')\n",
    "plt.legend()\n",
    "plt.show()\n",
    "# fig_roc_1.savefig(f'./figures/text_mod_roc_curve.pdf',bbox_inches='tight')"
   ]
  },
  {
   "cell_type": "code",
   "execution_count": 52,
   "metadata": {
    "scrolled": false
   },
   "outputs": [
    {
     "data": {
      "image/png": "[encoded data removed]",
      "text/plain": [
       "<Figure size 864x864 with 1 Axes>"
      ]
     },
     "metadata": {},
     "output_type": "display_data"
    }
   ],
   "source": [
    "fig_roc_1 = plt.figure(figsize=(12,12),facecolor='w')\n",
    "for i in range(1,2):\n",
    "    fpr, tpr, thresholds = roc_curve(tweet_encoded['irma_rel'],tweet_encoded[f'MM_score_window_{i}'])\n",
    "    plt.plot(fpr,tpr,label=f\"Negative Sample Test: {i}\")\n",
    "plt.plot([0,1],[0,1],linestyle=\"-.\",label=\".5 Threshold\")\n",
    "plt.legend()\n",
    "plt.show()\n",
    "# fig_roc_1.savefig(f'./figures/neg_samp_size_1-10_roc_curve.pdf',bbox_inches='tight')"
   ]
  },
  {
   "cell_type": "code",
   "execution_count": null,
   "metadata": {},
   "outputs": [],
   "source": []
  }
 ],
 "metadata": {
  "kernelspec": {
   "display_name": "Python 3",
   "language": "python",
   "name": "python3"
  },
  "language_info": {
   "codemirror_mode": {
    "name": "ipython",
    "version": 3
   },
   "file_extension": ".py",
   "mimetype": "text/x-python",
   "name": "python",
   "nbconvert_exporter": "python",
   "pygments_lexer": "ipython3",
   "version": "3.7.3"
  }
 },
 "nbformat": 4,
 "nbformat_minor": 2
}
