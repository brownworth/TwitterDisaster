{
 "cells": [
  {
   "cell_type": "code",
   "execution_count": null,
   "metadata": {},
   "outputs": [],
   "source": [
    "# import nltk\n",
    "# nltk.download('wordnet')\n",
    "# nltk.download('stopwords')"
   ]
  },
  {
   "cell_type": "code",
   "execution_count": 1,
   "metadata": {},
   "outputs": [],
   "source": [
    "import pandas as pd\n",
    "import numpy as np\n",
    "from gensim.models import Word2Vec\n",
    "# from nltk.tokenize import TweetTokenizer\n",
    "from nltk.tokenize.casual import reduce_lengthening\n",
    "# from nltk.tokenize import sent_tokenize, word_tokenize\n",
    "from nltk.corpus import stopwords\n",
    "from nltk.stem import PorterStemmer, WordNetLemmatizer\n",
    "from math import ceil\n",
    "from sklearn.metrics import (f1_score, classification_report, \n",
    "                            confusion_matrix, accuracy_score, \n",
    "                            precision_score, recall_score, \n",
    "                            roc_auc_score, roc_curve)\n",
    "from sklearn.preprocessing import label_binarize\n",
    "from scipy.spatial.distance import cosine\n",
    "import string\n",
    "from math import log10, sqrt, cos, pi\n",
    "from scipy.stats import norm\n",
    "import re\n",
    "import pickle\n",
    "import matplotlib.pyplot as plt\n",
    "import networkx as nx\n",
    "%matplotlib inline"
   ]
  },
  {
   "cell_type": "markdown",
   "metadata": {},
   "source": [
    "## Importing Tweet Data\n",
    "***"
   ]
  },
  {
   "cell_type": "code",
   "execution_count": null,
   "metadata": {},
   "outputs": [],
   "source": [
    "columns = ['tweet_id','timestamp','tweet_text','user_id',\n",
    "           'tweet_coords','tweet_coords_list','tweet_long','tweet_lat','location',\n",
    "           'enc_url','tweet_lang','hashtags']\n",
    "tweet_full = pd.read_csv(r'./tweetCoords.csv',\n",
    "                         header=None,\n",
    "                         names=columns,\n",
    "                         parse_dates=[1],\n",
    "                         infer_datetime_format=True,\n",
    "                         index_col='timestamp')"
   ]
  },
  {
   "cell_type": "code",
   "execution_count": null,
   "metadata": {
    "scrolled": true
   },
   "outputs": [],
   "source": [
    "tweet_full.count()"
   ]
  },
  {
   "cell_type": "code",
   "execution_count": null,
   "metadata": {},
   "outputs": [],
   "source": [
    "tweet_full[(tweet_full.index >= '2017-09-10 00:00:00')&\n",
    "           (tweet_full.index <= '2017-09-12 23:59:59')].info()"
   ]
  },
  {
   "cell_type": "code",
   "execution_count": null,
   "metadata": {},
   "outputs": [],
   "source": [
    "len(tweet_full[(tweet_full.index >= '2017-09-10 00:00:00')&\n",
    "               (tweet_full.index <= '2017-09-12 23:59:59')].user_id.unique())"
   ]
  },
  {
   "cell_type": "code",
   "execution_count": null,
   "metadata": {},
   "outputs": [],
   "source": [
    "tweet_paper = tweet_full[(tweet_full.index >= '2017-09-10 00:00:00')&\n",
    "           (tweet_full.index <= '2017-09-12 23:59:59')]"
   ]
  },
  {
   "cell_type": "code",
   "execution_count": null,
   "metadata": {},
   "outputs": [],
   "source": [
    "len(tweet_paper[tweet_paper.tweet_coords.isnull()])"
   ]
  },
  {
   "cell_type": "code",
   "execution_count": null,
   "metadata": {},
   "outputs": [],
   "source": [
    "len(tweet_paper[tweet_paper.tweet_coords_list.isnull()])"
   ]
  },
  {
   "cell_type": "code",
   "execution_count": null,
   "metadata": {
    "scrolled": true
   },
   "outputs": [],
   "source": [
    "len(tweet_paper[tweet_paper.tweet_long.isnull()])"
   ]
  },
  {
   "cell_type": "code",
   "execution_count": null,
   "metadata": {},
   "outputs": [],
   "source": [
    "tweet_paper[tweet_paper.tweet_coords.notnull()].head(1)"
   ]
  },
  {
   "cell_type": "code",
   "execution_count": null,
   "metadata": {},
   "outputs": [],
   "source": [
    "print(tweet_paper.tweet_long.max())\n",
    "print(tweet_paper.tweet_long.min())\n",
    "print(tweet_paper.tweet_lat.max())\n",
    "print(tweet_paper.tweet_lat.min())"
   ]
  },
  {
   "cell_type": "code",
   "execution_count": null,
   "metadata": {},
   "outputs": [],
   "source": [
    "tweet_full[tweet_full.enc_url.notnull()]"
   ]
  },
  {
   "cell_type": "code",
   "execution_count": null,
   "metadata": {},
   "outputs": [],
   "source": [
    "related_words = pd.DataFrame()\n",
    "tweet_date = pd.to_datetime(\"2017-09-10 00:00:00\")\n",
    "date_delta = pd.Timedelta(\"24HR\")\n",
    "end_date = pd.to_datetime(\"2017-09-10 00:00:00\")"
   ]
  },
  {
   "cell_type": "code",
   "execution_count": null,
   "metadata": {},
   "outputs": [],
   "source": [
    "tweet_full_en = tweet_full[tweet_full['tweet_lang'] == 'en']"
   ]
  },
  {
   "cell_type": "code",
   "execution_count": null,
   "metadata": {},
   "outputs": [],
   "source": [
    "tweet_text = tweet_full_en.loc[tweet_date:tweet_date + date_delta,\"tweet_text\"]"
   ]
  },
  {
   "cell_type": "markdown",
   "metadata": {},
   "source": [
    "## Helper Functions\n",
    "***"
   ]
  },
  {
   "cell_type": "code",
   "execution_count": null,
   "metadata": {},
   "outputs": [],
   "source": [
    "tweet_stops = stopwords.words('english')\n",
    "stemmer = PorterStemmer()\n",
    "\n",
    "def clean_tweet(tweet):\n",
    "##     takes input string and converts or removes characters depending on settings.\n",
    "##     returns a string\n",
    "##     convert case:\n",
    "    tweet = tweet.lower()\n",
    "##    remove URLs:\n",
    "    tweet = re.sub('https?://\\S+','',tweet)\n",
    "##     remove @mentions, including those with a leading '-' or '.' : \n",
    "    tweet = re.sub('[-\\.]?@\\w+','',tweet)\n",
    "##     remove non-hashtag punctuation:\n",
    "#     tweet = tweet.translate(tweet.maketrans('','',string.punctuation.replace(\"#\",\"\")))\n",
    "##     convert non-hashtag punctuation to whitespace:\n",
    "    tweet = tweet.translate(tweet.maketrans(string.punctuation.replace(\"#\",\"\"),\" \"*len(string.punctuation.replace(\"#\",\"\"))))\n",
    "#     remove non-hashtag '#'.\n",
    "    tweet = re.sub('\\B#\\B','',tweet)\n",
    "##     remove 'amp', 'gt', 'lt', indicating decoded ampersand, greater-than, less-than characters\n",
    "    tweet = re.sub(r'\\b(amp|gt|lt)\\b','',tweet)\n",
    "##     drop numbers and words of < 4 characters.\n",
    "#     tweet = re.sub(r'\\b(?<!#)\\w{1,3}\\b','',tweet)\n",
    "    tweet = re.sub(r'\\b(?<!#)\\d+\\b','',tweet)\n",
    "    return tweet\n",
    "\n",
    "def tokens_no_stopwords(tweet_as_string):\n",
    "#     wrapper function that combines the tokenizer, cleaner, and stopword removal.\n",
    "#     takes a string and returns a list of strings\n",
    "    cleaned_tweet = clean_tweet(tweet_as_string)\n",
    "    tweet_reduce_len = reduce_lengthening(cleaned_tweet)\n",
    "#     tweet_as_tokens = word_tokenize(tweet_reduce_len)\n",
    "    tweet_as_tokens = tweet_reduce_len.split()\n",
    "    tweet_no_stops = [stemmer.stem(word) for word in tweet_as_tokens if word not in tweet_stops]\n",
    "    \n",
    "    return tweet_no_stops"
   ]
  },
  {
   "cell_type": "markdown",
   "metadata": {},
   "source": [
    "## Miscellaneous Tests:\n",
    "***"
   ]
  },
  {
   "cell_type": "code",
   "execution_count": null,
   "metadata": {},
   "outputs": [],
   "source": [
    "punc_test = \"This is some (&) text$that has &*char$ in it\"\n",
    "punc_test.translate(punc_test.maketrans(string.punctuation.replace(\"#\",\"\"),\" \"*len(string.punctuation.replace(\"#\",\"\"))))"
   ]
  },
  {
   "cell_type": "code",
   "execution_count": null,
   "metadata": {},
   "outputs": [],
   "source": [
    "punc_test.translate(punc_test.maketrans('','',string.punctuation.replace(\"#\",\"\")))"
   ]
  },
  {
   "cell_type": "code",
   "execution_count": null,
   "metadata": {},
   "outputs": [],
   "source": [
    "# tweet_tokenizer = TweetTokenizer(strip_handles=True,preserve_case=False,reduce_len=True)"
   ]
  },
  {
   "cell_type": "code",
   "execution_count": null,
   "metadata": {},
   "outputs": [],
   "source": [
    "re_hash_test = '# #34 4#3 A#36 3 A# #hashtag'\n",
    "print(re.sub(r'\\b#\\B','!',re_hash_test))\n",
    "print(re.sub(r'\\b#\\b','!',re_hash_test))\n",
    "print(re.sub(r'\\B#\\B','!',re_hash_test))"
   ]
  },
  {
   "cell_type": "code",
   "execution_count": null,
   "metadata": {},
   "outputs": [],
   "source": [
    "text=\"this is a tweet # #### ####1 #hashtag #123 #12345 apm yooooo\"\n",
    "tokens_no_stopwords(text)"
   ]
  },
  {
   "cell_type": "markdown",
   "metadata": {},
   "source": [
    "## Word/Token Statistics\n",
    "***"
   ]
  },
  {
   "cell_type": "code",
   "execution_count": null,
   "metadata": {},
   "outputs": [],
   "source": [
    "word_counts = tweet_text.str.split(\"\\s+\").apply(pd.Series).stack().value_counts()"
   ]
  },
  {
   "cell_type": "code",
   "execution_count": null,
   "metadata": {},
   "outputs": [],
   "source": [
    "word_counts.size"
   ]
  },
  {
   "cell_type": "code",
   "execution_count": null,
   "metadata": {},
   "outputs": [],
   "source": [
    "word_counts.head(20)"
   ]
  },
  {
   "cell_type": "code",
   "execution_count": null,
   "metadata": {},
   "outputs": [],
   "source": [
    "word_counts.tail(20)"
   ]
  },
  {
   "cell_type": "code",
   "execution_count": null,
   "metadata": {},
   "outputs": [],
   "source": [
    "# tweet_reduce_len = TweetTokenizer(reduce_len=True)\n",
    "word_counts_reduce = tweet_text.apply(reduce_lengthening).str.split().apply(pd.Series).stack().value_counts()"
   ]
  },
  {
   "cell_type": "code",
   "execution_count": null,
   "metadata": {
    "scrolled": true
   },
   "outputs": [],
   "source": [
    "word_counts_reduce.size"
   ]
  },
  {
   "cell_type": "code",
   "execution_count": null,
   "metadata": {},
   "outputs": [],
   "source": [
    "# np.setdiff1d(word_counts.index.values,word_counts_reduce.index.values)"
   ]
  },
  {
   "cell_type": "code",
   "execution_count": null,
   "metadata": {},
   "outputs": [],
   "source": [
    "word_counts_reduce.head(20)"
   ]
  },
  {
   "cell_type": "code",
   "execution_count": null,
   "metadata": {},
   "outputs": [],
   "source": [
    "# word_counts_full_tokenizer = tweet_text.apply(tweet_tokenizer.tokenize).apply(pd.Series).stack().value_counts()"
   ]
  },
  {
   "cell_type": "code",
   "execution_count": null,
   "metadata": {},
   "outputs": [],
   "source": [
    "# word_counts_full_tokenizer.size"
   ]
  },
  {
   "cell_type": "code",
   "execution_count": null,
   "metadata": {},
   "outputs": [],
   "source": [
    "# word_counts_full_tokenizer.head(20)"
   ]
  },
  {
   "cell_type": "code",
   "execution_count": null,
   "metadata": {},
   "outputs": [],
   "source": [
    "tokenized_tweets = tweet_text.apply(tokens_no_stopwords)"
   ]
  },
  {
   "cell_type": "code",
   "execution_count": null,
   "metadata": {},
   "outputs": [],
   "source": [
    "ex_text = \"OOOOMMMMGGGGG This is the #1 worst THING HAPPENING IN 2017!!!!!! Power is out & Basement is flooded! #irma #hurricane @TV9 @my_friend https;//my.domain.net\""
   ]
  },
  {
   "cell_type": "code",
   "execution_count": null,
   "metadata": {},
   "outputs": [],
   "source": [
    "tweet_test = ex_text\n",
    "print(tweet_test)\n",
    "tweet_test = tweet_test.lower()\n",
    "# print(word_tokenize(tweet_test))\n",
    "print(tweet_test.split())\n",
    "i=0\n",
    "print(f\"S: {tweet_test}\");i+=1\n",
    "#     1: remove URLs:\n",
    "tweet_test = re.sub('https?://\\S+','',tweet_test)\n",
    "print(f\"{i}: {tweet_test}\");i+=1\n",
    "#     2: remove @mentions, including those with a leading '-' or '.' : \n",
    "tweet_test = re.sub('[-\\.]?@\\w+','',tweet_test)\n",
    "print(f\"{i}: {tweet_test}\");i+=1\n",
    "#     3: remove punctuation, but not hashtags:\n",
    "tweet_test = tweet_test.translate(tweet_test.maketrans('','',string.punctuation.replace(\"#\",\"\")))\n",
    "print(f\"{i}: {tweet_test}\");i+=1\n",
    "#     4: remove non-hashtag '#'.\n",
    "# tweet_test = re.sub('#\\B','',tweet_test)\n",
    "print(f\"{i}: {tweet_test}\");i+=1\n",
    "#     5: remove 'amp', 'gt', 'lt', indicating decoded ampersand, greater-than, less-than characters\n",
    "# tweet_test = re.sub(r'\\b(amp|gt|lt)\\b','',tweet_test)\n",
    "print(f\"{i}: {tweet_test}\");i+=1\n",
    "#     6: drop words of < 4 characters, but not hashtags\n",
    "tweet_test = re.sub(r'\\b(?<!#)\\w{1,3}\\b','',tweet_test)\n",
    "print(f\"{i}: {tweet_test}\");i+=1\n",
    "#     7: drop numbers, but not hashtags\n",
    "tweet_test = re.sub(r'\\b(?<!#)\\d+\\b','',tweet_test)\n",
    "print(f\"{i}: {tweet_test}\");i+=1\n",
    "\n",
    "# print(word_tokenize(tweet_test))\n",
    "# print(tokens_no_stopwords(tweet_test))"
   ]
  },
  {
   "cell_type": "code",
   "execution_count": null,
   "metadata": {},
   "outputs": [],
   "source": [
    "pd.set_option('display.max_colwidth', -1)"
   ]
  },
  {
   "cell_type": "code",
   "execution_count": null,
   "metadata": {},
   "outputs": [],
   "source": [
    "print(reduce_lengthening(ex_text))"
   ]
  },
  {
   "cell_type": "code",
   "execution_count": null,
   "metadata": {},
   "outputs": [],
   "source": [
    "print(tokens_no_stopwords(ex_text))"
   ]
  },
  {
   "cell_type": "code",
   "execution_count": null,
   "metadata": {},
   "outputs": [],
   "source": [
    "date_test = '2017-09-10 00:03:40'\n",
    "print(tweet_text.loc[date_test].apply(reduce_lengthening))\n",
    "print(tweet_text.loc[date_test].apply(tokens_no_stopwords))"
   ]
  },
  {
   "cell_type": "code",
   "execution_count": null,
   "metadata": {},
   "outputs": [],
   "source": [
    "tokenized_tweets[tokenized_tweets.apply(lambda x: '@' in x)]"
   ]
  },
  {
   "cell_type": "code",
   "execution_count": null,
   "metadata": {},
   "outputs": [],
   "source": [
    "word_counts_full_token_clean = tweet_text.apply(tokens_no_stopwords).apply(pd.Series).stack().value_counts()"
   ]
  },
  {
   "cell_type": "code",
   "execution_count": null,
   "metadata": {},
   "outputs": [],
   "source": [
    "word_counts_full_token_clean.size"
   ]
  },
  {
   "cell_type": "code",
   "execution_count": null,
   "metadata": {},
   "outputs": [],
   "source": [
    "word_counts_full_token_clean.head(20)"
   ]
  },
  {
   "cell_type": "code",
   "execution_count": null,
   "metadata": {},
   "outputs": [],
   "source": [
    "word_counts_full_token_clean.tail(20)"
   ]
  },
  {
   "cell_type": "code",
   "execution_count": null,
   "metadata": {},
   "outputs": [],
   "source": [
    "tweet_len = tweet_text.groupby(tweet_text.str.split().apply(len)).size()"
   ]
  },
  {
   "cell_type": "code",
   "execution_count": null,
   "metadata": {},
   "outputs": [],
   "source": [
    "tweet_len_post = tweet_text.apply(tokens_no_stopwords).apply(len).value_counts().sort_index()"
   ]
  },
  {
   "cell_type": "code",
   "execution_count": null,
   "metadata": {},
   "outputs": [],
   "source": [
    "tweet_len_post[tweet_len_post.index <= 10].sum()"
   ]
  },
  {
   "cell_type": "code",
   "execution_count": null,
   "metadata": {},
   "outputs": [],
   "source": [
    "tweet_len_post.sum()"
   ]
  },
  {
   "cell_type": "code",
   "execution_count": null,
   "metadata": {},
   "outputs": [],
   "source": [
    "tweet_len"
   ]
  },
  {
   "cell_type": "code",
   "execution_count": null,
   "metadata": {
    "scrolled": false
   },
   "outputs": [],
   "source": [
    "tweet_len_post"
   ]
  },
  {
   "cell_type": "code",
   "execution_count": null,
   "metadata": {},
   "outputs": [],
   "source": [
    "tweet_len_post[tweet_len_post.index < 11].sum()"
   ]
  },
  {
   "cell_type": "code",
   "execution_count": null,
   "metadata": {},
   "outputs": [],
   "source": [
    "# tweet_len_post[tweet_len_post.index < 11].sum()/tweet_len_post.sum()"
   ]
  },
  {
   "cell_type": "code",
   "execution_count": null,
   "metadata": {},
   "outputs": [],
   "source": [
    "plt.style.use('bmh')\n",
    "plt.rc('text', usetex=True)\n",
    "plt.rc('font', family='serif')"
   ]
  },
  {
   "cell_type": "code",
   "execution_count": null,
   "metadata": {
    "scrolled": false
   },
   "outputs": [],
   "source": [
    "fig_tweet_hist = plt.figure(figsize=(16,8))\n",
    "plt.bar(tweet_len.index,tweet_len.values,alpha=.7,label=\"Tweets by length\")\n",
    "plt.bar(tweet_len_post.index,tweet_len_post.values,alpha=.7,label=\"Tweets by length (after cleaning)\")\n",
    "plt.xlabel(\"Quantity of Tokens Per Tweet\")\n",
    "plt.ylabel(\"Number of Tweets\")\n",
    "plt.title(\"Histogram of Tweets by Length (Token Quantity)\")\n",
    "plt.legend()\n",
    "plt.show()\n",
    "#fig_tweet_hist.savefig(f'./figures/TweetsByLength.pdf',bbox_inches='tight')"
   ]
  },
  {
   "cell_type": "markdown",
   "metadata": {},
   "source": [
    "## Skip-Gram"
   ]
  },
  {
   "cell_type": "markdown",
   "metadata": {},
   "source": [
    "### Search Term"
   ]
  },
  {
   "cell_type": "code",
   "execution_count": null,
   "metadata": {},
   "outputs": [],
   "source": [
    "search_term = 'irma'"
   ]
  },
  {
   "cell_type": "markdown",
   "metadata": {},
   "source": [
    "### Window Size: 1-10"
   ]
  },
  {
   "cell_type": "code",
   "execution_count": null,
   "metadata": {},
   "outputs": [],
   "source": [
    "# # comparison_type = \"Min. Word Freq.\"\n",
    "# # comparison_short = \"MinWordFreq\"\n",
    "# comparison_type = \"Window Size\"\n",
    "# comparison_short = \"WindowSize\""
   ]
  },
  {
   "cell_type": "code",
   "execution_count": null,
   "metadata": {},
   "outputs": [],
   "source": [
    "# # eliminating the off-by-one error in the loop later. This will have a zero row, unfilled by vectors.\n",
    "# vectors_series = pd.Series(np.zeros((12)))"
   ]
  },
  {
   "cell_type": "code",
   "execution_count": null,
   "metadata": {},
   "outputs": [],
   "source": [
    "# tweet_text = tweet_full_en.loc[tweet_date:tweet_date + date_delta,\"tweet_text\"]\n",
    "# tweets_tokens = tweet_text.apply(tokens_no_stopwords)\n",
    "# for i in range(0,11):\n",
    "#     # ---------- Skip-Gram ----------\n",
    "#     # initialize the Word2Vec vectors with window size i, min count 1, and Skip-Gram\n",
    "#     vector_model = Word2Vec(tweets_tokens, seed=1, sg=1, min_count=i)#, window=8, workers=1, size=100, negative=i)\n",
    "    \n",
    "#     # train the model over 10 epochs\n",
    "#     vector_model.train(tweets_tokens, total_examples=len(tweet_text), epochs=10)\n",
    "    \n",
    "#     # assign the vector data to its position in a series\n",
    "#     vectors_series.iloc[i] = vector_model"
   ]
  },
  {
   "cell_type": "code",
   "execution_count": null,
   "metadata": {},
   "outputs": [],
   "source": [
    "coded_tweets = pd.read_csv(r'./irma_related_tweets.csv')\n",
    "\n",
    "tweets_on_date = tweet_full_en.loc[tweet_date:tweet_date+date_delta]\n",
    "\n",
    "tweet_encoded = pd.concat([coded_tweets.reset_index(),tweets_on_date.iloc[:-1].reset_index()],axis=1)"
   ]
  },
  {
   "cell_type": "markdown",
   "metadata": {},
   "source": [
    "### Comparison Functions"
   ]
  },
  {
   "cell_type": "markdown",
   "metadata": {},
   "source": [
    "Need a way to write the comparison functions with a larger function that calls them.\n",
    "\n",
    "how about writing the functions as separate, with a larger function that calls the smaller functions with an argument.\n",
    "\n",
    "- Mean Cosine Similarity\n",
    "- Sum Cosine Similarity Over Square Root of Length\n",
    "- Dot Product of Tweet As Matrix Sum of Term Vectors and Search Term\n",
    "- Cosine Similarity of Tweet As Matrix Sum of Term Vectors and Search Term"
   ]
  },
  {
   "cell_type": "code",
   "execution_count": null,
   "metadata": {},
   "outputs": [],
   "source": [
    "def meanCosSim(tweet,vector_set):\n",
    "    tweet_as_terms = tokens_no_stopwords(tweet)\n",
    "    score = 0\n",
    "    for i in tweet_as_terms:\n",
    "        if i in vector_set.wv.vocab:\n",
    "            score += vector_set.wv.similarity(i,search_term)\n",
    "    if len(tweet_as_terms) > 0:\n",
    "        score /= len(tweet_as_terms)\n",
    "    else:\n",
    "        score = 0\n",
    "    return score"
   ]
  },
  {
   "cell_type": "code",
   "execution_count": null,
   "metadata": {},
   "outputs": [],
   "source": [
    "def sumCosSimSqrtSum(tweet,vector_set):\n",
    "    tweet_as_terms = tokens_no_stopwords(tweet)\n",
    "    score = 0\n",
    "    for i in tweet_as_terms:\n",
    "        if i in vector_set.wv.vocab:\n",
    "            score += vector_set.wv.similarity(i,search_term)\n",
    "    if len(tweet_as_terms) > 0:\n",
    "        score /= sqrt(len(tweet_as_terms))\n",
    "    else:\n",
    "        score = 0\n",
    "    return score"
   ]
  },
  {
   "cell_type": "code",
   "execution_count": null,
   "metadata": {},
   "outputs": [],
   "source": [
    "def dotProductOfTweetMatrixTermVector(tweet,vector_set):\n",
    "    tweet_as_terms = tokens_no_stopwords(tweet)\n",
    "#     initialize vector with dimensionality of the vector set.\n",
    "    vector_dim = len(vector_set.wv.vectors[0])\n",
    "    score_matrix = np.zeros(vector_dim,) \n",
    "#     iterate over each word after processing. If the word is in the vocabulary,\n",
    "#     add its vector's value to the score matrix.\n",
    "#     this essentially treats a word not in the vocabulary as a zero-vector.\n",
    "    for i in tweet_as_terms:\n",
    "        if i in vector_set.wv.vocab:\n",
    "            score_matrix = np.add(score_matrix,vector_set.wv.get_vector(i))\n",
    "#     if the number of words remaining in the tweet after processing is equal to zero, return zero.\n",
    "#     otherwise, take the dot product of the score vector, and the vector of the search term.\n",
    "    if len(tweet_as_terms) > 0:\n",
    "        score = np.dot(score_matrix,vector_set.wv.get_vector(search_term))\n",
    "    else:\n",
    "        score = 0\n",
    "    return score"
   ]
  },
  {
   "cell_type": "code",
   "execution_count": null,
   "metadata": {},
   "outputs": [],
   "source": [
    "def cosSimOfTweetMatrixTermVector(tweet,vector_set):\n",
    "    tweet_as_terms = tokens_no_stopwords(tweet)\n",
    "#     initialize vector with dimensionality of the vector set.\n",
    "    vector_dim = len(vector_set.wv.vectors[0])\n",
    "    score_matrix = np.zeros(vector_dim,) \n",
    "#     iterate over each word after processing. If the word is in the vocabulary,\n",
    "#     add its vector's value to the score matrix.\n",
    "#     this essentially treats a word not in the vocabulary as a zero-vector.\n",
    "    for i in tweet_as_terms:\n",
    "        if i in vector_set.wv.vocab:\n",
    "            score_matrix = np.add(score_matrix,vector_set.wv.get_vector(i))\n",
    "#     if the number of words remaining in the tweet after processing is equal to zero, return zero.\n",
    "#     otherwise, take the pairwise cosine of the score vector and the vector of the search term.\n",
    "    if ((len(tweet_as_terms) > 0) & (np.all(score_matrix != np.zeros(vector_dim,)))):\n",
    "        score = 1 - cosine(score_matrix,vector_set.wv.get_vector(search_term))\n",
    "    else:\n",
    "        score = 0\n",
    "    return score"
   ]
  },
  {
   "cell_type": "markdown",
   "metadata": {},
   "source": [
    "Wrapper Function for the scalar comparison formulas:"
   ]
  },
  {
   "cell_type": "code",
   "execution_count": null,
   "metadata": {},
   "outputs": [],
   "source": [
    "def scalarFunctions(tweet,vector_set,formula='dp'):\n",
    "    if(formula.upper() == 'DP'):\n",
    "        return dotProductOfTweetMatrixTermVector(tweet,vector_set)\n",
    "    elif(formula.upper() == 'MCS'):\n",
    "        return meanCosSim(tweet,vector_set)\n",
    "    elif(formula.upper() == 'SCSSC'):\n",
    "        return sumCosSimSqrtSum(tweet,vector_set)\n",
    "    elif(formula.upper() == 'CSTVS'):\n",
    "        return cosSimOfTweetMatrixTermVector(tweet,vector_set)\n",
    "    else:\n",
    "        return np.NaN"
   ]
  },
  {
   "cell_type": "code",
   "execution_count": null,
   "metadata": {},
   "outputs": [],
   "source": [
    "# scalarFunctions(tweets_on_date.iloc[0,1],vectors_series[1],'mcs')"
   ]
  },
  {
   "cell_type": "code",
   "execution_count": null,
   "metadata": {},
   "outputs": [],
   "source": [
    "# func_type = \"Mean Cosine Similarity\"\n",
    "# func_short = \"MeanCosSim\"\n",
    "# def ScoreTweetFromVectors(tweet,vector_set):\n",
    "#     tweet_as_terms = tokens_no_stopwords(tweet)\n",
    "#     score = 0\n",
    "#     for i in tweet_as_terms:\n",
    "#         if i in vector_set.wv.vocab:\n",
    "#             score += vector_set.wv.similarity(i,search_term)\n",
    "#     if len(tweet_as_terms) > 0:\n",
    "#         score /= len(tweet_as_terms)\n",
    "#     else:\n",
    "#         score = 0\n",
    "#     return score"
   ]
  },
  {
   "cell_type": "code",
   "execution_count": null,
   "metadata": {},
   "outputs": [],
   "source": [
    "# from math import sqrt\n",
    "# func_type = \"Sum Score over Sqrt Cos. Sim.\"\n",
    "# func_short = \"SumOverSqrtLen\"\n",
    "# def ScoreTweetFromVectors(tweet,vector_set):\n",
    "#     tweet_as_terms = tokens_no_stopwords(tweet)\n",
    "#     score = 0\n",
    "#     for i in tweet_as_terms:\n",
    "#         if i in vector_set.wv.vocab:\n",
    "#             score += vector_set.wv.similarity(i,search_term)\n",
    "#     if len(tweet_as_terms) > 0:\n",
    "#         score /= sqrt(len(tweet_as_terms))\n",
    "#     else:\n",
    "#         score = 0\n",
    "#     return score"
   ]
  },
  {
   "cell_type": "code",
   "execution_count": null,
   "metadata": {},
   "outputs": [],
   "source": [
    "# func_type = \"Dot Product of Tweet Vector and Search Term\"\n",
    "# func_short = \"DotProduct\"\n",
    "# def ScoreTweetFromVectors(tweet,vector_set):\n",
    "#     tweet_as_terms = tokens_no_stopwords(tweet)\n",
    "# #     initialize vector with dimensionality of the vector set.\n",
    "#     vector_dim = len(vector_set.wv.vectors[0])\n",
    "#     score_matrix = np.zeros(vector_dim,) \n",
    "# #     iterate over each word after processing. If the word is in the vocabulary,\n",
    "# #     add its vector's value to the score matrix.\n",
    "# #     this essentially treats a word not in the vocabulary as a zero-vector.\n",
    "#     for i in tweet_as_terms:\n",
    "#         if i in vector_set.wv.vocab:\n",
    "#             score_matrix = np.add(score_matrix,vector_set.wv.get_vector(i))\n",
    "# #     if the number of words remaining in the tweet after processing is equal to zero, return zero.\n",
    "# #     otherwise, take the dot product of the score vector, and the vector of the search term.\n",
    "#     if len(tweet_as_terms) > 0:\n",
    "#         score = np.dot(score_matrix,vector_set.wv.get_vector(search_term))\n",
    "#     else:\n",
    "#         score = 0\n",
    "#     return score"
   ]
  },
  {
   "cell_type": "code",
   "execution_count": null,
   "metadata": {},
   "outputs": [],
   "source": [
    "# func_type = \"Cosine Similarity of Tweet Vector Sum and Search Term\"\n",
    "# func_short = \"CosSimTweetVecSum\"\n",
    "# def ScoreTweetFromVectorsCSTVS(tweet,vector_set):\n",
    "#     tweet_as_terms = tokens_no_stopwords(tweet)\n",
    "# #     initialize vector with dimensionality of the vector set.\n",
    "#     vector_dim = len(vector_set.wv.vectors[0])\n",
    "#     score_matrix = np.zeros(vector_dim,) \n",
    "# #     iterate over each word after processing. If the word is in the vocabulary,\n",
    "# #     add its vector's value to the score matrix.\n",
    "# #     this essentially treats a word not in the vocabulary as a zero-vector.\n",
    "#     for i in tweet_as_terms:\n",
    "#         if i in vector_set.wv.vocab:\n",
    "#             score_matrix = np.add(score_matrix,vector_set.wv.get_vector(i))\n",
    "# #     if the number of words remaining in the tweet after processing is equal to zero, return zero.\n",
    "# #     otherwise, take the pairwise cosine of the score vector and the vector of the search term.\n",
    "#     if len(tweet_as_terms) > 0:\n",
    "#         score = 1 - cosine(score_matrix,vector_set.wv.get_vector(search_term))\n",
    "#     else:\n",
    "#         score = 0\n",
    "#     return score"
   ]
  },
  {
   "cell_type": "code",
   "execution_count": null,
   "metadata": {},
   "outputs": [],
   "source": [
    "# tweet_encoded.iloc[0:5].tweet_text.apply(scalarFunctions,args=(vectors_series.iloc[1],'mcs'))"
   ]
  },
  {
   "cell_type": "code",
   "execution_count": null,
   "metadata": {},
   "outputs": [],
   "source": [
    "# for i in range(0,11):\n",
    "# #     create strings for column heads\n",
    "#     sw = f'score_window_{i}'\n",
    "#     mmsw = f'MM_{sw}'\n",
    "    \n",
    "# #     Scoring tweets in this column:\n",
    "#     tweet_encoded[sw] = tweet_encoded.tweet_text.apply(scalarFunctions,args=(vectors_series.iloc[i],'dp'))\n",
    "                                                       \n",
    "# #     column of scores for this iteration\n",
    "#     tweet_scores = tweet_encoded[sw]\n",
    "\n",
    "# #     calculating Min Max Scaling for this column \n",
    "#     tweet_encoded[mmsw] = ((tweet_scores - tweet_scores.min())* 100) / (tweet_scores.max() - tweet_scores.min())"
   ]
  },
  {
   "cell_type": "code",
   "execution_count": null,
   "metadata": {
    "slideshow": {
     "slide_type": "-"
    }
   },
   "outputs": [],
   "source": [
    "# vectors_series.iloc[1].wv.similar_by_word(\"irma\", topn=10, restrict_vocab=None)"
   ]
  },
  {
   "cell_type": "code",
   "execution_count": null,
   "metadata": {},
   "outputs": [],
   "source": [
    "# for i in range(0,11):\n",
    "#     print(round(roc_auc_score(tweet_encoded['irma_rel'],tweet_encoded[f'MM_score_window_{i}']),5))"
   ]
  },
  {
   "cell_type": "code",
   "execution_count": null,
   "metadata": {
    "scrolled": false
   },
   "outputs": [],
   "source": [
    "# fig_0 = plt.figure(figsize=(16,8),facecolor='w')\n",
    "\n",
    "# for j in range(1,11):\n",
    "#     window_label = f\"{comparison_type}: {j}\"\n",
    "#     plt.plot(range(101),[100*len(tweet_encoded[tweet_encoded[f'MM_score_window_{j}'] > i])/len(tweet_encoded) for i in range(101)],label=window_label)\n",
    "# plt.xlabel(\"Min-Max Scaled Tweet Score Threshold\")\n",
    "# plt.ylabel(\"Percent of Tweets at or above Threshold\")\n",
    "# plt.title(f\"Percent of Tweets at or above Threshold by Word2Vec {comparison_type} ({func_type})\")\n",
    "# plt.legend();\n",
    "\n",
    "# fig_0.savefig(f'./figures/{comparison_short}{func_short}PercentTweetsBelow.pdf',bbox_inches='tight')"
   ]
  },
  {
   "cell_type": "markdown",
   "metadata": {},
   "source": [
    "### F1 Score Comparisons"
   ]
  },
  {
   "cell_type": "code",
   "execution_count": null,
   "metadata": {},
   "outputs": [],
   "source": [
    "# f1_window_score_df = pd.DataFrame(np.zeros((101,11)))\n",
    "# pre_score_df = pd.DataFrame(np.zeros((101,11)))\n",
    "# rec_score_df = pd.DataFrame(np.zeros((101,11)))"
   ]
  },
  {
   "cell_type": "code",
   "execution_count": null,
   "metadata": {},
   "outputs": [],
   "source": [
    "# for i in range(1,11):\n",
    "#     for j in range(101):\n",
    "#         f1_window_score_df.iloc[j,i] = f1_score(tweet_encoded.irma_rel,tweet_encoded[f'MM_score_window_{i}'] > j)\n",
    "#         pre_score_df.iloc[j,i] = precision_score(tweet_encoded.irma_rel,tweet_encoded[f'MM_score_window_{i}'] > j)\n",
    "#         rec_score_df.iloc[j,i] = recall_score(tweet_encoded.irma_rel,tweet_encoded[f'MM_score_window_{i}'] > j)"
   ]
  },
  {
   "cell_type": "code",
   "execution_count": null,
   "metadata": {},
   "outputs": [],
   "source": [
    "# print(pd.concat([f1_window_score_df.idxmax(),f1_window_score_df.max()],axis=1,names=['TweetScore','F1Score']))\n",
    "# print(f1_window_score_df.idxmax().max())\n",
    "# print(f1_window_score_df.max().max())"
   ]
  },
  {
   "cell_type": "code",
   "execution_count": null,
   "metadata": {
    "scrolled": false
   },
   "outputs": [],
   "source": [
    "# fig_1 = plt.figure(figsize=(16,8),facecolor='w')\n",
    "# for i in range(1,11):\n",
    "#     plt.plot(f1_window_score_df.iloc[:,i],label=f\"{comparison_type}: {i}\")\n",
    "# plt.xlabel(\"Min-Max Scaled Tweet Score Threshold\")\n",
    "# plt.ylabel(\"F1 Score of Tweets Above Threshold\")\n",
    "# plt.title(f\"F1 Score of Tweets by Word2Vec {comparison_type} ({func_type})\")\n",
    "# plt.legend();\n",
    "# # fig_1.savefig(f'./figures/{comparison_short}{func_short}F1Score.pdf',bbox_inches='tight')"
   ]
  },
  {
   "cell_type": "markdown",
   "metadata": {},
   "source": [
    "### Hidden Layer Dimensionality (window size 7)"
   ]
  },
  {
   "cell_type": "code",
   "execution_count": null,
   "metadata": {},
   "outputs": [],
   "source": [
    "# comparison_type = \"Hidden Layer Dimensionality\"\n",
    "# comparison_short = \"HLD\""
   ]
  },
  {
   "cell_type": "code",
   "execution_count": null,
   "metadata": {},
   "outputs": [],
   "source": [
    "# # eliminating the off-by-one error in the loop later. This will have a zero row, unfilled by vectors.\n",
    "# vectors_series = pd.Series(np.zeros((11)))"
   ]
  },
  {
   "cell_type": "code",
   "execution_count": null,
   "metadata": {},
   "outputs": [],
   "source": [
    "# %%timeit\n",
    "# tweet_text = tweet_full_en.loc[tweet_date:tweet_date + date_delta,\"tweet_text\"]\n",
    "# tweets_tokens = tweet_text.apply(tokens_no_stopwords)\n",
    "# for i in range(1,11):\n",
    "#     hidden_layer_dim = 50*i\n",
    "#     # ---------- Skip-Gram ----------\n",
    "#     # initialize the Word2Vec vectors with window size 8, min count 1, and Skip-Gram (Hidden Layer Dim. Test)\n",
    "#     vector_model = Word2Vec(tweets_tokens, min_count=1, window=8, workers=1, size=hidden_layer_dim, seed=1, sg=1, negative=5)\n",
    "    \n",
    "#     # train the model over 10 epochs\n",
    "#     vector_model.train(tweets_tokens, total_examples=len(tweet_text), epochs=10)\n",
    "    \n",
    "#     # assign the vector data to its position in a series\n",
    "#     vectors_series.iloc[i] = vector_model\n",
    "\n",
    "## 2min 29s ± 544 ms per loop (mean ± std. dev. of 7 runs, 1 loop each)"
   ]
  },
  {
   "cell_type": "code",
   "execution_count": null,
   "metadata": {},
   "outputs": [],
   "source": [
    "# %%timeit\n",
    "# tweet_text = tweet_full_en.loc[tweet_date:tweet_date + date_delta,\"tweet_text\"]\n",
    "# tweets_tokens = tweet_text.apply(tokens_no_stopwords)\n",
    "\n",
    "# opt_vector_model = Word2Vec(tweets_tokens, min_count=1, window=8, workers=1, size=150, seed=1, sg=1, negative=1)\n",
    "    \n",
    "# # train the model over 10 epochs\n",
    "# opt_vector_model.train(tweets_tokens, total_examples=len(tweet_text), epochs=10)\n",
    "## 6.67 s ± 42.8 ms per loop (mean ± std. dev. of 7 runs, 1 loop each)"
   ]
  },
  {
   "cell_type": "code",
   "execution_count": null,
   "metadata": {},
   "outputs": [],
   "source": [
    "# %%timeit\n",
    "# tweet_text = tweet_full_en.loc[tweet_date:tweet_date + date_delta,\"tweet_text\"]\n",
    "# tweets_tokens = tweet_text.apply(tokens_no_stopwords)\n",
    "\n",
    "# opt_vector_model = Word2Vec(tweets_tokens, min_count=1, window=8, workers=1, size=150, seed=1, sg=1, negative=1)\n",
    "    \n",
    "# # train the model over 10 epochs\n",
    "# opt_vector_model.train(tweets_tokens, total_examples=len(tweet_text), epochs=50)\n",
    "## 16.1 s ± 122 ms per loop (mean ± std. dev. of 7 runs, 1 loop each)"
   ]
  },
  {
   "cell_type": "code",
   "execution_count": null,
   "metadata": {},
   "outputs": [],
   "source": [
    "# taking values from iterative test\n",
    "HD=150\n",
    "MWC=5\n",
    "WWS=1\n",
    "NS=1\n",
    "EP=25\n",
    "tweet_text = tweet_full_en.loc[tweet_date:tweet_date + date_delta,\"tweet_text\"]\n",
    "tweets_tokens = tweet_text.apply(tokens_no_stopwords)\n",
    "\n",
    "opt_vector_model = Word2Vec(tweets_tokens, min_count=MWC, window=WWS, workers=1, size=HD, seed=1, sg=1, negative=NS)\n",
    "    \n",
    "# train the model over 10 epochs\n",
    "opt_vector_model.train(tweets_tokens, total_examples=len(tweet_text), epochs=EP)"
   ]
  },
  {
   "cell_type": "code",
   "execution_count": null,
   "metadata": {},
   "outputs": [],
   "source": [
    "mt3_tweet = \"check out what the storm did last night!\"\n",
    "scalarFunctions(mt3_tweet,opt_vector_model,'dp')"
   ]
  },
  {
   "cell_type": "code",
   "execution_count": null,
   "metadata": {},
   "outputs": [],
   "source": [
    "# opt_vector_model.wv.get_vector('irma')"
   ]
  },
  {
   "cell_type": "code",
   "execution_count": null,
   "metadata": {},
   "outputs": [],
   "source": [
    "tweet_text = tweet_full_en.loc[tweet_date:tweet_date + date_delta,\"tweet_text\"]\n",
    "tweets_tokens = tweet_text.apply(tokens_no_stopwords)\n",
    "\n",
    "def_vector_model = Word2Vec(tweets_tokens, seed=1, sg=1)\n",
    "    \n",
    "# train the model over 10 epochs\n",
    "#def_vector_model.train(tweets_tokens, total_examples=len(tweet_text), epochs=10)"
   ]
  },
  {
   "cell_type": "markdown",
   "metadata": {},
   "source": [
    "### AU-ROC Score"
   ]
  },
  {
   "cell_type": "code",
   "execution_count": null,
   "metadata": {},
   "outputs": [],
   "source": [
    "# default parameters for Word2Vec:\n",
    "for i in ['dp','mcs','scssc','cstvs']:\n",
    "#     create strings for column heads\n",
    "    sw = f'd-sw-{i}'\n",
    "    mmsw = f'MM-{sw}'\n",
    "    \n",
    "#     Scoring tweets in this column:\n",
    "    tweet_encoded[sw] = tweet_encoded.tweet_text.apply(scalarFunctions,args=(def_vector_model,i))\n",
    "                                                       \n",
    "#     column of scores for this iteration|\n",
    "    tweet_scores = tweet_encoded[sw]\n",
    "\n",
    "#     calculating Min Max Scaling for this column \n",
    "    tweet_encoded[mmsw] = ((tweet_scores - tweet_scores.min())* 100) / (tweet_scores.max() - tweet_scores.min())"
   ]
  },
  {
   "cell_type": "code",
   "execution_count": null,
   "metadata": {},
   "outputs": [],
   "source": [
    "# Optimal parameters for Word2Vec:\n",
    "for i in ['dp','mcs','scssc','cstvs']:\n",
    "#     create strings for column heads\n",
    "    sw = f'o-sw-{i}'\n",
    "    mmsw = f'MM-{sw}'\n",
    "    \n",
    "#     Scoring tweets in this column:\n",
    "    tweet_encoded[sw] = tweet_encoded.tweet_text.apply(scalarFunctions,args=(opt_vector_model,i))\n",
    "                                                       \n",
    "#     column of scores for this iteration|\n",
    "    tweet_scores = tweet_encoded[sw]\n",
    "\n",
    "#     calculating Min Max Scaling for this column \n",
    "    tweet_encoded[mmsw] = ((tweet_scores - tweet_scores.min())* 100) / (tweet_scores.max() - tweet_scores.min())"
   ]
  },
  {
   "cell_type": "code",
   "execution_count": null,
   "metadata": {},
   "outputs": [],
   "source": [
    "tweet_encoded.columns"
   ]
  },
  {
   "cell_type": "code",
   "execution_count": null,
   "metadata": {
    "scrolled": true
   },
   "outputs": [],
   "source": [
    "opt_vector_model.wv.similarity('irma','storm')"
   ]
  },
  {
   "cell_type": "code",
   "execution_count": null,
   "metadata": {},
   "outputs": [],
   "source": [
    "tweet_encoded[(tweet_encoded['o-sw-dp']>7.72) & (tweet_encoded['o-sw-dp']<7.73)]"
   ]
  },
  {
   "cell_type": "code",
   "execution_count": null,
   "metadata": {},
   "outputs": [],
   "source": [
    "# tweet_encoded[['tweet_id','timestamp','irma_rel','tweet','sw_dp','MM_sw_dp']].to_csv(r'./190930_wordScores.csv')"
   ]
  },
  {
   "cell_type": "code",
   "execution_count": 8,
   "metadata": {},
   "outputs": [
    {
     "name": "stdout",
     "output_type": "stream",
     "text": [
      "23.342124875758813\n",
      "20.355846947168168\n",
      "13.908999147132262\n"
     ]
    }
   ],
   "source": [
    "print(tweet_encoded['MM-o-sw-dp'].mean())\n",
    "print(tweet_encoded['MM-o-sw-dp'].median())\n",
    "print(tweet_encoded['MM-o-sw-dp'].std())"
   ]
  },
  {
   "cell_type": "code",
   "execution_count": null,
   "metadata": {},
   "outputs": [],
   "source": [
    "# pickle.dump(tweet_encoded,open('20200204_DataForPaper.pkl','wb'))"
   ]
  },
  {
   "cell_type": "code",
   "execution_count": 6,
   "metadata": {},
   "outputs": [],
   "source": [
    "tweet_encoded = pickle.load(open('20200204_DataForPaper.pkl','rb'))"
   ]
  },
  {
   "cell_type": "markdown",
   "metadata": {},
   "source": [
    "Graphs for Paper"
   ]
  },
  {
   "cell_type": "code",
   "execution_count": 2,
   "metadata": {},
   "outputs": [],
   "source": [
    "import seaborn as sns"
   ]
  },
  {
   "cell_type": "code",
   "execution_count": 3,
   "metadata": {},
   "outputs": [
    {
     "data": {
      "image/png": "[encoded data removed]",
      "text/plain": [
       "<Figure size 720x72 with 1 Axes>"
      ]
     },
     "metadata": {
      "needs_background": "light"
     },
     "output_type": "display_data"
    }
   ],
   "source": [
    "current_palette = sns.color_palette('colorblind')\n",
    "sns.palplot(current_palette)"
   ]
  },
  {
   "cell_type": "code",
   "execution_count": 4,
   "metadata": {},
   "outputs": [],
   "source": [
    "plt.rc('text', usetex=True)\n",
    "plt.rc('font', family='serif')\n",
    "plt.rcParams.update({'font.size': 22})"
   ]
  },
  {
   "cell_type": "code",
   "execution_count": 17,
   "metadata": {},
   "outputs": [
    {
     "name": "stdout",
     "output_type": "stream",
     "text": [
      "0.884\n",
      "0.733\n",
      "0.833\n",
      "0.799\n"
     ]
    }
   ],
   "source": [
    "for i in ['dp','mcs','scssc','cstvs']:\n",
    "    print(round(roc_auc_score(tweet_encoded['irma_rel'],tweet_encoded[f'MM-o-sw-{i}']),3))"
   ]
  },
  {
   "cell_type": "code",
   "execution_count": 18,
   "metadata": {},
   "outputs": [
    {
     "data": {
      "image/png": "[encoded data removed]",
      "text/plain": [
       "<Figure size 1200x1200 with 1 Axes>"
      ]
     },
     "metadata": {},
     "output_type": "display_data"
    },
    {
     "name": "stderr",
     "output_type": "stream",
     "text": [
      "The PostScript backend does not support transparency; partially transparent artists will be rendered opaque.\n",
      "The PostScript backend does not support transparency; partially transparent artists will be rendered opaque.\n",
      "The PostScript backend does not support transparency; partially transparent artists will be rendered opaque.\n",
      "The PostScript backend does not support transparency; partially transparent artists will be rendered opaque.\n"
     ]
    }
   ],
   "source": [
    "sns.set_palette('colorblind')\n",
    "fig_roc_s = plt.figure(figsize=(12, 12), dpi=100, facecolor='w')\n",
    "plt.xlabel(\"False Positive Rate\")\n",
    "plt.ylabel(\"True Positive Rate\")\n",
    "# color_list = {'dp':\"#2364AA\",'mcs':\"#3DA5D9\",'scssc':\"#73BFB8\",'cstvs':\"#FEC601\",'mid':\"#EA7317\"}\n",
    "line_list = {'d':\":\",'o':\":\"}\n",
    "marker_list = {'dp':'o','mcs':'^','scssc':'s','cstvs':'P'}\n",
    "\n",
    "for i in ['dp','mcs','scssc','cstvs']:\n",
    "#     for j in ['d','o']:\n",
    "    for j in ['o']:\n",
    "        \n",
    "        fpr, tpr, thresholds = roc_curve(tweet_encoded['irma_rel'],tweet_encoded[f'MM-{j}-sw-{i}'])\n",
    "        auroc_score = round(roc_auc_score(tweet_encoded['irma_rel'],tweet_encoded[f'MM-o-sw-{i}']),4)\n",
    "        label_text = f\"{i.upper()}, AU-ROC = {auroc_score}\"\n",
    "#         label_text = i.upper()+\"(\"+j.upper()+\")\"\n",
    "#         plt.plot(fpr,tpr,label=label_text,linestyle=line_list.get(j),color=color_list.get(i))\n",
    "        plt.plot(fpr,tpr,label=label_text,linestyle=\":\",marker=marker_list.get(i),markevery=200)\n",
    "# plt.plot([0,1],[0,1],linestyle=\"-.\",label=\".5 Threshold\",color=color_list.get('mid'))\n",
    "\n",
    "# plt.title(\"AU-ROC of Scalar Formulas\")\n",
    "plt.legend(loc=\"lower right\")\n",
    "plt.show()\n",
    "fig_roc_s.savefig('./figures/text_auroc_paper.eps',format='eps',bbox_inches='tight')"
   ]
  },
  {
   "cell_type": "code",
   "execution_count": null,
   "metadata": {},
   "outputs": [],
   "source": [
    "tweet_times = tweet_encoded.set_index('timestamp')"
   ]
  },
  {
   "cell_type": "code",
   "execution_count": null,
   "metadata": {},
   "outputs": [],
   "source": [
    "tweet_times['oSWDPStd'] = (tweet_times['o-sw-dp'] - tweet_times['o-sw-dp'].mean())/tweet_times['o-sw-dp'].std()"
   ]
  },
  {
   "cell_type": "code",
   "execution_count": null,
   "metadata": {},
   "outputs": [],
   "source": [
    "tweet_times['oSWDPStdMM'] = ((tweet_times['oSWDPStd'] - tweet_times['oSWDPStd'].min())* 100) / (tweet_times['oSWDPStd'].max() - tweet_times['oSWDPStd'].min())"
   ]
  },
  {
   "cell_type": "code",
   "execution_count": null,
   "metadata": {},
   "outputs": [],
   "source": [
    "tweet_times['MMoDPNormStd']  = (tweet_times['MM-o-sw-dp'] - tweet_times['MM-o-sw-dp'].mean())/tweet_times['MM-o-sw-dp'].std()"
   ]
  },
  {
   "cell_type": "code",
   "execution_count": null,
   "metadata": {},
   "outputs": [],
   "source": [
    "np.all(tweet_times['oSWDPStdMM'] == tweet_times['MM-o-sw-dp'])"
   ]
  },
  {
   "cell_type": "code",
   "execution_count": null,
   "metadata": {},
   "outputs": [],
   "source": [
    "tweet_times[tweet_times['oSWDPStdMM'] != tweet_times['MM-o-sw-dp']]"
   ]
  },
  {
   "cell_type": "code",
   "execution_count": null,
   "metadata": {},
   "outputs": [],
   "source": [
    "tweet_times[['oSWDPStd','oSWDPStdMM','MMoDPNormStd','MM-o-sw-dp']].head()"
   ]
  },
  {
   "cell_type": "code",
   "execution_count": null,
   "metadata": {},
   "outputs": [],
   "source": [
    "tweet_times.groupby(tweet_times.index.hour).count()['tweet']"
   ]
  },
  {
   "cell_type": "code",
   "execution_count": null,
   "metadata": {},
   "outputs": [],
   "source": [
    "tweet_times['oSWDPStd'].std()"
   ]
  },
  {
   "cell_type": "code",
   "execution_count": null,
   "metadata": {
    "scrolled": false
   },
   "outputs": [],
   "source": [
    "import seaborn as sns\n",
    "fig = plt.figure(figsize=(16,8))\n",
    "\n",
    "ax1 = fig.add_subplot()\n",
    "\n",
    "\n",
    "# sns.stripplot(x=tweet_times.index.hour,y=tweet_times['MMoDPNormStd'],jitter=.35,palette='viridis',alpha=.5)\n",
    "sns.boxplot(x=tweet_times.index.hour,y=tweet_times['oSWDPStdMM'],color='lightblue')\n",
    "\n",
    "ax1.set_xlabel('Hour of day in GMT')\n",
    "ax1.set_ylabel('MinMax Score of Tweets')\n",
    "ax1.set_title('Distribution of Tweet Score by Hour')\n",
    "ax2 = ax1.twinx()\n",
    "ax2.plot(tweet_times.groupby(tweet_times.index.hour).count()['tweet'],label='Tweet Count')\n",
    "ax2.set_ylabel('Count of Tweets per Hour')\n",
    "ax2.axvline(x=13,label='Landfall Time',linestyle=':',color='black')\n",
    "ax2.grid(b=False)\n",
    "ax2.legend()\n",
    "plt.show()\n",
    "fig.savefig(f'./figures/boxplot.pdf',bbox_inches='tight')"
   ]
  },
  {
   "cell_type": "code",
   "execution_count": null,
   "metadata": {},
   "outputs": [],
   "source": [
    "tweet_times.index.hour"
   ]
  },
  {
   "cell_type": "markdown",
   "metadata": {},
   "source": [
    "## Optimized Loops"
   ]
  },
  {
   "cell_type": "code",
   "execution_count": null,
   "metadata": {},
   "outputs": [],
   "source": [
    "[10,25,50,100,125,250,500]"
   ]
  },
  {
   "cell_type": "code",
   "execution_count": null,
   "metadata": {},
   "outputs": [],
   "source": [
    "# tweet_text = tweet_full_en.loc[tweet_date:tweet_date + date_delta,\"tweet_text\"]\n",
    "# tweets_tokens = tweet_text.apply(tokens_no_stopwords)\n",
    "# coded_tweets = pd.read_csv(r'./irma_related_tweets.csv')\n",
    "# tweets_on_date = tweet_full_en.loc[tweet_date:tweet_date+date_delta]\n",
    "# tweet_encoded = pd.concat([coded_tweets.reset_index(),tweets_on_date.iloc[:-1].reset_index()],axis=1)\n",
    "# search_term = 'irma'\n",
    "# # Hidden Layer Dimensions (hld)\n",
    "# # Minimum Word Count (mwc)\n",
    "# # Word Window Size (wws)\n",
    "# # Negative Sampling (ns)\n",
    "# # Epochs (ep)\n",
    "# # Scoring formulas (sf)"
   ]
  },
  {
   "cell_type": "code",
   "execution_count": null,
   "metadata": {},
   "outputs": [],
   "source": [
    "# roc_df = pd.DataFrame()\n",
    "# for hld in range(50,501,50):\n",
    "#     for mwc in range(10):\n",
    "#         for wws in range(1,11):\n",
    "#             for ns in range(10):\n",
    "#                 for ep in [10,25,50,100,125,250,500]:\n",
    "#                     vector_model = Word2Vec(tweets_tokens, seed=1, sg=1, workers=1,\n",
    "#                                             size = hld,\n",
    "#                                             min_count = mwc,\n",
    "#                                             window = wws,\n",
    "#                                             negative = ns)\n",
    "#                     vector_model.train(tweets_tokens,\n",
    "#                                        total_examples = len(tweet_text),\n",
    "#                                        epochs=ep)\n",
    "#                     for sf in ['dp','mcs','scssc','cstvs']:\n",
    "# #                         score tweets\n",
    "#                         tweet_encoded['score'] = tweet_encoded.tweet_text.apply(scalarFunctions,args=(vector_model,sf))\n",
    "# #                         convert to min-max\n",
    "#                         tweet_scores = tweet_encoded['score']\n",
    "#                         tweet_encoded['mm'] = ((tweet_scores - tweet_scores.min())* 100) / (tweet_scores.max() - tweet_scores.min())\n",
    "# #                         get AU-ROC\n",
    "#                         roc_row_score = roc_auc_score(tweet_encoded['irma_rel'],tweet_encoded['mm'])\n",
    "# #                         add to DataFrame\n",
    "#                         roc_row = pd.DataFrame([roc_row_score,hld,mwc,wwc,ns,ep,sf]).T\n",
    "#                         roc_df = roc_df.append(roc_row, ignore_index=True)\n",
    "# #                         roc_df = pd.concat([roc_df,roc_row.T],axis=0)\n",
    "#                         roc_row"
   ]
  },
  {
   "cell_type": "code",
   "execution_count": null,
   "metadata": {},
   "outputs": [],
   "source": [
    "# roc_df.to_csv('./optimal.csv')"
   ]
  },
  {
   "cell_type": "code",
   "execution_count": null,
   "metadata": {},
   "outputs": [],
   "source": [
    "# roc_df.rename(columns={0:'AUROC',1:'HLD',2:'MWC',3:'WWS',4:'NS',5:'EP',6:'SF'}).sort_values('AUROC',ascending=False)"
   ]
  },
  {
   "cell_type": "code",
   "execution_count": null,
   "metadata": {},
   "outputs": [],
   "source": [
    "# roc_df.loc[14032]"
   ]
  },
  {
   "cell_type": "code",
   "execution_count": 10,
   "metadata": {},
   "outputs": [
    {
     "data": {
      "text/plain": [
       "Index(['index', 'irma_rel', 'tweet', 'timestamp', 'tweet_id', 'tweet_text',\n",
       "       'user_id', 'tweet_coords', 'tweet_coords_list', 'tweet_long',\n",
       "       'tweet_lat', 'location', 'enc_url', 'tweet_lang', 'hashtags', 'd-sw-dp',\n",
       "       'MM-d-sw-dp', 'd-sw-mcs', 'MM-d-sw-mcs', 'd-sw-scssc', 'MM-d-sw-scssc',\n",
       "       'd-sw-cstvs', 'MM-d-sw-cstvs', 'o-sw-dp', 'MM-o-sw-dp', 'o-sw-mcs',\n",
       "       'MM-o-sw-mcs', 'o-sw-scssc', 'MM-o-sw-scssc', 'o-sw-cstvs',\n",
       "       'MM-o-sw-cstvs'],\n",
       "      dtype='object')"
      ]
     },
     "execution_count": 10,
     "metadata": {},
     "output_type": "execute_result"
    }
   ],
   "source": [
    "tweet_encoded.columns"
   ]
  },
  {
   "cell_type": "code",
   "execution_count": 12,
   "metadata": {},
   "outputs": [
    {
     "name": "stdout",
     "output_type": "stream",
     "text": [
      "0.8842\n",
      "0.7326\n",
      "0.8327\n",
      "0.7987\n"
     ]
    }
   ],
   "source": [
    "for i in ['dp','mcs','scssc','cstvs']:\n",
    "    print(round(roc_auc_score(tweet_encoded['irma_rel'],tweet_encoded[f'MM-o-sw-{i}']),4))"
   ]
  },
  {
   "cell_type": "markdown",
   "metadata": {},
   "source": [
    "### Saed's tweets:"
   ]
  },
  {
   "cell_type": "code",
   "execution_count": null,
   "metadata": {},
   "outputs": [],
   "source": [
    "# s_tweets = pd.read_csv(r'./irma_3days_tweets.csv')"
   ]
  },
  {
   "cell_type": "code",
   "execution_count": null,
   "metadata": {},
   "outputs": [],
   "source": [
    "# s_tweets.head(5)"
   ]
  },
  {
   "cell_type": "code",
   "execution_count": null,
   "metadata": {},
   "outputs": [],
   "source": [
    "# s_tweets_tokens = s_tweets['text'].apply(tokens_no_stopwords)\n",
    "# s_tweets_v_model = Word2Vec(s_tweets_tokens,\n",
    "#                            min_count=MWC,\n",
    "#                            window = WWS,\n",
    "#                            workers=1,\n",
    "#                            size=HD,\n",
    "#                            seed=1,\n",
    "#                            sg=1,\n",
    "#                            negative = NS)\n",
    "# s_tweets_v_model.train(s_tweets_tokens, total_examples = len(s_tweets['text']), epochs=EP)"
   ]
  },
  {
   "cell_type": "code",
   "execution_count": null,
   "metadata": {},
   "outputs": [],
   "source": [
    "# s_tweets['dp_score'] = s_tweets['text'].apply(scalarFunctions,args=(opt_vector_model,'dp'))\n",
    "# s_tweets_scores = s_tweets['dp_score']\n",
    "# s_tweets['mm_dp_score'] = ((s_tweets_scores - s_tweets_scores.min())* 100) / (s_tweets_scores.max() - s_tweets_scores.min())"
   ]
  },
  {
   "cell_type": "code",
   "execution_count": null,
   "metadata": {},
   "outputs": [],
   "source": [
    "# s_tweets.to_csv(r'./irma_3days_tweets_scored.csv')"
   ]
  },
  {
   "cell_type": "code",
   "execution_count": null,
   "metadata": {},
   "outputs": [],
   "source": [
    "# s_tweets.sort_values('mm_dp_score',ascending=False)"
   ]
  },
  {
   "cell_type": "markdown",
   "metadata": {},
   "source": [
    "### Related Words by 1 Hour Increments"
   ]
  },
  {
   "cell_type": "code",
   "execution_count": null,
   "metadata": {},
   "outputs": [],
   "source": [
    "related_words = pd.DataFrame()\n",
    "tweet_date = pd.to_datetime(\"2017-09-10 00:00:00\")\n",
    "date_delta = pd.Timedelta(\"1HR\")\n",
    "end_date = pd.to_datetime(\"2017-09-11 00:00:00\")\n",
    "top_num_words = 20\n",
    "search_term = 'irma'"
   ]
  },
  {
   "cell_type": "code",
   "execution_count": null,
   "metadata": {},
   "outputs": [],
   "source": [
    "for tweet_day in pd.date_range(start = tweet_date, end = end_date, freq = date_delta):\n",
    "    tweet_text = tweet_full_en.loc[tweet_day:tweet_day + date_delta,\"tweet_text\"]\n",
    "    tweets_tokens = tweet_text.apply(tokens_no_stopwords)\n",
    "    opt_vector_model_1hr = Word2Vec(tweets_tokens, min_count=MWC, window=WWS, workers=1, size=HD, seed=1, sg=1, negative=NS)\n",
    "    opt_vector_model_1hr.train(tweets_tokens, total_examples=len(tweet_text), epochs=EP)\n",
    "    opt_word_matrix_1hr = opt_vector_model_1hr.wv[opt_vector_model_1hr.wv.vocab]\n",
    "    terms_from_range = pd.DataFrame.from_records(opt_vector_model_1hr.wv.most_similar(search_term,topn=top_num_words),columns=[tweet_day,\"Cos_Sim\"])\n",
    "    related_words = pd.concat([related_words,terms_from_range],axis=1)"
   ]
  },
  {
   "cell_type": "code",
   "execution_count": null,
   "metadata": {},
   "outputs": [],
   "source": [
    "# related_words.iloc[:,0::2].to_csv(r'./190928_words.csv')"
   ]
  },
  {
   "cell_type": "code",
   "execution_count": null,
   "metadata": {},
   "outputs": [],
   "source": [
    "# related_words.to_csv('./top_words_no_scores.csv')"
   ]
  },
  {
   "cell_type": "markdown",
   "metadata": {},
   "source": [
    "### Network Graphs"
   ]
  },
  {
   "cell_type": "code",
   "execution_count": null,
   "metadata": {},
   "outputs": [],
   "source": [
    "from sklearn.feature_extraction.text import CountVectorizer, TfidfVectorizer"
   ]
  },
  {
   "cell_type": "code",
   "execution_count": null,
   "metadata": {},
   "outputs": [],
   "source": [
    "# t_vect = TfidfVectorizer(\n",
    "#     tokenizer=lambda x: x,\n",
    "#     preprocessor=lambda x: x)"
   ]
  },
  {
   "cell_type": "code",
   "execution_count": null,
   "metadata": {},
   "outputs": [],
   "source": [
    "# t_vect_vectors = t_vect.fit_transform(tweets_tokens)"
   ]
  },
  {
   "cell_type": "code",
   "execution_count": null,
   "metadata": {},
   "outputs": [],
   "source": [
    "# pd.DataFrame(t_vect.idf_, index=t_vect.get_feature_names(),columns=[\"idf_weights\"])"
   ]
  },
  {
   "cell_type": "code",
   "execution_count": null,
   "metadata": {},
   "outputs": [],
   "source": [
    "# token_counts = tweets_tokens.apply(pd.Series).stack().value_counts()"
   ]
  },
  {
   "cell_type": "code",
   "execution_count": null,
   "metadata": {},
   "outputs": [],
   "source": [
    "# len(t_vect.vocabulary_) == len(token_counts)"
   ]
  },
  {
   "cell_type": "code",
   "execution_count": null,
   "metadata": {},
   "outputs": [],
   "source": [
    "# len(t_vect.idf_)"
   ]
  },
  {
   "cell_type": "code",
   "execution_count": null,
   "metadata": {},
   "outputs": [],
   "source": [
    "# t_vect.idf_"
   ]
  },
  {
   "cell_type": "code",
   "execution_count": null,
   "metadata": {},
   "outputs": [],
   "source": [
    "# len(t_vect.get_feature_names())"
   ]
  },
  {
   "cell_type": "code",
   "execution_count": null,
   "metadata": {},
   "outputs": [],
   "source": [
    "# pd.DataFrame(t_vect_vectors.todense(),columns=t_vect.vocabulary_)"
   ]
  },
  {
   "cell_type": "code",
   "execution_count": null,
   "metadata": {
    "scrolled": true
   },
   "outputs": [],
   "source": [
    "# t_vect.get_feature_names()"
   ]
  },
  {
   "cell_type": "code",
   "execution_count": null,
   "metadata": {},
   "outputs": [],
   "source": [
    "# t_vect.vocabulary_.get('zure')"
   ]
  },
  {
   "cell_type": "code",
   "execution_count": null,
   "metadata": {},
   "outputs": [],
   "source": [
    "# cos(pi/4)"
   ]
  },
  {
   "cell_type": "code",
   "execution_count": null,
   "metadata": {},
   "outputs": [],
   "source": [
    "# from itertools import combinations\n",
    "# word_pairs = list(combinations(list(vector_model.wv.vocab.keys()),2))\n",
    "# tweet_graph = nx.Graph()\n",
    "# for word_count in token_counts.iteritems():\n",
    "#     tweet_graph.add_node(word_count[0],count=word_count[1])\n",
    "# for pair in word_pairs:\n",
    "#     edge_weight = vector_model.wv.similarity(pair[0],pair[1])\n",
    "#     if edge_weight > .80:\n",
    "#         tweet_graph.add_edge(pair[0],pair[1],weight=edge_weight)\n",
    "# nx.write_gexf(tweet_graph,path=r'./tweet_graph.gexf')"
   ]
  },
  {
   "cell_type": "code",
   "execution_count": null,
   "metadata": {},
   "outputs": [],
   "source": [
    "# from itertools import combinations\n",
    "# word_pairs = list(combinations(list(opt_vector_model.wv.vocab.keys()),2))\n",
    "# tweet_graph = nx.Graph()\n",
    "# for word_count in range(len(t_vect.idf_)):\n",
    "#     tweet_graph.add_node(t_vect.get_feature_names()[word_count],tfidf=t_vect.idf_[word_count])\n",
    "# for pair in word_pairs:\n",
    "#     edge_weight = opt_vector_model.wv.similarity(pair[0],pair[1])\n",
    "#     if edge_weight > cos(pi/4):\n",
    "#         tweet_graph.add_edge(pair[0],pair[1],weight=edge_weight)\n",
    "# nx.write_gexf(tweet_graph,path=r'./tweet_graph_idf_cos.gexf')"
   ]
  },
  {
   "cell_type": "code",
   "execution_count": null,
   "metadata": {
    "slideshow": {
     "slide_type": "-"
    }
   },
   "outputs": [],
   "source": [
    "# num_words = 10\n",
    "# tweet_graph = nx.Graph()\n",
    "# # for word_count in token_counts.iteritems():\n",
    "# # for word_count in t_vect.vocabulary_.items():\n",
    "# #     tweet_graph.add_node(word_count[0],count=word_count[1])\n",
    "# for word_count in range(len(t_vect.idf_)):\n",
    "# #     tweet_graph.add_node(word_count[0],tfidf=word_count[1])\n",
    "#     tweet_graph.add_node(t_vect.get_feature_names()[word_count],tfidf=t_vect.idf_[word_count])\n",
    "# for word in list(opt_vector_model.wv.vocab.keys()):\n",
    "#     word_scores = opt_vector_model.wv.most_similar(word, topn=num_words)\n",
    "#     for i in range(num_words):\n",
    "#         tweet_graph.add_edge(word,word_scores[i][0],weight=word_scores[i][1])\n",
    "# nx.write_gexf(tweet_graph,path=f'./tweet_graph_{num_words}_tfidf.gexf')"
   ]
  },
  {
   "cell_type": "code",
   "execution_count": null,
   "metadata": {},
   "outputs": [],
   "source": [
    "for i in range(1,11):\n",
    "#     create strings for column heads\n",
    "    sw = f'score_window_{i}'\n",
    "    mmsw = f'MM_{sw}'\n",
    "    \n",
    "#     Scoring tweets in this column:\n",
    "    tweet_encoded[sw] = tweet_encoded.tweet_text.apply(scalarFunctions,args=(vectors_series.iloc[i],'scssc'))\n",
    "                                                       \n",
    "#     column of scores for this iteration\n",
    "    tweet_scores = tweet_encoded[sw]\n",
    "\n",
    "#     calculating Min Max Scaling for this column \n",
    "    tweet_encoded[mmsw] = ((tweet_scores - tweet_scores.min())* 100) / (tweet_scores.max() - tweet_scores.min())"
   ]
  },
  {
   "cell_type": "code",
   "execution_count": null,
   "metadata": {},
   "outputs": [],
   "source": [
    "for i in range(1,11):\n",
    "    print(round(roc_auc_score(tweet_encoded['irma_rel'],tweet_encoded[f'MM_score_window_{i}']),3))"
   ]
  },
  {
   "cell_type": "code",
   "execution_count": null,
   "metadata": {},
   "outputs": [],
   "source": [
    "coded_tweets = pd.read_csv(r'./irma_related_tweets.csv')\n",
    "\n",
    "tweets_on_date = tweet_full_en.loc[tweet_date:tweet_date+date_delta]\n",
    "\n",
    "tweet_encoded = pd.concat([coded_tweets.reset_index(),tweets_on_date.iloc[:-1].reset_index()],axis=1)"
   ]
  },
  {
   "cell_type": "code",
   "execution_count": null,
   "metadata": {},
   "outputs": [],
   "source": [
    "for i in range(1,11):\n",
    "#     create strings for column heads\n",
    "    sw = f'score_window_{i}'\n",
    "    mmsw = f'MM_{sw}'\n",
    "    \n",
    "#     Scoring tweets in this column:\n",
    "    tweet_encoded[sw] = tweet_encoded.tweet_text.apply(ScoreTweetFromVectors,args=(vectors_series.iloc[i],))\n",
    "                                                       \n",
    "#     column of scores for this iteration\n",
    "    tweet_scores = tweet_encoded[sw]\n",
    "\n",
    "#     calculating Min Max Scaling for this column \n",
    "    tweet_encoded[mmsw] = ((tweet_scores - tweet_scores.min())* 100) / (tweet_scores.max() - tweet_scores.min())"
   ]
  },
  {
   "cell_type": "code",
   "execution_count": null,
   "metadata": {
    "scrolled": false
   },
   "outputs": [],
   "source": [
    "fig_hld_1 = plt.figure(figsize=(16,8),facecolor='w')\n",
    "\n",
    "for j in range(1,11):\n",
    "    window_label = f\"{comparison_type}: {25*j + 25}\"\n",
    "    plt.plot(range(101),[len(tweet_encoded[tweet_encoded[f'MM_score_window_{j}'] > i])/len(tweet_encoded) for i in range(101)],label=window_label)\n",
    "plt.xlabel(\"Min-Max Scaled Tweet Score Threshold\")\n",
    "plt.ylabel(\"Percent of Tweets at or Above Threshold\")\n",
    "plt.title(f\"Percent of Tweets at or Above Threshold by Word2Vec {comparison_type} ({func_type})\")\n",
    "plt.legend();\n",
    "\n",
    "# fig_hld_1.savefig(f'./figures/{comparison_short}{func_short}PercentTweetsBelow.pdf',bbox_inches='tight')"
   ]
  },
  {
   "cell_type": "markdown",
   "metadata": {},
   "source": [
    "### F1 Score Comparisons"
   ]
  },
  {
   "cell_type": "code",
   "execution_count": null,
   "metadata": {},
   "outputs": [],
   "source": [
    "tweet_encoded.columns"
   ]
  },
  {
   "cell_type": "code",
   "execution_count": null,
   "metadata": {},
   "outputs": [],
   "source": [
    "# f1_window_score_df = pd.DataFrame(np.zeros((101,11)))\n",
    "# pre_score_df = pd.DataFrame(np.zeros((101,11)))\n",
    "# rec_score_df = pd.DataFrame(np.zeros((101,11)))\n",
    "f1_window_score_df = pd.DataFrame(np.zeros((101,)))\n",
    "pre_score_df = pd.DataFrame(np.zeros((101,)))\n",
    "rec_score_df = pd.DataFrame(np.zeros((101,)))"
   ]
  },
  {
   "cell_type": "code",
   "execution_count": null,
   "metadata": {},
   "outputs": [],
   "source": [
    "# for i in range(1,11):\n",
    "#     for j in range(101):\n",
    "#         f1_window_score_df.iloc[j,i] = f1_score(tweet_encoded.irma_rel,tweet_encoded[f'MM_score_window_{i}'] > j)\n",
    "#         pre_score_df.iloc[j,i] = precision_score(tweet_encoded.irma_rel,tweet_encoded[f'MM_score_window_{i}'] > j)\n",
    "#         rec_score_df.iloc[j,i] = recall_score(tweet_encoded.irma_rel,tweet_encoded[f'MM_score_window_{i}'] > j)\n",
    "for j in range(101):\n",
    "    f1_window_score_df.iloc[j] = f1_score(tweet_encoded.irma_rel,tweet_encoded['MM-o-sw-cstvs'] > j)\n",
    "    pre_score_df.iloc[j] = precision_score(tweet_encoded.irma_rel,tweet_encoded['MM-o-sw-cstvs'] > j)\n",
    "    rec_score_df.iloc[j] = recall_score(tweet_encoded.irma_rel,tweet_encoded['MM-o-sw-cstvs'] > j)"
   ]
  },
  {
   "cell_type": "code",
   "execution_count": null,
   "metadata": {},
   "outputs": [],
   "source": [
    "f1_window_score_df.idxmax()[0]"
   ]
  },
  {
   "cell_type": "code",
   "execution_count": null,
   "metadata": {},
   "outputs": [],
   "source": [
    "print(pd.concat([f1_window_score_df.idxmax(),f1_window_score_df.max()],axis=1,names=['TweetScore','F1Score']))\n",
    "# print('Index of max F1 score:')\n",
    "# print(f1_window_score_df.idxmax())\n",
    "print('max F1 score:')\n",
    "max_idx = f1_window_score_df.idxmax()[0]\n",
    "print(f1_window_score_df.iloc[max_idx][0])\n",
    "print('Precision at max F1 score:')\n",
    "print(pre_score_df.iloc[max_idx][0])\n",
    "print('Recall at max F1 score:')\n",
    "print(rec_score_df.iloc[max_idx][0])\n"
   ]
  },
  {
   "cell_type": "code",
   "execution_count": null,
   "metadata": {},
   "outputs": [],
   "source": [
    "print(f1_window_score_df.idxmax().max())"
   ]
  },
  {
   "cell_type": "code",
   "execution_count": null,
   "metadata": {
    "scrolled": false
   },
   "outputs": [],
   "source": [
    "fig_hld_2 = plt.figure(figsize=(16,8),facecolor='w')\n",
    "# for i in range(1,11):\n",
    "#     window_label = f\"{comparison_type}: {25*i + 25}\"\n",
    "#     plt.plot(f1_window_score_df.iloc[:,i],label=window_label)\n",
    "plt.plot(f1_window_score_df,label=\"F1 Score By Threshold\")\n",
    "plt.plot(pre_score_df,label=\"Precision Score By Threshold\")\n",
    "plt.plot(rec_score_df,label=\"Recall Score By Threshold\")\n",
    "plt.xlabel(\"Min-Max Scaled Tweet Score Threshold\")\n",
    "plt.ylabel(\"Score of Tweets Above Threshold\")\n",
    "plt.axvline(f1_window_score_df.idxmax().max(),linestyle=\":\",color=\"black\",alpha=.7,label=\"F1 Score Max\")\n",
    "# plt.title(f\"F1 Score of Tweets by Word2Vec {comparison_type} ({func_type})\")\n",
    "plt.title(f\"F1 Score of Tweets by Word2Vec Dot Product Method\")\n",
    "plt.legend();\n",
    "fig_hld_2.savefig(f'./figures/DP_F1Score.pdf',bbox_inches='tight')"
   ]
  },
  {
   "cell_type": "code",
   "execution_count": null,
   "metadata": {},
   "outputs": [],
   "source": []
  },
  {
   "cell_type": "markdown",
   "metadata": {},
   "source": [
    "### Negative Sampling (window size 7, dim = 100)"
   ]
  },
  {
   "cell_type": "code",
   "execution_count": null,
   "metadata": {},
   "outputs": [],
   "source": [
    "comparison_type = \"Negative Sampling Test\"\n",
    "comparison_short = \"NS\""
   ]
  },
  {
   "cell_type": "code",
   "execution_count": null,
   "metadata": {},
   "outputs": [],
   "source": [
    "# eliminating the off-by-one error in the loop later. This will have a zero row, unfilled by vectors.\n",
    "vectors_series = pd.Series(np.zeros((11)))"
   ]
  },
  {
   "cell_type": "code",
   "execution_count": null,
   "metadata": {},
   "outputs": [],
   "source": [
    "tweet_text = tweet_full_en.loc[tweet_date:tweet_date + date_delta,\"tweet_text\"]\n",
    "tweets_tokens = tweet_text.apply(tokens_no_stopwords)\n",
    "for i in range(0,11):\n",
    "    ns_size = i\n",
    "    # ---------- Skip-Gram ----------\n",
    "    # initialize the Word2Vec vectors with window size 7, min count 1, and Skip-Gram (Negative Sampling Test)\n",
    "    vector_model = Word2Vec(tweets_tokens, min_count=1, window=7, workers=1, size=100, seed=1, sg=1, negative=ns_size)\n",
    "    \n",
    "    # train the model over 10 epochs\n",
    "    vector_model.train(tweets_tokens, total_examples=len(tweet_text), epochs=10)\n",
    "    \n",
    "    # assign the vector data to its position in a series\n",
    "    vectors_series.iloc[i] = vector_model"
   ]
  },
  {
   "cell_type": "code",
   "execution_count": null,
   "metadata": {},
   "outputs": [],
   "source": [
    "coded_tweets = pd.read_csv(r'./irma_related_tweets.csv')\n",
    "\n",
    "tweets_on_date = tweet_full_en.loc[tweet_date:tweet_date+date_delta]\n",
    "\n",
    "tweet_encoded = pd.concat([coded_tweets.reset_index(),tweets_on_date.iloc[:-1].reset_index()],axis=1)"
   ]
  },
  {
   "cell_type": "code",
   "execution_count": null,
   "metadata": {},
   "outputs": [],
   "source": [
    "vectors_series"
   ]
  },
  {
   "cell_type": "code",
   "execution_count": null,
   "metadata": {},
   "outputs": [],
   "source": [
    "for i in range(0,11):\n",
    "#     create strings for column heads\n",
    "    sw = f'score_window_{i}'\n",
    "    mmsw = f'MM_{sw}'\n",
    "    \n",
    "#     Scoring tweets in this column:\n",
    "    tweet_encoded[sw] = tweet_encoded.tweet_text.apply(ScoreTweetFromVectors,args=(vectors_series.iloc[i],))\n",
    "                                                       \n",
    "#     column of scores for this iteration\n",
    "    tweet_scores = tweet_encoded[sw]\n",
    "\n",
    "#     calculating Min Max Scaling for this column \n",
    "    tweet_encoded[mmsw] = ((tweet_scores - tweet_scores.min())* 100) / (tweet_scores.max() - tweet_scores.min())"
   ]
  },
  {
   "cell_type": "code",
   "execution_count": null,
   "metadata": {},
   "outputs": [],
   "source": [
    "fig_roc_1 = plt.figure(figsize=(12,12),facecolor='w')\n",
    "for i in range(1,2):\n",
    "    fpr, tpr, thresholds = roc_curve(tweet_encoded['irma_rel'],tweet_encoded[f'MM_score_window_{i}'])\n",
    "    plt.plot(fpr,tpr,label=f\"Negative Sample Test: {i}\")\n",
    "plt.plot([0,1],[0,1],linestyle=\"-.\",label=\".5 Threshold\")\n",
    "plt.legend()\n",
    "plt.show()\n",
    "# fig_roc_1.savefig(f'./figures/neg_samp_size_1-10_roc_curve.pdf',bbox_inches='tight')"
   ]
  },
  {
   "cell_type": "code",
   "execution_count": null,
   "metadata": {
    "scrolled": false
   },
   "outputs": [],
   "source": [
    "fig_ns_1 = plt.figure(figsize=(16,8),facecolor='w')\n",
    "\n",
    "for j in range(0,11):\n",
    "    window_label = f\"{comparison_type}: {j}\"\n",
    "    plt.plot(range(101),[100 * len(tweet_encoded[tweet_encoded[f'MM_score_window_{j}'] > i])/len(tweet_encoded) for i in range(101)],label=window_label)\n",
    "plt.xlabel(\"Min-Max Scaled Tweet Score Threshold\")\n",
    "plt.ylabel(\"Percent of Tweets Above Threshold\")\n",
    "plt.title(f\"Percent of Tweets Above Threshold by Word2Vec {comparison_type} ({func_type})\")\n",
    "plt.legend();\n",
    "\n",
    "#fig_ns_1.savefig(f'./figures/{comparison_short}{func_short}PercentTweetsBelow.pdf',bbox_inches='tight')"
   ]
  },
  {
   "cell_type": "code",
   "execution_count": null,
   "metadata": {},
   "outputs": [],
   "source": [
    "from scipy.stats import norm\n",
    "print(np.linspace(1,100,100))\n",
    "#norm.cdf(tweet_encoded['MM_score_window_1'],np.linspace(1,100,100))"
   ]
  },
  {
   "cell_type": "code",
   "execution_count": null,
   "metadata": {},
   "outputs": [],
   "source": [
    "plt.hist(tweet_encoded['MM_score_window_1'].values,bins=100)"
   ]
  },
  {
   "cell_type": "markdown",
   "metadata": {},
   "source": [
    "### F1 Score Comparisons"
   ]
  },
  {
   "cell_type": "code",
   "execution_count": null,
   "metadata": {},
   "outputs": [],
   "source": [
    "f1_window_score_df = pd.DataFrame(np.zeros((101,11)))\n",
    "pre_score_df = pd.DataFrame(np.zeros((101,11)))\n",
    "rec_score_df = pd.DataFrame(np.zeros((101,11)))"
   ]
  },
  {
   "cell_type": "code",
   "execution_count": null,
   "metadata": {},
   "outputs": [],
   "source": [
    "for i in range(0,11):\n",
    "    for j in range(101):\n",
    "        f1_window_score_df.iloc[j,i] = f1_score(tweet_encoded.irma_rel,tweet_encoded[f'MM_score_window_{i}'] > j)\n",
    "        pre_score_df.iloc[j,i] = precision_score(tweet_encoded.irma_rel,tweet_encoded[f'MM_score_window_{i}'] > j)\n",
    "        rec_score_df.iloc[j,i] = recall_score(tweet_encoded.irma_rel,tweet_encoded[f'MM_score_window_{i}'] > j)"
   ]
  },
  {
   "cell_type": "code",
   "execution_count": null,
   "metadata": {},
   "outputs": [],
   "source": [
    "ns_test = pd.DataFrame(pd.concat([f1_window_score_df.idxmax().rename('MM_Score'),f1_window_score_df.max().rename('F1_Score_Max')],axis=1))\n",
    "ns_test['Neg_Samp_Size'] = pd.Series(range(0,11))"
   ]
  },
  {
   "cell_type": "code",
   "execution_count": null,
   "metadata": {},
   "outputs": [],
   "source": [
    "ns_test[['Neg_Samp_Size','MM_Score','F1_Score_Max']]"
   ]
  },
  {
   "cell_type": "code",
   "execution_count": null,
   "metadata": {},
   "outputs": [],
   "source": [
    "print(f1_window_score_df.idxmax().max())\n",
    "print(f1_window_score_df.max().idxmax())"
   ]
  },
  {
   "cell_type": "code",
   "execution_count": null,
   "metadata": {
    "scrolled": false
   },
   "outputs": [],
   "source": [
    "fig_ns_2 = plt.figure(figsize=(16,8),facecolor='w')\n",
    "for i in range(0,11):\n",
    "    if i == f1_window_score_df.max().idxmax():\n",
    "        plt.plot(f1_window_score_df.iloc[:,i],label=f\"{comparison_type}: {i} (F1 Max)\",linestyle=\":\")\n",
    "    else:\n",
    "        plt.plot(f1_window_score_df.iloc[:,i],label=f\"{comparison_type}: {i}\")\n",
    "plt.xlabel(\"Min-Max Scaled Tweet Score Threshold\")\n",
    "plt.ylabel(\"F1 Score of Tweets Above Threshold\")\n",
    "plt.title(f\"F1 Score of Tweets by Word2Vec {comparison_type} ({func_type})\")\n",
    "plt.legend();\n",
    "# fig_ns_2.savefig(f'./figures/neg_samp_size_1-10_F1Score.pdf',bbox_inches='tight')"
   ]
  },
  {
   "cell_type": "code",
   "execution_count": null,
   "metadata": {},
   "outputs": [],
   "source": [
    "tweet_to_score = tweet_full[tweet_full.tweet_text.str.contains('will post again')].tweet_text[0]\n",
    "\n",
    "ScoreTweetFromVectors(tweet_to_score,vector_set=vectors_series.iloc[1])\n",
    "# print(type(tweet_to_score))\n",
    "# print(tweet_to_score)"
   ]
  },
  {
   "cell_type": "code",
   "execution_count": null,
   "metadata": {},
   "outputs": [],
   "source": [
    "print(tweet_to_score)"
   ]
  },
  {
   "cell_type": "code",
   "execution_count": null,
   "metadata": {},
   "outputs": [],
   "source": [
    "tweet_encoded[(tweet_encoded['score_window_1'] > 22.85) & (tweet_encoded['score_window_1'] < 22.88)]['MM_score_window_1']"
   ]
  },
  {
   "cell_type": "code",
   "execution_count": null,
   "metadata": {},
   "outputs": [],
   "source": [
    "roc_auc_score(tweet_encoded['irma_rel'],tweet_encoded['MM_score_window_1'])"
   ]
  },
  {
   "cell_type": "code",
   "execution_count": null,
   "metadata": {},
   "outputs": [],
   "source": [
    "fpr, tpr, thresholds = roc_curve(tweet_encoded['irma_rel'],tweet_encoded['MM_score_window_1'])"
   ]
  },
  {
   "cell_type": "code",
   "execution_count": null,
   "metadata": {},
   "outputs": [],
   "source": [
    "fig_roc_1 = plt.figure(figsize=(12,12),facecolor='w')\n",
    "plt.plot(fpr,tpr,label='Score of Text Module')\n",
    "plt.plot([0,1],[0,1],label='.5 AUROC Threshold')\n",
    "plt.legend()\n",
    "plt.show()\n",
    "# fig_roc_1.savefig(f'./figures/text_mod_roc_curve.pdf',bbox_inches='tight')"
   ]
  },
  {
   "cell_type": "code",
   "execution_count": null,
   "metadata": {
    "scrolled": false
   },
   "outputs": [],
   "source": [
    "fig_roc_1 = plt.figure(figsize=(12,12),facecolor='w')\n",
    "for i in range(1,2):\n",
    "    fpr, tpr, thresholds = roc_curve(tweet_encoded['irma_rel'],tweet_encoded[f'MM_score_window_{i}'])\n",
    "    plt.plot(fpr,tpr,label=f\"Negative Sample Test: {i}\")\n",
    "plt.plot([0,1],[0,1],linestyle=\"-.\",label=\".5 Threshold\")\n",
    "plt.legend()\n",
    "plt.show()\n",
    "# fig_roc_1.savefig(f'./figures/neg_samp_size_1-10_roc_curve.pdf',bbox_inches='tight')"
   ]
  },
  {
   "cell_type": "code",
   "execution_count": null,
   "metadata": {},
   "outputs": [],
   "source": []
  }
 ],
 "metadata": {
  "kernelspec": {
   "display_name": "Python 3",
   "language": "python",
   "name": "python3"
  },
  "language_info": {
   "codemirror_mode": {
    "name": "ipython",
    "version": 3
   },
   "file_extension": ".py",
   "mimetype": "text/x-python",
   "name": "python",
   "nbconvert_exporter": "python",
   "pygments_lexer": "ipython3",
   "version": "3.7.3"
  }
 },
 "nbformat": 4,
 "nbformat_minor": 2
}
