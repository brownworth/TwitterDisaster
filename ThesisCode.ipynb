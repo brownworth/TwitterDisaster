{
 "cells": [
  {
   "cell_type": "code",
   "execution_count": 94,
   "metadata": {},
   "outputs": [],
   "source": [
    "import pandas as pd\n",
    "import numpy as np\n",
    "from gensim.models import Word2Vec\n",
    "from nltk.tokenize import TweetTokenizer\n",
    "from nltk.tokenize.casual import reduce_lengthening\n",
    "from nltk.tokenize import sent_tokenize, word_tokenize\n",
    "from nltk.corpus import stopwords\n",
    "from math import ceil\n",
    "from sklearn.metrics import f1_score, classification_report, confusion_matrix, accuracy_score, precision_score, recall_score\n",
    "import string\n",
    "from math import log10\n",
    "from scipy.stats import norm\n",
    "import re\n",
    "import pickle\n",
    "import matplotlib.pyplot as plt\n",
    "%matplotlib inline"
   ]
  },
  {
   "cell_type": "code",
   "execution_count": 2,
   "metadata": {},
   "outputs": [],
   "source": [
    "columns = ['tweet_id','timestamp','tweet_text','user_id',\n",
    "           'tweet_coords','tweet_coords_list','tweet_long','tweet_lat','location',\n",
    "           'enc_url','tweet_lang','hashtags']\n",
    "tweet_full = pd.read_csv(r'./tweetCoords.csv',\n",
    "                         header=None,\n",
    "                         names=columns,\n",
    "                         parse_dates=[1],\n",
    "                         infer_datetime_format=True,\n",
    "                         index_col='timestamp')"
   ]
  },
  {
   "cell_type": "code",
   "execution_count": 3,
   "metadata": {},
   "outputs": [],
   "source": [
    "related_words = pd.DataFrame()\n",
    "tweet_date = pd.to_datetime(\"2017-09-10 00:00:00\")\n",
    "date_delta = pd.Timedelta(\"24HR\")\n",
    "end_date = pd.to_datetime(\"2017-09-10 00:00:00\")"
   ]
  },
  {
   "cell_type": "code",
   "execution_count": 4,
   "metadata": {},
   "outputs": [],
   "source": [
    "tweet_full_en = tweet_full[tweet_full['tweet_lang'] == 'en']"
   ]
  },
  {
   "cell_type": "code",
   "execution_count": 5,
   "metadata": {},
   "outputs": [],
   "source": [
    "tweet_text = tweet_full_en.loc[tweet_date:tweet_date + date_delta,\"tweet_text\"]"
   ]
  },
  {
   "cell_type": "code",
   "execution_count": 129,
   "metadata": {},
   "outputs": [],
   "source": [
    "tweet_stops = stopwords.words('english')\n",
    "# tweet_tokenizer = TweetTokenizer(strip_handles=True,preserve_case=False,reduce_len=True)\n",
    "\n",
    "def clean_tweet(tweet):\n",
    "#     takes input string and converts or removes characters depending on settings.\n",
    "#     returns a string\n",
    "#     convert case:\n",
    "    tweet = tweet.lower()\n",
    "#     remove URLs:\n",
    "    tweet = re.sub('https?://\\S+','',tweet)\n",
    "#     remove @mentions, including those with a leading '-' or '.' : \n",
    "    tweet = re.sub('[-\\.]?@\\w+','',tweet)\n",
    "#     remove punctuation, but not hashtags:\n",
    "    tweet = tweet.translate(tweet.maketrans('','',string.punctuation.replace(\"#\",\"\")))\n",
    "#     remove non-hashtag '#'.\n",
    "    tweet = re.sub('\\B#\\B','',tweet)\n",
    "#     remove 'amp', 'gt', 'lt', indicating decoded ampersand, greater-than, less-than characters\n",
    "#     tweet = re.sub(r'\\b(amp|gt|lt)\\b','',tweet)\n",
    "#     drop numbers and words of < 4 characters.\n",
    "    tweet = re.sub(r'\\b(?<!#)\\w{1,3}\\b','',tweet)\n",
    "    tweet = re.sub(r'\\b(?<!#)\\d+\\b','',tweet)\n",
    "    return tweet\n",
    "\n",
    "def tokens_no_stopwords(tweet_as_string):\n",
    "#     wrapper function that combines the tokenizer, cleaner, and stopword removal.\n",
    "#     takes a string and returns a list of strings\n",
    "    cleaned_tweet = clean_tweet(tweet_as_string)\n",
    "    tweet_reduce_len = reduce_lengthening(cleaned_tweet)\n",
    "#     tweet_as_tokens = word_tokenize(tweet_reduce_len)\n",
    "    tweet_as_tokens = tweet_reduce_len.split()\n",
    "    tweet_no_stops = [word for word in tweet_as_tokens if word not in tweet_stops]\n",
    "    \n",
    "    return tweet_no_stops"
   ]
  },
  {
   "cell_type": "code",
   "execution_count": 120,
   "metadata": {},
   "outputs": [
    {
     "data": {
      "text/plain": [
       "' #34 4#3 6#36'"
      ]
     },
     "execution_count": 120,
     "metadata": {},
     "output_type": "execute_result"
    }
   ],
   "source": [
    "re.sub(r'\\B#\\B','','# #34 4#3 6#36')"
   ]
  },
  {
   "cell_type": "code",
   "execution_count": 133,
   "metadata": {},
   "outputs": [
    {
     "data": {
      "text/plain": [
       "['tweet', '#1', '#hashtag', '#123', '#12345', 'yooo']"
      ]
     },
     "execution_count": 133,
     "metadata": {},
     "output_type": "execute_result"
    }
   ],
   "source": [
    "text=\"this is a tweet # #### ####1 #hashtag #123 #12345 apm yooooo\"\n",
    "tokens_no_stopwords(text)"
   ]
  },
  {
   "cell_type": "markdown",
   "metadata": {},
   "source": [
    "## Word/Token Statistics"
   ]
  },
  {
   "cell_type": "code",
   "execution_count": 132,
   "metadata": {},
   "outputs": [],
   "source": [
    "word_counts = tweet_text.str.split(\"\\s+\").apply(pd.Series).stack().value_counts()"
   ]
  },
  {
   "cell_type": "code",
   "execution_count": 134,
   "metadata": {},
   "outputs": [
    {
     "data": {
      "text/plain": [
       "43387"
      ]
     },
     "execution_count": 134,
     "metadata": {},
     "output_type": "execute_result"
    }
   ],
   "source": [
    "word_counts.size"
   ]
  },
  {
   "cell_type": "code",
   "execution_count": 143,
   "metadata": {},
   "outputs": [
    {
     "data": {
      "text/plain": [
       "the        4900\n",
       "I          4133\n",
       "to         3853\n",
       "@          3337\n",
       "a          3020\n",
       "in         2998\n",
       "and        2843\n",
       "of         2796\n",
       "is         2619\n",
       "           2463\n",
       "for        1977\n",
       "my         1943\n",
       "s          1772\n",
       "you        1647\n",
       "Florida    1592\n",
       "this       1572\n",
       "on         1491\n",
       "t          1357\n",
       "from       1236\n",
       "it         1202\n",
       "dtype: int64"
      ]
     },
     "execution_count": 143,
     "metadata": {},
     "output_type": "execute_result"
    }
   ],
   "source": [
    "word_counts.head(20)"
   ]
  },
  {
   "cell_type": "code",
   "execution_count": 139,
   "metadata": {},
   "outputs": [],
   "source": [
    "# tweet_reduce_len = TweetTokenizer(reduce_len=True)\n",
    "word_counts_reduce = tweet_text.apply(reduce_lengthening).str.split().apply(pd.Series).stack().value_counts()"
   ]
  },
  {
   "cell_type": "code",
   "execution_count": 140,
   "metadata": {
    "scrolled": true
   },
   "outputs": [
    {
     "data": {
      "text/plain": [
       "43254"
      ]
     },
     "execution_count": 140,
     "metadata": {},
     "output_type": "execute_result"
    }
   ],
   "source": [
    "word_counts_reduce.size"
   ]
  },
  {
   "cell_type": "code",
   "execution_count": 144,
   "metadata": {},
   "outputs": [
    {
     "data": {
      "text/plain": [
       "the        4900\n",
       "I          4133\n",
       "to         3853\n",
       "@          3337\n",
       "a          3020\n",
       "in         2998\n",
       "and        2843\n",
       "of         2796\n",
       "is         2619\n",
       "for        1977\n",
       "my         1943\n",
       "s          1772\n",
       "you        1647\n",
       "Florida    1592\n",
       "this       1572\n",
       "on         1491\n",
       "t          1357\n",
       "from       1236\n",
       "it         1202\n",
       "at         1129\n",
       "dtype: int64"
      ]
     },
     "execution_count": 144,
     "metadata": {},
     "output_type": "execute_result"
    }
   ],
   "source": [
    "word_counts_reduce.head(20)"
   ]
  },
  {
   "cell_type": "code",
   "execution_count": 145,
   "metadata": {},
   "outputs": [],
   "source": [
    "word_counts_full_tokenizer = tweet_text.apply(tweet_tokenizer.tokenize).apply(pd.Series).stack().value_counts()"
   ]
  },
  {
   "cell_type": "code",
   "execution_count": 146,
   "metadata": {},
   "outputs": [
    {
     "data": {
      "text/plain": [
       "30594"
      ]
     },
     "execution_count": 146,
     "metadata": {},
     "output_type": "execute_result"
    }
   ],
   "source": [
    "word_counts_full_tokenizer.size"
   ]
  },
  {
   "cell_type": "code",
   "execution_count": 147,
   "metadata": {},
   "outputs": [
    {
     "data": {
      "text/plain": [
       ".                 7696\n",
       ",                 6587\n",
       "the               5805\n",
       "i                 4610\n",
       "to                4006\n",
       "@                 3339\n",
       "a                 3324\n",
       "in                3265\n",
       "and               3045\n",
       "of                2860\n",
       "is                2755\n",
       "my                2456\n",
       "this              2302\n",
       "for               2093\n",
       "you               2077\n",
       "s                 1871\n",
       "florida           1805\n",
       "it                1746\n",
       "#hurricaneirma    1631\n",
       "on                1610\n",
       "dtype: int64"
      ]
     },
     "execution_count": 147,
     "metadata": {},
     "output_type": "execute_result"
    }
   ],
   "source": [
    "word_counts_full_tokenizer.head(20)"
   ]
  },
  {
   "cell_type": "code",
   "execution_count": 148,
   "metadata": {},
   "outputs": [],
   "source": [
    "word_counts_full_token_clean = tweet_text.apply(tokens_no_stopwords).apply(pd.Series).stack().value_counts()"
   ]
  },
  {
   "cell_type": "code",
   "execution_count": 18,
   "metadata": {},
   "outputs": [],
   "source": [
    "tokenized_tweets = tweet_text.apply(tokens_no_stopwords)"
   ]
  },
  {
   "cell_type": "code",
   "execution_count": 108,
   "metadata": {},
   "outputs": [
    {
     "name": "stdout",
     "output_type": "stream",
     "text": [
      "['tagged', '2017', '#', '1', '@', 'us', '1-biscayne', 'blvd', '.', 'https', ':', '//t.co/1foe57dvyc']\n",
      "['tagged', '2017', '#1', '@', 'us', '1-biscayne', 'blvd.', 'https://t.co/1foe57dvyc']\n",
      "S: tagged 2017  #1 @ us 1-biscayne blvd. https://t.co/1foe57dvyc\n",
      "1: tagged 2017  #1 @ us 1-biscayne blvd. \n",
      "2: tagged 2017  #1 @ us 1-biscayne blvd. \n",
      "3: tagged 2017  #1  us 1biscayne blvd \n",
      "4: tagged 2017  #1  us 1biscayne blvd \n",
      "5: tagged 2017  #1  us 1biscayne blvd \n",
      "6: tagged 2017  #1   1biscayne blvd \n",
      "7: tagged   #1   1biscayne blvd \n",
      "['tagged', '#', '1', '1biscayne', 'blvd']\n"
     ]
    }
   ],
   "source": [
    "tweet_test = tweet_text.loc['2017-09-10 00:03:40'][1]\n",
    "tweet_test = tweet_test.lower()\n",
    "print(word_tokenize(tweet_test))\n",
    "print(tweet_test.split())\n",
    "i=0\n",
    "print(f\"S: {tweet_test}\");i+=1\n",
    "#     1: remove URLs:\n",
    "tweet_test = re.sub('https?://\\S+','',tweet_test)\n",
    "print(f\"{i}: {tweet_test}\");i+=1\n",
    "#     2: remove @mentions, including those with a leading '-' or '.' : \n",
    "tweet_test = re.sub('[-\\.]?@\\w+','',tweet_test)\n",
    "print(f\"{i}: {tweet_test}\");i+=1\n",
    "#     3: remove punctuation, but not hashtags:\n",
    "tweet_test = tweet_test.translate(tweet_test.maketrans('','',string.punctuation.replace(\"#\",\"\")))\n",
    "print(f\"{i}: {tweet_test}\");i+=1\n",
    "#     4: remove non-hashtag '#'.\n",
    "# tweet_test = re.sub('#\\B','',tweet_test)\n",
    "print(f\"{i}: {tweet_test}\");i+=1\n",
    "#     5: remove 'amp', 'gt', 'lt', indicating decoded ampersand, greater-than, less-than characters\n",
    "# tweet_test = re.sub(r'\\b(amp|gt|lt)\\b','',tweet_test)\n",
    "print(f\"{i}: {tweet_test}\");i+=1\n",
    "#     6: drop words of < 4 characters, but not hashtags\n",
    "tweet_test = re.sub(r'\\b(?<!#)\\w{1,3}\\b','',tweet_test)\n",
    "print(f\"{i}: {tweet_test}\");i+=1\n",
    "#     7: drop numbers, but not hashtags\n",
    "tweet_test = re.sub(r'\\b(?<!#)\\d+\\b','',tweet_test)\n",
    "print(f\"{i}: {tweet_test}\");i+=1\n",
    "\n",
    "print(word_tokenize(tweet_test))"
   ]
  },
  {
   "cell_type": "code",
   "execution_count": 158,
   "metadata": {},
   "outputs": [
    {
     "name": "stdout",
     "output_type": "stream",
     "text": [
      "timestamp\n",
      "2017-09-10 00:03:40    #NaturalRemedies This Is the Only Product That...\n",
      "2017-09-10 00:03:40    TAGGED 2017  #1 @ US 1-Biscayne Blvd. https://...\n",
      "Name: tweet_text, dtype: object\n",
      "timestamp\n",
      "2017-09-10 00:03:40    [#naturalremedies, product, kills, viruses, fu...\n",
      "2017-09-10 00:03:40                        [tagged, #1, 1biscayne, blvd]\n",
      "Name: tweet_text, dtype: object\n"
     ]
    }
   ],
   "source": [
    "date_test = '2017-09-10 00:03:40'\n",
    "print(tweet_text.loc[date_test].apply(reduce_lengthening))\n",
    "print(tweet_text.loc[date_test].apply(tokens_no_stopwords))\n"
   ]
  },
  {
   "cell_type": "code",
   "execution_count": 32,
   "metadata": {},
   "outputs": [
    {
     "data": {
      "text/plain": [
       "Series([], Name: tweet_text, dtype: object)"
      ]
     },
     "execution_count": 32,
     "metadata": {},
     "output_type": "execute_result"
    }
   ],
   "source": [
    "tokenized_tweets[tokenized_tweets.apply(lambda x: '@' in x)]"
   ]
  },
  {
   "cell_type": "code",
   "execution_count": 149,
   "metadata": {},
   "outputs": [
    {
     "data": {
      "text/plain": [
       "16952"
      ]
     },
     "execution_count": 149,
     "metadata": {},
     "output_type": "execute_result"
    }
   ],
   "source": [
    "word_counts_full_token_clean.size"
   ]
  },
  {
   "cell_type": "code",
   "execution_count": 150,
   "metadata": {},
   "outputs": [
    {
     "data": {
      "text/plain": [
       "florida           1764\n",
       "#hurricaneirma    1615\n",
       "irma              1340\n",
       "hurricane         1294\n",
       "#irma             1189\n",
       "reports            809\n",
       "storm              742\n",
       "power              677\n",
       "rain               632\n",
       "like               628\n",
       "wind               628\n",
       "safe               619\n",
       "gust               552\n",
       "asos               544\n",
       "beach              531\n",
       "miami              531\n",
       "knots              509\n",
       "county             493\n",
       "still              491\n",
       "good               423\n",
       "dtype: int64"
      ]
     },
     "execution_count": 150,
     "metadata": {},
     "output_type": "execute_result"
    }
   ],
   "source": [
    "word_counts_full_token_clean.head(20)"
   ]
  },
  {
   "cell_type": "code",
   "execution_count": 151,
   "metadata": {},
   "outputs": [],
   "source": [
    "tweet_len = tweet_text.groupby(tweet_text.str.split().apply(len)).size()"
   ]
  },
  {
   "cell_type": "code",
   "execution_count": 152,
   "metadata": {},
   "outputs": [],
   "source": [
    "tweet_len_post = tweet_text.apply(tokens_no_stopwords).apply(len).value_counts().sort_index()"
   ]
  },
  {
   "cell_type": "code",
   "execution_count": 153,
   "metadata": {},
   "outputs": [
    {
     "data": {
      "text/plain": [
       "18109"
      ]
     },
     "execution_count": 153,
     "metadata": {},
     "output_type": "execute_result"
    }
   ],
   "source": [
    "tweet_len_post[tweet_len_post.index <= 10].sum()"
   ]
  },
  {
   "cell_type": "code",
   "execution_count": 154,
   "metadata": {},
   "outputs": [
    {
     "data": {
      "text/plain": [
       "19089"
      ]
     },
     "execution_count": 154,
     "metadata": {},
     "output_type": "execute_result"
    }
   ],
   "source": [
    "tweet_len_post.sum()"
   ]
  },
  {
   "cell_type": "code",
   "execution_count": 155,
   "metadata": {},
   "outputs": [
    {
     "data": {
      "text/plain": [
       "tweet_text\n",
       "1       37\n",
       "2      342\n",
       "3      622\n",
       "4      753\n",
       "5      815\n",
       "6      911\n",
       "7      956\n",
       "8     1052\n",
       "9     1121\n",
       "10    1022\n",
       "11    1020\n",
       "12    1040\n",
       "13     988\n",
       "14    1005\n",
       "15    1308\n",
       "16    1112\n",
       "17     876\n",
       "18     862\n",
       "19     736\n",
       "20     587\n",
       "21     493\n",
       "22     349\n",
       "23     317\n",
       "24     239\n",
       "25     151\n",
       "26     163\n",
       "27      70\n",
       "28      68\n",
       "29      33\n",
       "30      21\n",
       "31      12\n",
       "32       6\n",
       "33       2\n",
       "Name: tweet_text, dtype: int64"
      ]
     },
     "execution_count": 155,
     "metadata": {},
     "output_type": "execute_result"
    }
   ],
   "source": [
    "tweet_len"
   ]
  },
  {
   "cell_type": "code",
   "execution_count": 156,
   "metadata": {},
   "outputs": [
    {
     "data": {
      "text/plain": [
       "0      249\n",
       "1     1329\n",
       "2     1640\n",
       "3     1768\n",
       "4     2048\n",
       "5     1982\n",
       "6     2159\n",
       "7     2511\n",
       "8     2091\n",
       "9     1452\n",
       "10     880\n",
       "11     526\n",
       "12     257\n",
       "13     112\n",
       "14      61\n",
       "15      17\n",
       "16       5\n",
       "17       1\n",
       "18       1\n",
       "Name: tweet_text, dtype: int64"
      ]
     },
     "execution_count": 156,
     "metadata": {},
     "output_type": "execute_result"
    }
   ],
   "source": [
    "tweet_len_post"
   ]
  },
  {
   "cell_type": "code",
   "execution_count": 157,
   "metadata": {},
   "outputs": [
    {
     "data": {
      "image/png": "[encoded data removed]",
      "text/plain": [
       "<Figure size 1152x576 with 1 Axes>"
      ]
     },
     "metadata": {
      "needs_background": "light"
     },
     "output_type": "display_data"
    }
   ],
   "source": [
    "fig_4 = plt.figure(figsize=(16,8))\n",
    "plt.style.use('bmh')\n",
    "plt.rc('text', usetex=True)\n",
    "plt.rc('font', family='serif')\n",
    "plt.bar(tweet_len.index,tweet_len.values,alpha=.7,label=\"Tweets by length\")\n",
    "plt.bar(tweet_len_post.index,tweet_len_post.values,alpha=.7,label=\"Tweets by length (after cleaning)\")\n",
    "plt.xlabel(\"Quantity of Tokens Per Tweet\")\n",
    "plt.ylabel(\"Number of Tweets\")\n",
    "plt.title(\"Histogram of Tweets by Length (Token Quantity)\")\n",
    "plt.legend()\n",
    "plt.show()\n",
    "fig_4.savefig(f'./figures/TweetsByLength.pdf',bbox_inches='tight')"
   ]
  }
 ],
 "metadata": {
  "kernelspec": {
   "display_name": "Python 3",
   "language": "python",
   "name": "python3"
  },
  "language_info": {
   "codemirror_mode": {
    "name": "ipython",
    "version": 3
   },
   "file_extension": ".py",
   "mimetype": "text/x-python",
   "name": "python",
   "nbconvert_exporter": "python",
   "pygments_lexer": "ipython3",
   "version": "3.7.0"
  }
 },
 "nbformat": 4,
 "nbformat_minor": 2
}
