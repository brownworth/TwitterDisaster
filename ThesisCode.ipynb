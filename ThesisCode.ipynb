{
 "cells": [
  {
   "cell_type": "code",
   "execution_count": 46,
   "metadata": {},
   "outputs": [],
   "source": [
    "# import nltk\n",
    "# nltk.download('wordnet')\n",
    "# nltk.download('stopwords')"
   ]
  },
  {
   "cell_type": "code",
   "execution_count": 47,
   "metadata": {},
   "outputs": [],
   "source": [
    "import pandas as pd\n",
    "import numpy as np\n",
    "from gensim.models import Word2Vec\n",
    "# from nltk.tokenize import TweetTokenizer\n",
    "from nltk.tokenize.casual import reduce_lengthening\n",
    "# from nltk.tokenize import sent_tokenize, word_tokenize\n",
    "from nltk.corpus import stopwords\n",
    "from nltk.stem import PorterStemmer, WordNetLemmatizer\n",
    "from math import ceil\n",
    "from sklearn.metrics import (f1_score, classification_report, \n",
    "                            confusion_matrix, accuracy_score, \n",
    "                            precision_score, recall_score, \n",
    "                            roc_auc_score, roc_curve)\n",
    "from sklearn.preprocessing import label_binarize\n",
    "from scipy.spatial.distance import cosine\n",
    "import string\n",
    "from math import log10, sqrt\n",
    "from scipy.stats import norm\n",
    "import re\n",
    "import pickle\n",
    "import matplotlib.pyplot as plt\n",
    "%matplotlib inline"
   ]
  },
  {
   "cell_type": "markdown",
   "metadata": {},
   "source": [
    "## Importing Tweet Data\n",
    "***"
   ]
  },
  {
   "cell_type": "code",
   "execution_count": 48,
   "metadata": {},
   "outputs": [],
   "source": [
    "columns = ['tweet_id','timestamp','tweet_text','user_id',\n",
    "           'tweet_coords','tweet_coords_list','tweet_long','tweet_lat','location',\n",
    "           'enc_url','tweet_lang','hashtags']\n",
    "tweet_full = pd.read_csv(r'./tweetCoords.csv',\n",
    "                         header=None,\n",
    "                         names=columns,\n",
    "                         parse_dates=[1],\n",
    "                         infer_datetime_format=True,\n",
    "                         index_col='timestamp')"
   ]
  },
  {
   "cell_type": "code",
   "execution_count": 49,
   "metadata": {},
   "outputs": [],
   "source": [
    "related_words = pd.DataFrame()\n",
    "tweet_date = pd.to_datetime(\"2017-09-10 00:00:00\")\n",
    "date_delta = pd.Timedelta(\"24HR\")\n",
    "end_date = pd.to_datetime(\"2017-09-10 00:00:00\")"
   ]
  },
  {
   "cell_type": "code",
   "execution_count": 50,
   "metadata": {},
   "outputs": [],
   "source": [
    "tweet_full_en = tweet_full[tweet_full['tweet_lang'] == 'en']"
   ]
  },
  {
   "cell_type": "code",
   "execution_count": 51,
   "metadata": {},
   "outputs": [],
   "source": [
    "tweet_text = tweet_full_en.loc[tweet_date:tweet_date + date_delta,\"tweet_text\"]"
   ]
  },
  {
   "cell_type": "markdown",
   "metadata": {},
   "source": [
    "## Helper Functions\n",
    "***"
   ]
  },
  {
   "cell_type": "code",
   "execution_count": 52,
   "metadata": {},
   "outputs": [],
   "source": [
    "tweet_stops = stopwords.words('english')\n",
    "stemmer = PorterStemmer()\n",
    "\n",
    "def clean_tweet(tweet):\n",
    "##     takes input string and converts or removes characters depending on settings.\n",
    "##     returns a string\n",
    "##     convert case:\n",
    "    tweet = tweet.lower()\n",
    "##    remove URLs:\n",
    "    tweet = re.sub('https?://\\S+','',tweet)\n",
    "##     remove @mentions, including those with a leading '-' or '.' : \n",
    "    tweet = re.sub('[-\\.]?@\\w+','',tweet)\n",
    "##     remove non-hashtag punctuation:\n",
    "#     tweet = tweet.translate(tweet.maketrans('','',string.punctuation.replace(\"#\",\"\")))\n",
    "##     convert non-hashtag punctuation to whitespace:\n",
    "    tweet = tweet.translate(tweet.maketrans(string.punctuation.replace(\"#\",\"\"),\" \"*len(string.punctuation.replace(\"#\",\"\"))))\n",
    "#     remove non-hashtag '#'.\n",
    "    tweet = re.sub('\\B#\\B','',tweet)\n",
    "##     remove 'amp', 'gt', 'lt', indicating decoded ampersand, greater-than, less-than characters\n",
    "    tweet = re.sub(r'\\b(amp|gt|lt)\\b','',tweet)\n",
    "##     drop numbers and words of < 4 characters.\n",
    "#     tweet = re.sub(r'\\b(?<!#)\\w{1,3}\\b','',tweet)\n",
    "    tweet = re.sub(r'\\b(?<!#)\\d+\\b','',tweet)\n",
    "    return tweet\n",
    "\n",
    "def tokens_no_stopwords(tweet_as_string):\n",
    "#     wrapper function that combines the tokenizer, cleaner, and stopword removal.\n",
    "#     takes a string and returns a list of strings\n",
    "    cleaned_tweet = clean_tweet(tweet_as_string)\n",
    "    tweet_reduce_len = reduce_lengthening(cleaned_tweet)\n",
    "#     tweet_as_tokens = word_tokenize(tweet_reduce_len)\n",
    "    tweet_as_tokens = tweet_reduce_len.split()\n",
    "    tweet_no_stops = [stemmer.stem(word) for word in tweet_as_tokens if word not in tweet_stops]\n",
    "    \n",
    "    return tweet_no_stops"
   ]
  },
  {
   "cell_type": "markdown",
   "metadata": {},
   "source": [
    "## Miscellaneous Tests:\n",
    "***"
   ]
  },
  {
   "cell_type": "code",
   "execution_count": 53,
   "metadata": {},
   "outputs": [
    {
     "data": {
      "text/plain": [
       "'This is some     text that has   char  in it'"
      ]
     },
     "execution_count": 53,
     "metadata": {},
     "output_type": "execute_result"
    }
   ],
   "source": [
    "punc_test = \"This is some (&) text$that has &*char$ in it\"\n",
    "punc_test.translate(punc_test.maketrans(string.punctuation.replace(\"#\",\"\"),\" \"*len(string.punctuation.replace(\"#\",\"\"))))"
   ]
  },
  {
   "cell_type": "code",
   "execution_count": 54,
   "metadata": {},
   "outputs": [
    {
     "data": {
      "text/plain": [
       "'This is some  textthat has char in it'"
      ]
     },
     "execution_count": 54,
     "metadata": {},
     "output_type": "execute_result"
    }
   ],
   "source": [
    "punc_test.translate(punc_test.maketrans('','',string.punctuation.replace(\"#\",\"\")))"
   ]
  },
  {
   "cell_type": "code",
   "execution_count": 55,
   "metadata": {},
   "outputs": [],
   "source": [
    "# tweet_tokenizer = TweetTokenizer(strip_handles=True,preserve_case=False,reduce_len=True)"
   ]
  },
  {
   "cell_type": "code",
   "execution_count": 56,
   "metadata": {},
   "outputs": [
    {
     "name": "stdout",
     "output_type": "stream",
     "text": [
      "# #34 4#3 A#36 3 A! #hashtag\n",
      "# #34 4!3 A!36 3 A# #hashtag\n",
      "! #34 4#3 A#36 3 A# #hashtag\n"
     ]
    }
   ],
   "source": [
    "re_hash_test = '# #34 4#3 A#36 3 A# #hashtag'\n",
    "print(re.sub(r'\\b#\\B','!',re_hash_test))\n",
    "print(re.sub(r'\\b#\\b','!',re_hash_test))\n",
    "print(re.sub(r'\\B#\\B','!',re_hash_test))"
   ]
  },
  {
   "cell_type": "code",
   "execution_count": 57,
   "metadata": {},
   "outputs": [
    {
     "data": {
      "text/plain": [
       "['tweet', '#1', '#hashtag', '#123', '#12345', 'apm', 'yooo']"
      ]
     },
     "execution_count": 57,
     "metadata": {},
     "output_type": "execute_result"
    }
   ],
   "source": [
    "text=\"this is a tweet # #### ####1 #hashtag #123 #12345 apm yooooo\"\n",
    "tokens_no_stopwords(text)"
   ]
  },
  {
   "cell_type": "markdown",
   "metadata": {},
   "source": [
    "## Word/Token Statistics\n",
    "***"
   ]
  },
  {
   "cell_type": "code",
   "execution_count": 58,
   "metadata": {},
   "outputs": [],
   "source": [
    "word_counts = tweet_text.str.split(\"\\s+\").apply(pd.Series).stack().value_counts()"
   ]
  },
  {
   "cell_type": "code",
   "execution_count": 59,
   "metadata": {},
   "outputs": [
    {
     "data": {
      "text/plain": [
       "43387"
      ]
     },
     "execution_count": 59,
     "metadata": {},
     "output_type": "execute_result"
    }
   ],
   "source": [
    "word_counts.size"
   ]
  },
  {
   "cell_type": "code",
   "execution_count": 220,
   "metadata": {},
   "outputs": [
    {
     "data": {
      "text/plain": [
       "the        4900\n",
       "I          4133\n",
       "to         3853\n",
       "@          3337\n",
       "a          3020\n",
       "in         2998\n",
       "and        2843\n",
       "of         2796\n",
       "is         2619\n",
       "           2463\n",
       "for        1977\n",
       "my         1943\n",
       "s          1772\n",
       "you        1647\n",
       "Florida    1592\n",
       "this       1572\n",
       "on         1491\n",
       "t          1357\n",
       "from       1236\n",
       "it         1202\n",
       "dtype: int64"
      ]
     },
     "execution_count": 220,
     "metadata": {},
     "output_type": "execute_result"
    }
   ],
   "source": [
    "word_counts.head(20)"
   ]
  },
  {
   "cell_type": "code",
   "execution_count": 242,
   "metadata": {},
   "outputs": [
    {
     "data": {
      "text/plain": [
       "https://t.co/LWf9D6FgoZ    1\n",
       "#sandhillcrane             1\n",
       "https://t.co/24SO6FwgdR    1\n",
       "https://t.co/ZDeAoxNID8    1\n",
       "#Judaic                    1\n",
       "Annoyed                    1\n",
       "godddddddddd               1\n",
       "finals                     1\n",
       "https://t.co/BBKPlqfqwi    1\n",
       "#Honeyyyyyyyyy             1\n",
       "https://t.co/jwYAWhdYAG    1\n",
       "https://t.co/VXooDlHEsb    1\n",
       "@JeffAErickson             1\n",
       "LATER...                   1\n",
       "astronaut                  1\n",
       "https://t.co/FYgIsyj1GN    1\n",
       "#Parkland                  1\n",
       "https://t.co/9Eq0TcCWTC    1\n",
       "@sarp1112                  1\n",
       "https://t.co/I8XKaRFKFJ    1\n",
       "dtype: int64"
      ]
     },
     "execution_count": 242,
     "metadata": {},
     "output_type": "execute_result"
    }
   ],
   "source": [
    "word_counts.tail(20)"
   ]
  },
  {
   "cell_type": "code",
   "execution_count": 61,
   "metadata": {},
   "outputs": [],
   "source": [
    "# tweet_reduce_len = TweetTokenizer(reduce_len=True)\n",
    "word_counts_reduce = tweet_text.apply(reduce_lengthening).str.split().apply(pd.Series).stack().value_counts()"
   ]
  },
  {
   "cell_type": "code",
   "execution_count": 62,
   "metadata": {
    "scrolled": true
   },
   "outputs": [
    {
     "data": {
      "text/plain": [
       "43254"
      ]
     },
     "execution_count": 62,
     "metadata": {},
     "output_type": "execute_result"
    }
   ],
   "source": [
    "word_counts_reduce.size"
   ]
  },
  {
   "cell_type": "code",
   "execution_count": 63,
   "metadata": {},
   "outputs": [
    {
     "data": {
      "text/plain": [
       "array(['', '#Airborn....', '#AllRise....', '#Duuuuuvaaaaaal',\n",
       "       '#Honeyyyyyyyyy', '#JusticeRainsFraaahhhhhhhh', '#Miami.....',\n",
       "       '#OhFlorida....', '#ahhhhhhhh', '....', '.....', '......',\n",
       "       '.........', '..........................................',\n",
       "       '...........also', '........not', '.......ruffing', '.....I',\n",
       "       '.....i', '.....who', '....6pm', '....Christ', '....IM',\n",
       "       '....Sending', '....TCB', '....dont', '....prayers', '....ready',\n",
       "       '....real', '....so', '...soooo...NOT', '0-1....', '10000',\n",
       "       '100000', '1000000', '111st...WESTSIDE...smdh....', '333333',\n",
       "       '3am......', '77.......', '@KingCartaaaaa', '@PrettyBieberrrr',\n",
       "       '@_Eric____', '@__Poodaaaa', '@bbvanillaaaaa', '@brianabanksxxxx',\n",
       "       '@brimiiiii', '@natalaaaayyyy', 'AHHHHHHHHH', 'ALLLL', 'Aaaaaand',\n",
       "       'Aaaaand', 'Aaaaannnnnd', 'Aawwww', 'Aghhhhhhhh', 'Ahhhh',\n",
       "       'Ahhhhh', 'Amazing....This', 'America....tune',\n",
       "       'And......here......we........go', 'Andddd', 'Anddddd', 'Awwww',\n",
       "       'Ayyyy', 'BAAABAAYYYYYYY', 'BETTER.....This', 'BOOOOOOYYYY',\n",
       "       'BOREDDDDDDDDDDDDDDDDD', 'BRUHHHHHHH', 'BRUUUUUH',\n",
       "       'BYEEEEEEeeeEEEEeeeeEEE', 'Beach....#HurricaneIrma', 'Beasttttttt',\n",
       "       'Beauty....', 'Bill......lol', 'Bio.....I', 'Bitchhhh',\n",
       "       'Booooyyyy', 'Boyyyy', 'Brand.....The',\n",
       "       'Bro......................', 'Broooo....', 'Bruhhhhh',\n",
       "       'Bruuuuhhhh', 'Byeeeeeee', 'CABIIIIIN', 'CARLOOOOSSSS', 'CNA....I',\n",
       "       'Chris....', 'County....', 'DDUUUUVVAAAALLL', 'DEYYYYY',\n",
       "       'DUUUVVVVVAAAAALLLLL', 'Damnnn......', 'Damnnnn',\n",
       "       'Damnnnnn.......no', 'Ditto....and', 'ERRRRRRRYTHAAAANG',\n",
       "       'Exactttt', 'F-DUB....', 'FEEEEEVVVEEERRRR', 'FUCKKKKK',\n",
       "       'FULLEST....Mind', 'FUNNYYYYY', 'FUUUUUUUUUCK', 'Falcons....',\n",
       "       'Florida....', 'Fuhhhhh', 'Funktionhouse....', 'GOOOO',\n",
       "       'GOOOOOOOO', 'GOOOOOOOOOOOOOO', 'GREEAAAAT', 'GUYSSSSS',\n",
       "       'Game....Blouses', 'Garden....', 'Girlllllll', 'Girlllllll,',\n",
       "       'Gizzzzzzzateeeee', 'Godddd', 'Goooo', 'Gooood', 'Grrrr',\n",
       "       'Gusting....#HurricaneIrma', 'Heeeeeeey', 'Heyyyy', 'Hmmmm',\n",
       "       'Hmmmm..jst', 'Hyyyyyyeehhhh', 'IS....', 'ITTTTTT',\n",
       "       'Interesting....', 'Irma....', 'Irma.....', 'Irma....just',\n",
       "       'Irma....please', 'Irma....stay', 'Irrrrrrrrrmaaaaaaaaaa',\n",
       "       'JOOOOEEEEEEEEEEEEE', 'Jorddddddy',\n",
       "       'KKKKKKKKKKKKKKKKKKKKKKKKKKKKK', 'LESSSSS', 'LIFEEEE',\n",
       "       'LIIIIIFFFFE', 'LISTENNNNNN', 'LMAOOOO', 'LMFAAAAAAO',\n",
       "       'LMFAAAAOOOOO', 'LMFAOOOO', 'LMFAOOOOO', 'LMFAOOOOOO',\n",
       "       'LMFAOOOOOOOOO', 'LMFAOOOOOOOOOOOOOOOO',\n",
       "       'LMFAOOOOOOillbetherewatchingOOOOO', 'LOVEEEE', 'Laaaame',\n",
       "       'Lee....this', 'Lmaoooo', 'Lmfaoooo', 'Lmfaooooo', 'Lmfaoooooooo',\n",
       "       'Lmfaooooooooooooo', 'Loooonnggg', 'Loveeee', 'M....', 'MADDDD',\n",
       "       'MEEEEEEEEEEEEEEEEE', 'Maaaan', 'Mannnn', 'Meeeeeeeeee',\n",
       "       'Miami.....WE', 'Monday....versus', 'Nooooooooo', 'OHHHHHAGAWD',\n",
       "       'Ohhhhh...', 'Okkkk', 'Okkkkk', 'Omggggg', 'Oooohhhh', 'Oooooh',\n",
       "       'Ooooooooh', 'Oooooooooooh', 'Orrrrr', 'Pleasseeee',\n",
       "       'Pleeeeaaassse', 'Pplppppo', 'REAL.....', 'Runnnnnnnnnn',\n",
       "       'SAFE....', 'SAMEEEEE', 'SHITTTTT', 'SOOOOOOOOOO', 'STAAAAAAHP',\n",
       "       'Saturday....I', 'Seriously......', 'Shiiiid,', 'Shiiiiid.',\n",
       "       'So....is', 'Soooo', 'Sooooooo', 'Storm....', 'Sunday.....',\n",
       "       'THAAAAANK', 'THERE....', 'Time....', 'Tolbert......Shady',\n",
       "       'True....lmao', 'Tuesday....they', 'USA.....', 'Ugly.........HIT',\n",
       "       'Uiiiii', 'Ummmm', 'University....', 'WHOOOOO', 'WORDDDD',\n",
       "       'WTFFFFFFFFFF', 'WWWWWOOOOOOOW', 'Wait....where', 'Well....',\n",
       "       'West....', 'Wi-Fi////', 'Wind....', 'Woooow', 'YASSSSS',\n",
       "       'YAYYYYYY', 'YEEEEEEE', 'YIPPPYYYY', 'YOOOOOOO', 'Yallllll',\n",
       "       'Yasssss', 'Yeaahhhh', 'Yeah....', 'Yeeeeeeeaaahh',\n",
       "       'Yeeeeeeehawwww', 'Yesssss', 'Yoooo', 'Yooooo', 'Yurrrrrrrrt',\n",
       "       'aaaannnnddddd', 'affff', 'alone.....', 'already....', 'am....',\n",
       "       'appreciated....', 'arrived....', 'arrived.....', 'asleeeeep',\n",
       "       'babygirllll', 'babyyyy', 'bands.....', 'bayyyyyyy', 'bc.....',\n",
       "       'beachhhhhh', 'beautiful....', 'beer....it', 'before....',\n",
       "       'begins....', 'begins......', 'begins....I', 'behind....',\n",
       "       'bit.....', 'bitchhhh', 'bitchhhhhhhh', 'boredddd',\n",
       "       'boy.......#hurricaneirma', 'brew.....getting', 'broooo',\n",
       "       'bruhhhhhh', 'business....People', 'but....', 'button....',\n",
       "       'caaaaant', 'cameras.....', 'campaign....', 'cars....damn',\n",
       "       'certain.....fire', 'channel.....and', 'check.....', 'chilllll',\n",
       "       'chillllllll', 'circumstances.....', 'cityyyyyy', 'comes....',\n",
       "       'coming....', 'coming.....', 'coming....Sunday',\n",
       "       'commercial.......', 'conditions....', 'coziness....',\n",
       "       'curious....', 'currently....', 'days......', 'dayssss',\n",
       "       'deliverrrr', 'disasters....here', 'do....', 'do.....', 'dot....',\n",
       "       'doubt.....my', 'down....', 'down....be', 'down....if',\n",
       "       'downnnnnnn', 'electricity....let', 'era....', 'evening.....',\n",
       "       'ever.....#IrmaHurricane', 'faces......', 'fakeeee', 'far....',\n",
       "       'fast.......', 'fine....', 'finest.....', 'flickering....Shits',\n",
       "       'flickerrrrr', 'fml.......#hurricaneirma', 'freeeee', 'friendddd',\n",
       "       'ga....I', 'garbage......#hurricaneirma', 'ggggg', 'go....',\n",
       "       'godddddddddd', 'gone....', 'goooo', 'gooooo', 'hardddd',\n",
       "       'heartbreaking......', 'here....', 'here.....', 'here....I',\n",
       "       'hetic.....arggg', 'him....', 'hurricane.....one', 'idccccccc',\n",
       "       'iiiiight', 'indoors....I', 'insidious....', 'it....',\n",
       "       'it....lovely.', 'jate.............', 'kidddddd', 'know....',\n",
       "       'knows....', 'laid.....', 'liedddddd', 'lights......funk',\n",
       "       'like....', 'like.....', 'like......', 'line....',\n",
       "       'lineeeeeeeeeeee', 'listennnnnn', 'lmaoooo', 'lmaooooo',\n",
       "       'lmfaoooo', 'lobby....', 'lolllll', 'lolssss', 'loooong',\n",
       "       'looooong', 'loooooooow.', 'mamazzzz,', 'mannnn', 'maxxxxxxx',\n",
       "       'me....', 'me.....', 'me....like', 'meeee', 'meeeee',\n",
       "       'messages....', 'mins.....', 'minutes....', 'mmmm', 'mmmmmhm',\n",
       "       'mom.....', 'moment......#hurricaneirma', 'moment....sooo',\n",
       "       'monthly.....', 'more....', 'more....outer', 'morning....',\n",
       "       'morningggggg', 'naaaaasssstyyyyyy', 'nice......', 'niceeeee',\n",
       "       'night....', 'no.....', 'no....beautiful', 'nooooooo', 'not....',\n",
       "       'nothingggg', 'notice....', 'notice....out', 'now....',\n",
       "       'now......', 'nuts....', 'ocean......Cake', 'of....', 'off....',\n",
       "       'offffff', 'ok....', 'okay.....as', 'omgggg', 'one.....',\n",
       "       'ones..../', 'oommgggg', 'out..,.......house', 'out....',\n",
       "       'out....all', 'out....see', 'outside....', 'over....',\n",
       "       'people....', 'plzzzzz', 'point....i', 'postponed....',\n",
       "       'power....', 'profile....', 'purrrrrfect', 'radar....',\n",
       "       'rain....and', 'rain....we', 'real.....', 'reallllly',\n",
       "       'reason.....HE', 'remix....and', 'rest....Better',\n",
       "       'riiiiiiiiiiight', 'roadways....empty.', 'rocks....', 'rooooling',\n",
       "       'safe....for', 'said.....#HurrcaneIrma', 'sarahbaybayyyy',\n",
       "       'savages.....LETS', 'save....', 'say....', 'say.....',\n",
       "       'saying....', 'scary....stay', 'schmooooleeeeyyyy', 'shhhhsing',\n",
       "       'shiiiittt', 'shit......', 'shitttt', 'shittttt', 'shleeeep',\n",
       "       'sighting......', 'situation.....', 'sleeps....', 'slow....',\n",
       "       'smhhhh', 'so.....', 'soooo', 'sooooo', 'soooooo', 'sooooooo',\n",
       "       'soooooooooo', 'sooooooooooooooooooOoOooOooOo', 'staaaapppp',\n",
       "       'started....here', 'storm....', 'storm....In',\n",
       "       'terrors........literally', 'them....', 'there....',\n",
       "       'these.......', 'this....', 'this.....', 'thoooo', 'time....',\n",
       "       'time.....', 'time.....#irma', 'today....', 'tomorrow....',\n",
       "       'tonight....', 'tonight....#fitbitchallengegroup', 'tonight.....',\n",
       "       'toooo', 'topic.....', 'true....', 'twitter....', 'ughhhh',\n",
       "       'uhhhh', 'um.....', 'ummmmm', 'universal....', 'up.....',\n",
       "       'up......', 'up....and', 'up....just', 'up...ahhhh',\n",
       "       'vacuuming....dog', 'verified.......', 'vibeeee', 'view,,,,',\n",
       "       'view....', 'vigilant....The', 'waaaaay', 'waaayyyy', 'wait.....',\n",
       "       'wait......', 'waitinnnn', 'wanttttt', 'warning....', 'water....',\n",
       "       'wayyyyy', 'weekend.....', 'what....', 'wholeeee',\n",
       "       'whooooowheeeeey', 'wild........prayers', 'wilma....love',\n",
       "       'wind....', 'windy....', 'windy.....I', 'word......', 'wowwwwww',\n",
       "       'writer......', 'yaaaaaa', 'yard....', 'yassss', 'yeeeeeeah',\n",
       "       'yesterday.....', 'yet....listening', 'yooooooooooo', 'you....',\n",
       "       'youuuuu', 'zoooo'], dtype=object)"
      ]
     },
     "execution_count": 63,
     "metadata": {},
     "output_type": "execute_result"
    }
   ],
   "source": [
    "np.setdiff1d(word_counts.index.values,word_counts_reduce.index.values)"
   ]
  },
  {
   "cell_type": "code",
   "execution_count": 64,
   "metadata": {},
   "outputs": [
    {
     "data": {
      "text/plain": [
       "the        4900\n",
       "I          4133\n",
       "to         3853\n",
       "@          3337\n",
       "a          3020\n",
       "in         2998\n",
       "and        2843\n",
       "of         2796\n",
       "is         2619\n",
       "for        1977\n",
       "my         1943\n",
       "s          1772\n",
       "you        1647\n",
       "Florida    1592\n",
       "this       1572\n",
       "on         1491\n",
       "t          1357\n",
       "from       1236\n",
       "it         1202\n",
       "at         1129\n",
       "dtype: int64"
      ]
     },
     "execution_count": 64,
     "metadata": {},
     "output_type": "execute_result"
    }
   ],
   "source": [
    "word_counts_reduce.head(20)"
   ]
  },
  {
   "cell_type": "code",
   "execution_count": 65,
   "metadata": {},
   "outputs": [],
   "source": [
    "# word_counts_full_tokenizer = tweet_text.apply(tweet_tokenizer.tokenize).apply(pd.Series).stack().value_counts()"
   ]
  },
  {
   "cell_type": "code",
   "execution_count": 66,
   "metadata": {},
   "outputs": [],
   "source": [
    "# word_counts_full_tokenizer.size"
   ]
  },
  {
   "cell_type": "code",
   "execution_count": 67,
   "metadata": {},
   "outputs": [],
   "source": [
    "# word_counts_full_tokenizer.head(20)"
   ]
  },
  {
   "cell_type": "code",
   "execution_count": 68,
   "metadata": {},
   "outputs": [],
   "source": [
    "tokenized_tweets = tweet_text.apply(tokens_no_stopwords)"
   ]
  },
  {
   "cell_type": "code",
   "execution_count": 69,
   "metadata": {},
   "outputs": [],
   "source": [
    "# tweet_test = tweet_text.loc['2017-09-10 00:03:40'][1]\n",
    "# print(tweet_test)\n",
    "# tweet_test = tweet_test.lower()\n",
    "# print(word_tokenize(tweet_test))\n",
    "# print(tweet_test.split())\n",
    "# i=0\n",
    "# print(f\"S: {tweet_test}\");i+=1\n",
    "# #     1: remove URLs:\n",
    "# tweet_test = re.sub('https?://\\S+','',tweet_test)\n",
    "# print(f\"{i}: {tweet_test}\");i+=1\n",
    "# #     2: remove @mentions, including those with a leading '-' or '.' : \n",
    "# tweet_test = re.sub('[-\\.]?@\\w+','',tweet_test)\n",
    "# print(f\"{i}: {tweet_test}\");i+=1\n",
    "# #     3: remove punctuation, but not hashtags:\n",
    "# tweet_test = tweet_test.translate(tweet_test.maketrans('','',string.punctuation.replace(\"#\",\"\")))\n",
    "# print(f\"{i}: {tweet_test}\");i+=1\n",
    "# #     4: remove non-hashtag '#'.\n",
    "# # tweet_test = re.sub('#\\B','',tweet_test)\n",
    "# print(f\"{i}: {tweet_test}\");i+=1\n",
    "# #     5: remove 'amp', 'gt', 'lt', indicating decoded ampersand, greater-than, less-than characters\n",
    "# # tweet_test = re.sub(r'\\b(amp|gt|lt)\\b','',tweet_test)\n",
    "# print(f\"{i}: {tweet_test}\");i+=1\n",
    "# #     6: drop words of < 4 characters, but not hashtags\n",
    "# tweet_test = re.sub(r'\\b(?<!#)\\w{1,3}\\b','',tweet_test)\n",
    "# print(f\"{i}: {tweet_test}\");i+=1\n",
    "# #     7: drop numbers, but not hashtags\n",
    "# tweet_test = re.sub(r'\\b(?<!#)\\d+\\b','',tweet_test)\n",
    "# print(f\"{i}: {tweet_test}\");i+=1\n",
    "\n",
    "# print(word_tokenize(tweet_test))\n",
    "# print(tokens_no_stopwords(tweet_test))"
   ]
  },
  {
   "cell_type": "code",
   "execution_count": 70,
   "metadata": {},
   "outputs": [
    {
     "name": "stdout",
     "output_type": "stream",
     "text": [
      "timestamp\n",
      "2017-09-10 00:03:40    #NaturalRemedies This Is the Only Product That...\n",
      "2017-09-10 00:03:40    TAGGED 2017  #1 @ US 1-Biscayne Blvd. https://...\n",
      "Name: tweet_text, dtype: object\n",
      "timestamp\n",
      "2017-09-10 00:03:40    [#naturalremedi, product, kill, virus, fungal,...\n",
      "2017-09-10 00:03:40                         [tag, #1, us, biscayn, blvd]\n",
      "Name: tweet_text, dtype: object\n"
     ]
    }
   ],
   "source": [
    "date_test = '2017-09-10 00:03:40'\n",
    "print(tweet_text.loc[date_test].apply(reduce_lengthening))\n",
    "print(tweet_text.loc[date_test].apply(tokens_no_stopwords))"
   ]
  },
  {
   "cell_type": "code",
   "execution_count": 71,
   "metadata": {},
   "outputs": [
    {
     "data": {
      "text/plain": [
       "Series([], Name: tweet_text, dtype: object)"
      ]
     },
     "execution_count": 71,
     "metadata": {},
     "output_type": "execute_result"
    }
   ],
   "source": [
    "tokenized_tweets[tokenized_tweets.apply(lambda x: '@' in x)]"
   ]
  },
  {
   "cell_type": "code",
   "execution_count": 72,
   "metadata": {},
   "outputs": [],
   "source": [
    "word_counts_full_token_clean = tweet_text.apply(tokens_no_stopwords).apply(pd.Series).stack().value_counts()"
   ]
  },
  {
   "cell_type": "code",
   "execution_count": 73,
   "metadata": {},
   "outputs": [
    {
     "data": {
      "text/plain": [
       "14439"
      ]
     },
     "execution_count": 73,
     "metadata": {},
     "output_type": "execute_result"
    }
   ],
   "source": [
    "word_counts_full_token_clean.size"
   ]
  },
  {
   "cell_type": "code",
   "execution_count": 74,
   "metadata": {},
   "outputs": [
    {
     "data": {
      "text/plain": [
       "florida           1809\n",
       "#hurricaneirma    1623\n",
       "fl                1587\n",
       "irma              1374\n",
       "hurrican          1360\n",
       "#irma             1193\n",
       "wind               946\n",
       "get                936\n",
       "report             886\n",
       "go                 830\n",
       "storm              775\n",
       "power              715\n",
       "miami              705\n",
       "rain               682\n",
       "mph                661\n",
       "like               657\n",
       "beach              656\n",
       "gust               655\n",
       "safe               633\n",
       "aso                544\n",
       "dtype: int64"
      ]
     },
     "execution_count": 74,
     "metadata": {},
     "output_type": "execute_result"
    }
   ],
   "source": [
    "word_counts_full_token_clean.head(20)"
   ]
  },
  {
   "cell_type": "code",
   "execution_count": 243,
   "metadata": {},
   "outputs": [
    {
     "data": {
      "text/plain": [
       "hurrecan              1\n",
       "barrow                1\n",
       "saturnia              1\n",
       "#grillingem           1\n",
       "#keydeer              1\n",
       "#portrait             1\n",
       "cheapen               1\n",
       "#hurricaneirmababi    1\n",
       "#unsignedartist       1\n",
       "abc7                  1\n",
       "hamilton              1\n",
       "#reloc                1\n",
       "timer                 1\n",
       "ideal                 1\n",
       "tart                  1\n",
       "ning                  1\n",
       "gawd                  1\n",
       "#313                  1\n",
       "geeesh                1\n",
       "#finalcutpro          1\n",
       "dtype: int64"
      ]
     },
     "execution_count": 243,
     "metadata": {},
     "output_type": "execute_result"
    }
   ],
   "source": [
    "word_counts_full_token_clean.tail(20)"
   ]
  },
  {
   "cell_type": "code",
   "execution_count": 75,
   "metadata": {},
   "outputs": [],
   "source": [
    "tweet_len = tweet_text.groupby(tweet_text.str.split().apply(len)).size()"
   ]
  },
  {
   "cell_type": "code",
   "execution_count": 76,
   "metadata": {},
   "outputs": [],
   "source": [
    "tweet_len_post = tweet_text.apply(tokens_no_stopwords).apply(len).value_counts().sort_index()"
   ]
  },
  {
   "cell_type": "code",
   "execution_count": 77,
   "metadata": {},
   "outputs": [
    {
     "data": {
      "text/plain": [
       "15971"
      ]
     },
     "execution_count": 77,
     "metadata": {},
     "output_type": "execute_result"
    }
   ],
   "source": [
    "tweet_len_post[tweet_len_post.index <= 10].sum()"
   ]
  },
  {
   "cell_type": "code",
   "execution_count": 78,
   "metadata": {},
   "outputs": [
    {
     "data": {
      "text/plain": [
       "19089"
      ]
     },
     "execution_count": 78,
     "metadata": {},
     "output_type": "execute_result"
    }
   ],
   "source": [
    "tweet_len_post.sum()"
   ]
  },
  {
   "cell_type": "code",
   "execution_count": 79,
   "metadata": {},
   "outputs": [
    {
     "data": {
      "text/plain": [
       "tweet_text\n",
       "1       37\n",
       "2      342\n",
       "3      622\n",
       "4      753\n",
       "5      815\n",
       "6      911\n",
       "7      956\n",
       "8     1052\n",
       "9     1121\n",
       "10    1022\n",
       "11    1020\n",
       "12    1040\n",
       "13     988\n",
       "14    1005\n",
       "15    1308\n",
       "16    1112\n",
       "17     876\n",
       "18     862\n",
       "19     736\n",
       "20     587\n",
       "21     493\n",
       "22     349\n",
       "23     317\n",
       "24     239\n",
       "25     151\n",
       "26     163\n",
       "27      70\n",
       "28      68\n",
       "29      33\n",
       "30      21\n",
       "31      12\n",
       "32       6\n",
       "33       2\n",
       "Name: tweet_text, dtype: int64"
      ]
     },
     "execution_count": 79,
     "metadata": {},
     "output_type": "execute_result"
    }
   ],
   "source": [
    "tweet_len"
   ]
  },
  {
   "cell_type": "code",
   "execution_count": 80,
   "metadata": {
    "scrolled": false
   },
   "outputs": [
    {
     "data": {
      "text/plain": [
       "0       91\n",
       "1      874\n",
       "2     1402\n",
       "3     1565\n",
       "4     1745\n",
       "5     1854\n",
       "6     1800\n",
       "7     1812\n",
       "8     1865\n",
       "9     1684\n",
       "10    1279\n",
       "11    1278\n",
       "12     870\n",
       "13     526\n",
       "14     206\n",
       "15     117\n",
       "16      73\n",
       "17      26\n",
       "18      14\n",
       "19       6\n",
       "20       2\n",
       "Name: tweet_text, dtype: int64"
      ]
     },
     "execution_count": 80,
     "metadata": {},
     "output_type": "execute_result"
    }
   ],
   "source": [
    "tweet_len_post"
   ]
  },
  {
   "cell_type": "code",
   "execution_count": 221,
   "metadata": {},
   "outputs": [
    {
     "data": {
      "text/plain": [
       "15971"
      ]
     },
     "execution_count": 221,
     "metadata": {},
     "output_type": "execute_result"
    }
   ],
   "source": [
    "tweet_len_post[tweet_len_post.index < 11].sum()"
   ]
  },
  {
   "cell_type": "code",
   "execution_count": 81,
   "metadata": {},
   "outputs": [
    {
     "data": {
      "text/plain": [
       "0.8366598564618367"
      ]
     },
     "execution_count": 81,
     "metadata": {},
     "output_type": "execute_result"
    }
   ],
   "source": [
    "tweet_len_post[tweet_len_post.index < 11].sum()/tweet_len_post.sum()"
   ]
  },
  {
   "cell_type": "code",
   "execution_count": 82,
   "metadata": {
    "scrolled": false
   },
   "outputs": [
    {
     "data": {
      "image/png": "[encoded data removed]",
      "text/plain": [
       "<Figure size 1152x576 with 1 Axes>"
      ]
     },
     "metadata": {
      "needs_background": "light"
     },
     "output_type": "display_data"
    }
   ],
   "source": [
    "fig_tweet_hist = plt.figure(figsize=(16,8))\n",
    "plt.style.use('bmh')\n",
    "plt.rc('text', usetex=True)\n",
    "plt.rc('font', family='serif')\n",
    "plt.bar(tweet_len.index,tweet_len.values,alpha=.7,label=\"Tweets by length\")\n",
    "plt.bar(tweet_len_post.index,tweet_len_post.values,alpha=.7,label=\"Tweets by length (after cleaning)\")\n",
    "plt.xlabel(\"Quantity of Tokens Per Tweet\")\n",
    "plt.ylabel(\"Number of Tweets\")\n",
    "plt.title(\"Histogram of Tweets by Length (Token Quantity)\")\n",
    "plt.legend()\n",
    "plt.show()\n",
    "fig_tweet_hist.savefig(f'./figures/TweetsByLength.pdf',bbox_inches='tight')"
   ]
  },
  {
   "cell_type": "markdown",
   "metadata": {},
   "source": [
    "## Skip-Gram"
   ]
  },
  {
   "cell_type": "markdown",
   "metadata": {},
   "source": [
    "### Search Term"
   ]
  },
  {
   "cell_type": "code",
   "execution_count": 83,
   "metadata": {},
   "outputs": [],
   "source": [
    "search_term = 'irma'"
   ]
  },
  {
   "cell_type": "markdown",
   "metadata": {},
   "source": [
    "### Window Size: 1-10"
   ]
  },
  {
   "cell_type": "code",
   "execution_count": 84,
   "metadata": {},
   "outputs": [],
   "source": [
    "# comparison_type = \"Min. Word Freq.\"\n",
    "# comparison_short = \"MinWordFreq\"\n",
    "comparison_type = \"Window Size\"\n",
    "comparison_short = \"WindowSize\""
   ]
  },
  {
   "cell_type": "code",
   "execution_count": 223,
   "metadata": {},
   "outputs": [],
   "source": [
    "# eliminating the off-by-one error in the loop later. This will have a zero row, unfilled by vectors.\n",
    "vectors_series = pd.Series(np.zeros((12)))"
   ]
  },
  {
   "cell_type": "code",
   "execution_count": 224,
   "metadata": {},
   "outputs": [],
   "source": [
    "tweet_text = tweet_full_en.loc[tweet_date:tweet_date + date_delta,\"tweet_text\"]\n",
    "tweets_tokens = tweet_text.apply(tokens_no_stopwords)\n",
    "for i in range(0,11):\n",
    "    # ---------- Skip-Gram ----------\n",
    "    # initialize the Word2Vec vectors with window size i, min count 1, and Skip-Gram\n",
    "    vector_model = Word2Vec(tweets_tokens, min_count=0, window=8, workers=1, size=100, seed=1, sg=1, negative=i)\n",
    "    \n",
    "    # train the model over 10 epochs\n",
    "    vector_model.train(tweets_tokens, total_examples=len(tweet_text), epochs=10)\n",
    "    \n",
    "    # assign the vector data to its position in a series\n",
    "    vectors_series.iloc[i] = vector_model"
   ]
  },
  {
   "cell_type": "code",
   "execution_count": 87,
   "metadata": {},
   "outputs": [],
   "source": [
    "coded_tweets = pd.read_csv(r'./irma_related_tweets.csv')\n",
    "\n",
    "tweets_on_date = tweet_full_en.loc[tweet_date:tweet_date+date_delta]\n",
    "\n",
    "tweet_encoded = pd.concat([coded_tweets.reset_index(),tweets_on_date.iloc[:-1].reset_index()],axis=1)"
   ]
  },
  {
   "cell_type": "markdown",
   "metadata": {},
   "source": [
    "### Network Graphs"
   ]
  },
  {
   "cell_type": "code",
   "execution_count": 88,
   "metadata": {},
   "outputs": [],
   "source": [
    "# tweet_text = tweet_full_en.loc[tweet_date:tweet_date + date_delta,\"tweet_text\"]\n",
    "# tweets_tokens = tweet_text.apply(tokens_no_stopwords)\n",
    "\n",
    "# # ---------- Skip-Gram ----------\n",
    "# # initialize the Word2Vec vectors with window size i, min count 1, and Skip-Gram\n",
    "# vector_model = Word2Vec(tweets_tokens, min_count=1, window=5, workers=1, size=100, seed=1, sg=1, negative=1)\n",
    "\n",
    "# # train the model over 10 epochs\n",
    "# vector_model.train(tweets_tokens, total_examples=len(tweet_text), epochs=10)\n",
    "\n",
    "# # assign the vector data to its position in a series\n",
    "# # vectors_series.iloc[i] = vector_model"
   ]
  },
  {
   "cell_type": "code",
   "execution_count": 89,
   "metadata": {},
   "outputs": [],
   "source": [
    "# len(vector_model.wv.vocab) == word_counts_full_token_clean.size"
   ]
  },
  {
   "cell_type": "code",
   "execution_count": 90,
   "metadata": {},
   "outputs": [],
   "source": [
    "# set(word_counts_full_token_clean.index) == set(vector_model.wv.vocab.keys())"
   ]
  },
  {
   "cell_type": "code",
   "execution_count": 91,
   "metadata": {},
   "outputs": [],
   "source": [
    "# list(vector_model.wv.vocab.keys())"
   ]
  },
  {
   "cell_type": "code",
   "execution_count": 92,
   "metadata": {},
   "outputs": [],
   "source": [
    "# for i in word_counts_full_token_clean.iteritems():\n",
    "#     print(i[1])"
   ]
  },
  {
   "cell_type": "code",
   "execution_count": 93,
   "metadata": {},
   "outputs": [],
   "source": [
    "# import networkx as nx\n",
    "# from itertools import combinations\n",
    "# word_pairs = list(combinations(list(vector_model.wv.vocab.keys()),2))\n",
    "# tweet_graph = nx.Graph()\n",
    "# tweet_graph.add_nodes_from(word_counts_full_token_clean.iteritems())\n",
    "# for pair in word_pairs:\n",
    "#     edge_weight = vector_model.wv.similarity(pair[0],pair[1])\n",
    "# # #     if edge_weight > .80:\n",
    "#     tweet_graph.add_edge(pair[0],pair[1],weight=edge_weight)\n",
    "        \n",
    "       \n",
    "        "
   ]
  },
  {
   "cell_type": "code",
   "execution_count": 94,
   "metadata": {},
   "outputs": [],
   "source": [
    "# nx.write_gexf(tweet_graph,path=r'./tweet_graph.gexf')"
   ]
  },
  {
   "cell_type": "code",
   "execution_count": 95,
   "metadata": {},
   "outputs": [],
   "source": [
    "# len(word_pairs)"
   ]
  },
  {
   "cell_type": "code",
   "execution_count": 96,
   "metadata": {},
   "outputs": [],
   "source": [
    "# tweet_graph.nodes"
   ]
  },
  {
   "cell_type": "markdown",
   "metadata": {},
   "source": [
    "### Comparison Functions"
   ]
  },
  {
   "cell_type": "markdown",
   "metadata": {},
   "source": [
    "Need a way to write the comparison functions with a larger function that calls them.\n",
    "\n",
    "how about writing the functions as separate, with a larger function that calls the smaller functions with an argument.\n",
    "\n",
    "1 Mean Cosine Similarity\n",
    "2 Sum Cosine Similarity Over Square Root of Length\n",
    "3 Dot Product of Tweet As Matrix Sum of Term Vectors and Search Term\n",
    "4 Cosine Similarity of Tweet As Matrix Sum of Term Vectors and Search Term"
   ]
  },
  {
   "cell_type": "code",
   "execution_count": 97,
   "metadata": {},
   "outputs": [],
   "source": [
    "def meanCosSim(tweet,vector_set):\n",
    "    tweet_as_terms = tokens_no_stopwords(tweet)\n",
    "    score = 0\n",
    "    for i in tweet_as_terms:\n",
    "        if i in vector_set.wv.vocab:\n",
    "            score += vector_set.wv.similarity(i,search_term)\n",
    "    if len(tweet_as_terms) > 0:\n",
    "        score /= len(tweet_as_terms)\n",
    "    else:\n",
    "        score = 0\n",
    "    return score"
   ]
  },
  {
   "cell_type": "code",
   "execution_count": 98,
   "metadata": {},
   "outputs": [],
   "source": [
    "def sumCosSimSqrtSum(tweet,vector_set):\n",
    "    tweet_as_terms = tokens_no_stopwords(tweet)\n",
    "    score = 0\n",
    "    for i in tweet_as_terms:\n",
    "        if i in vector_set.wv.vocab:\n",
    "            score += vector_set.wv.similarity(i,search_term)\n",
    "    if len(tweet_as_terms) > 0:\n",
    "        score /= sqrt(len(tweet_as_terms))\n",
    "    else:\n",
    "        score = 0\n",
    "    return score"
   ]
  },
  {
   "cell_type": "code",
   "execution_count": 99,
   "metadata": {},
   "outputs": [],
   "source": [
    "def dotProductOfTweetMatrixTermVector(tweet,vector_set):\n",
    "    tweet_as_terms = tokens_no_stopwords(tweet)\n",
    "#     initialize vector with dimensionality of the vector set.\n",
    "    vector_dim = len(vector_set.wv.vectors[0])\n",
    "    score_matrix = np.zeros(vector_dim,) \n",
    "#     iterate over each word after processing. If the word is in the vocabulary,\n",
    "#     add its vector's value to the score matrix.\n",
    "#     this essentially treats a word not in the vocabulary as a zero-vector.\n",
    "    for i in tweet_as_terms:\n",
    "        if i in vector_set.wv.vocab:\n",
    "            score_matrix = np.add(score_matrix,vector_set.wv.get_vector(i))\n",
    "#     if the number of words remaining in the tweet after processing is equal to zero, return zero.\n",
    "#     otherwise, take the dot product of the score vector, and the vector of the search term.\n",
    "    if len(tweet_as_terms) > 0:\n",
    "        score = np.dot(score_matrix,vector_set.wv.get_vector(search_term))\n",
    "    else:\n",
    "        score = 0\n",
    "    return score"
   ]
  },
  {
   "cell_type": "code",
   "execution_count": 100,
   "metadata": {},
   "outputs": [],
   "source": [
    "def cosSimOfTweetMatrixTermVector(tweet,vector_set):\n",
    "    tweet_as_terms = tokens_no_stopwords(tweet)\n",
    "#     initialize vector with dimensionality of the vector set.\n",
    "    vector_dim = len(vector_set.wv.vectors[0])\n",
    "    score_matrix = np.zeros(vector_dim,) \n",
    "#     iterate over each word after processing. If the word is in the vocabulary,\n",
    "#     add its vector's value to the score matrix.\n",
    "#     this essentially treats a word not in the vocabulary as a zero-vector.\n",
    "    for i in tweet_as_terms:\n",
    "        if i in vector_set.wv.vocab:\n",
    "            score_matrix = np.add(score_matrix,vector_set.wv.get_vector(i))\n",
    "#     if the number of words remaining in the tweet after processing is equal to zero, return zero.\n",
    "#     otherwise, take the pairwise cosine of the score vector and the vector of the search term.\n",
    "    if len(tweet_as_terms) > 0:\n",
    "        score = 1 - cosine(score_matrix,vector_set.wv.get_vector(search_term))\n",
    "    else:\n",
    "        score = 0\n",
    "    return score"
   ]
  },
  {
   "cell_type": "markdown",
   "metadata": {},
   "source": [
    "Wrapper Function for the scalar comparison formulas:"
   ]
  },
  {
   "cell_type": "code",
   "execution_count": 154,
   "metadata": {},
   "outputs": [],
   "source": [
    "def scalarFunctions(tweet,vector_set,formula='dp'):\n",
    "    if(formula.upper() == 'DP'):\n",
    "        return dotProductOfTweetMatrixTermVector(tweet,vector_set)\n",
    "    elif(formula.upper() == 'MCS'):\n",
    "        return meanCosSim(tweet,vector_set)\n",
    "    elif(formula.upper() == 'SCSSC'):\n",
    "        return sumCosSimSqrtSum(tweet,vector_set)\n",
    "    elif(formula.upper() == 'CSTVS'):\n",
    "        return cosSimOfTweetMatrixTermVector(tweet,vector_set)\n",
    "    else:\n",
    "        return np.NaN"
   ]
  },
  {
   "cell_type": "code",
   "execution_count": 116,
   "metadata": {},
   "outputs": [
    {
     "data": {
      "text/plain": [
       "0.3332901015877724"
      ]
     },
     "execution_count": 116,
     "metadata": {},
     "output_type": "execute_result"
    }
   ],
   "source": [
    "scalarFunctions(tweets_on_date.iloc[0,1],vectors_series[1],'mcs')"
   ]
  },
  {
   "cell_type": "code",
   "execution_count": null,
   "metadata": {},
   "outputs": [],
   "source": [
    "# func_type = \"Mean Cosine Similarity\"\n",
    "# func_short = \"MeanCosSim\"\n",
    "# def ScoreTweetFromVectors(tweet,vector_set):\n",
    "#     tweet_as_terms = tokens_no_stopwords(tweet)\n",
    "#     score = 0\n",
    "#     for i in tweet_as_terms:\n",
    "#         if i in vector_set.wv.vocab:\n",
    "#             score += vector_set.wv.similarity(i,search_term)\n",
    "#     if len(tweet_as_terms) > 0:\n",
    "#         score /= len(tweet_as_terms)\n",
    "#     else:\n",
    "#         score = 0\n",
    "#     return score"
   ]
  },
  {
   "cell_type": "code",
   "execution_count": null,
   "metadata": {},
   "outputs": [],
   "source": [
    "# from math import sqrt\n",
    "# func_type = \"Sum Score over Sqrt Cos. Sim.\"\n",
    "# func_short = \"SumOverSqrtLen\"\n",
    "# def ScoreTweetFromVectors(tweet,vector_set):\n",
    "#     tweet_as_terms = tokens_no_stopwords(tweet)\n",
    "#     score = 0\n",
    "#     for i in tweet_as_terms:\n",
    "#         if i in vector_set.wv.vocab:\n",
    "#             score += vector_set.wv.similarity(i,search_term)\n",
    "#     if len(tweet_as_terms) > 0:\n",
    "#         score /= sqrt(len(tweet_as_terms))\n",
    "#     else:\n",
    "#         score = 0\n",
    "#     return score"
   ]
  },
  {
   "cell_type": "code",
   "execution_count": 118,
   "metadata": {},
   "outputs": [],
   "source": [
    "func_type = \"Dot Product of Tweet Vector and Search Term\"\n",
    "func_short = \"DotProduct\"\n",
    "def ScoreTweetFromVectors(tweet,vector_set):\n",
    "    tweet_as_terms = tokens_no_stopwords(tweet)\n",
    "#     initialize vector with dimensionality of the vector set.\n",
    "    vector_dim = len(vector_set.wv.vectors[0])\n",
    "    score_matrix = np.zeros(vector_dim,) \n",
    "#     iterate over each word after processing. If the word is in the vocabulary,\n",
    "#     add its vector's value to the score matrix.\n",
    "#     this essentially treats a word not in the vocabulary as a zero-vector.\n",
    "    for i in tweet_as_terms:\n",
    "        if i in vector_set.wv.vocab:\n",
    "            score_matrix = np.add(score_matrix,vector_set.wv.get_vector(i))\n",
    "#     if the number of words remaining in the tweet after processing is equal to zero, return zero.\n",
    "#     otherwise, take the dot product of the score vector, and the vector of the search term.\n",
    "    if len(tweet_as_terms) > 0:\n",
    "        score = np.dot(score_matrix,vector_set.wv.get_vector(search_term))\n",
    "    else:\n",
    "        score = 0\n",
    "    return score"
   ]
  },
  {
   "cell_type": "code",
   "execution_count": null,
   "metadata": {},
   "outputs": [],
   "source": [
    "# func_type = \"Cosine Similarity of Tweet Vector Sum and Search Term\"\n",
    "# func_short = \"CosSimTweetVecSum\"\n",
    "# def ScoreTweetFromVectorsCSTVS(tweet,vector_set):\n",
    "#     tweet_as_terms = tokens_no_stopwords(tweet)\n",
    "# #     initialize vector with dimensionality of the vector set.\n",
    "#     vector_dim = len(vector_set.wv.vectors[0])\n",
    "#     score_matrix = np.zeros(vector_dim,) \n",
    "# #     iterate over each word after processing. If the word is in the vocabulary,\n",
    "# #     add its vector's value to the score matrix.\n",
    "# #     this essentially treats a word not in the vocabulary as a zero-vector.\n",
    "#     for i in tweet_as_terms:\n",
    "#         if i in vector_set.wv.vocab:\n",
    "#             score_matrix = np.add(score_matrix,vector_set.wv.get_vector(i))\n",
    "# #     if the number of words remaining in the tweet after processing is equal to zero, return zero.\n",
    "# #     otherwise, take the pairwise cosine of the score vector and the vector of the search term.\n",
    "#     if len(tweet_as_terms) > 0:\n",
    "#         score = 1 - cosine(score_matrix,vector_set.wv.get_vector(search_term))\n",
    "#     else:\n",
    "#         score = 0\n",
    "#     return score"
   ]
  },
  {
   "cell_type": "code",
   "execution_count": 123,
   "metadata": {},
   "outputs": [
    {
     "data": {
      "text/plain": [
       "0    1.053956\n",
       "1    1.276411\n",
       "2    1.945913\n",
       "3    1.590526\n",
       "4    1.259488\n",
       "Name: tweet_text, dtype: float64"
      ]
     },
     "execution_count": 123,
     "metadata": {},
     "output_type": "execute_result"
    }
   ],
   "source": [
    "tweet_encoded.iloc[0:5].tweet_text.apply(scalarFunctions,args=(vectors_series.iloc[1],'mcs'))"
   ]
  },
  {
   "cell_type": "code",
   "execution_count": 236,
   "metadata": {},
   "outputs": [],
   "source": [
    "for i in range(0,11):\n",
    "#     create strings for column heads\n",
    "    sw = f'score_window_{i}'\n",
    "    mmsw = f'MM_{sw}'\n",
    "    \n",
    "#     Scoring tweets in this column:\n",
    "    tweet_encoded[sw] = tweet_encoded.tweet_text.apply(scalarFunctions,args=(vectors_series.iloc[i],'dp'))\n",
    "                                                       \n",
    "#     column of scores for this iteration\n",
    "    tweet_scores = tweet_encoded[sw]\n",
    "\n",
    "#     calculating Min Max Scaling for this column \n",
    "    tweet_encoded[mmsw] = ((tweet_scores - tweet_scores.min())* 100) / (tweet_scores.max() - tweet_scores.min())"
   ]
  },
  {
   "cell_type": "code",
   "execution_count": 252,
   "metadata": {
    "slideshow": {
     "slide_type": "-"
    }
   },
   "outputs": [
    {
     "data": {
      "text/plain": [
       "[('hit', 0.774830162525177),\n",
       " ('around', 0.7309039831161499),\n",
       " ('#sundayrunday', 0.7092088460922241),\n",
       " ('duet', 0.7072910070419312),\n",
       " ('looong', 0.7013165354728699),\n",
       " ('move', 0.7005578279495239),\n",
       " ('shortli', 0.6995109915733337),\n",
       " ('pass', 0.6931859254837036),\n",
       " ('vanessa', 0.6815402507781982),\n",
       " ('eye', 0.680162787437439)]"
      ]
     },
     "execution_count": 252,
     "metadata": {},
     "output_type": "execute_result"
    }
   ],
   "source": [
    "vectors_series.iloc[1].wv.similar_by_word(\"irma\", topn=10, restrict_vocab=None)"
   ]
  },
  {
   "cell_type": "code",
   "execution_count": 235,
   "metadata": {},
   "outputs": [
    {
     "name": "stdout",
     "output_type": "stream",
     "text": [
      "0.56\n",
      "0.811\n",
      "0.786\n",
      "0.782\n",
      "0.783\n",
      "0.784\n",
      "0.783\n",
      "0.788\n",
      "0.783\n",
      "0.784\n",
      "0.779\n"
     ]
    }
   ],
   "source": [
    "for i in range(0,11):\n",
    "    print(round(roc_auc_score(tweet_encoded['irma_rel'],tweet_encoded[f'MM_score_window_{i}']),3))"
   ]
  },
  {
   "cell_type": "code",
   "execution_count": 127,
   "metadata": {
    "scrolled": false
   },
   "outputs": [
    {
     "data": {
      "image/png": "[encoded data removed]",
      "text/plain": [
       "<Figure size 1152x576 with 1 Axes>"
      ]
     },
     "metadata": {},
     "output_type": "display_data"
    }
   ],
   "source": [
    "fig_0 = plt.figure(figsize=(16,8),facecolor='w')\n",
    "\n",
    "for j in range(1,11):\n",
    "    window_label = f\"{comparison_type}: {j}\"\n",
    "    plt.plot(range(101),[100*len(tweet_encoded[tweet_encoded[f'MM_score_window_{j}'] > i])/len(tweet_encoded) for i in range(101)],label=window_label)\n",
    "plt.xlabel(\"Min-Max Scaled Tweet Score Threshold\")\n",
    "plt.ylabel(\"Percent of Tweets at or above Threshold\")\n",
    "plt.title(f\"Percent of Tweets at or above Threshold by Word2Vec {comparison_type} ({func_type})\")\n",
    "plt.legend();\n",
    "\n",
    "# fig_0.savefig(f'./figures/{comparison_short}{func_short}PercentTweetsBelow.pdf',bbox_inches='tight')"
   ]
  },
  {
   "cell_type": "markdown",
   "metadata": {},
   "source": [
    "### AU-ROC Score"
   ]
  },
  {
   "cell_type": "markdown",
   "metadata": {},
   "source": [
    "### F1 Score Comparisons"
   ]
  },
  {
   "cell_type": "code",
   "execution_count": null,
   "metadata": {},
   "outputs": [],
   "source": [
    "f1_window_score_df = pd.DataFrame(np.zeros((101,11)))\n",
    "pre_score_df = pd.DataFrame(np.zeros((101,11)))\n",
    "rec_score_df = pd.DataFrame(np.zeros((101,11)))"
   ]
  },
  {
   "cell_type": "code",
   "execution_count": null,
   "metadata": {},
   "outputs": [],
   "source": [
    "for i in range(1,11):\n",
    "    for j in range(101):\n",
    "        f1_window_score_df.iloc[j,i] = f1_score(tweet_encoded.irma_rel,tweet_encoded[f'MM_score_window_{i}'] > j)\n",
    "        pre_score_df.iloc[j,i] = precision_score(tweet_encoded.irma_rel,tweet_encoded[f'MM_score_window_{i}'] > j)\n",
    "        rec_score_df.iloc[j,i] = recall_score(tweet_encoded.irma_rel,tweet_encoded[f'MM_score_window_{i}'] > j)"
   ]
  },
  {
   "cell_type": "code",
   "execution_count": null,
   "metadata": {},
   "outputs": [],
   "source": [
    "print(pd.concat([f1_window_score_df.idxmax(),f1_window_score_df.max()],axis=1,names=['TweetScore','F1Score']))\n",
    "print(f1_window_score_df.idxmax().max())\n",
    "print(f1_window_score_df.max().max())"
   ]
  },
  {
   "cell_type": "code",
   "execution_count": null,
   "metadata": {
    "scrolled": false
   },
   "outputs": [],
   "source": [
    "fig_1 = plt.figure(figsize=(16,8),facecolor='w')\n",
    "for i in range(1,11):\n",
    "    plt.plot(f1_window_score_df.iloc[:,i],label=f\"{comparison_type}: {i}\")\n",
    "plt.xlabel(\"Min-Max Scaled Tweet Score Threshold\")\n",
    "plt.ylabel(\"F1 Score of Tweets Above Threshold\")\n",
    "plt.title(f\"F1 Score of Tweets by Word2Vec {comparison_type} ({func_type})\")\n",
    "plt.legend();\n",
    "# fig_1.savefig(f'./figures/{comparison_short}{func_short}F1Score.pdf',bbox_inches='tight')"
   ]
  },
  {
   "cell_type": "markdown",
   "metadata": {},
   "source": [
    "### Hidden Layer Dimensionality (window size 7)"
   ]
  },
  {
   "cell_type": "code",
   "execution_count": null,
   "metadata": {},
   "outputs": [],
   "source": [
    "comparison_type = \"Hidden Layer Dimensionality\"\n",
    "comparison_short = \"HLD\""
   ]
  },
  {
   "cell_type": "code",
   "execution_count": 194,
   "metadata": {},
   "outputs": [],
   "source": [
    "# eliminating the off-by-one error in the loop later. This will have a zero row, unfilled by vectors.\n",
    "vectors_series = pd.Series(np.zeros((11)))"
   ]
  },
  {
   "cell_type": "code",
   "execution_count": 200,
   "metadata": {},
   "outputs": [
    {
     "name": "stdout",
     "output_type": "stream",
     "text": [
      "2min 29s ± 544 ms per loop (mean ± std. dev. of 7 runs, 1 loop each)\n"
     ]
    }
   ],
   "source": [
    "%%timeit\n",
    "tweet_text = tweet_full_en.loc[tweet_date:tweet_date + date_delta,\"tweet_text\"]\n",
    "tweets_tokens = tweet_text.apply(tokens_no_stopwords)\n",
    "for i in range(1,11):\n",
    "    hidden_layer_dim = 50*i\n",
    "    # ---------- Skip-Gram ----------\n",
    "    # initialize the Word2Vec vectors with window size 8, min count 1, and Skip-Gram (Hidden Layer Dim. Test)\n",
    "    vector_model = Word2Vec(tweets_tokens, min_count=1, window=8, workers=1, size=hidden_layer_dim, seed=1, sg=1, negative=5)\n",
    "    \n",
    "    # train the model over 10 epochs\n",
    "    vector_model.train(tweets_tokens, total_examples=len(tweet_text), epochs=10)\n",
    "    \n",
    "    # assign the vector data to its position in a series\n",
    "    vectors_series.iloc[i] = vector_model"
   ]
  },
  {
   "cell_type": "code",
   "execution_count": 253,
   "metadata": {},
   "outputs": [
    {
     "name": "stdout",
     "output_type": "stream",
     "text": [
      "6.67 s ± 42.8 ms per loop (mean ± std. dev. of 7 runs, 1 loop each)\n"
     ]
    }
   ],
   "source": [
    "%%timeit\n",
    "tweet_text = tweet_full_en.loc[tweet_date:tweet_date + date_delta,\"tweet_text\"]\n",
    "tweets_tokens = tweet_text.apply(tokens_no_stopwords)\n",
    "\n",
    "opt_vector_model = Word2Vec(tweets_tokens, min_count=1, window=8, workers=1, size=150, seed=1, sg=1, negative=1)\n",
    "    \n",
    "# train the model over 10 epochs\n",
    "opt_vector_model.train(tweets_tokens, total_examples=len(tweet_text), epochs=10)\n"
   ]
  },
  {
   "cell_type": "code",
   "execution_count": 254,
   "metadata": {},
   "outputs": [
    {
     "name": "stdout",
     "output_type": "stream",
     "text": [
      "16.1 s ± 122 ms per loop (mean ± std. dev. of 7 runs, 1 loop each)\n"
     ]
    }
   ],
   "source": [
    "%%timeit\n",
    "tweet_text = tweet_full_en.loc[tweet_date:tweet_date + date_delta,\"tweet_text\"]\n",
    "tweets_tokens = tweet_text.apply(tokens_no_stopwords)\n",
    "\n",
    "opt_vector_model = Word2Vec(tweets_tokens, min_count=1, window=8, workers=1, size=150, seed=1, sg=1, negative=1)\n",
    "    \n",
    "# train the model over 10 epochs\n",
    "opt_vector_model.train(tweets_tokens, total_examples=len(tweet_text), epochs=50)\n"
   ]
  },
  {
   "cell_type": "code",
   "execution_count": 259,
   "metadata": {},
   "outputs": [
    {
     "data": {
      "text/plain": [
       "(1181282, 1289640)"
      ]
     },
     "execution_count": 259,
     "metadata": {},
     "output_type": "execute_result"
    }
   ],
   "source": [
    "tweet_text = tweet_full_en.loc[tweet_date:tweet_date + date_delta,\"tweet_text\"]\n",
    "tweets_tokens = tweet_text.apply(tokens_no_stopwords)\n",
    "\n",
    "opt_vector_model = Word2Vec(tweets_tokens, min_count=1, window=8, workers=1, size=150, seed=1, sg=1, negative=1)\n",
    "    \n",
    "# train the model over 10 epochs\n",
    "opt_vector_model.train(tweets_tokens, total_examples=len(tweet_text), epochs=10)"
   ]
  },
  {
   "cell_type": "code",
   "execution_count": 260,
   "metadata": {},
   "outputs": [
    {
     "data": {
      "text/plain": [
       "[('hit', 0.7879316210746765),\n",
       " ('around', 0.7406282424926758),\n",
       " ('#sundayrunday', 0.7150506377220154),\n",
       " ('move', 0.7143473625183105),\n",
       " ('duet', 0.7128892540931702),\n",
       " ('shortli', 0.7073459029197693),\n",
       " ('looong', 0.7041077613830566),\n",
       " ('pass', 0.702541172504425),\n",
       " ('eye', 0.6889427304267883),\n",
       " ('away', 0.6888911128044128)]"
      ]
     },
     "execution_count": 260,
     "metadata": {},
     "output_type": "execute_result"
    }
   ],
   "source": [
    "opt_vector_model.wv.most_similar(\"irma\", topn=10, restrict_vocab=None)"
   ]
  },
  {
   "cell_type": "code",
   "execution_count": 207,
   "metadata": {},
   "outputs": [],
   "source": [
    "for i in range(1,11):\n",
    "#     create strings for column heads\n",
    "    sw = f'score_window_{i}'\n",
    "    mmsw = f'MM_{sw}'\n",
    "    \n",
    "#     Scoring tweets in this column:\n",
    "    tweet_encoded[sw] = tweet_encoded.tweet_text.apply(scalarFunctions,args=(vectors_series.iloc[i],'scssc'))\n",
    "                                                       \n",
    "#     column of scores for this iteration\n",
    "    tweet_scores = tweet_encoded[sw]\n",
    "\n",
    "#     calculating Min Max Scaling for this column \n",
    "    tweet_encoded[mmsw] = ((tweet_scores - tweet_scores.min())* 100) / (tweet_scores.max() - tweet_scores.min())"
   ]
  },
  {
   "cell_type": "code",
   "execution_count": 208,
   "metadata": {},
   "outputs": [
    {
     "name": "stdout",
     "output_type": "stream",
     "text": [
      "0.779\n",
      "0.784\n",
      "0.784\n",
      "0.781\n",
      "0.779\n",
      "0.779\n",
      "0.777\n",
      "0.777\n",
      "0.776\n",
      "0.775\n"
     ]
    }
   ],
   "source": [
    "for i in range(1,11):\n",
    "    print(round(roc_auc_score(tweet_encoded['irma_rel'],tweet_encoded[f'MM_score_window_{i}']),3))"
   ]
  },
  {
   "cell_type": "code",
   "execution_count": null,
   "metadata": {},
   "outputs": [],
   "source": []
  },
  {
   "cell_type": "code",
   "execution_count": null,
   "metadata": {},
   "outputs": [],
   "source": [
    "coded_tweets = pd.read_csv(r'./irma_related_tweets.csv')\n",
    "\n",
    "tweets_on_date = tweet_full_en.loc[tweet_date:tweet_date+date_delta]\n",
    "\n",
    "tweet_encoded = pd.concat([coded_tweets.reset_index(),tweets_on_date.iloc[:-1].reset_index()],axis=1)"
   ]
  },
  {
   "cell_type": "code",
   "execution_count": null,
   "metadata": {},
   "outputs": [],
   "source": [
    "for i in range(1,11):\n",
    "#     create strings for column heads\n",
    "    sw = f'score_window_{i}'\n",
    "    mmsw = f'MM_{sw}'\n",
    "    \n",
    "#     Scoring tweets in this column:\n",
    "    tweet_encoded[sw] = tweet_encoded.tweet_text.apply(ScoreTweetFromVectors,args=(vectors_series.iloc[i],))\n",
    "                                                       \n",
    "#     column of scores for this iteration\n",
    "    tweet_scores = tweet_encoded[sw]\n",
    "\n",
    "#     calculating Min Max Scaling for this column \n",
    "    tweet_encoded[mmsw] = ((tweet_scores - tweet_scores.min())* 100) / (tweet_scores.max() - tweet_scores.min())"
   ]
  },
  {
   "cell_type": "code",
   "execution_count": null,
   "metadata": {
    "scrolled": false
   },
   "outputs": [],
   "source": [
    "fig_hld_1 = plt.figure(figsize=(16,8),facecolor='w')\n",
    "\n",
    "for j in range(1,11):\n",
    "    window_label = f\"{comparison_type}: {25*j + 25}\"\n",
    "    plt.plot(range(101),[len(tweet_encoded[tweet_encoded[f'MM_score_window_{j}'] > i])/len(tweet_encoded) for i in range(101)],label=window_label)\n",
    "plt.xlabel(\"Min-Max Scaled Tweet Score Threshold\")\n",
    "plt.ylabel(\"Percent of Tweets at or Above Threshold\")\n",
    "plt.title(f\"Percent of Tweets at or Above Threshold by Word2Vec {comparison_type} ({func_type})\")\n",
    "plt.legend();\n",
    "\n",
    "# fig_hld_1.savefig(f'./figures/{comparison_short}{func_short}PercentTweetsBelow.pdf',bbox_inches='tight')"
   ]
  },
  {
   "cell_type": "markdown",
   "metadata": {},
   "source": [
    "### F1 Score Comparisons"
   ]
  },
  {
   "cell_type": "code",
   "execution_count": null,
   "metadata": {},
   "outputs": [],
   "source": [
    "f1_window_score_df = pd.DataFrame(np.zeros((101,11)))\n",
    "pre_score_df = pd.DataFrame(np.zeros((101,11)))\n",
    "rec_score_df = pd.DataFrame(np.zeros((101,11)))"
   ]
  },
  {
   "cell_type": "code",
   "execution_count": null,
   "metadata": {},
   "outputs": [],
   "source": [
    "for i in range(1,11):\n",
    "    for j in range(101):\n",
    "        f1_window_score_df.iloc[j,i] = f1_score(tweet_encoded.irma_rel,tweet_encoded[f'MM_score_window_{i}'] > j)\n",
    "        pre_score_df.iloc[j,i] = precision_score(tweet_encoded.irma_rel,tweet_encoded[f'MM_score_window_{i}'] > j)\n",
    "        rec_score_df.iloc[j,i] = recall_score(tweet_encoded.irma_rel,tweet_encoded[f'MM_score_window_{i}'] > j)"
   ]
  },
  {
   "cell_type": "code",
   "execution_count": null,
   "metadata": {},
   "outputs": [],
   "source": [
    "print(pd.concat([f1_window_score_df.idxmax(),f1_window_score_df.max()],axis=1,names=['TweetScore','F1Score']))\n",
    "print(f1_window_score_df.idxmax().max())\n",
    "print(f1_window_score_df.max().max())"
   ]
  },
  {
   "cell_type": "code",
   "execution_count": null,
   "metadata": {
    "scrolled": false
   },
   "outputs": [],
   "source": [
    "fig_hld_2 = plt.figure(figsize=(16,8),facecolor='w')\n",
    "for i in range(1,11):\n",
    "    window_label = f\"{comparison_type}: {25*i + 25}\"\n",
    "    plt.plot(f1_window_score_df.iloc[:,i],label=window_label)\n",
    "plt.xlabel(\"Min-Max Scaled Tweet Score Threshold\")\n",
    "plt.ylabel(\"F1 Score of Tweets Above Threshold\")\n",
    "plt.title(f\"F1 Score of Tweets by Word2Vec {comparison_type} ({func_type})\")\n",
    "plt.legend();\n",
    "# fig_hld_2.savefig(f'./figures/{comparison_short}{func_short}F1Score.pdf',bbox_inches='tight')"
   ]
  },
  {
   "cell_type": "markdown",
   "metadata": {},
   "source": [
    "### Negative Sampling (window size 7, dim = 100)"
   ]
  },
  {
   "cell_type": "code",
   "execution_count": null,
   "metadata": {},
   "outputs": [],
   "source": [
    "comparison_type = \"Negative Sampling Test\"\n",
    "comparison_short = \"NS\""
   ]
  },
  {
   "cell_type": "code",
   "execution_count": null,
   "metadata": {},
   "outputs": [],
   "source": [
    "# eliminating the off-by-one error in the loop later. This will have a zero row, unfilled by vectors.\n",
    "vectors_series = pd.Series(np.zeros((11)))"
   ]
  },
  {
   "cell_type": "code",
   "execution_count": null,
   "metadata": {},
   "outputs": [],
   "source": [
    "tweet_text = tweet_full_en.loc[tweet_date:tweet_date + date_delta,\"tweet_text\"]\n",
    "tweets_tokens = tweet_text.apply(tokens_no_stopwords)\n",
    "for i in range(0,11):\n",
    "    ns_size = i\n",
    "    # ---------- Skip-Gram ----------\n",
    "    # initialize the Word2Vec vectors with window size 7, min count 1, and Skip-Gram (Negative Sampling Test)\n",
    "    vector_model = Word2Vec(tweets_tokens, min_count=1, window=7, workers=1, size=100, seed=1, sg=1, negative=ns_size)\n",
    "    \n",
    "    # train the model over 10 epochs\n",
    "    vector_model.train(tweets_tokens, total_examples=len(tweet_text), epochs=10)\n",
    "    \n",
    "    # assign the vector data to its position in a series\n",
    "    vectors_series.iloc[i] = vector_model"
   ]
  },
  {
   "cell_type": "code",
   "execution_count": null,
   "metadata": {},
   "outputs": [],
   "source": [
    "coded_tweets = pd.read_csv(r'./irma_related_tweets.csv')\n",
    "\n",
    "tweets_on_date = tweet_full_en.loc[tweet_date:tweet_date+date_delta]\n",
    "\n",
    "tweet_encoded = pd.concat([coded_tweets.reset_index(),tweets_on_date.iloc[:-1].reset_index()],axis=1)"
   ]
  },
  {
   "cell_type": "code",
   "execution_count": null,
   "metadata": {},
   "outputs": [],
   "source": [
    "vectors_series"
   ]
  },
  {
   "cell_type": "code",
   "execution_count": null,
   "metadata": {},
   "outputs": [],
   "source": [
    "for i in range(0,11):\n",
    "#     create strings for column heads\n",
    "    sw = f'score_window_{i}'\n",
    "    mmsw = f'MM_{sw}'\n",
    "    \n",
    "#     Scoring tweets in this column:\n",
    "    tweet_encoded[sw] = tweet_encoded.tweet_text.apply(ScoreTweetFromVectors,args=(vectors_series.iloc[i],))\n",
    "                                                       \n",
    "#     column of scores for this iteration\n",
    "    tweet_scores = tweet_encoded[sw]\n",
    "\n",
    "#     calculating Min Max Scaling for this column \n",
    "    tweet_encoded[mmsw] = ((tweet_scores - tweet_scores.min())* 100) / (tweet_scores.max() - tweet_scores.min())"
   ]
  },
  {
   "cell_type": "code",
   "execution_count": null,
   "metadata": {
    "scrolled": false
   },
   "outputs": [],
   "source": [
    "fig_ns_1 = plt.figure(figsize=(16,8),facecolor='w')\n",
    "\n",
    "for j in range(0,11):\n",
    "    window_label = f\"{comparison_type}: {j}\"\n",
    "    plt.plot(range(101),[100 * len(tweet_encoded[tweet_encoded[f'MM_score_window_{j}'] > i])/len(tweet_encoded) for i in range(101)],label=window_label)\n",
    "plt.xlabel(\"Min-Max Scaled Tweet Score Threshold\")\n",
    "plt.ylabel(\"Percent of Tweets Above Threshold\")\n",
    "plt.title(f\"Percent of Tweets Above Threshold by Word2Vec {comparison_type} ({func_type})\")\n",
    "plt.legend();\n",
    "\n",
    "#fig_ns_1.savefig(f'./figures/{comparison_short}{func_short}PercentTweetsBelow.pdf',bbox_inches='tight')"
   ]
  },
  {
   "cell_type": "code",
   "execution_count": null,
   "metadata": {},
   "outputs": [],
   "source": [
    "from scipy.stats import norm\n",
    "print(np.linspace(1,100,100))\n",
    "#norm.cdf(tweet_encoded['MM_score_window_1'],np.linspace(1,100,100))"
   ]
  },
  {
   "cell_type": "code",
   "execution_count": null,
   "metadata": {},
   "outputs": [],
   "source": [
    "plt.hist(tweet_encoded['MM_score_window_1'].values,bins=100)"
   ]
  },
  {
   "cell_type": "markdown",
   "metadata": {},
   "source": [
    "### F1 Score Comparisons"
   ]
  },
  {
   "cell_type": "code",
   "execution_count": null,
   "metadata": {},
   "outputs": [],
   "source": [
    "f1_window_score_df = pd.DataFrame(np.zeros((101,11)))\n",
    "pre_score_df = pd.DataFrame(np.zeros((101,11)))\n",
    "rec_score_df = pd.DataFrame(np.zeros((101,11)))"
   ]
  },
  {
   "cell_type": "code",
   "execution_count": null,
   "metadata": {},
   "outputs": [],
   "source": [
    "for i in range(0,11):\n",
    "    for j in range(101):\n",
    "        f1_window_score_df.iloc[j,i] = f1_score(tweet_encoded.irma_rel,tweet_encoded[f'MM_score_window_{i}'] > j)\n",
    "        pre_score_df.iloc[j,i] = precision_score(tweet_encoded.irma_rel,tweet_encoded[f'MM_score_window_{i}'] > j)\n",
    "        rec_score_df.iloc[j,i] = recall_score(tweet_encoded.irma_rel,tweet_encoded[f'MM_score_window_{i}'] > j)"
   ]
  },
  {
   "cell_type": "code",
   "execution_count": null,
   "metadata": {},
   "outputs": [],
   "source": [
    "ns_test = pd.DataFrame(pd.concat([f1_window_score_df.idxmax().rename('MM_Score'),f1_window_score_df.max().rename('F1_Score_Max')],axis=1))\n",
    "ns_test['Neg_Samp_Size'] = pd.Series(range(0,11))"
   ]
  },
  {
   "cell_type": "code",
   "execution_count": null,
   "metadata": {},
   "outputs": [],
   "source": [
    "ns_test[['Neg_Samp_Size','MM_Score','F1_Score_Max']]"
   ]
  },
  {
   "cell_type": "code",
   "execution_count": null,
   "metadata": {},
   "outputs": [],
   "source": [
    "print(f1_window_score_df.idxmax().max())\n",
    "print(f1_window_score_df.max().idxmax())"
   ]
  },
  {
   "cell_type": "code",
   "execution_count": null,
   "metadata": {
    "scrolled": false
   },
   "outputs": [],
   "source": [
    "fig_ns_2 = plt.figure(figsize=(16,8),facecolor='w')\n",
    "for i in range(0,11):\n",
    "    if i == f1_window_score_df.max().idxmax():\n",
    "        plt.plot(f1_window_score_df.iloc[:,i],label=f\"{comparison_type}: {i} (F1 Max)\",linestyle=\":\")\n",
    "    else:\n",
    "        plt.plot(f1_window_score_df.iloc[:,i],label=f\"{comparison_type}: {i}\")\n",
    "plt.xlabel(\"Min-Max Scaled Tweet Score Threshold\")\n",
    "plt.ylabel(\"F1 Score of Tweets Above Threshold\")\n",
    "plt.title(f\"F1 Score of Tweets by Word2Vec {comparison_type} ({func_type})\")\n",
    "plt.legend();\n",
    "# fig_ns_2.savefig(f'./figures/neg_samp_size_1-10_F1Score.pdf',bbox_inches='tight')"
   ]
  },
  {
   "cell_type": "code",
   "execution_count": null,
   "metadata": {},
   "outputs": [],
   "source": [
    "tweet_to_score = tweet_full[tweet_full.tweet_text.str.contains('will post again')].tweet_text[0]\n",
    "\n",
    "ScoreTweetFromVectors(tweet_to_score,vector_set=vectors_series.iloc[1])\n",
    "# print(type(tweet_to_score))\n",
    "# print(tweet_to_score)"
   ]
  },
  {
   "cell_type": "code",
   "execution_count": null,
   "metadata": {},
   "outputs": [],
   "source": [
    "print(tweet_to_score)"
   ]
  },
  {
   "cell_type": "code",
   "execution_count": null,
   "metadata": {},
   "outputs": [],
   "source": [
    "tweet_encoded[(tweet_encoded['score_window_1'] > 22.85) & (tweet_encoded['score_window_1'] < 22.88)]['MM_score_window_1']"
   ]
  },
  {
   "cell_type": "code",
   "execution_count": 49,
   "metadata": {},
   "outputs": [
    {
     "data": {
      "text/plain": [
       "0.813429069570445"
      ]
     },
     "execution_count": 49,
     "metadata": {},
     "output_type": "execute_result"
    }
   ],
   "source": [
    "roc_auc_score(tweet_encoded['irma_rel'],tweet_encoded['MM_score_window_1'])"
   ]
  },
  {
   "cell_type": "code",
   "execution_count": 50,
   "metadata": {},
   "outputs": [],
   "source": [
    "fpr, tpr, thresholds = roc_curve(tweet_encoded['irma_rel'],tweet_encoded['MM_score_window_1'])"
   ]
  },
  {
   "cell_type": "code",
   "execution_count": 51,
   "metadata": {},
   "outputs": [
    {
     "data": {
      "image/png": "[encoded data removed]",
      "text/plain": [
       "<Figure size 864x864 with 1 Axes>"
      ]
     },
     "metadata": {},
     "output_type": "display_data"
    }
   ],
   "source": [
    "fig_roc_1 = plt.figure(figsize=(12,12),facecolor='w')\n",
    "plt.plot(fpr,tpr,label='Score of Text Module')\n",
    "plt.plot([0,1],[0,1],label='.5 AUROC Threshold')\n",
    "plt.legend()\n",
    "plt.show()\n",
    "# fig_roc_1.savefig(f'./figures/text_mod_roc_curve.pdf',bbox_inches='tight')"
   ]
  },
  {
   "cell_type": "code",
   "execution_count": 52,
   "metadata": {
    "scrolled": false
   },
   "outputs": [
    {
     "data": {
      "image/png": "[encoded data removed]",
      "text/plain": [
       "<Figure size 864x864 with 1 Axes>"
      ]
     },
     "metadata": {},
     "output_type": "display_data"
    }
   ],
   "source": [
    "fig_roc_1 = plt.figure(figsize=(12,12),facecolor='w')\n",
    "for i in range(1,2):\n",
    "    fpr, tpr, thresholds = roc_curve(tweet_encoded['irma_rel'],tweet_encoded[f'MM_score_window_{i}'])\n",
    "    plt.plot(fpr,tpr,label=f\"Negative Sample Test: {i}\")\n",
    "plt.plot([0,1],[0,1],linestyle=\"-.\",label=\".5 Threshold\")\n",
    "plt.legend()\n",
    "plt.show()\n",
    "# fig_roc_1.savefig(f'./figures/neg_samp_size_1-10_roc_curve.pdf',bbox_inches='tight')"
   ]
  },
  {
   "cell_type": "code",
   "execution_count": null,
   "metadata": {},
   "outputs": [],
   "source": []
  }
 ],
 "metadata": {
  "kernelspec": {
   "display_name": "Python 3",
   "language": "python",
   "name": "python3"
  },
  "language_info": {
   "codemirror_mode": {
    "name": "ipython",
    "version": 3
   },
   "file_extension": ".py",
   "mimetype": "text/x-python",
   "name": "python",
   "nbconvert_exporter": "python",
   "pygments_lexer": "ipython3",
   "version": "3.7.3"
  }
 },
 "nbformat": 4,
 "nbformat_minor": 2
}
