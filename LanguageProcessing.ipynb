{
 "cells": [
  {
   "cell_type": "markdown",
   "metadata": {},
   "source": [
    "## Working with Language Processing Methods"
   ]
  },
  {
   "cell_type": "code",
   "execution_count": 1,
   "metadata": {},
   "outputs": [],
   "source": [
    "import pandas as pd\n",
    "import numpy as np"
   ]
  },
  {
   "cell_type": "code",
   "execution_count": 2,
   "metadata": {},
   "outputs": [],
   "source": [
    "columns = ['tweet_id','timestamp','tweet_text','user_id',\n",
    "           'tweet_coords','tweet_coords_list','tweet_long','tweet_lat','location',\n",
    "           'enc_url','tweet_lang','hashtags']"
   ]
  },
  {
   "cell_type": "code",
   "execution_count": 3,
   "metadata": {},
   "outputs": [],
   "source": [
    "pd.read_csv?"
   ]
  },
  {
   "cell_type": "markdown",
   "metadata": {},
   "source": [
    "`%timeit` has the following command at:\n",
    "`3.02 s ± 29 ms per loop (mean ± std. dev. of 7 runs, 1 loop each)`\n",
    "This is much faster than attempting to explicitly define the string for date formatting, and using `pd.to_datetime()`."
   ]
  },
  {
   "cell_type": "code",
   "execution_count": 4,
   "metadata": {
    "scrolled": true
   },
   "outputs": [],
   "source": [
    "tweet_data = pd.read_csv(r'./tweetCoords.csv',header=None,names=columns,parse_dates=[1],infer_datetime_format=True)"
   ]
  },
  {
   "cell_type": "code",
   "execution_count": 5,
   "metadata": {},
   "outputs": [],
   "source": [
    "time_string = \"2017-09-01 00:00:00\"\n",
    "delta_hours = 1\n",
    "start_time = pd.to_datetime(time_string)"
   ]
  },
  {
   "cell_type": "markdown",
   "metadata": {},
   "source": [
    "Getting information in a single hour."
   ]
  },
  {
   "cell_type": "code",
   "execution_count": 6,
   "metadata": {},
   "outputs": [],
   "source": [
    "tweet_hour = tweet_data[(tweet_data['timestamp'] >= start_time) &\n",
    "                        (tweet_data['timestamp'] <= start_time + pd.Timedelta(hours=delta_hours))].copy()"
   ]
  },
  {
   "cell_type": "code",
   "execution_count": 7,
   "metadata": {},
   "outputs": [],
   "source": [
    "tweet_hour.drop(columns=tweet_hour.columns[3:],axis=1,inplace=True)"
   ]
  },
  {
   "cell_type": "code",
   "execution_count": 8,
   "metadata": {},
   "outputs": [
    {
     "data": {
      "text/plain": [
       "tweet_id      1365\n",
       "timestamp     1365\n",
       "tweet_text    1365\n",
       "dtype: int64"
      ]
     },
     "execution_count": 8,
     "metadata": {},
     "output_type": "execute_result"
    }
   ],
   "source": [
    "tweet_hour.count()"
   ]
  },
  {
   "cell_type": "code",
   "execution_count": 9,
   "metadata": {},
   "outputs": [],
   "source": [
    "pd.options.display.max_colwidth=100"
   ]
  },
  {
   "cell_type": "markdown",
   "metadata": {},
   "source": [
    "Working on functionality to clean tweet text.\n",
    "- Eliminate links.\n",
    "- Drop user mentions.\n",
    "- *amp* as ampersand\n",
    "- remove numbers as time or as decimal\n"
   ]
  },
  {
   "cell_type": "code",
   "execution_count": 23,
   "metadata": {},
   "outputs": [
    {
     "data": {
      "text/html": [
       "<div>\n",
       "<style scoped>\n",
       "    .dataframe tbody tr th:only-of-type {\n",
       "        vertical-align: middle;\n",
       "    }\n",
       "\n",
       "    .dataframe tbody tr th {\n",
       "        vertical-align: top;\n",
       "    }\n",
       "\n",
       "    .dataframe thead th {\n",
       "        text-align: right;\n",
       "    }\n",
       "</style>\n",
       "<table border=\"1\" class=\"dataframe\">\n",
       "  <thead>\n",
       "    <tr style=\"text-align: right;\">\n",
       "      <th></th>\n",
       "      <th>tweet_id</th>\n",
       "      <th>timestamp</th>\n",
       "      <th>tweet_text</th>\n",
       "    </tr>\n",
       "  </thead>\n",
       "  <tbody>\n",
       "    <tr>\n",
       "      <th>0</th>\n",
       "      <td>903407051438567424</td>\n",
       "      <td>2017-09-01 00:00:00</td>\n",
       "      <td>Ocala: 7:50pm: sunset</td>\n",
       "    </tr>\n",
       "    <tr>\n",
       "      <th>1</th>\n",
       "      <td>903407059512721413</td>\n",
       "      <td>2017-09-01 00:00:02</td>\n",
       "      <td>Wind 2.0 mph ESE. Barometer 30.013 in, Steady. Temperature 85.2  F. Rain today 0.00 in. Humidity...</td>\n",
       "    </tr>\n",
       "    <tr>\n",
       "      <th>2</th>\n",
       "      <td>903407067968536576</td>\n",
       "      <td>2017-09-01 00:00:04</td>\n",
       "      <td>Where words fall....music speaks</td>\n",
       "    </tr>\n",
       "    <tr>\n",
       "      <th>3</th>\n",
       "      <td>903407078823399424</td>\n",
       "      <td>2017-09-01 00:00:06</td>\n",
       "      <td>First @TBBuccaneers with my bride @carrie_dunavant  #lovetampa #bucs #buccaneers https://t.co/mi...</td>\n",
       "    </tr>\n",
       "    <tr>\n",
       "      <th>4</th>\n",
       "      <td>903407093855776768</td>\n",
       "      <td>2017-09-01 00:00:10</td>\n",
       "      <td>Wow. That was rough. It s basically drinking a shot of whiskey beer....  120 Minute IPA  https:/...</td>\n",
       "    </tr>\n",
       "  </tbody>\n",
       "</table>\n",
       "</div>"
      ],
      "text/plain": [
       "             tweet_id           timestamp  \\\n",
       "0  903407051438567424 2017-09-01 00:00:00   \n",
       "1  903407059512721413 2017-09-01 00:00:02   \n",
       "2  903407067968536576 2017-09-01 00:00:04   \n",
       "3  903407078823399424 2017-09-01 00:00:06   \n",
       "4  903407093855776768 2017-09-01 00:00:10   \n",
       "\n",
       "                                                                                            tweet_text  \n",
       "0                                                                                Ocala: 7:50pm: sunset  \n",
       "1  Wind 2.0 mph ESE. Barometer 30.013 in, Steady. Temperature 85.2  F. Rain today 0.00 in. Humidity...  \n",
       "2                                                                  Where words fall....music speaks     \n",
       "3  First @TBBuccaneers with my bride @carrie_dunavant  #lovetampa #bucs #buccaneers https://t.co/mi...  \n",
       "4  Wow. That was rough. It s basically drinking a shot of whiskey beer....  120 Minute IPA  https:/...  "
      ]
     },
     "execution_count": 23,
     "metadata": {},
     "output_type": "execute_result"
    }
   ],
   "source": [
    "tweet_hour[tweet_hour['tweet_text'].str.contains(\"[\\d\\:\\.]+\")].head()"
   ]
  },
  {
   "cell_type": "code",
   "execution_count": 27,
   "metadata": {},
   "outputs": [
    {
     "data": {
      "text/plain": [
       "0                                                                                        Ocala pm sunset\n",
       "1                          Wind  mph ESE Barometer  in, Steady Temperature   F Rain today  in Humidity  \n",
       "2                                                                        Where words fallmusic speaks   \n",
       "3       First TBBuccaneers with my bride carrie_dunavant  lovetampa bucs buccaneers https//tco/miYlZwYEX\n",
       "4    Wow That was rough It s basically drinking a shot of whiskey beer   Minute IPA  https//tco/AMWFBrnK\n",
       "Name: tweet_text, dtype: object"
      ]
     },
     "execution_count": 27,
     "metadata": {},
     "output_type": "execute_result"
    }
   ],
   "source": [
    "tweet_hour['tweet_text'].str.replace(\"[\\d\\:\\.#@]+\",\"\").head()"
   ]
  },
  {
   "cell_type": "code",
   "execution_count": 29,
   "metadata": {},
   "outputs": [
    {
     "data": {
      "text/plain": [
       "0                                                                                           Ocala pm sunset\n",
       "1                             Wind  mph ESE Barometer  in, Steady Temperature   F Rain today  in Humidity  \n",
       "2                                                                           Where words fallmusic speaks   \n",
       "3                                                         First  with my bride   lovetampa bucs buccaneers \n",
       "4                          Wow That was rough It s basically drinking a shot of whiskey beer   Minute IPA  \n",
       "5       I can t even watch Diana programmes because it s just so sad   She was an incredible person and ...\n",
       "6                                                                                     Gainesville pm sunset\n",
       "7                                                Exactly hrs til  my blessings  The World Famous Original  \n",
       "8                                      I m at Louis Pappas Market Cafe Shoppes at Citrus Park in Tampa, FL \n",
       "9       Don t try talk  me when it s convenient  UI ll leave you right where you werewhen I needed youwh...\n",
       "10          Repost   Great shoot today, with lululemon ambassador, dragonflyogi Such an honor to meet and  \n",
       "11                                             She s only loyal to  l Jefe I bet she tastes like Tres Leche\n",
       "12                                                                                  Pinellas Park pm sunset\n",
       "13                                                                    GalationsSixAndNine  Spring Hill, FL \n",
       "14                                      There s more traveling in middle school girl s basketball than on  \n",
       "15                                                                There s simply no limit to this sociopath\n",
       "16                         If she cant do this on da  i dont want her   MoonWalkin    Tallahassee, Florida \n",
       "17          Severe Thunderstorm Warning including Monticello FL, Greenville FL, Waukeenah FL until  PM EDT \n",
       "18          Severe Thunderstorm Warning including Monticello FL, Greenville FL, Waukeenah FL until  PM EDT \n",
       "19                                            tbt to that time I crashed a corporate yacht party in Miami  \n",
       "20             not the best but this pic for  idc Im not watching no bortles or henne Tulsa HVAC we see u  \n",
       "21                      omg i told someone i d go to there party tonight and all i wanna do is play sims   \n",
       "22                                                                                I m at  in Kissimmee, FL \n",
       "23                                                                                        Dunedin pm sunset\n",
       "24                                                                   I ll win regular season and finals MVP\n",
       "25                                                           I truly get excited when landing in a new city\n",
       "26                           // - Personal Picks   NCAAF    OSU RL -  -   pending NCAAF  PERSONALPICKS RL  \n",
       "27      Bahhahs this guy told me that since I moved to Florida I shouldn t worry about him but this whol...\n",
       "28      Art gallery idea someone just takes a bunch of photos of all the bare feet at the TSA and ties i...\n",
       "29                                                                                      Miami central  BTW \n",
       "                                                       ...                                                 \n",
       "1335                                                   OSU is overrated But they re just preseason rankings\n",
       "1336                                                         tlmgirls roadracing   carterfartuch   racing  \n",
       "1337     has lied about everything, from crowd sizes to meetings with russians The alleged donation is j...\n",
       "1338                                                         Ok little guy, we see you  Grant BALLING      \n",
       "1339                                                                            I m at  in Bal Harbour, FL \n",
       "1340                                                    YOOOOOOOOOOOOOOO CHILLLL      that s not happening \n",
       "1341                                                                      Motherfucking Grant baby  PhinsUp\n",
       "1342    Back from its final deployment, the USS Jacksonville has returned to its homeport and awaits its...\n",
       "1343                                                            Why is Princess Diana so fondly remembered \n",
       "1344                                                     We are Artium Miami Art Gallery     artcollector  \n",
       "1345                                                                                Big issue Need changes \n",
       "1346                                                     weekends dedicated to college football again      \n",
       "1347                                                                         Day is done  Glades Boat Yard \n",
       "1348                                                                    Everytime I drink I get nauseous   \n",
       "1349                                                                               his parents, See yah    \n",
       "1350                                                                                Always in the dog house\n",
       "1351                                                                       Thank you Larry for your service\n",
       "1352                                                             They need to keep David Fales end of story\n",
       "1353         Gana tus  primeros viajes gratis en UBER  reg strate con el c digo kbjcg   C DIGO UBER kbjcg  \n",
       "1354                                Hoy en el Peri dico        EsikaPro  Colombia MiPatria  Miami, Florida \n",
       "1355    Lo digo ahora y siempre lo dir  vivir en valencia es lo m s t xico que puede existir  socialment...\n",
       "1356                    Drew Baldrich, killing it on the WON Waterfront country music band guitarist sing  \n",
       "1357                                                                                       Run the whole   \n",
       "1358                                                             This lady named her daughter  Vision      \n",
       "1359                                                  Go Buccaneers     siegetheday  Raymond James Stadium \n",
       "1360                                                 Great with wings - Drinking an All Day IPA by  at     \n",
       "1361                                                                                              JUNR     \n",
       "1362            Artist guest room libeco seanrush seanrushatelier dropclothcurtains bedroom bedroomideas   \n",
       "1363          tbt to this eVite created for the Circle of Friendship of Greater Fort Lauderdale   Created  \n",
       "1364                   Que es lo m s importante del Liderazgo   Lo m s importante del Liderazgo es conoce  \n",
       "Name: tweet_text, Length: 1365, dtype: object"
      ]
     },
     "execution_count": 29,
     "metadata": {},
     "output_type": "execute_result"
    }
   ],
   "source": [
    "tweet_hour['tweet_text'].str.replace(\"https?:\\S+\",\"\").str.replace(\"@[\\S]+\",\"\").str.replace('\\s+amp\\s+',\" \").str.replace(\"[\\d\\:\\.#@]+\",\"\")"
   ]
  },
  {
   "cell_type": "code",
   "execution_count": 12,
   "metadata": {},
   "outputs": [],
   "source": [
    "from nltk.corpus import stopwords\n",
    "from sklearn.feature_extraction.text import TfidfVectorizer\n",
    "from sklearn.feature_extraction.text import CountVectorizer"
   ]
  },
  {
   "cell_type": "code",
   "execution_count": 13,
   "metadata": {},
   "outputs": [],
   "source": [
    "stopWords = set(stopwords.words('english')) | set(stopwords.words('spanish'))"
   ]
  },
  {
   "cell_type": "code",
   "execution_count": 14,
   "metadata": {},
   "outputs": [],
   "source": [
    "tweet_vector = TfidfVectorizer(analyzer='word',stop_words=stopWords).fit_transform(tweet_hour['tweet_text'])"
   ]
  },
  {
   "cell_type": "code",
   "execution_count": 15,
   "metadata": {},
   "outputs": [
    {
     "data": {
      "text/plain": [
       "<1365x5488 sparse matrix of type '<class 'numpy.float64'>'\n",
       "\twith 11294 stored elements in Compressed Sparse Row format>"
      ]
     },
     "execution_count": 15,
     "metadata": {},
     "output_type": "execute_result"
    }
   ],
   "source": [
    "tweet_vector"
   ]
  },
  {
   "cell_type": "code",
   "execution_count": 16,
   "metadata": {},
   "outputs": [
    {
     "data": {
      "text/plain": [
       "array([[0.        , 0.        , 0.        , ..., 0.        , 0.        ,\n",
       "        0.        ],\n",
       "       [0.31243485, 0.        , 0.        , ..., 0.        , 0.        ,\n",
       "        0.        ],\n",
       "       [0.        , 0.        , 0.        , ..., 0.        , 0.        ,\n",
       "        0.        ],\n",
       "       ...,\n",
       "       [0.        , 0.        , 0.        , ..., 0.        , 0.        ,\n",
       "        0.        ],\n",
       "       [0.        , 0.        , 0.        , ..., 0.        , 0.        ,\n",
       "        0.        ],\n",
       "       [0.        , 0.        , 0.        , ..., 0.        , 0.        ,\n",
       "        0.        ]])"
      ]
     },
     "execution_count": 16,
     "metadata": {},
     "output_type": "execute_result"
    }
   ],
   "source": [
    "tweet_vector.toarray()"
   ]
  },
  {
   "cell_type": "code",
   "execution_count": 17,
   "metadata": {},
   "outputs": [],
   "source": [
    "from sklearn.metrics.pairwise import linear_kernel\n",
    "cosine_similarities = linear_kernel(tweet_vector, tweet_vector).flatten()"
   ]
  },
  {
   "cell_type": "code",
   "execution_count": 18,
   "metadata": {},
   "outputs": [
    {
     "data": {
      "text/plain": [
       "array([ 931014, 1231258, 1710653, ..., 1590024,  396140,  549132])"
      ]
     },
     "execution_count": 18,
     "metadata": {},
     "output_type": "execute_result"
    }
   ],
   "source": [
    "cosine_similarities.argsort()"
   ]
  }
 ],
 "metadata": {
  "kernelspec": {
   "display_name": "Python 3",
   "language": "python",
   "name": "python3"
  },
  "language_info": {
   "codemirror_mode": {
    "name": "ipython",
    "version": 3
   },
   "file_extension": ".py",
   "mimetype": "text/x-python",
   "name": "python",
   "nbconvert_exporter": "python",
   "pygments_lexer": "ipython3",
   "version": "3.6.5"
  }
 },
 "nbformat": 4,
 "nbformat_minor": 2
}
