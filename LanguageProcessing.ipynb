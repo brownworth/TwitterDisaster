{
 "cells": [
  {
   "cell_type": "markdown",
   "metadata": {},
   "source": [
    "## Working with Language Processing Methods"
   ]
  },
  {
   "cell_type": "code",
   "execution_count": 1,
   "metadata": {},
   "outputs": [],
   "source": [
    "import pandas as pd\n",
    "import numpy as np"
   ]
  },
  {
   "cell_type": "code",
   "execution_count": 2,
   "metadata": {},
   "outputs": [],
   "source": [
    "columns = ['tweet_id','timestamp','tweet_text','user_id',\n",
    "           'tweet_coords','tweet_coords_list','tweet_long','tweet_lat','location',\n",
    "           'enc_url','tweet_lang','hashtags']"
   ]
  },
  {
   "cell_type": "markdown",
   "metadata": {},
   "source": [
    "`%timeit` has the following command at:\n",
    "`3.02 s ± 29 ms per loop (mean ± std. dev. of 7 runs, 1 loop each)`\n",
    "This is much faster than attempting to explicitly define the string for date formatting, and using `pd.to_datetime()`."
   ]
  },
  {
   "cell_type": "code",
   "execution_count": 3,
   "metadata": {
    "scrolled": true
   },
   "outputs": [],
   "source": [
    "tweet_data = pd.read_csv(r'./tweetCoords.csv',header=None,names=columns,parse_dates=[1],infer_datetime_format=True)"
   ]
  },
  {
   "cell_type": "code",
   "execution_count": 4,
   "metadata": {},
   "outputs": [],
   "source": [
    "time_string = \"2017-09-01 00:00:00\"\n",
    "delta_hours = 1\n",
    "start_time = pd.to_datetime(time_string)"
   ]
  },
  {
   "cell_type": "markdown",
   "metadata": {},
   "source": [
    "Getting information in a single hour."
   ]
  },
  {
   "cell_type": "code",
   "execution_count": 5,
   "metadata": {},
   "outputs": [],
   "source": [
    "tweet_hour = tweet_data[(tweet_data['timestamp'] >= start_time) &\n",
    "                        (tweet_data['timestamp'] <= start_time + pd.Timedelta(hours=delta_hours))].copy()"
   ]
  },
  {
   "cell_type": "markdown",
   "metadata": {},
   "source": [
    "removing extraneous columns for this analysis."
   ]
  },
  {
   "cell_type": "code",
   "execution_count": 6,
   "metadata": {},
   "outputs": [],
   "source": [
    "tweet_hour.drop(columns=tweet_hour.columns[3:],axis=1,inplace=True)"
   ]
  },
  {
   "cell_type": "code",
   "execution_count": 7,
   "metadata": {},
   "outputs": [
    {
     "data": {
      "text/plain": [
       "tweet_id      1365\n",
       "timestamp     1365\n",
       "tweet_text    1365\n",
       "dtype: int64"
      ]
     },
     "execution_count": 7,
     "metadata": {},
     "output_type": "execute_result"
    }
   ],
   "source": [
    "tweet_hour.count()"
   ]
  },
  {
   "cell_type": "code",
   "execution_count": 8,
   "metadata": {},
   "outputs": [],
   "source": [
    "pd.options.display.max_colwidth=100"
   ]
  },
  {
   "cell_type": "markdown",
   "metadata": {},
   "source": [
    "Working on functionality to clean tweet text.\n",
    "- Eliminate links.\n",
    "- Drop user mentions.\n",
    "- *amp* as ampersand (this may need to be removed later)\n",
    "- remove non-word characters (ascii x21-x40, x5B-x60, x7B-x7F)\n"
   ]
  },
  {
   "cell_type": "code",
   "execution_count": 9,
   "metadata": {},
   "outputs": [],
   "source": [
    "tweet_hour['tweet_text'] = tweet_hour['tweet_text'].str.replace(\"https?:\\S+\",\"\").str.replace(\"@[\\S]+\",\"\").str.replace('\\s+amp\\s+',\" \").str.replace(\"[\\x21-\\x40,\\x5B-\\x60,\\x7B-\\x7F]\",\"\").str.replace(\"\\s+\",\" \").str.lower()"
   ]
  },
  {
   "cell_type": "code",
   "execution_count": 26,
   "metadata": {},
   "outputs": [
    {
     "data": {
      "text/plain": [
       "0                                                                                           ocala pm sunset\n",
       "1                                    wind mph ese barometer in steady temperature f rain today in humidity \n",
       "2                                                                             where words fallmusic speaks \n",
       "3                                                            first with my bride lovetampa bucs buccaneers \n",
       "4                             wow that was rough it s basically drinking a shot of whiskey beer minute ipa \n",
       "5       i can t even watch diana programmes because it s just so sad she was an incredible person and wo...\n",
       "6                                                                                     gainesville pm sunset\n",
       "7                                                   exactly hrs til my blessings the world famous original \n",
       "8                                       i m at louis pappas market cafe shoppes at citrus park in tampa fl \n",
       "9       don t try talk me when it s convenient ui ll leave you right where you werewhen i needed youwhic...\n",
       "10               repost great shoot today with lululemon ambassador dragonflyogi such an honor to meet and \n",
       "11                                              she s only loyal to l jefe i bet she tastes like tres leche\n",
       "12                                                                                  pinellas park pm sunset\n",
       "13                                                                      galationssixandnine spring hill fl \n",
       "14                                       there s more traveling in middle school girl s basketball than on \n",
       "15                                                                there s simply no limit to this sociopath\n",
       "16                                if she cant do this on da i dont want her moonwalkin tallahassee florida \n",
       "17             severe thunderstorm warning including monticello fl greenville fl waukeenah fl until pm edt \n",
       "18             severe thunderstorm warning including monticello fl greenville fl waukeenah fl until pm edt \n",
       "19                                             tbt to that time i crashed a corporate yacht party in miami \n",
       "20               not the best but this pic for idc im not watching no bortles or henne tulsa hvac we see u \n",
       "21                        omg i told someone i d go to there party tonight and all i wanna do is play sims \n",
       "22                                                                                  i m at in kissimmee fl \n",
       "23                                                                                        dunedin pm sunset\n",
       "24                                                                   i ll win regular season and finals mvp\n",
       "25                                                           i truly get excited when landing in a new city\n",
       "26                                              personal picks ncaaf osu rl pending ncaaf personalpicks rl \n",
       "27      bahhahs this guy told me that since i moved to florida i shouldn t worry about him but this whol...\n",
       "28      art gallery idea someone just takes a bunch of photos of all the bare feet at the tsa and ties i...\n",
       "29                                                                                       miami central btw \n",
       "                                                       ...                                                 \n",
       "1335                                                   osu is overrated but they re just preseason rankings\n",
       "1336                                                              tlmgirls roadracing carterfartuch racing \n",
       "1337      has lied about everything from crowd sizes to meetings with russians the alleged donation is jus \n",
       "1338                                                                ok little guy we see you grant balling \n",
       "1339                                                                              i m at in bal harbour fl \n",
       "1340                                                         yooooooooooooooo chillll that s not happening \n",
       "1341                                                                       motherfucking grant baby phinsup\n",
       "1342    back from its final deployment the uss jacksonville has returned to its homeport and awaits its ...\n",
       "1343                                                            why is princess diana so fondly remembered \n",
       "1344                                                          we are artium miami art gallery artcollector \n",
       "1345                                                                                big issue need changes \n",
       "1346                                                          weekends dedicated to college football again \n",
       "1347                                                                          day is done glades boat yard \n",
       "1348                                                                      everytime i drink i get nauseous \n",
       "1349                                                                                   his parents see yah \n",
       "1350                                                                                always in the dog house\n",
       "1351                                                                       thank you larry for your service\n",
       "1352                                                             they need to keep david fales end of story\n",
       "1353              gana tus primeros viajes gratis en uber reg strate con el c digo kbjcg c digo uber kbjcg \n",
       "1354                                          hoy en el peri dico esikapro colombia mipatria miami florida \n",
       "1355    lo digo ahora y siempre lo dir vivir en valencia es lo m s t xico que puede existir socialmentec...\n",
       "1356                      drew baldrich killing it on the won waterfront country music band guitarist sing \n",
       "1357                                                                                         run the whole \n",
       "1358                                                                   this lady named her daughter vision \n",
       "1359                                                       go buccaneers siegetheday raymond james stadium \n",
       "1360                                                        great with wings drinking an all day ipa by at \n",
       "1361                                                                                                  junr \n",
       "1362              artist guest room libeco seanrush seanrushatelier dropclothcurtains bedroom bedroomideas \n",
       "1363             tbt to this evite created for the circle of friendship of greater fort lauderdale created \n",
       "1364                      que es lo m s importante del liderazgo lo m s importante del liderazgo es conoce \n",
       "Name: tweet_text, Length: 1365, dtype: object"
      ]
     },
     "execution_count": 26,
     "metadata": {},
     "output_type": "execute_result"
    }
   ],
   "source": [
    "tweet_hour['tweet_text']"
   ]
  },
  {
   "cell_type": "code",
   "execution_count": 10,
   "metadata": {},
   "outputs": [],
   "source": [
    "from nltk.corpus import stopwords\n",
    "# from sklearn.feature_extraction.text import TfidfVectorizer\n",
    "from sklearn.feature_extraction.text import CountVectorizer"
   ]
  },
  {
   "cell_type": "code",
   "execution_count": 11,
   "metadata": {},
   "outputs": [],
   "source": [
    "stopWords = set(stopwords.words('english')) | set(stopwords.words('spanish'))"
   ]
  },
  {
   "cell_type": "code",
   "execution_count": 12,
   "metadata": {},
   "outputs": [],
   "source": [
    "tweet_vector = CountVectorizer(analyzer='word',stop_words=stopWords).fit(tweet_hour['tweet_text'])"
   ]
  },
  {
   "cell_type": "code",
   "execution_count": 13,
   "metadata": {},
   "outputs": [
    {
     "data": {
      "text/plain": [
       "4078"
      ]
     },
     "execution_count": 13,
     "metadata": {},
     "output_type": "execute_result"
    }
   ],
   "source": [
    "len(tweet_vector.get_feature_names())"
   ]
  },
  {
   "cell_type": "code",
   "execution_count": 32,
   "metadata": {},
   "outputs": [],
   "source": [
    "# !pip install gensim"
   ]
  },
  {
   "cell_type": "code",
   "execution_count": 28,
   "metadata": {},
   "outputs": [],
   "source": [
    "import nltk\n",
    "from gensim import models"
   ]
  },
  {
   "cell_type": "code",
   "execution_count": 55,
   "metadata": {},
   "outputs": [
    {
     "data": {
      "text/plain": [
       "0                                                                                       [ocala, pm, sunset]\n",
       "1                      [wind, mph, ese, barometer, in, steady, temperature, f, rain, today, in, humidity, ]\n",
       "2                                                                       [where, words, fallmusic, speaks, ]\n",
       "3                                                   [first, with, my, bride, lovetampa, bucs, buccaneers, ]\n",
       "4            [wow, that, was, rough, it, s, basically, drinking, a, shot, of, whiskey, beer, minute, ipa, ]\n",
       "5       [i, can, t, even, watch, diana, programmes, because, it, s, just, so, sad, she, was, an, incredi...\n",
       "6                                                                                 [gainesville, pm, sunset]\n",
       "7                                        [exactly, hrs, til, my, blessings, the, world, famous, original, ]\n",
       "8                       [i, m, at, louis, pappas, market, cafe, shoppes, at, citrus, park, in, tampa, fl, ]\n",
       "9       [don, t, try, talk, me, when, it, s, convenient, ui, ll, leave, you, right, where, you, werewhen...\n",
       "10      [repost, great, shoot, today, with, lululemon, ambassador, dragonflyogi, such, an, honor, to, me...\n",
       "11                               [she, s, only, loyal, to, l, jefe, i, bet, she, tastes, like, tres, leche]\n",
       "12                                                                             [pinellas, park, pm, sunset]\n",
       "13                                                                [galationssixandnine, spring, hill, fl, ]\n",
       "14                         [there, s, more, traveling, in, middle, school, girl, s, basketball, than, on, ]\n",
       "15                                                     [, there, s, simply, no, limit, to, this, sociopath]\n",
       "16                [if, she, cant, do, this, on, da, i, dont, want, her, moonwalkin, tallahassee, florida, ]\n",
       "17      [severe, thunderstorm, warning, including, monticello, fl, greenville, fl, waukeenah, fl, until,...\n",
       "18      [severe, thunderstorm, warning, including, monticello, fl, greenville, fl, waukeenah, fl, until,...\n",
       "19                               [tbt, to, that, time, i, crashed, a, corporate, yacht, party, in, miami, ]\n",
       "20      [, not, the, best, but, this, pic, for, idc, im, not, watching, no, bortles, or, henne, tulsa, h...\n",
       "21      [omg, i, told, someone, i, d, go, to, there, party, tonight, and, all, i, wanna, do, is, play, s...\n",
       "22                                                                          [i, m, at, in, kissimmee, fl, ]\n",
       "23                                                                                    [dunedin, pm, sunset]\n",
       "24                                                        [, i, ll, win, regular, season, and, finals, mvp]\n",
       "25                                                [i, truly, get, excited, when, landing, in, a, new, city]\n",
       "26                                 [, personal, picks, ncaaf, osu, rl, pending, ncaaf, personalpicks, rl, ]\n",
       "27      [bahhahs, this, guy, told, me, that, since, i, moved, to, florida, i, shouldn, t, worry, about, ...\n",
       "28      [art, gallery, idea, someone, just, takes, a, bunch, of, photos, of, all, the, bare, feet, at, t...\n",
       "29                                                                                  [miami, central, btw, ]\n",
       "                                                       ...                                                 \n",
       "1335                                         [osu, is, overrated, but, they, re, just, preseason, rankings]\n",
       "1336                                                        [tlmgirls, roadracing, carterfartuch, racing, ]\n",
       "1337    [, has, lied, about, everything, from, crowd, sizes, to, meetings, with, russians, the, alleged,...\n",
       "1338                                                      [ok, little, guy, we, see, you, grant, balling, ]\n",
       "1339                                                                     [i, m, at, in, bal, harbour, fl, ]\n",
       "1340                                                 [yooooooooooooooo, chillll, that, s, not, happening, ]\n",
       "1341                                                                  [motherfucking, grant, baby, phinsup]\n",
       "1342    [back, from, its, final, deployment, the, uss, jacksonville, has, returned, to, its, homeport, a...\n",
       "1343                                                   [why, is, princess, diana, so, fondly, remembered, ]\n",
       "1344                                                 [we, are, artium, miami, art, gallery, artcollector, ]\n",
       "1345                                                                          [big, issue, need, changes, ]\n",
       "1346                                                  [weekends, dedicated, to, college, football, again, ]\n",
       "1347                                                                  [day, is, done, glades, boat, yard, ]\n",
       "1348                                                              [everytime, i, drink, i, get, nauseous, ]\n",
       "1349                                                                           [, his, parents, see, yah, ]\n",
       "1350                                                                          [always, in, the, dog, house]\n",
       "1351                                                              [, thank, you, larry, for, your, service]\n",
       "1352                                                 [, they, need, to, keep, david, fales, end, of, story]\n",
       "1353    [gana, tus, primeros, viajes, gratis, en, uber, reg, strate, con, el, c, digo, kbjcg, c, digo, u...\n",
       "1354                              [hoy, en, el, peri, dico, esikapro, colombia, mipatria, miami, florida, ]\n",
       "1355    [lo, digo, ahora, y, siempre, lo, dir, vivir, en, valencia, es, lo, m, s, t, xico, que, puede, e...\n",
       "1356       [drew, baldrich, killing, it, on, the, won, waterfront, country, music, band, guitarist, sing, ]\n",
       "1357                                                                                    [run, the, whole, ]\n",
       "1358                                                           [this, lady, named, her, daughter, vision, ]\n",
       "1359                                               [go, buccaneers, siegetheday, raymond, james, stadium, ]\n",
       "1360                                            [great, with, wings, drinking, an, all, day, ipa, by, at, ]\n",
       "1361                                                                                               [junr, ]\n",
       "1362    [artist, guest, room, libeco, seanrush, seanrushatelier, dropclothcurtains, bedroom, bedroomidea...\n",
       "1363    [tbt, to, this, evite, created, for, the, circle, of, friendship, of, greater, fort, lauderdale,...\n",
       "1364    [, que, es, lo, m, s, importante, del, liderazgo, lo, m, s, importante, del, liderazgo, es, cono...\n",
       "Name: tweet_text, Length: 1365, dtype: object"
      ]
     },
     "execution_count": 55,
     "metadata": {},
     "output_type": "execute_result"
    }
   ],
   "source": [
    "tweet_hour['tweet_text'].str.split(\"\\s\")"
   ]
  },
  {
   "cell_type": "code",
   "execution_count": 41,
   "metadata": {},
   "outputs": [],
   "source": [
    "tweet_vectors = models.Word2Vec(sentences=tweet_hour['tweet_text'].str.split(\"\\s\"))"
   ]
  },
  {
   "cell_type": "code",
   "execution_count": 56,
   "metadata": {},
   "outputs": [
    {
     "name": "stderr",
     "output_type": "stream",
     "text": [
      "/Users/brown/Envs/TwitterDisaster-4Cppn-LV/lib/python3.6/site-packages/ipykernel_launcher.py:1: DeprecationWarning: Call to deprecated `__getitem__` (Method will be removed in 4.0.0, use self.wv.__getitem__() instead).\n",
      "  \"\"\"Entry point for launching an IPython kernel.\n"
     ]
    },
    {
     "data": {
      "text/plain": [
       "array([-8.56943429e-02,  1.71005219e-01,  1.25435174e-01,  9.41894054e-02,\n",
       "        6.79508131e-03, -2.96751052e-01,  1.39484525e-01,  4.80349027e-02,\n",
       "        1.37049041e-03, -4.05695587e-02, -1.61292851e-02,  9.13755503e-03,\n",
       "       -5.69108836e-02,  9.36218947e-02,  8.45170170e-02,  1.22037619e-01,\n",
       "        1.63309112e-01, -5.45028411e-02, -1.01546533e-01, -2.33544298e-02,\n",
       "        1.95600122e-01, -1.64324120e-01,  1.76773712e-01, -7.42312334e-03,\n",
       "       -1.08739361e-04,  6.40345886e-02, -6.88408017e-02,  6.69599771e-02,\n",
       "       -1.01036660e-01,  9.44380164e-02,  1.24531679e-01,  5.00229709e-02,\n",
       "       -1.48975685e-01,  1.16967045e-01, -1.13418333e-01, -1.19179241e-01,\n",
       "        1.51960865e-01, -3.02866906e-01,  5.43619273e-03, -2.36533191e-02,\n",
       "       -1.83139354e-01, -6.91374168e-02, -9.99659672e-02, -8.54811631e-03,\n",
       "       -3.43231373e-02,  1.22006036e-01, -6.22599237e-02,  7.45435208e-02,\n",
       "        3.14938091e-02,  3.07027735e-02,  2.78947145e-01,  8.08070879e-03,\n",
       "       -6.00209236e-02, -4.69792522e-02,  8.51059332e-02, -2.58993804e-01,\n",
       "        5.52978506e-03, -8.15824643e-02, -5.25003821e-02,  7.18587041e-02,\n",
       "       -4.82012779e-02, -9.19652637e-03,  1.45287057e-02, -1.27576694e-01,\n",
       "       -1.39483646e-01,  5.36445715e-02,  4.92212251e-02,  1.78541318e-02,\n",
       "       -5.33682220e-02,  1.20740376e-01,  1.82446107e-01, -9.25532281e-02,\n",
       "       -4.00820263e-02, -6.49565533e-02, -4.60832380e-02,  9.66566876e-02,\n",
       "       -5.88617548e-02, -1.32605731e-01, -2.37646073e-01,  8.94718319e-02,\n",
       "       -1.17614523e-01,  2.58116107e-02, -2.32681409e-01,  1.29712135e-01,\n",
       "        2.18749717e-01, -8.55142623e-02,  7.90689439e-02,  2.52295941e-01,\n",
       "       -6.10215738e-02,  1.45620685e-02,  6.55719265e-03,  1.08303592e-01,\n",
       "        1.20475225e-01, -1.67147413e-01,  4.44898419e-02,  1.71376973e-01,\n",
       "        1.14276856e-01, -1.69646308e-01, -1.41813025e-01,  4.02155071e-02],\n",
       "      dtype=float32)"
      ]
     },
     "execution_count": 56,
     "metadata": {},
     "output_type": "execute_result"
    }
   ],
   "source": [
    "tweet_vectors['humidity']"
   ]
  },
  {
   "cell_type": "code",
   "execution_count": 17,
   "metadata": {},
   "outputs": [
    {
     "data": {
      "text/plain": [
       "FreqDist({' ': 41, '': 11, 'any sign of mold call advantaclean mold remediation water ': 6, 'severe thunderstorm warning including monticello fl greenville fl waukeenah fl until pm edt ': 2, 'just posted a video fort myers senior high school ': 2, 'dragon outline s u i tl i f e andremalcolmart redlettertattoo thegreys ': 2, 'my ass is getting old featuring mattymike tag a friend shereensdream ': 2, 'spaghetti with chicken ': 2, 'i m at in miami fl ': 2, 'lmao ': 2, ...})"
      ]
     },
     "execution_count": 17,
     "metadata": {},
     "output_type": "execute_result"
    }
   ],
   "source": [
    "FreqDist(tweet_hour['tweet_text'])"
   ]
  }
 ],
 "metadata": {
  "kernelspec": {
   "display_name": "Python 3",
   "language": "python",
   "name": "python3"
  },
  "language_info": {
   "codemirror_mode": {
    "name": "ipython",
    "version": 3
   },
   "file_extension": ".py",
   "mimetype": "text/x-python",
   "name": "python",
   "nbconvert_exporter": "python",
   "pygments_lexer": "ipython3",
   "version": "3.6.5"
  }
 },
 "nbformat": 4,
 "nbformat_minor": 2
}
