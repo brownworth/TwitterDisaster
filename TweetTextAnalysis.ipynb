{
 "cells": [
  {
   "cell_type": "code",
   "execution_count": 1,
   "metadata": {},
   "outputs": [],
   "source": [
    "from textblob import TextBlob\n",
    "import nltk\n",
    "from nltk.corpus import stopwords"
   ]
  },
  {
   "cell_type": "code",
   "execution_count": 2,
   "metadata": {},
   "outputs": [],
   "source": [
    "import pandas as pd\n",
    "import numpy as np"
   ]
  },
  {
   "cell_type": "code",
   "execution_count": 3,
   "metadata": {},
   "outputs": [],
   "source": [
    "tweet_text = pd.read_csv(r'./tweetsText.csv')"
   ]
  },
  {
   "cell_type": "code",
   "execution_count": 4,
   "metadata": {},
   "outputs": [
    {
     "data": {
      "text/plain": [
       "Index(['tweet_id', 'text'], dtype='object')"
      ]
     },
     "execution_count": 4,
     "metadata": {},
     "output_type": "execute_result"
    }
   ],
   "source": [
    "tweet_text.columns"
   ]
  },
  {
   "cell_type": "code",
   "execution_count": 5,
   "metadata": {},
   "outputs": [
    {
     "data": {
      "text/plain": [
       "0                                Ocala: 7:50pm: sunset\n",
       "1    Wind 2.0 mph ESE. Barometer 30.013 in, Steady....\n",
       "2                  Where words fall....music speaks   \n",
       "3    First @TBBuccaneers with my bride @carrie_duna...\n",
       "4    Wow. That was rough. It s basically drinking a...\n",
       "5    I can t even watch #Diana20 programmes because...\n",
       "6                          Gainesville: 7:51pm: sunset\n",
       "7    Exactly 4hrs til  my blessings... @ The World ...\n",
       "8    I m at Louis Pappas Market Cafe: Shoppes at Ci...\n",
       "9    Don t try  amp  talk 2 me when it s convenient...\n",
       "Name: text, dtype: object"
      ]
     },
     "execution_count": 5,
     "metadata": {},
     "output_type": "execute_result"
    }
   ],
   "source": [
    "tweet_text.head(10).text"
   ]
  },
  {
   "cell_type": "markdown",
   "metadata": {},
   "source": [
    "### Tweet Language:"
   ]
  },
  {
   "cell_type": "markdown",
   "metadata": {},
   "source": [
    "TextBlob will determine the language of text, but requires that the analyzed text be at least 3 characters. For example, tweet below is causing an error."
   ]
  },
  {
   "cell_type": "code",
   "execution_count": 65,
   "metadata": {},
   "outputs": [
    {
     "data": {
      "text/plain": [
       "1"
      ]
     },
     "execution_count": 65,
     "metadata": {},
     "output_type": "execute_result"
    }
   ],
   "source": [
    "len(tweet_text.iloc[756,1])"
   ]
  },
  {
   "cell_type": "code",
   "execution_count": 69,
   "metadata": {},
   "outputs": [
    {
     "data": {
      "text/plain": [
       "0     en\n",
       "1     en\n",
       "2     en\n",
       "3     en\n",
       "4     en\n",
       "5     en\n",
       "6     en\n",
       "7     en\n",
       "8     en\n",
       "9     en\n",
       "10    en\n",
       "11    en\n",
       "12    en\n",
       "13    en\n",
       "14    en\n",
       "15    en\n",
       "16    en\n",
       "17    en\n",
       "18    en\n",
       "19    en\n",
       "20    en\n",
       "21    en\n",
       "22    en\n",
       "23    en\n",
       "24    en\n",
       "25    en\n",
       "26    en\n",
       "27    en\n",
       "28    en\n",
       "29    en\n",
       "30    pt\n",
       "dtype: object"
      ]
     },
     "execution_count": 69,
     "metadata": {},
     "output_type": "execute_result"
    }
   ],
   "source": [
    "tweet_text.head(31).apply(lambda x: TextBlob(x['text']).detect_language(),axis=1)"
   ]
  },
  {
   "cell_type": "code",
   "execution_count": 68,
   "metadata": {},
   "outputs": [
    {
     "data": {
      "text/plain": [
       "tweet_id                                   903407384160346113\n",
       "text        @jaguairs Passei no lugar que Loren costuma qu...\n",
       "Name: 30, dtype: object"
      ]
     },
     "execution_count": 68,
     "metadata": {},
     "output_type": "execute_result"
    }
   ],
   "source": [
    "tweet_text.iloc[30]"
   ]
  },
  {
   "cell_type": "markdown",
   "metadata": {},
   "source": [
    "defining a function to preserve the short tweets, and avoid the error due to string length."
   ]
  },
  {
   "cell_type": "code",
   "execution_count": 75,
   "metadata": {},
   "outputs": [],
   "source": [
    "def getLang(text_sample):\n",
    "    if len(text_sample) < 3:\n",
    "        return np.nan\n",
    "    else:\n",
    "        return TextBlob(text_sample).detect_language()"
   ]
  },
  {
   "cell_type": "markdown",
   "metadata": {},
   "source": [
    "There seems to be a timeout issue when processing large amounts of tweets. May be caused by API limits? Testing with increasing numbers here."
   ]
  },
  {
   "cell_type": "code",
   "execution_count": 102,
   "metadata": {},
   "outputs": [],
   "source": [
    "tweet_lang = tweet_text[:1000].apply(lambda x: getLang(x['text']),axis=1)"
   ]
  },
  {
   "cell_type": "markdown",
   "metadata": {},
   "source": [
    "Language processing seems to be inconsistent."
   ]
  },
  {
   "cell_type": "code",
   "execution_count": 103,
   "metadata": {},
   "outputs": [
    {
     "data": {
      "text/plain": [
       "af       2\n",
       "ar       1\n",
       "bg       1\n",
       "da       1\n",
       "de       4\n",
       "en     899\n",
       "eo       1\n",
       "es      49\n",
       "fi       1\n",
       "fr       4\n",
       "fy       1\n",
       "gl       1\n",
       "haw      1\n",
       "hi       1\n",
       "it       1\n",
       "jw       1\n",
       "lt       1\n",
       "lv       1\n",
       "mg       1\n",
       "mi       3\n",
       "ms       1\n",
       "mt       1\n",
       "nl       1\n",
       "no       1\n",
       "pl       1\n",
       "pt      12\n",
       "ro       2\n",
       "ru       1\n",
       "sv       1\n",
       "tl       3\n",
       "dtype: int64"
      ]
     },
     "execution_count": 103,
     "metadata": {},
     "output_type": "execute_result"
    }
   ],
   "source": [
    "tweet_lang.groupby(tweet_lang).count()"
   ]
  },
  {
   "cell_type": "code",
   "execution_count": 98,
   "metadata": {},
   "outputs": [],
   "source": [
    "tweet_words = tweet_text.text.str.lower().str.split(r'\\s+',expand=True).stack().value_counts()"
   ]
  },
  {
   "cell_type": "code",
   "execution_count": 6,
   "metadata": {},
   "outputs": [],
   "source": [
    "stop_words = set(stopwords.words('english')) | set(stopwords.words('spanish'))"
   ]
  },
  {
   "cell_type": "code",
   "execution_count": 8,
   "metadata": {},
   "outputs": [],
   "source": [
    "stop_list = list(stop_words)"
   ]
  },
  {
   "cell_type": "code",
   "execution_count": 99,
   "metadata": {},
   "outputs": [
    {
     "data": {
      "text/plain": [
       "this         63234\n",
       "with         42865\n",
       "that         40064\n",
       "florida      37622\n",
       "just         34564\n",
       "your         29066\n",
       "have         28241\n",
       "like         21695\n",
       "from         21644\n",
       "what         20729\n",
       "love         17588\n",
       "when         17474\n",
       "good         17450\n",
       "miami        17227\n",
       "they         16237\n",
       "today        15291\n",
       "back         14552\n",
       "time         14517\n",
       "will         14471\n",
       "about        14373\n",
       "great        12147\n",
       "wind         11676\n",
       "down         11581\n",
       "some         11418\n",
       "happy        11371\n",
       "here         11078\n",
       "know         11062\n",
       "people       10693\n",
       "hurricane     9940\n",
       "tonight       9929\n",
       "             ...  \n",
       "team          3466\n",
       "school        3459\n",
       "tampa,        3443\n",
       "place         3429\n",
       "prayers       3423\n",
       "those         3418\n",
       "again         3418\n",
       "favorite      3412\n",
       "through       3397\n",
       "magic         3392\n",
       "give          3381\n",
       "duval         3344\n",
       "start         3337\n",
       "bless         3334\n",
       "thing         3329\n",
       "left          3326\n",
       "lmao          3310\n",
       "food          3309\n",
       "tampa         3305\n",
       "blocked       3296\n",
       "free          3295\n",
       "friday        3268\n",
       "said          3259\n",
       "things        3259\n",
       "walt          3244\n",
       "long          3241\n",
       "city          3241\n",
       "play          3234\n",
       "sunday        3215\n",
       "didn          3202\n",
       "Length: 200, dtype: int64"
      ]
     },
     "execution_count": 99,
     "metadata": {},
     "output_type": "execute_result"
    }
   ],
   "source": [
    "tweet_words[tweet_words.index.str.len() > 3][:200]"
   ]
  },
  {
   "cell_type": "code",
   "execution_count": 31,
   "metadata": {},
   "outputs": [
    {
     "data": {
      "text/plain": [
       "           124718\n",
       "@          113327\n",
       "-           46092\n",
       "florida     37622\n",
       "fl          33479\n",
       "amp         33435\n",
       "gt          23906\n",
       ".           22913\n",
       "like        21695\n",
       "get         21168\n",
       "love        17588\n",
       "good        17450\n",
       "miami       17227\n",
       "day         16880\n",
       "f           16217\n",
       "one         15294\n",
       "today       15291\n",
       "go          15017\n",
       "back        14552\n",
       "time        14517\n",
       "dtype: int64"
      ]
     },
     "execution_count": 31,
     "metadata": {},
     "output_type": "execute_result"
    }
   ],
   "source": [
    "tweet_words[~(tweet_words.index.isin(stop_list))].head(20)"
   ]
  },
  {
   "cell_type": "code",
   "execution_count": 34,
   "metadata": {},
   "outputs": [
    {
     "data": {
      "text/plain": [
       "florida      37622\n",
       "like         21695\n",
       "love         17588\n",
       "good         17450\n",
       "miami        17227\n",
       "today        15291\n",
       "back         14552\n",
       "time         14517\n",
       "great        12147\n",
       "wind         11676\n",
       "happy        11371\n",
       "know         11062\n",
       "people       10693\n",
       "hurricane     9940\n",
       "tonight       9929\n",
       "beach         9914\n",
       "need          9672\n",
       "still         9168\n",
       "posted        9035\n",
       "going         8890\n",
       "dtype: int64"
      ]
     },
     "execution_count": 34,
     "metadata": {},
     "output_type": "execute_result"
    }
   ],
   "source": [
    "tweet_words[~(tweet_words.index.isin(stop_list)) & (tweet_words.index.str.len() > 3)].head(20)"
   ]
  },
  {
   "cell_type": "markdown",
   "metadata": {},
   "source": [
    "#### Twitter Sentiment Analysis Testing"
   ]
  },
  {
   "cell_type": "code",
   "execution_count": 10,
   "metadata": {},
   "outputs": [
    {
     "data": {
      "text/plain": [
       "0    0.000000\n",
       "1    0.166667\n",
       "2    0.000000\n",
       "3    0.250000\n",
       "4    0.000000\n",
       "5    0.350000\n",
       "6    0.000000\n",
       "7    0.375000\n",
       "8    0.000000\n",
       "9    0.285714\n",
       "dtype: float64"
      ]
     },
     "execution_count": 10,
     "metadata": {},
     "output_type": "execute_result"
    }
   ],
   "source": [
    "tweet_text.head(10).apply(lambda x: TextBlob(x['text']).sentiment.polarity,axis=1)"
   ]
  },
  {
   "cell_type": "code",
   "execution_count": 11,
   "metadata": {},
   "outputs": [
    {
     "data": {
      "text/plain": [
       "0    0.000000\n",
       "1    0.500000\n",
       "2    0.000000\n",
       "3    0.333333\n",
       "4    0.700000\n",
       "5    0.850000\n",
       "6    0.000000\n",
       "7    0.666667\n",
       "8    0.000000\n",
       "9    0.535714\n",
       "dtype: float64"
      ]
     },
     "execution_count": 11,
     "metadata": {},
     "output_type": "execute_result"
    }
   ],
   "source": [
    "tweet_text.head(10).apply(lambda x: TextBlob(x['text']).sentiment.subjectivity,axis=1)"
   ]
  },
  {
   "cell_type": "markdown",
   "metadata": {},
   "source": [
    "Experimenting with a large sentiment analysis dataset. Attempting to use the Twitter Sentiment Analysis Dataset Corpus obtained from http://thinknook.com/twitter-sentiment-analysis-training-corpus-dataset-2012-09-22/"
   ]
  },
  {
   "cell_type": "markdown",
   "metadata": {},
   "source": [
    "Twitter Corpus has some extraneous quotation marks that affect parsing."
   ]
  },
  {
   "cell_type": "code",
   "execution_count": 12,
   "metadata": {},
   "outputs": [],
   "source": [
    "# import re\n",
    "\n",
    "# new_file = []\n",
    "\n",
    "# re_string = '^(\\d+,\\d+,\\w+,)(.+)$'\n",
    "# g = open('.\\sentiment_corrected.csv','w')\n",
    "# g.seek(0)\n",
    "# with open('.\\Sentiment Analysis Dataset.csv','r') as f:\n",
    "#     lines = f.readlines()\n",
    "       \n",
    "# for line in lines:\n",
    "#     line = line.replace('\"',\"'\")\n",
    "#     line = re.sub(re_string,r'\\1\"\\2\"',line)\n",
    "#     g.writelines(line)\n",
    "\n",
    "# f.close()\n",
    "# g.close()\n"
   ]
  },
  {
   "cell_type": "code",
   "execution_count": 13,
   "metadata": {},
   "outputs": [],
   "source": [
    "twitter_corpus = pd.read_csv(r'./sentiment_corrected.csv')"
   ]
  },
  {
   "cell_type": "code",
   "execution_count": 14,
   "metadata": {},
   "outputs": [
    {
     "data": {
      "text/html": [
       "<div>\n",
       "<style scoped>\n",
       "    .dataframe tbody tr th:only-of-type {\n",
       "        vertical-align: middle;\n",
       "    }\n",
       "\n",
       "    .dataframe tbody tr th {\n",
       "        vertical-align: top;\n",
       "    }\n",
       "\n",
       "    .dataframe thead th {\n",
       "        text-align: right;\n",
       "    }\n",
       "</style>\n",
       "<table border=\"1\" class=\"dataframe\">\n",
       "  <thead>\n",
       "    <tr style=\"text-align: right;\">\n",
       "      <th></th>\n",
       "      <th>ItemID</th>\n",
       "      <th>Sentiment</th>\n",
       "      <th>SentimentSource</th>\n",
       "      <th>SentimentText</th>\n",
       "    </tr>\n",
       "  </thead>\n",
       "  <tbody>\n",
       "    <tr>\n",
       "      <th>0</th>\n",
       "      <td>1</td>\n",
       "      <td>0</td>\n",
       "      <td>Sentiment140</td>\n",
       "      <td>is so sad for my APL frie...</td>\n",
       "    </tr>\n",
       "    <tr>\n",
       "      <th>1</th>\n",
       "      <td>2</td>\n",
       "      <td>0</td>\n",
       "      <td>Sentiment140</td>\n",
       "      <td>I missed the New Moon trail...</td>\n",
       "    </tr>\n",
       "    <tr>\n",
       "      <th>2</th>\n",
       "      <td>3</td>\n",
       "      <td>1</td>\n",
       "      <td>Sentiment140</td>\n",
       "      <td>omg its already 7:30 :O</td>\n",
       "    </tr>\n",
       "    <tr>\n",
       "      <th>3</th>\n",
       "      <td>4</td>\n",
       "      <td>0</td>\n",
       "      <td>Sentiment140</td>\n",
       "      <td>.. Omgaga. Im sooo  im gunna CRy. I'...</td>\n",
       "    </tr>\n",
       "    <tr>\n",
       "      <th>4</th>\n",
       "      <td>5</td>\n",
       "      <td>0</td>\n",
       "      <td>Sentiment140</td>\n",
       "      <td>i think mi bf is cheating on me!!!   ...</td>\n",
       "    </tr>\n",
       "  </tbody>\n",
       "</table>\n",
       "</div>"
      ],
      "text/plain": [
       "   ItemID  Sentiment SentimentSource  \\\n",
       "0       1          0    Sentiment140   \n",
       "1       2          0    Sentiment140   \n",
       "2       3          1    Sentiment140   \n",
       "3       4          0    Sentiment140   \n",
       "4       5          0    Sentiment140   \n",
       "\n",
       "                                       SentimentText  \n",
       "0                       is so sad for my APL frie...  \n",
       "1                     I missed the New Moon trail...  \n",
       "2                            omg its already 7:30 :O  \n",
       "3            .. Omgaga. Im sooo  im gunna CRy. I'...  \n",
       "4           i think mi bf is cheating on me!!!   ...  "
      ]
     },
     "execution_count": 14,
     "metadata": {},
     "output_type": "execute_result"
    }
   ],
   "source": [
    "twitter_corpus.head()"
   ]
  },
  {
   "cell_type": "markdown",
   "metadata": {},
   "source": [
    "Corpus text is in alphabetical order. Using this to experiment with 60/20/20 split for train/test/val"
   ]
  },
  {
   "cell_type": "code",
   "execution_count": 15,
   "metadata": {
    "scrolled": false
   },
   "outputs": [],
   "source": [
    "train_sample = np.split(twitter_corpus.sample(frac=1),[int(.6*len(twitter_corpus)),int(.8*len(twitter_corpus))])"
   ]
  }
 ],
 "metadata": {
  "kernelspec": {
   "display_name": "Python 3",
   "language": "python",
   "name": "python3"
  },
  "language_info": {
   "codemirror_mode": {
    "name": "ipython",
    "version": 3
   },
   "file_extension": ".py",
   "mimetype": "text/x-python",
   "name": "python",
   "nbconvert_exporter": "python",
   "pygments_lexer": "ipython3",
   "version": "3.6.5"
  }
 },
 "nbformat": 4,
 "nbformat_minor": 2
}
