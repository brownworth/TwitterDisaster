{
 "cells": [
  {
   "cell_type": "code",
   "execution_count": 1,
   "metadata": {},
   "outputs": [],
   "source": [
    "text = \"This is a sentence that helps explain vectors. Now it is followed by a second sentence. And then a third one will be here.\""
   ]
  },
  {
   "cell_type": "code",
   "execution_count": 2,
   "metadata": {},
   "outputs": [],
   "source": [
    "from gensim.models import Word2Vec\n",
    "from nltk import sent_tokenize"
   ]
  },
  {
   "cell_type": "code",
   "execution_count": 3,
   "metadata": {},
   "outputs": [],
   "source": [
    "word_list = set(text.replace('.','').lower().split())"
   ]
  },
  {
   "cell_type": "code",
   "execution_count": 4,
   "metadata": {},
   "outputs": [],
   "source": [
    "tokens = [i.replace('.','').lower().split() for i in sent_tokenize(text)]"
   ]
  },
  {
   "cell_type": "code",
   "execution_count": 5,
   "metadata": {},
   "outputs": [],
   "source": [
    "test_vector = Word2Vec(tokens, min_count=1, window=3, workers=1, size=2, seed=1, sg=1)"
   ]
  },
  {
   "cell_type": "code",
   "execution_count": 18,
   "metadata": {},
   "outputs": [
    {
     "data": {
      "text/plain": [
       "[('vectors', 0.9836502075195312),\n",
       " ('will', 0.8325396180152893),\n",
       " ('by', 0.6057997941970825),\n",
       " ('this', 0.43406200408935547),\n",
       " ('and', 0.34640079736709595),\n",
       " ('helps', 0.3100335896015167),\n",
       " ('here', 0.2640155255794525),\n",
       " ('third', 0.2476784586906433),\n",
       " ('be', 0.23177078366279602),\n",
       " ('second', -0.02978438138961792)]"
      ]
     },
     "execution_count": 18,
     "metadata": {},
     "output_type": "execute_result"
    }
   ],
   "source": [
    "test_vector.wv.most_similar('sentence')"
   ]
  },
  {
   "cell_type": "code",
   "execution_count": 7,
   "metadata": {},
   "outputs": [
    {
     "data": {
      "text/plain": [
       "(30, 240)"
      ]
     },
     "execution_count": 7,
     "metadata": {},
     "output_type": "execute_result"
    }
   ],
   "source": [
    "test_vector.train(sentences=tokens,total_examples=3,epochs=10)"
   ]
  },
  {
   "cell_type": "code",
   "execution_count": 17,
   "metadata": {},
   "outputs": [
    {
     "name": "stderr",
     "output_type": "stream",
     "text": [
      "/Users/brown/.local/share/virtualenvs/TwitterDisaster-4Cppn-LV/lib/python3.7/site-packages/ipykernel_launcher.py:1: DeprecationWarning: Call to deprecated `__getitem__` (Method will be removed in 4.0.0, use self.wv.__getitem__() instead).\n",
      "  \"\"\"Entry point for launching an IPython kernel.\n"
     ]
    },
    {
     "data": {
      "text/plain": [
       "array([ 0.14702246, -0.06370711], dtype=float32)"
      ]
     },
     "execution_count": 17,
     "metadata": {},
     "output_type": "execute_result"
    }
   ],
   "source": [
    "test_vector[test_vector.wv.vocab][0]"
   ]
  },
  {
   "cell_type": "code",
   "execution_count": 15,
   "metadata": {},
   "outputs": [
    {
     "name": "stdout",
     "output_type": "stream",
     "text": [
      "0, this\n",
      "1, is\n",
      "2, a\n",
      "3, sentence\n",
      "4, that\n",
      "5, helps\n",
      "6, explain\n",
      "7, vectors\n",
      "8, now\n",
      "9, it\n",
      "10, followed\n",
      "11, by\n",
      "12, second\n",
      "13, and\n",
      "14, then\n",
      "15, third\n",
      "16, one\n",
      "17, will\n",
      "18, be\n",
      "19, here\n"
     ]
    }
   ],
   "source": [
    "for i, word in enumerate(list(test_vector.wv.vocab)):\n",
    "    print(str(i)+\", \"+word)"
   ]
  }
 ],
 "metadata": {
  "kernelspec": {
   "display_name": "Python 3",
   "language": "python",
   "name": "python3"
  },
  "language_info": {
   "codemirror_mode": {
    "name": "ipython",
    "version": 3
   },
   "file_extension": ".py",
   "mimetype": "text/x-python",
   "name": "python",
   "nbconvert_exporter": "python",
   "pygments_lexer": "ipython3",
   "version": "3.7.0"
  }
 },
 "nbformat": 4,
 "nbformat_minor": 2
}
