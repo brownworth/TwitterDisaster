{
 "cells": [
  {
   "cell_type": "markdown",
   "metadata": {},
   "source": [
    "# Creating Lists of Words Related to a Specified Search Term"
   ]
  },
  {
   "cell_type": "markdown",
   "metadata": {},
   "source": [
    "## This algorithm provides the following:\n",
    "- Imports a dataframe of tweets\n",
    "- Processes tweets and tokenizes words\n",
    "- Uses Word Embeddings to convert words into vectors\n",
    "- Determines related words by using cosine similarity within the vector space\n",
    "- Generates a list, or lists, of words within the time delta(s) selected, ordered by cosine similarity."
   ]
  },
  {
   "cell_type": "markdown",
   "metadata": {},
   "source": [
    "### Imported Libraries\n",
    "Libraries and modules below are used to import and process the tokens into vectors, removing extraneous words."
   ]
  },
  {
   "cell_type": "code",
   "execution_count": 1,
   "metadata": {},
   "outputs": [],
   "source": [
    "import pandas as pd\n",
    "import numpy as np\n",
    "from gensim.models import Word2Vec\n",
    "from nltk.tokenize import TweetTokenizer\n",
    "from nltk.corpus import stopwords\n",
    "from math import ceil\n",
    "from sklearn.metrics import f1_score\n",
    "import string\n",
    "import re"
   ]
  },
  {
   "cell_type": "markdown",
   "metadata": {},
   "source": [
    "### Tweet Import\n",
    "Importing and parsing tweets into dataframe, converting the datestamp strings to datetime objects."
   ]
  },
  {
   "cell_type": "code",
   "execution_count": 2,
   "metadata": {},
   "outputs": [],
   "source": [
    "columns = ['tweet_id','timestamp','tweet_text','user_id',\n",
    "           'tweet_coords','tweet_coords_list','tweet_long','tweet_lat','location',\n",
    "           'enc_url','tweet_lang','hashtags']\n",
    "tweet_full = pd.read_csv(r'./tweetCoords.csv',\n",
    "                         header=None,\n",
    "                         names=columns,\n",
    "                         parse_dates=[1],\n",
    "                         infer_datetime_format=True,\n",
    "                         index_col='timestamp')"
   ]
  },
  {
   "cell_type": "markdown",
   "metadata": {},
   "source": [
    "### Isolating Tweets by language (english)\n"
   ]
  },
  {
   "cell_type": "code",
   "execution_count": 3,
   "metadata": {},
   "outputs": [],
   "source": [
    "tweet_full_en = tweet_full[tweet_full['tweet_lang'] == 'en']"
   ]
  },
  {
   "cell_type": "markdown",
   "metadata": {},
   "source": [
    "### Text Cleaning and Tokenization Functions"
   ]
  },
  {
   "cell_type": "code",
   "execution_count": 4,
   "metadata": {},
   "outputs": [],
   "source": [
    "tweet_stops = stopwords.words('english')\n",
    "tweet_tokenizer = TweetTokenizer(strip_handles=True,preserve_case=False,reduce_len=True)\n",
    "\n",
    "def clean_tweet(tweet):\n",
    "#     takes input string and converts or removes characters depending on settings.\n",
    "#     returns a string\n",
    "#     convert case:\n",
    "    tweet = tweet.lower()\n",
    "#     remove URLs:\n",
    "    tweet = re.sub('https?://\\S+','',tweet)\n",
    "#     remove @mentions, including those with a leading '-' or '.' : \n",
    "    tweet = re.sub('[-\\.]?@\\w+','',tweet)\n",
    "#     remove punctuation, but not hashtags:\n",
    "    tweet = tweet.translate(tweet.maketrans('','',string.punctuation.replace(\"#\",\"\")))\n",
    "#     remove non-hashtag '#'.\n",
    "    tweet = re.sub('#\\B','',tweet)\n",
    "#     remove 'amp', 'gt', 'lt', indicating decoded ampersand, greater-than, less-than characters\n",
    "    tweet = re.sub(r'\\b(amp|gt|lt)\\b','',tweet)\n",
    "#     drop numbers and words of < 4 characters.\n",
    "    tweet = re.sub(r'\\b\\w{1,3}\\b','',tweet)\n",
    "    tweet = re.sub(r'\\b\\d+\\b','',tweet)\n",
    "    return tweet\n",
    "\n",
    "def tokens_no_stopwords(tweet_as_string):\n",
    "#     wrapper function that combines the tokenizer, cleaner, and stopword removal.\n",
    "#     takes a string and returns a list of strings\n",
    "    cleaned_tweet = clean_tweet(tweet_as_string)\n",
    "    tweet_as_tokens = tweet_tokenizer.tokenize(cleaned_tweet)\n",
    "    tweet_no_stops = [word for word in tweet_as_tokens if word not in tweet_stops]\n",
    "    \n",
    "    return tweet_no_stops"
   ]
  },
  {
   "cell_type": "markdown",
   "metadata": {},
   "source": [
    "### Search Term\n",
    "This is the term that will serve as the comparison for all later lists."
   ]
  },
  {
   "cell_type": "code",
   "execution_count": 110,
   "metadata": {},
   "outputs": [],
   "source": [
    "search_term = \"irma\""
   ]
  },
  {
   "cell_type": "markdown",
   "metadata": {},
   "source": [
    "### Related Words Dataframe and Time Deltas\n",
    "This instantiates the dataframe for the related words and specifies the start, end, and time delta for the periods of related words."
   ]
  },
  {
   "cell_type": "code",
   "execution_count": 135,
   "metadata": {},
   "outputs": [],
   "source": [
    "related_words = pd.DataFrame()\n",
    "tweet_date = pd.to_datetime(\"2017-09-10 00:00:00\")\n",
    "date_delta = pd.Timedelta(\"24HR\")\n",
    "end_date = pd.to_datetime(\"2017-09-10 00:00:00\")"
   ]
  },
  {
   "cell_type": "markdown",
   "metadata": {},
   "source": [
    "### Related Word list quantity\n",
    "This number specifies the number of words that will be returned in each list associated with the time periods specified above"
   ]
  },
  {
   "cell_type": "code",
   "execution_count": 136,
   "metadata": {},
   "outputs": [],
   "source": [
    "top_num_words = 300"
   ]
  },
  {
   "cell_type": "markdown",
   "metadata": {},
   "source": [
    "## Word Embeddings\n",
    "### Converting Words to Vectors using the 'Word2Vec' library\n",
    "\n",
    "- Iterate through each time period designated above\n",
    "- Apply the tokenization and cleaning functions\n",
    "- Convert the tokens to vectors"
   ]
  },
  {
   "cell_type": "code",
   "execution_count": 137,
   "metadata": {},
   "outputs": [],
   "source": [
    "for i in range(1,11):\n",
    "    for tweet_day in pd.date_range(start = tweet_date, end = end_date, freq = date_delta):\n",
    "        tweet_text = tweet_full_en.loc[tweet_day:tweet_day + date_delta,\"tweet_text\"]\n",
    "\n",
    "        tweets_tokens = tweet_text.apply(tokens_no_stopwords)\n",
    "        vector_model = Word2Vec(tweets_tokens, min_count=1, window=i, workers=1, size=100, seed=1, sg=1)\n",
    "        word_matrix = vector_model.wv[vector_model.wv.vocab]\n",
    "\n",
    "        terms_from_range = pd.DataFrame.from_records(vector_model.wv.most_similar(search_term,topn=top_num_words),\n",
    "                                                     columns=[tweet_day,\"score\"])\n",
    "\n",
    "        related_words = pd.concat([related_words,terms_from_range],axis=1)"
   ]
  },
  {
   "cell_type": "markdown",
   "metadata": {},
   "source": [
    "### Analysis on Cosine Similarity Values\n",
    "#### Checking lists of words and F1 scores for effectiveness of analysis based upon similar words contained."
   ]
  },
  {
   "cell_type": "code",
   "execution_count": 114,
   "metadata": {},
   "outputs": [],
   "source": [
    "# cos_sim_values = related_words.iloc[:,1::2]"
   ]
  },
  {
   "cell_type": "code",
   "execution_count": 115,
   "metadata": {
    "scrolled": true
   },
   "outputs": [],
   "source": [
    "# related_words.iloc[:,1::2] = (cos_sim_values - cos_sim_values.min())* 100 / (cos_sim_values.max() - cos_sim_values.min())"
   ]
  },
  {
   "cell_type": "code",
   "execution_count": 141,
   "metadata": {},
   "outputs": [
    {
     "data": {
      "text/html": [
       "<div>\n",
       "<style scoped>\n",
       "    .dataframe tbody tr th:only-of-type {\n",
       "        vertical-align: middle;\n",
       "    }\n",
       "\n",
       "    .dataframe tbody tr th {\n",
       "        vertical-align: top;\n",
       "    }\n",
       "\n",
       "    .dataframe thead th {\n",
       "        text-align: right;\n",
       "    }\n",
       "</style>\n",
       "<table border=\"1\" class=\"dataframe\">\n",
       "  <thead>\n",
       "    <tr style=\"text-align: right;\">\n",
       "      <th></th>\n",
       "      <th>2017-09-10 00:00:00</th>\n",
       "      <th>2017-09-10 00:00:00</th>\n",
       "      <th>2017-09-10 00:00:00</th>\n",
       "      <th>2017-09-10 00:00:00</th>\n",
       "      <th>2017-09-10 00:00:00</th>\n",
       "      <th>2017-09-10 00:00:00</th>\n",
       "      <th>2017-09-10 00:00:00</th>\n",
       "      <th>2017-09-10 00:00:00</th>\n",
       "      <th>2017-09-10 00:00:00</th>\n",
       "      <th>2017-09-10 00:00:00</th>\n",
       "    </tr>\n",
       "  </thead>\n",
       "  <tbody>\n",
       "    <tr>\n",
       "      <th>0</th>\n",
       "      <td>waiting</td>\n",
       "      <td>waiting</td>\n",
       "      <td>waiting</td>\n",
       "      <td>waiting</td>\n",
       "      <td>waiting</td>\n",
       "      <td>waiting</td>\n",
       "      <td>waiting</td>\n",
       "      <td>waiting</td>\n",
       "      <td>pass</td>\n",
       "      <td>waiting</td>\n",
       "    </tr>\n",
       "    <tr>\n",
       "      <th>1</th>\n",
       "      <td>arrival</td>\n",
       "      <td>ready</td>\n",
       "      <td>ready</td>\n",
       "      <td>ready</td>\n",
       "      <td>away</td>\n",
       "      <td>away</td>\n",
       "      <td>pass</td>\n",
       "      <td>ready</td>\n",
       "      <td>live</td>\n",
       "      <td>ready</td>\n",
       "    </tr>\n",
       "    <tr>\n",
       "      <th>2</th>\n",
       "      <td>#florida</td>\n",
       "      <td>update</td>\n",
       "      <td>away</td>\n",
       "      <td>away</td>\n",
       "      <td>pass</td>\n",
       "      <td>ready</td>\n",
       "      <td>live</td>\n",
       "      <td>away</td>\n",
       "      <td>away</td>\n",
       "      <td>pass</td>\n",
       "    </tr>\n",
       "    <tr>\n",
       "      <th>3</th>\n",
       "      <td>#miami</td>\n",
       "      <td>away</td>\n",
       "      <td>#hurrcaneirma</td>\n",
       "      <td>hours</td>\n",
       "      <td>live</td>\n",
       "      <td>sunday</td>\n",
       "      <td>away</td>\n",
       "      <td>pass</td>\n",
       "      <td>coverage</td>\n",
       "      <td>part</td>\n",
       "    </tr>\n",
       "    <tr>\n",
       "      <th>4</th>\n",
       "      <td>ready</td>\n",
       "      <td>know</td>\n",
       "      <td>hours</td>\n",
       "      <td>live</td>\n",
       "      <td>ready</td>\n",
       "      <td>pass</td>\n",
       "      <td>coverage</td>\n",
       "      <td>coverage</td>\n",
       "      <td>waiting</td>\n",
       "      <td>riding</td>\n",
       "    </tr>\n",
       "    <tr>\n",
       "      <th>5</th>\n",
       "      <td>update</td>\n",
       "      <td>best</td>\n",
       "      <td>live</td>\n",
       "      <td>wait</td>\n",
       "      <td>coverage</td>\n",
       "      <td>coverage</td>\n",
       "      <td>sunday</td>\n",
       "      <td>little</td>\n",
       "      <td>part</td>\n",
       "      <td>away</td>\n",
       "    </tr>\n",
       "    <tr>\n",
       "      <th>6</th>\n",
       "      <td>like</td>\n",
       "      <td>fuck</td>\n",
       "      <td>update</td>\n",
       "      <td>coverage</td>\n",
       "      <td>hours</td>\n",
       "      <td>live</td>\n",
       "      <td>part</td>\n",
       "      <td>part</td>\n",
       "      <td>close</td>\n",
       "      <td>gets</td>\n",
       "    </tr>\n",
       "    <tr>\n",
       "      <th>7</th>\n",
       "      <td>#coralsprings</td>\n",
       "      <td>hours</td>\n",
       "      <td>tonight</td>\n",
       "      <td>path</td>\n",
       "      <td>part</td>\n",
       "      <td>hours</td>\n",
       "      <td>ready</td>\n",
       "      <td>riding</td>\n",
       "      <td>gets</td>\n",
       "      <td>hunkered</td>\n",
       "    </tr>\n",
       "    <tr>\n",
       "      <th>8</th>\n",
       "      <td>need</td>\n",
       "      <td>need</td>\n",
       "      <td>#hurricaneirma2017</td>\n",
       "      <td>tonight</td>\n",
       "      <td>first</td>\n",
       "      <td>part</td>\n",
       "      <td>hours</td>\n",
       "      <td>sunday</td>\n",
       "      <td>hunkered</td>\n",
       "      <td>safety</td>\n",
       "    </tr>\n",
       "    <tr>\n",
       "      <th>9</th>\n",
       "      <td>away</td>\n",
       "      <td>house</td>\n",
       "      <td>state</td>\n",
       "      <td>sunday</td>\n",
       "      <td>#hurricaneharvey2017</td>\n",
       "      <td>#irmahurricane</td>\n",
       "      <td>calm</td>\n",
       "      <td>#irmahurricane</td>\n",
       "      <td>closer</td>\n",
       "      <td>closer</td>\n",
       "    </tr>\n",
       "  </tbody>\n",
       "</table>\n",
       "</div>"
      ],
      "text/plain": [
       "  2017-09-10 00:00:00 2017-09-10 00:00:00 2017-09-10 00:00:00  \\\n",
       "0             waiting             waiting             waiting   \n",
       "1             arrival               ready               ready   \n",
       "2            #florida              update                away   \n",
       "3              #miami                away       #hurrcaneirma   \n",
       "4               ready                know               hours   \n",
       "5              update                best                live   \n",
       "6                like                fuck              update   \n",
       "7       #coralsprings               hours             tonight   \n",
       "8                need                need  #hurricaneirma2017   \n",
       "9                away               house               state   \n",
       "\n",
       "  2017-09-10 00:00:00   2017-09-10 00:00:00 2017-09-10 00:00:00  \\\n",
       "0             waiting               waiting             waiting   \n",
       "1               ready                  away                away   \n",
       "2                away                  pass               ready   \n",
       "3               hours                  live              sunday   \n",
       "4                live                 ready                pass   \n",
       "5                wait              coverage            coverage   \n",
       "6            coverage                 hours                live   \n",
       "7                path                  part               hours   \n",
       "8             tonight                 first                part   \n",
       "9              sunday  #hurricaneharvey2017      #irmahurricane   \n",
       "\n",
       "  2017-09-10 00:00:00 2017-09-10 00:00:00 2017-09-10 00:00:00  \\\n",
       "0             waiting             waiting                pass   \n",
       "1                pass               ready                live   \n",
       "2                live                away                away   \n",
       "3                away                pass            coverage   \n",
       "4            coverage            coverage             waiting   \n",
       "5              sunday              little                part   \n",
       "6                part                part               close   \n",
       "7               ready              riding                gets   \n",
       "8               hours              sunday            hunkered   \n",
       "9                calm      #irmahurricane              closer   \n",
       "\n",
       "  2017-09-10 00:00:00  \n",
       "0             waiting  \n",
       "1               ready  \n",
       "2                pass  \n",
       "3                part  \n",
       "4              riding  \n",
       "5                away  \n",
       "6                gets  \n",
       "7            hunkered  \n",
       "8              safety  \n",
       "9              closer  "
      ]
     },
     "execution_count": 141,
     "metadata": {},
     "output_type": "execute_result"
    }
   ],
   "source": [
    "related_words.iloc[0:10,0::2]"
   ]
  },
  {
   "cell_type": "markdown",
   "metadata": {},
   "source": [
    "## Identifying Relationships with Human Coded Data"
   ]
  },
  {
   "cell_type": "markdown",
   "metadata": {},
   "source": [
    "### Using the list of related words to identify an Irma Related tweet."
   ]
  },
  {
   "cell_type": "markdown",
   "metadata": {},
   "source": [
    "Importing a list of human coded tweets for 'irma related'"
   ]
  },
  {
   "cell_type": "code",
   "execution_count": 117,
   "metadata": {},
   "outputs": [],
   "source": [
    "coded_tweets = pd.read_csv(r'./irma_related_tweets.csv')\n",
    "\n",
    "tweets_on_date = tweet_full_en.loc[tweet_date:tweet_date+date_delta]\n",
    "\n",
    "tweet_encoded = pd.concat([coded_tweets.reset_index(),tweets_on_date.iloc[:-1].reset_index()],axis=1)"
   ]
  },
  {
   "cell_type": "markdown",
   "metadata": {},
   "source": [
    "The counts of human coded Irma related tweets: 0 = not related, 1 = 'irma' related"
   ]
  },
  {
   "cell_type": "code",
   "execution_count": 118,
   "metadata": {},
   "outputs": [
    {
     "name": "stdout",
     "output_type": "stream",
     "text": [
      "irma_rel\n",
      "0    10792\n",
      "1     8296\n",
      "dtype: int64\n"
     ]
    }
   ],
   "source": [
    "hc_encoded_counts = tweet_encoded.loc[:,['tweet_id','timestamp','irma_rel','tweet_text']].groupby('irma_rel').size()\n",
    "print(hc_encoded_counts)"
   ]
  },
  {
   "cell_type": "code",
   "execution_count": 119,
   "metadata": {},
   "outputs": [
    {
     "data": {
      "text/plain": [
       "0        away\n",
       "1     waiting\n",
       "2       ready\n",
       "3      sunday\n",
       "4        pass\n",
       "5    category\n",
       "Name: 2017-09-10 00:00:00, dtype: object"
      ]
     },
     "execution_count": 119,
     "metadata": {},
     "output_type": "execute_result"
    }
   ],
   "source": [
    "related_words.iloc[0:6,0]"
   ]
  },
  {
   "cell_type": "markdown",
   "metadata": {},
   "source": [
    "### Calculating F1 scores"
   ]
  },
  {
   "cell_type": "markdown",
   "metadata": {},
   "source": [
    "Creating a function to evaluate F1 score for each iteration of the word list."
   ]
  },
  {
   "cell_type": "code",
   "execution_count": 218,
   "metadata": {},
   "outputs": [],
   "source": [
    "related_words_lists = related_words.iloc[:,0::2]"
   ]
  },
  {
   "cell_type": "code",
   "execution_count": 219,
   "metadata": {},
   "outputs": [],
   "source": [
    "def WordsCWScoreList(position,column=0):\n",
    "    related_word_list = list(related_words_lists.iloc[0:position,column])\n",
    "#     related_word_list.append(search_term)\n",
    "    return \"|\".join(related_word_list)"
   ]
  },
  {
   "cell_type": "markdown",
   "metadata": {},
   "source": [
    "This function takes a numeric position as an input. From there it:\n",
    "- finds all of the words in the cosine-similarity ordered list for the range are at that position or above.\n",
    "- creates a list of those words.\n",
    "- appends the search term to that list.\n",
    "- converts that list to a pipe-delimited string.\n",
    "\n",
    "This pipe-delimited string can be used as the input of the `pd.Series.str.contains()` method as a regular expression for matching rows who contain one or more of the terms."
   ]
  },
  {
   "cell_type": "code",
   "execution_count": 220,
   "metadata": {},
   "outputs": [
    {
     "data": {
      "text/plain": [
       "'waiting'"
      ]
     },
     "execution_count": 220,
     "metadata": {},
     "output_type": "execute_result"
    }
   ],
   "source": [
    "WordsCWScoreList(1,6)"
   ]
  },
  {
   "cell_type": "code",
   "execution_count": 122,
   "metadata": {},
   "outputs": [],
   "source": [
    "# def WordsMMScoreGreater(score):\n",
    "#     related_word_list = list(related_words[related_words.iloc[:,1] > score].iloc[:,0])\n",
    "#     related_word_list.append(search_term)\n",
    "#     return \"|\".join(related_word_list)"
   ]
  },
  {
   "cell_type": "markdown",
   "metadata": {},
   "source": [
    "For purposes of evaluating the effectiveneness of the related words threshold, there are 4 categories of tweets:\n",
    "- human-coded 'irma-related' and the word list is a match (true positive)\n",
    "- human-coded 'not irma-related' and the word list is a match (false positive)\n",
    "- human-coded 'irma-related' and the word list is not a match (false negative)\n",
    "- human-coded 'not irma-related' and the word list is not a match (true negative)"
   ]
  },
  {
   "cell_type": "code",
   "execution_count": 124,
   "metadata": {},
   "outputs": [],
   "source": [
    "from sklearn.metrics import classification_report, confusion_matrix, accuracy_score"
   ]
  },
  {
   "cell_type": "code",
   "execution_count": 221,
   "metadata": {},
   "outputs": [],
   "source": [
    "# score_matrix = pd.DataFrame(np.zeros(related_words_lists.shape))"
   ]
  },
  {
   "cell_type": "code",
   "execution_count": 222,
   "metadata": {},
   "outputs": [
    {
     "name": "stdout",
     "output_type": "stream",
     "text": [
      "0    0.584658\n",
      "1    0.000000\n",
      "2    0.000000\n",
      "3    0.000000\n",
      "4    0.000000\n",
      "5    0.000000\n",
      "6    0.000000\n",
      "7    0.000000\n",
      "8    0.000000\n",
      "9    0.000000\n",
      "Name: 299, dtype: float64\n",
      "0    0.584658\n",
      "1    0.571601\n",
      "2    0.000000\n",
      "3    0.000000\n",
      "4    0.000000\n",
      "5    0.000000\n",
      "6    0.000000\n",
      "7    0.000000\n",
      "8    0.000000\n",
      "9    0.000000\n",
      "Name: 299, dtype: float64\n",
      "0    0.584658\n",
      "1    0.571601\n",
      "2    0.594713\n",
      "3    0.000000\n",
      "4    0.000000\n",
      "5    0.000000\n",
      "6    0.000000\n",
      "7    0.000000\n",
      "8    0.000000\n",
      "9    0.000000\n",
      "Name: 299, dtype: float64\n",
      "0    0.584658\n",
      "1    0.571601\n",
      "2    0.594713\n",
      "3    0.581968\n",
      "4    0.000000\n",
      "5    0.000000\n",
      "6    0.000000\n",
      "7    0.000000\n",
      "8    0.000000\n",
      "9    0.000000\n",
      "Name: 299, dtype: float64\n",
      "0    0.584658\n",
      "1    0.571601\n",
      "2    0.594713\n",
      "3    0.581968\n",
      "4    0.578562\n",
      "5    0.000000\n",
      "6    0.000000\n",
      "7    0.000000\n",
      "8    0.000000\n",
      "9    0.000000\n",
      "Name: 299, dtype: float64\n",
      "0    0.584658\n",
      "1    0.571601\n",
      "2    0.594713\n",
      "3    0.581968\n",
      "4    0.578562\n",
      "5    0.641642\n",
      "6    0.000000\n",
      "7    0.000000\n",
      "8    0.000000\n",
      "9    0.000000\n",
      "Name: 299, dtype: float64\n",
      "0    0.584658\n",
      "1    0.571601\n",
      "2    0.594713\n",
      "3    0.581968\n",
      "4    0.578562\n",
      "5    0.641642\n",
      "6    0.625094\n",
      "7    0.000000\n",
      "8    0.000000\n",
      "9    0.000000\n",
      "Name: 299, dtype: float64\n",
      "0    0.584658\n",
      "1    0.571601\n",
      "2    0.594713\n",
      "3    0.581968\n",
      "4    0.578562\n",
      "5    0.641642\n",
      "6    0.625094\n",
      "7    0.615612\n",
      "8    0.000000\n",
      "9    0.000000\n",
      "Name: 299, dtype: float64\n",
      "0    0.584658\n",
      "1    0.571601\n",
      "2    0.594713\n",
      "3    0.581968\n",
      "4    0.578562\n",
      "5    0.641642\n",
      "6    0.625094\n",
      "7    0.615612\n",
      "8    0.592034\n",
      "9    0.000000\n",
      "Name: 299, dtype: float64\n",
      "0    0.584658\n",
      "1    0.571601\n",
      "2    0.594713\n",
      "3    0.581968\n",
      "4    0.578562\n",
      "5    0.641642\n",
      "6    0.625094\n",
      "7    0.615612\n",
      "8    0.592034\n",
      "9    0.590388\n",
      "Name: 299, dtype: float64\n"
     ]
    }
   ],
   "source": [
    "# for i in range(0,related_words_lists.shape[1]):\n",
    "#     for j in range(0,related_words_lists.shape[0]):\n",
    "#         score_matrix.iloc[j,i]=f1_score(tweet_encoded.irma_rel,tweet_encoded.tweet_text.str.contains(WordsCWScoreList(j,i),flags=re.IGNORECASE))   \n",
    "#     print(score_matrix.iloc[j,:])"
   ]
  },
  {
   "cell_type": "code",
   "execution_count": 224,
   "metadata": {},
   "outputs": [],
   "source": [
    "# import pickle"
   ]
  },
  {
   "cell_type": "code",
   "execution_count": 226,
   "metadata": {},
   "outputs": [],
   "source": [
    "# pickle.dump(score_matrix,open('./score_matrix.pkl',\"wb\"))"
   ]
  },
  {
   "cell_type": "code",
   "execution_count": 227,
   "metadata": {},
   "outputs": [],
   "source": [
    "score_matrix = pickle.load(open('./score_matrix.pkl',\"rb\"))"
   ]
  },
  {
   "cell_type": "code",
   "execution_count": 230,
   "metadata": {},
   "outputs": [],
   "source": [
    "# for i in range(0,top_num_words,10):\n",
    "#     print(str(i)+\": \",end=\"\")\n",
    "#     print(f1_score(tweet_encoded.irma_rel,tweet_encoded.tweet_text.str.contains(WordsCWScoreList(i),flags=re.IGNORECASE)))      "
   ]
  },
  {
   "cell_type": "code",
   "execution_count": 126,
   "metadata": {},
   "outputs": [
    {
     "data": {
      "text/plain": [
       "0.5696248952221291"
      ]
     },
     "execution_count": 126,
     "metadata": {},
     "output_type": "execute_result"
    }
   ],
   "source": [
    "# accuracy_score(tweet_encoded.irma_rel,tweet_encoded.tweet_text.str.contains(WordsCWScoreList(1),flags=re.IGNORECASE))"
   ]
  },
  {
   "cell_type": "code",
   "execution_count": 232,
   "metadata": {},
   "outputs": [],
   "source": [
    "import matplotlib.pyplot as plt\n",
    "%matplotlib inline"
   ]
  },
  {
   "cell_type": "code",
   "execution_count": 238,
   "metadata": {},
   "outputs": [
    {
     "data": {
      "text/plain": [
       "[<matplotlib.lines.Line2D at 0x1156072b0>,\n",
       " <matplotlib.lines.Line2D at 0x115607710>,\n",
       " <matplotlib.lines.Line2D at 0x115607b00>,\n",
       " <matplotlib.lines.Line2D at 0x115607438>,\n",
       " <matplotlib.lines.Line2D at 0x115607908>,\n",
       " <matplotlib.lines.Line2D at 0x115607e10>,\n",
       " <matplotlib.lines.Line2D at 0x115607978>,\n",
       " <matplotlib.lines.Line2D at 0x115607e80>,\n",
       " <matplotlib.lines.Line2D at 0x1156074e0>,\n",
       " <matplotlib.lines.Line2D at 0x115603c50>]"
      ]
     },
     "execution_count": 238,
     "metadata": {},
     "output_type": "execute_result"
    },
    {
     "data": {
      "image/png": "[encoded data removed]",
      "text/plain": [
       "<Figure size 1152x576 with 1 Axes>"
      ]
     },
     "metadata": {
      "needs_background": "light"
     },
     "output_type": "display_data"
    }
   ],
   "source": [
    "fig = plt.figure(figsize=(16,8))\n",
    "plt.plot(score_matrix.iloc[1:]);"
   ]
  },
  {
   "cell_type": "markdown",
   "metadata": {},
   "source": [
    "In the chart below, an increase in x represents a longer list of words whose inclusion would indicate an 'irma-related' tweet within the model. By allowing more words into this list, there is a larger number of tweets evaluated as a true positive result, but it also increases the false positives. The objective is to maximize the number of true positives, while minimizing false positives."
   ]
  },
  {
   "cell_type": "code",
   "execution_count": 128,
   "metadata": {},
   "outputs": [],
   "source": [
    "# fig = plt.figure(figsize=(16,8))\n",
    "# ax = fig.subplots()\n",
    "\n",
    "# color_list = [\"#562a72\", \"#862d63\", \"#aaa939\", \"#7e9f35\"]\n",
    "\n",
    "# ax.stackplot(score_matrix.iloc[1:,:].index, \n",
    "#              score_matrix.iloc[1:,:].TruePos, \n",
    "#              score_matrix.iloc[1:,:].FalseNeg, \n",
    "#              score_matrix.iloc[1:,:].FalsePos, \n",
    "#              score_matrix.iloc[1:,:].TrueNeg,\n",
    "#              labels=[\"True Positive\",\"False Negative\",\"False Positive\",\"True Negative\"],\n",
    "#             colors = color_list)\n",
    "# ax.axhline(hc_encoded_counts[1],linestyle=\"-.\",color=\"w\")\n",
    "# ax.legend(loc='upper left')\n",
    "# plt.show()"
   ]
  },
  {
   "cell_type": "code",
   "execution_count": 129,
   "metadata": {},
   "outputs": [],
   "source": [
    "# print(score_matrix.iloc[ceil(related_words.iloc[50].score)])"
   ]
  }
 ],
 "metadata": {
  "kernelspec": {
   "display_name": "Python 3",
   "language": "python",
   "name": "python3"
  },
  "language_info": {
   "codemirror_mode": {
    "name": "ipython",
    "version": 3
   },
   "file_extension": ".py",
   "mimetype": "text/x-python",
   "name": "python",
   "nbconvert_exporter": "python",
   "pygments_lexer": "ipython3",
   "version": "3.7.0"
  }
 },
 "nbformat": 4,
 "nbformat_minor": 2
}
