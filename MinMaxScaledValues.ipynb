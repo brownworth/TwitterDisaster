{
 "cells": [
  {
   "cell_type": "markdown",
   "metadata": {},
   "source": [
    "# Creating Lists of Words Related to a Specified Search Term"
   ]
  },
  {
   "cell_type": "markdown",
   "metadata": {},
   "source": [
    "## This algorithm provides the following:\n",
    "- Imports a dataframe of tweets\n",
    "- Processes tweets and tokenizes words\n",
    "- Uses Word Embeddings to convert words into vectors\n",
    "- Determines related words by using cosine similarity within the vector space\n",
    "- Generates a list, or lists, of words within the time delta(s) selected, ordered by min-maxed cosine similarity."
   ]
  },
  {
   "cell_type": "markdown",
   "metadata": {},
   "source": [
    "### Imported Libraries\n",
    "Libraries and modules below are used to import and process the tokens into vectors, removing extraneous words."
   ]
  },
  {
   "cell_type": "code",
   "execution_count": 1,
   "metadata": {},
   "outputs": [],
   "source": [
    "import pandas as pd\n",
    "import numpy as np\n",
    "from gensim.models import Word2Vec\n",
    "from nltk.tokenize import TweetTokenizer\n",
    "from nltk.corpus import stopwords\n",
    "from math import ceil\n",
    "import string\n",
    "import re"
   ]
  },
  {
   "cell_type": "markdown",
   "metadata": {},
   "source": [
    "### Tweet Import\n",
    "Importing and parsing tweets into dataframe, converting the datestamp strings to datetime objects."
   ]
  },
  {
   "cell_type": "code",
   "execution_count": 2,
   "metadata": {},
   "outputs": [],
   "source": [
    "columns = ['tweet_id','timestamp','tweet_text','user_id',\n",
    "           'tweet_coords','tweet_coords_list','tweet_long','tweet_lat','location',\n",
    "           'enc_url','tweet_lang','hashtags']\n",
    "tweet_full = pd.read_csv(r'./tweetCoords.csv',\n",
    "                         header=None,\n",
    "                         names=columns,\n",
    "                         parse_dates=[1],\n",
    "                         infer_datetime_format=True,\n",
    "                         index_col='timestamp')"
   ]
  },
  {
   "cell_type": "markdown",
   "metadata": {},
   "source": [
    "### Isolating Tweets by language (english)\n"
   ]
  },
  {
   "cell_type": "code",
   "execution_count": 3,
   "metadata": {},
   "outputs": [],
   "source": [
    "tweet_full_en = tweet_full[tweet_full['tweet_lang'] == 'en']"
   ]
  },
  {
   "cell_type": "markdown",
   "metadata": {},
   "source": [
    "### Text Cleaning and Tokenization Functions"
   ]
  },
  {
   "cell_type": "code",
   "execution_count": 4,
   "metadata": {},
   "outputs": [],
   "source": [
    "tweet_stops = stopwords.words('english')\n",
    "tweet_tokenizer = TweetTokenizer(strip_handles=True,preserve_case=False,reduce_len=True)\n",
    "\n",
    "def clean_tweet(tweet):\n",
    "#     takes input string and converts or removes characters depending on settings.\n",
    "#     returns a string\n",
    "#     convert case:\n",
    "    tweet = tweet.lower()\n",
    "#     remove URLs:\n",
    "    tweet = re.sub('https?://\\S+','',tweet)\n",
    "#     remove @mentions, including those with a leading '-' or '.' : \n",
    "    tweet = re.sub('[-\\.]?@\\w+','',tweet)\n",
    "#     remove punctuation, but not hashtags:\n",
    "    tweet = tweet.translate(tweet.maketrans('','',string.punctuation.replace(\"#\",\"\")))\n",
    "#     remove non-hashtag '#'.\n",
    "    tweet = re.sub('#\\B','',tweet)\n",
    "#     remove 'amp', 'gt', 'lt', indicating decoded ampersand, greater-than, less-than characters\n",
    "    tweet = re.sub(r'\\b(amp|gt|lt)\\b','',tweet)\n",
    "#     drop numbers and words of < 4 characters.\n",
    "    tweet = re.sub(r'\\b\\w{1,3}\\b','',tweet)\n",
    "    tweet = re.sub(r'\\b\\d+\\b','',tweet)\n",
    "    return tweet\n",
    "\n",
    "def tokens_no_stopwords(tweet_as_string):\n",
    "#     wrapper function that combines the tokenizer, cleaner, and stopword removal.\n",
    "#     takes a string and returns a list of strings\n",
    "    cleaned_tweet = clean_tweet(tweet_as_string)\n",
    "    tweet_as_tokens = tweet_tokenizer.tokenize(cleaned_tweet)\n",
    "    tweet_no_stops = [word for word in tweet_as_tokens if word not in tweet_stops]\n",
    "    \n",
    "    return tweet_no_stops"
   ]
  },
  {
   "cell_type": "markdown",
   "metadata": {},
   "source": [
    "### Search Term\n",
    "This is the term that will serve as the comparison for all later lists."
   ]
  },
  {
   "cell_type": "code",
   "execution_count": 114,
   "metadata": {},
   "outputs": [],
   "source": [
    "search_term = \"irma\""
   ]
  },
  {
   "cell_type": "markdown",
   "metadata": {},
   "source": [
    "### Related Words Dataframe and Time Deltas\n",
    "This instantiates the dataframe for the related words and specifies the start, end, and time delta for the periods of related words."
   ]
  },
  {
   "cell_type": "code",
   "execution_count": 115,
   "metadata": {},
   "outputs": [],
   "source": [
    "related_words = pd.DataFrame()\n",
    "tweet_date = pd.to_datetime(\"2017-09-10 00:00:00\")\n",
    "date_delta = pd.Timedelta(\"24HR\")\n",
    "end_date = pd.to_datetime(\"2017-09-10 00:00:00\")"
   ]
  },
  {
   "cell_type": "markdown",
   "metadata": {},
   "source": [
    "### Related Word list quantity\n",
    "This number specifies the number of words that will be returned in each list associated with the time periods specified above"
   ]
  },
  {
   "cell_type": "code",
   "execution_count": 116,
   "metadata": {},
   "outputs": [],
   "source": [
    "top_num_words = 300"
   ]
  },
  {
   "cell_type": "markdown",
   "metadata": {},
   "source": [
    "## Word Embeddings\n",
    "### Converting Words to Vectors using the 'Word2Vec' library\n",
    "\n",
    "- Iterate through each time period designated above\n",
    "- Apply the tokenization and cleaning functions\n",
    "- Convert the tokens to vectors using the following:\n",
    "    - Minimum count = 1\n",
    "    - Skip-Gram\n",
    "    - Window of 3\n",
    "    - 100D vectors"
   ]
  },
  {
   "cell_type": "code",
   "execution_count": 117,
   "metadata": {},
   "outputs": [],
   "source": [
    "for tweet_day in pd.date_range(start = tweet_date, end = end_date, freq = date_delta):\n",
    "    tweet_text = tweet_full_en.loc[tweet_day:tweet_day + date_delta,\"tweet_text\"]\n",
    "\n",
    "    tweets_tokens = tweet_text.apply(tokens_no_stopwords)\n",
    "    vector_model = Word2Vec(tweets_tokens, min_count=1, window=11, workers=1, size=100, seed=1, sg=1)\n",
    "    word_matrix = vector_model.wv[vector_model.wv.vocab]\n",
    "\n",
    "    terms_from_range = pd.DataFrame.from_records(vector_model.wv.most_similar(search_term,topn=top_num_words),\n",
    "                                                 columns=[tweet_day,\"score\"])\n",
    "\n",
    "    related_words = pd.concat([related_words,terms_from_range],axis=1)"
   ]
  },
  {
   "cell_type": "markdown",
   "metadata": {},
   "source": [
    "### MinMax Scaling on Cosine Similarity Values\n",
    "Convert the cosine similarity to min-maxed value"
   ]
  },
  {
   "cell_type": "code",
   "execution_count": 118,
   "metadata": {},
   "outputs": [],
   "source": [
    "cos_sim_values = related_words.iloc[:,1::2]"
   ]
  },
  {
   "cell_type": "code",
   "execution_count": 119,
   "metadata": {
    "scrolled": true
   },
   "outputs": [],
   "source": [
    "related_words.iloc[:,1::2] = (cos_sim_values - cos_sim_values.min())* 100 / (cos_sim_values.max() - cos_sim_values.min())"
   ]
  },
  {
   "cell_type": "code",
   "execution_count": 120,
   "metadata": {},
   "outputs": [
    {
     "data": {
      "text/html": [
       "<div>\n",
       "<style scoped>\n",
       "    .dataframe tbody tr th:only-of-type {\n",
       "        vertical-align: middle;\n",
       "    }\n",
       "\n",
       "    .dataframe tbody tr th {\n",
       "        vertical-align: top;\n",
       "    }\n",
       "\n",
       "    .dataframe thead th {\n",
       "        text-align: right;\n",
       "    }\n",
       "</style>\n",
       "<table border=\"1\" class=\"dataframe\">\n",
       "  <thead>\n",
       "    <tr style=\"text-align: right;\">\n",
       "      <th></th>\n",
       "      <th>2017-09-10 00:00:00</th>\n",
       "      <th>score</th>\n",
       "    </tr>\n",
       "  </thead>\n",
       "  <tbody>\n",
       "    <tr>\n",
       "      <th>0</th>\n",
       "      <td>waiting</td>\n",
       "      <td>100.000000</td>\n",
       "    </tr>\n",
       "    <tr>\n",
       "      <th>1</th>\n",
       "      <td>away</td>\n",
       "      <td>88.847305</td>\n",
       "    </tr>\n",
       "    <tr>\n",
       "      <th>2</th>\n",
       "      <td>pass</td>\n",
       "      <td>87.409633</td>\n",
       "    </tr>\n",
       "    <tr>\n",
       "      <th>3</th>\n",
       "      <td>category</td>\n",
       "      <td>78.739670</td>\n",
       "    </tr>\n",
       "    <tr>\n",
       "      <th>4</th>\n",
       "      <td>little</td>\n",
       "      <td>76.723000</td>\n",
       "    </tr>\n",
       "  </tbody>\n",
       "</table>\n",
       "</div>"
      ],
      "text/plain": [
       "  2017-09-10 00:00:00       score\n",
       "0             waiting  100.000000\n",
       "1                away   88.847305\n",
       "2                pass   87.409633\n",
       "3            category   78.739670\n",
       "4              little   76.723000"
      ]
     },
     "execution_count": 120,
     "metadata": {},
     "output_type": "execute_result"
    }
   ],
   "source": [
    "related_words.head(5)"
   ]
  },
  {
   "cell_type": "markdown",
   "metadata": {},
   "source": [
    "## Identifying Relationships with Human Coded Data"
   ]
  },
  {
   "cell_type": "markdown",
   "metadata": {},
   "source": [
    "### Using the list of related words to identify an Irma Related tweet."
   ]
  },
  {
   "cell_type": "markdown",
   "metadata": {},
   "source": [
    "Importing a list of human coded tweets for 'irma related'"
   ]
  },
  {
   "cell_type": "code",
   "execution_count": 121,
   "metadata": {},
   "outputs": [],
   "source": [
    "coded_tweets = pd.read_csv(r'./irma_related_tweets.csv')\n",
    "\n",
    "tweets_on_date = tweet_full_en.loc[tweet_date:tweet_date+date_delta]\n",
    "\n",
    "tweet_encoded = pd.concat([coded_tweets.reset_index(),tweets_on_date.iloc[:-1].reset_index()],axis=1)"
   ]
  },
  {
   "cell_type": "markdown",
   "metadata": {},
   "source": [
    "The counts of human coded Irma related tweets: 0 = not related, 1 = 'irma' related"
   ]
  },
  {
   "cell_type": "code",
   "execution_count": 122,
   "metadata": {},
   "outputs": [
    {
     "name": "stdout",
     "output_type": "stream",
     "text": [
      "irma_rel\n",
      "0    10792\n",
      "1     8296\n",
      "dtype: int64\n"
     ]
    }
   ],
   "source": [
    "hc_encoded_counts = tweet_encoded.loc[:,['tweet_id','timestamp','irma_rel','tweet_text']].groupby('irma_rel').size()\n",
    "print(hc_encoded_counts)"
   ]
  },
  {
   "cell_type": "code",
   "execution_count": 123,
   "metadata": {},
   "outputs": [
    {
     "data": {
      "text/html": [
       "<div>\n",
       "<style scoped>\n",
       "    .dataframe tbody tr th:only-of-type {\n",
       "        vertical-align: middle;\n",
       "    }\n",
       "\n",
       "    .dataframe tbody tr th {\n",
       "        vertical-align: top;\n",
       "    }\n",
       "\n",
       "    .dataframe thead th {\n",
       "        text-align: right;\n",
       "    }\n",
       "</style>\n",
       "<table border=\"1\" class=\"dataframe\">\n",
       "  <thead>\n",
       "    <tr style=\"text-align: right;\">\n",
       "      <th></th>\n",
       "      <th>2017-09-10 00:00:00</th>\n",
       "      <th>score</th>\n",
       "    </tr>\n",
       "  </thead>\n",
       "  <tbody>\n",
       "    <tr>\n",
       "      <th>0</th>\n",
       "      <td>waiting</td>\n",
       "      <td>100.0</td>\n",
       "    </tr>\n",
       "  </tbody>\n",
       "</table>\n",
       "</div>"
      ],
      "text/plain": [
       "  2017-09-10 00:00:00  score\n",
       "0             waiting  100.0"
      ]
     },
     "execution_count": 123,
     "metadata": {},
     "output_type": "execute_result"
    }
   ],
   "source": [
    "related_words[related_words.score > 98]"
   ]
  },
  {
   "cell_type": "markdown",
   "metadata": {},
   "source": [
    "This function takes a numeric score as an input. From there it:\n",
    "- finds all of the words whose cosine similarity min-maxed for the range are greater than the 'score'.\n",
    "- creates a list of those words.\n",
    "- appends the search term to that list.\n",
    "- converts that list to a pipe-delimited string.\n",
    "\n",
    "This pipe-delimited string can be used as the input of the `pd.Series.str.contains()` method as a regular expression for matching rows who contain one or more of the terms."
   ]
  },
  {
   "cell_type": "code",
   "execution_count": 124,
   "metadata": {},
   "outputs": [],
   "source": [
    "def WordsScoreGreater(score):\n",
    "    related_word_list = list(related_words[related_words.iloc[:,1] > score].iloc[:,0])\n",
    "    related_word_list.append(search_term)\n",
    "    return \"|\".join(related_word_list)"
   ]
  },
  {
   "cell_type": "markdown",
   "metadata": {},
   "source": [
    "For purposes of evaluating the effectiveneness of the related words threshold, there are 4 categories of tweets:\n",
    "- human-coded 'irma-related' and the word list is a match (true positive)\n",
    "- human-coded 'not irma-related' and the word list is a match (false positive)\n",
    "- human-coded 'irma-related' and the word list is not a match (false negative)\n",
    "- human-coded 'not irma-related' and the word list is not a match (true negative)\n",
    "\n",
    "The dataframe here acts as a confusion matrix for integer thresholds of the related words scores."
   ]
  },
  {
   "cell_type": "code",
   "execution_count": 125,
   "metadata": {},
   "outputs": [],
   "source": [
    "score_matrix = pd.DataFrame()"
   ]
  },
  {
   "cell_type": "code",
   "execution_count": 126,
   "metadata": {},
   "outputs": [],
   "source": [
    "for i in list(range(100,0,-1)):\n",
    "    score_entries = pd.Series([i,\n",
    "               len(tweet_encoded[(tweet_encoded.tweet_text.str.contains(WordsScoreGreater(i),flags=re.IGNORECASE)) & (tweet_encoded.irma_rel == 1)]),\n",
    "               len(tweet_encoded[(tweet_encoded.tweet_text.str.contains(WordsScoreGreater(i),flags=re.IGNORECASE)) & (tweet_encoded.irma_rel == 0)]),\n",
    "               len(tweet_encoded[~(tweet_encoded.tweet_text.str.contains(WordsScoreGreater(i),flags=re.IGNORECASE)) & (tweet_encoded.irma_rel == 1)]),\n",
    "               len(tweet_encoded[~(tweet_encoded.tweet_text.str.contains(WordsScoreGreater(i),flags=re.IGNORECASE)) & (tweet_encoded.irma_rel == 0)])]\n",
    "            )\n",
    "    score_matrix = score_matrix.append(score_entries,ignore_index=True)"
   ]
  },
  {
   "cell_type": "code",
   "execution_count": 127,
   "metadata": {},
   "outputs": [],
   "source": [
    "import matplotlib.pyplot as plt\n",
    "%matplotlib inline"
   ]
  },
  {
   "cell_type": "code",
   "execution_count": 128,
   "metadata": {},
   "outputs": [],
   "source": [
    "col_names = ['val','TruePos','FalsePos','FalseNeg','TrueNeg']\n",
    "score_matrix.columns = col_names"
   ]
  },
  {
   "cell_type": "code",
   "execution_count": 134,
   "metadata": {
    "scrolled": true
   },
   "outputs": [
    {
     "data": {
      "text/html": [
       "<div>\n",
       "<style scoped>\n",
       "    .dataframe tbody tr th:only-of-type {\n",
       "        vertical-align: middle;\n",
       "    }\n",
       "\n",
       "    .dataframe tbody tr th {\n",
       "        vertical-align: top;\n",
       "    }\n",
       "\n",
       "    .dataframe thead th {\n",
       "        text-align: right;\n",
       "    }\n",
       "</style>\n",
       "<table border=\"1\" class=\"dataframe\">\n",
       "  <thead>\n",
       "    <tr style=\"text-align: right;\">\n",
       "      <th></th>\n",
       "      <th>val</th>\n",
       "      <th>TruePos</th>\n",
       "      <th>FalsePos</th>\n",
       "      <th>FalseNeg</th>\n",
       "      <th>TrueNeg</th>\n",
       "    </tr>\n",
       "  </thead>\n",
       "  <tbody>\n",
       "    <tr>\n",
       "      <th>0</th>\n",
       "      <td>100.0</td>\n",
       "      <td>4416.0</td>\n",
       "      <td>256.0</td>\n",
       "      <td>3880.0</td>\n",
       "      <td>10536.0</td>\n",
       "    </tr>\n",
       "    <tr>\n",
       "      <th>1</th>\n",
       "      <td>99.0</td>\n",
       "      <td>4443.0</td>\n",
       "      <td>288.0</td>\n",
       "      <td>3853.0</td>\n",
       "      <td>10504.0</td>\n",
       "    </tr>\n",
       "    <tr>\n",
       "      <th>2</th>\n",
       "      <td>98.0</td>\n",
       "      <td>4443.0</td>\n",
       "      <td>288.0</td>\n",
       "      <td>3853.0</td>\n",
       "      <td>10504.0</td>\n",
       "    </tr>\n",
       "    <tr>\n",
       "      <th>3</th>\n",
       "      <td>97.0</td>\n",
       "      <td>4443.0</td>\n",
       "      <td>288.0</td>\n",
       "      <td>3853.0</td>\n",
       "      <td>10504.0</td>\n",
       "    </tr>\n",
       "    <tr>\n",
       "      <th>4</th>\n",
       "      <td>96.0</td>\n",
       "      <td>4443.0</td>\n",
       "      <td>288.0</td>\n",
       "      <td>3853.0</td>\n",
       "      <td>10504.0</td>\n",
       "    </tr>\n",
       "    <tr>\n",
       "      <th>5</th>\n",
       "      <td>95.0</td>\n",
       "      <td>4443.0</td>\n",
       "      <td>288.0</td>\n",
       "      <td>3853.0</td>\n",
       "      <td>10504.0</td>\n",
       "    </tr>\n",
       "    <tr>\n",
       "      <th>6</th>\n",
       "      <td>94.0</td>\n",
       "      <td>4443.0</td>\n",
       "      <td>288.0</td>\n",
       "      <td>3853.0</td>\n",
       "      <td>10504.0</td>\n",
       "    </tr>\n",
       "    <tr>\n",
       "      <th>7</th>\n",
       "      <td>93.0</td>\n",
       "      <td>4443.0</td>\n",
       "      <td>288.0</td>\n",
       "      <td>3853.0</td>\n",
       "      <td>10504.0</td>\n",
       "    </tr>\n",
       "    <tr>\n",
       "      <th>8</th>\n",
       "      <td>92.0</td>\n",
       "      <td>4443.0</td>\n",
       "      <td>288.0</td>\n",
       "      <td>3853.0</td>\n",
       "      <td>10504.0</td>\n",
       "    </tr>\n",
       "    <tr>\n",
       "      <th>9</th>\n",
       "      <td>91.0</td>\n",
       "      <td>4443.0</td>\n",
       "      <td>288.0</td>\n",
       "      <td>3853.0</td>\n",
       "      <td>10504.0</td>\n",
       "    </tr>\n",
       "  </tbody>\n",
       "</table>\n",
       "</div>"
      ],
      "text/plain": [
       "     val  TruePos  FalsePos  FalseNeg  TrueNeg\n",
       "0  100.0   4416.0     256.0    3880.0  10536.0\n",
       "1   99.0   4443.0     288.0    3853.0  10504.0\n",
       "2   98.0   4443.0     288.0    3853.0  10504.0\n",
       "3   97.0   4443.0     288.0    3853.0  10504.0\n",
       "4   96.0   4443.0     288.0    3853.0  10504.0\n",
       "5   95.0   4443.0     288.0    3853.0  10504.0\n",
       "6   94.0   4443.0     288.0    3853.0  10504.0\n",
       "7   93.0   4443.0     288.0    3853.0  10504.0\n",
       "8   92.0   4443.0     288.0    3853.0  10504.0\n",
       "9   91.0   4443.0     288.0    3853.0  10504.0"
      ]
     },
     "execution_count": 134,
     "metadata": {},
     "output_type": "execute_result"
    }
   ],
   "source": [
    "score_matrix.head(10)"
   ]
  },
  {
   "cell_type": "markdown",
   "metadata": {},
   "source": [
    "In the chart below, an increase in x represents a longer list of words whose inclusion would indicate an 'irma-related' tweet within the model. By allowing more words into this list, there is a larger number of tweets evaluated as a true positive result, but it also increases the false positives. The objective is to maximize the number of true positives, while minimizing false positives."
   ]
  },
  {
   "cell_type": "code",
   "execution_count": 133,
   "metadata": {},
   "outputs": [
    {
     "data": {
      "image/png": "[encoded data removed]",
      "text/plain": [
       "<Figure size 1152x576 with 1 Axes>"
      ]
     },
     "metadata": {
      "needs_background": "light"
     },
     "output_type": "display_data"
    }
   ],
   "source": [
    "fig = plt.figure(figsize=(16,8))\n",
    "ax = fig.subplots()\n",
    "\n",
    "color_list = [\"#562a72\", \"#862d63\", \"#aaa939\", \"#7e9f35\"]\n",
    "\n",
    "ax.stackplot(score_matrix.iloc[1:,:].index, \n",
    "             score_matrix.iloc[1:,:].TruePos, \n",
    "             score_matrix.iloc[1:,:].FalseNeg, \n",
    "             score_matrix.iloc[1:,:].FalsePos, \n",
    "             score_matrix.iloc[1:,:].TrueNeg,\n",
    "             labels=[\"True Positive\",\"False Negative\",\"False Positive\",\"True Negative\"],\n",
    "            colors = color_list)\n",
    "ax.axhline(hc_encoded_counts[1],linestyle=\"-.\",color=\"w\")\n",
    "ax.legend(loc='upper left')\n",
    "plt.show()"
   ]
  },
  {
   "cell_type": "code",
   "execution_count": 136,
   "metadata": {},
   "outputs": [
    {
     "name": "stdout",
     "output_type": "stream",
     "text": [
      "val           61.0\n",
      "TruePos     4877.0\n",
      "FalsePos    1029.0\n",
      "FalseNeg    3419.0\n",
      "TrueNeg     9763.0\n",
      "Name: 39, dtype: float64\n"
     ]
    }
   ],
   "source": [
    "print(score_matrix.iloc[ceil(related_words.iloc[50].score)])"
   ]
  },
  {
   "cell_type": "code",
   "execution_count": 132,
   "metadata": {},
   "outputs": [
    {
     "data": {
      "text/html": [
       "<div>\n",
       "<style scoped>\n",
       "    .dataframe tbody tr th:only-of-type {\n",
       "        vertical-align: middle;\n",
       "    }\n",
       "\n",
       "    .dataframe tbody tr th {\n",
       "        vertical-align: top;\n",
       "    }\n",
       "\n",
       "    .dataframe thead th {\n",
       "        text-align: right;\n",
       "    }\n",
       "</style>\n",
       "<table border=\"1\" class=\"dataframe\">\n",
       "  <thead>\n",
       "    <tr style=\"text-align: right;\">\n",
       "      <th></th>\n",
       "      <th>val</th>\n",
       "      <th>TruePos</th>\n",
       "      <th>FalsePos</th>\n",
       "      <th>FalseNeg</th>\n",
       "      <th>TrueNeg</th>\n",
       "    </tr>\n",
       "  </thead>\n",
       "  <tbody>\n",
       "    <tr>\n",
       "      <th>57</th>\n",
       "      <td>43.0</td>\n",
       "      <td>5351.0</td>\n",
       "      <td>1764.0</td>\n",
       "      <td>2945.0</td>\n",
       "      <td>9028.0</td>\n",
       "    </tr>\n",
       "    <tr>\n",
       "      <th>39</th>\n",
       "      <td>61.0</td>\n",
       "      <td>4877.0</td>\n",
       "      <td>1029.0</td>\n",
       "      <td>3419.0</td>\n",
       "      <td>9763.0</td>\n",
       "    </tr>\n",
       "    <tr>\n",
       "      <th>32</th>\n",
       "      <td>68.0</td>\n",
       "      <td>4663.0</td>\n",
       "      <td>674.0</td>\n",
       "      <td>3633.0</td>\n",
       "      <td>10118.0</td>\n",
       "    </tr>\n",
       "    <tr>\n",
       "      <th>27</th>\n",
       "      <td>73.0</td>\n",
       "      <td>4549.0</td>\n",
       "      <td>470.0</td>\n",
       "      <td>3747.0</td>\n",
       "      <td>10322.0</td>\n",
       "    </tr>\n",
       "    <tr>\n",
       "      <th>17</th>\n",
       "      <td>83.0</td>\n",
       "      <td>4503.0</td>\n",
       "      <td>373.0</td>\n",
       "      <td>3793.0</td>\n",
       "      <td>10419.0</td>\n",
       "    </tr>\n",
       "    <tr>\n",
       "      <th>12</th>\n",
       "      <td>88.0</td>\n",
       "      <td>4472.0</td>\n",
       "      <td>331.0</td>\n",
       "      <td>3824.0</td>\n",
       "      <td>10461.0</td>\n",
       "    </tr>\n",
       "    <tr>\n",
       "      <th>6</th>\n",
       "      <td>94.0</td>\n",
       "      <td>4443.0</td>\n",
       "      <td>288.0</td>\n",
       "      <td>3853.0</td>\n",
       "      <td>10504.0</td>\n",
       "    </tr>\n",
       "    <tr>\n",
       "      <th>0</th>\n",
       "      <td>100.0</td>\n",
       "      <td>4416.0</td>\n",
       "      <td>256.0</td>\n",
       "      <td>3880.0</td>\n",
       "      <td>10536.0</td>\n",
       "    </tr>\n",
       "  </tbody>\n",
       "</table>\n",
       "</div>"
      ],
      "text/plain": [
       "      val  TruePos  FalsePos  FalseNeg  TrueNeg\n",
       "57   43.0   5351.0    1764.0    2945.0   9028.0\n",
       "39   61.0   4877.0    1029.0    3419.0   9763.0\n",
       "32   68.0   4663.0     674.0    3633.0  10118.0\n",
       "27   73.0   4549.0     470.0    3747.0  10322.0\n",
       "17   83.0   4503.0     373.0    3793.0  10419.0\n",
       "12   88.0   4472.0     331.0    3824.0  10461.0\n",
       "6    94.0   4443.0     288.0    3853.0  10504.0\n",
       "0   100.0   4416.0     256.0    3880.0  10536.0"
      ]
     },
     "execution_count": 132,
     "metadata": {},
     "output_type": "execute_result"
    }
   ],
   "source": [
    "score_matrix.iloc[[ceil(related_words.iloc[i].score) for i in [20,50,75,100,150,200,250,299]]]"
   ]
  },
  {
   "cell_type": "code",
   "execution_count": 155,
   "metadata": {},
   "outputs": [
    {
     "name": "stdout",
     "output_type": "stream",
     "text": [
      "related words above 100%: 4549.0 / 8296\n",
      "related words above 90%: 4619.0 / 8296\n",
      "related words above 80%: 4652.0 / 8296\n",
      "related words above 70%: 4716.0 / 8296\n",
      "related words above 60%: 4857.0 / 8296\n",
      "related words above 50%: 4877.0 / 8296\n",
      "related words above 40%: 5014.0 / 8296\n",
      "related words above 30%: 5110.0 / 8296\n",
      "related words above 20%: 5351.0 / 8296\n",
      "related words above 10%: 5646.0 / 8296\n"
     ]
    }
   ],
   "source": [
    "hc_pos = hc_encoded_counts[1]\n",
    "for i in list(range(100,0,-10)):\n",
    "    print(\"related words above \"+str(i)+\"%: \"+ str(score_matrix.iloc[ceil(related_words.iloc[i].score),1])+\" / \"+str(hc_pos) )"
   ]
  }
 ],
 "metadata": {
  "kernelspec": {
   "display_name": "Python 3",
   "language": "python",
   "name": "python3"
  },
  "language_info": {
   "codemirror_mode": {
    "name": "ipython",
    "version": 3
   },
   "file_extension": ".py",
   "mimetype": "text/x-python",
   "name": "python",
   "nbconvert_exporter": "python",
   "pygments_lexer": "ipython3",
   "version": "3.7.0"
  }
 },
 "nbformat": 4,
 "nbformat_minor": 2
}
