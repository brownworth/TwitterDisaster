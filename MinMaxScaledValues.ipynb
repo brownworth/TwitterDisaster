{
 "cells": [
  {
   "cell_type": "markdown",
   "metadata": {},
   "source": [
    "# Creating Lists of Words Related to a Specified Search Term"
   ]
  },
  {
   "cell_type": "markdown",
   "metadata": {},
   "source": [
    "## This algorithm provides the following:\n",
    "- Imports a dataframe of tweets\n",
    "- Processes tweets and tokenizes words\n",
    "- Uses Word Embeddings to convert words into vectors\n",
    "- Determines related words by using cosine similarity within the vector space\n",
    "- Generates a list, or lists, of words within the time delta(s) selected, ordered by cosine similarity."
   ]
  },
  {
   "cell_type": "markdown",
   "metadata": {},
   "source": [
    "### Imported Libraries\n",
    "Libraries and modules below are used to import and process the tokens into vectors, removing extraneous words."
   ]
  },
  {
   "cell_type": "code",
   "execution_count": 448,
   "metadata": {},
   "outputs": [],
   "source": [
    "import pandas as pd\n",
    "import numpy as np\n",
    "from gensim.models import Word2Vec\n",
    "from nltk.tokenize import TweetTokenizer\n",
    "from nltk.corpus import stopwords\n",
    "from math import ceil\n",
    "from sklearn.metrics import f1_score, classification_report, confusion_matrix, accuracy_score, precision_score, recall_score\n",
    "import string\n",
    "import re"
   ]
  },
  {
   "cell_type": "markdown",
   "metadata": {},
   "source": [
    "### Tweet Import\n",
    "Importing and parsing tweets into dataframe, converting the datestamp strings to datetime objects."
   ]
  },
  {
   "cell_type": "code",
   "execution_count": 2,
   "metadata": {},
   "outputs": [],
   "source": [
    "columns = ['tweet_id','timestamp','tweet_text','user_id',\n",
    "           'tweet_coords','tweet_coords_list','tweet_long','tweet_lat','location',\n",
    "           'enc_url','tweet_lang','hashtags']\n",
    "tweet_full = pd.read_csv(r'./tweetCoords.csv',\n",
    "                         header=None,\n",
    "                         names=columns,\n",
    "                         parse_dates=[1],\n",
    "                         infer_datetime_format=True,\n",
    "                         index_col='timestamp')"
   ]
  },
  {
   "cell_type": "markdown",
   "metadata": {},
   "source": [
    "### Isolating Tweets by language (english)\n"
   ]
  },
  {
   "cell_type": "code",
   "execution_count": 3,
   "metadata": {},
   "outputs": [],
   "source": [
    "tweet_full_en = tweet_full[tweet_full['tweet_lang'] == 'en']"
   ]
  },
  {
   "cell_type": "markdown",
   "metadata": {},
   "source": [
    "### Text Cleaning and Tokenization Functions"
   ]
  },
  {
   "cell_type": "code",
   "execution_count": 4,
   "metadata": {},
   "outputs": [],
   "source": [
    "tweet_stops = stopwords.words('english')\n",
    "tweet_tokenizer = TweetTokenizer(strip_handles=True,preserve_case=False,reduce_len=True)\n",
    "\n",
    "def clean_tweet(tweet):\n",
    "#     takes input string and converts or removes characters depending on settings.\n",
    "#     returns a string\n",
    "#     convert case:\n",
    "    tweet = tweet.lower()\n",
    "#     remove URLs:\n",
    "    tweet = re.sub('https?://\\S+','',tweet)\n",
    "#     remove @mentions, including those with a leading '-' or '.' : \n",
    "    tweet = re.sub('[-\\.]?@\\w+','',tweet)\n",
    "#     remove punctuation, but not hashtags:\n",
    "    tweet = tweet.translate(tweet.maketrans('','',string.punctuation.replace(\"#\",\"\")))\n",
    "#     remove non-hashtag '#'.\n",
    "    tweet = re.sub('#\\B','',tweet)\n",
    "#     remove 'amp', 'gt', 'lt', indicating decoded ampersand, greater-than, less-than characters\n",
    "    tweet = re.sub(r'\\b(amp|gt|lt)\\b','',tweet)\n",
    "#     drop numbers and words of < 4 characters.\n",
    "    tweet = re.sub(r'\\b\\w{1,3}\\b','',tweet)\n",
    "    tweet = re.sub(r'\\b\\d+\\b','',tweet)\n",
    "    return tweet\n",
    "\n",
    "def tokens_no_stopwords(tweet_as_string):\n",
    "#     wrapper function that combines the tokenizer, cleaner, and stopword removal.\n",
    "#     takes a string and returns a list of strings\n",
    "    cleaned_tweet = clean_tweet(tweet_as_string)\n",
    "    tweet_as_tokens = tweet_tokenizer.tokenize(cleaned_tweet)\n",
    "    tweet_no_stops = [word for word in tweet_as_tokens if word not in tweet_stops]\n",
    "    \n",
    "    return tweet_no_stops"
   ]
  },
  {
   "cell_type": "markdown",
   "metadata": {},
   "source": [
    "### Search Term\n",
    "This is the term that will serve as the comparison for all later lists."
   ]
  },
  {
   "cell_type": "code",
   "execution_count": 110,
   "metadata": {},
   "outputs": [],
   "source": [
    "search_term = \"irma\""
   ]
  },
  {
   "cell_type": "markdown",
   "metadata": {},
   "source": [
    "### Related Words Dataframe and Time Deltas\n",
    "This instantiates the dataframe for the related words and specifies the start, end, and time delta for the periods of related words."
   ]
  },
  {
   "cell_type": "code",
   "execution_count": 384,
   "metadata": {},
   "outputs": [],
   "source": [
    "related_words = pd.DataFrame()\n",
    "tweet_date = pd.to_datetime(\"2017-09-10 00:00:00\")\n",
    "date_delta = pd.Timedelta(\"24HR\")\n",
    "end_date = pd.to_datetime(\"2017-09-10 00:00:00\")"
   ]
  },
  {
   "cell_type": "markdown",
   "metadata": {},
   "source": [
    "### Related Word list quantity\n",
    "This number specifies the number of words that will be returned in each list associated with the time periods specified above"
   ]
  },
  {
   "cell_type": "code",
   "execution_count": 268,
   "metadata": {},
   "outputs": [],
   "source": [
    "top_num_words = 300"
   ]
  },
  {
   "cell_type": "markdown",
   "metadata": {},
   "source": [
    "## Word Embeddings\n",
    "### Converting Words to Vectors using the 'Word2Vec' library\n",
    "\n",
    "- Iterate through each time period designated above\n",
    "- Apply the tokenization and cleaning functions\n",
    "- Convert the tokens to vectors"
   ]
  },
  {
   "cell_type": "code",
   "execution_count": 412,
   "metadata": {},
   "outputs": [
    {
     "ename": "SyntaxError",
     "evalue": "invalid syntax (<ipython-input-412-7bf56cefed5e>, line 6)",
     "output_type": "error",
     "traceback": [
      "\u001b[0;36m  File \u001b[0;32m\"<ipython-input-412-7bf56cefed5e>\"\u001b[0;36m, line \u001b[0;32m6\u001b[0m\n\u001b[0;31m    this line iterates the minimum word count for inclusion in the vectors:\u001b[0m\n\u001b[0m            ^\u001b[0m\n\u001b[0;31mSyntaxError\u001b[0m\u001b[0;31m:\u001b[0m invalid syntax\n"
     ]
    }
   ],
   "source": [
    "for i in range(1,11):\n",
    "    for tweet_day in pd.date_range(start = tweet_date, end = end_date, freq = date_delta):\n",
    "        tweet_text = tweet_full_en.loc[tweet_day:tweet_day + date_delta,\"tweet_text\"]\n",
    "\n",
    "        tweets_tokens = tweet_text.apply(tokens_no_stopwords)\n",
    "#         this line uses the for loop to iterate the minimum word count for inclusion in the vectors:\n",
    "        vector_model = Word2Vec(tweets_tokens, min_count=i, window=7, workers=1, size=100, seed=1, sg=1)\n",
    "#         this line uses the for loop to iterate the context window size for any given word\n",
    "#         vector_model = Word2Vec(tweets_tokens, min_count=1, window=i, workers=1, size=100, seed=1, sg=1)\n",
    "        \n",
    "        word_matrix = vector_model.wv[vector_model.wv.vocab]\n",
    "        vector_model.train(tweets_tokens, total_examples=len(tweet_text), epochs=10)\n",
    "        terms_from_range = pd.DataFrame.from_records(vector_model.wv.most_similar(search_term,topn=top_num_words),\n",
    "                                                     columns=[tweet_day,\"score\"])\n",
    "\n",
    "        related_words = pd.concat([related_words,terms_from_range],axis=1)"
   ]
  },
  {
   "cell_type": "markdown",
   "metadata": {},
   "source": [
    "### Analysis on Cosine Similarity Values\n",
    "#### Checking lists of words and F1 scores for effectiveness of analysis based upon similar words contained."
   ]
  },
  {
   "cell_type": "code",
   "execution_count": 114,
   "metadata": {},
   "outputs": [],
   "source": [
    "# cos_sim_values = related_words.iloc[:,1::2]"
   ]
  },
  {
   "cell_type": "code",
   "execution_count": 115,
   "metadata": {
    "scrolled": true
   },
   "outputs": [],
   "source": [
    "# related_words.iloc[:,1::2] = (cos_sim_values - cos_sim_values.min())* 100 / (cos_sim_values.max() - cos_sim_values.min())"
   ]
  },
  {
   "cell_type": "code",
   "execution_count": 465,
   "metadata": {},
   "outputs": [
    {
     "data": {
      "text/html": [
       "<div>\n",
       "<style scoped>\n",
       "    .dataframe tbody tr th:only-of-type {\n",
       "        vertical-align: middle;\n",
       "    }\n",
       "\n",
       "    .dataframe tbody tr th {\n",
       "        vertical-align: top;\n",
       "    }\n",
       "\n",
       "    .dataframe thead th {\n",
       "        text-align: right;\n",
       "    }\n",
       "</style>\n",
       "<table border=\"1\" class=\"dataframe\">\n",
       "  <thead>\n",
       "    <tr style=\"text-align: right;\">\n",
       "      <th></th>\n",
       "      <th>2017-09-10 00:00:00</th>\n",
       "      <th>2017-09-10 00:00:00</th>\n",
       "      <th>2017-09-10 00:00:00</th>\n",
       "      <th>2017-09-10 00:00:00</th>\n",
       "      <th>2017-09-10 00:00:00</th>\n",
       "      <th>2017-09-10 00:00:00</th>\n",
       "      <th>2017-09-10 00:00:00</th>\n",
       "      <th>2017-09-10 00:00:00</th>\n",
       "      <th>2017-09-10 00:00:00</th>\n",
       "      <th>2017-09-10 00:00:00</th>\n",
       "    </tr>\n",
       "  </thead>\n",
       "  <tbody>\n",
       "    <tr>\n",
       "      <th>90</th>\n",
       "      <td>#flstrong</td>\n",
       "      <td>windy</td>\n",
       "      <td>gente</td>\n",
       "      <td>spelling</td>\n",
       "      <td>allowing</td>\n",
       "      <td>flying</td>\n",
       "      <td>angry</td>\n",
       "      <td>blown</td>\n",
       "      <td>shop</td>\n",
       "      <td>onto</td>\n",
       "    </tr>\n",
       "    <tr>\n",
       "      <th>91</th>\n",
       "      <td>camping</td>\n",
       "      <td>checkout</td>\n",
       "      <td>eerie</td>\n",
       "      <td>fcnstorm</td>\n",
       "      <td>toward</td>\n",
       "      <td>petersburg</td>\n",
       "      <td>direct</td>\n",
       "      <td>throwback</td>\n",
       "      <td>wishing</td>\n",
       "      <td>approaches</td>\n",
       "    </tr>\n",
       "    <tr>\n",
       "      <th>92</th>\n",
       "      <td>4070mph</td>\n",
       "      <td>barely</td>\n",
       "      <td>allergic</td>\n",
       "      <td>hardest</td>\n",
       "      <td>boat</td>\n",
       "      <td>cold</td>\n",
       "      <td>powers</td>\n",
       "      <td>lady</td>\n",
       "      <td>chillin</td>\n",
       "      <td>massive</td>\n",
       "    </tr>\n",
       "    <tr>\n",
       "      <th>93</th>\n",
       "      <td>category</td>\n",
       "      <td>midday</td>\n",
       "      <td>salute</td>\n",
       "      <td>covered</td>\n",
       "      <td>walked</td>\n",
       "      <td>approaches</td>\n",
       "      <td>beyond</td>\n",
       "      <td>heads</td>\n",
       "      <td>fear</td>\n",
       "      <td>survival</td>\n",
       "    </tr>\n",
       "    <tr>\n",
       "      <th>94</th>\n",
       "      <td>confirms</td>\n",
       "      <td>outer</td>\n",
       "      <td>memes</td>\n",
       "      <td>matthew</td>\n",
       "      <td>beachside</td>\n",
       "      <td>irmas</td>\n",
       "      <td>type</td>\n",
       "      <td>effects</td>\n",
       "      <td>cross</td>\n",
       "      <td>hits</td>\n",
       "    </tr>\n",
       "    <tr>\n",
       "      <th>95</th>\n",
       "      <td>goodnight</td>\n",
       "      <td>alex</td>\n",
       "      <td>frankie</td>\n",
       "      <td>similar</td>\n",
       "      <td>rays</td>\n",
       "      <td>clemson</td>\n",
       "      <td>bowl</td>\n",
       "      <td>#irma</td>\n",
       "      <td>prepare</td>\n",
       "      <td>hurry</td>\n",
       "    </tr>\n",
       "    <tr>\n",
       "      <th>96</th>\n",
       "      <td>hunkering</td>\n",
       "      <td>#feederbands</td>\n",
       "      <td>cuba</td>\n",
       "      <td>repeat</td>\n",
       "      <td>stir</td>\n",
       "      <td>windy</td>\n",
       "      <td>tuned</td>\n",
       "      <td>shots</td>\n",
       "      <td>parents</td>\n",
       "      <td>location</td>\n",
       "    </tr>\n",
       "    <tr>\n",
       "      <th>97</th>\n",
       "      <td>vigorous</td>\n",
       "      <td>skies</td>\n",
       "      <td>furious</td>\n",
       "      <td>lakeland</td>\n",
       "      <td>towards</td>\n",
       "      <td>cozy</td>\n",
       "      <td>#update</td>\n",
       "      <td>weatherman</td>\n",
       "      <td>sunday</td>\n",
       "      <td>#huricaneirma</td>\n",
       "    </tr>\n",
       "    <tr>\n",
       "      <th>98</th>\n",
       "      <td>heresafe</td>\n",
       "      <td>cuba</td>\n",
       "      <td>shall</td>\n",
       "      <td>excited</td>\n",
       "      <td>ahead</td>\n",
       "      <td>used</td>\n",
       "      <td>#hurricaneirma</td>\n",
       "      <td>beyond</td>\n",
       "      <td>shift</td>\n",
       "      <td>direct</td>\n",
       "    </tr>\n",
       "    <tr>\n",
       "      <th>99</th>\n",
       "      <td>toward</td>\n",
       "      <td>historical</td>\n",
       "      <td>boards</td>\n",
       "      <td>footage</td>\n",
       "      <td>duck</td>\n",
       "      <td>sight</td>\n",
       "      <td>windy</td>\n",
       "      <td>hometown</td>\n",
       "      <td>early</td>\n",
       "      <td>boarded</td>\n",
       "    </tr>\n",
       "  </tbody>\n",
       "</table>\n",
       "</div>"
      ],
      "text/plain": [
       "   2017-09-10 00:00:00 2017-09-10 00:00:00 2017-09-10 00:00:00  \\\n",
       "90           #flstrong               windy               gente   \n",
       "91             camping            checkout               eerie   \n",
       "92             4070mph              barely            allergic   \n",
       "93            category              midday              salute   \n",
       "94            confirms               outer               memes   \n",
       "95           goodnight                alex             frankie   \n",
       "96           hunkering        #feederbands                cuba   \n",
       "97            vigorous               skies             furious   \n",
       "98            heresafe                cuba               shall   \n",
       "99              toward          historical              boards   \n",
       "\n",
       "   2017-09-10 00:00:00 2017-09-10 00:00:00 2017-09-10 00:00:00  \\\n",
       "90            spelling            allowing              flying   \n",
       "91            fcnstorm              toward          petersburg   \n",
       "92             hardest                boat                cold   \n",
       "93             covered              walked          approaches   \n",
       "94             matthew           beachside               irmas   \n",
       "95             similar                rays             clemson   \n",
       "96              repeat                stir               windy   \n",
       "97            lakeland             towards                cozy   \n",
       "98             excited               ahead                used   \n",
       "99             footage                duck               sight   \n",
       "\n",
       "   2017-09-10 00:00:00 2017-09-10 00:00:00 2017-09-10 00:00:00  \\\n",
       "90               angry               blown                shop   \n",
       "91              direct           throwback             wishing   \n",
       "92              powers                lady             chillin   \n",
       "93              beyond               heads                fear   \n",
       "94                type             effects               cross   \n",
       "95                bowl               #irma             prepare   \n",
       "96               tuned               shots             parents   \n",
       "97             #update          weatherman              sunday   \n",
       "98      #hurricaneirma              beyond               shift   \n",
       "99               windy            hometown               early   \n",
       "\n",
       "   2017-09-10 00:00:00  \n",
       "90                onto  \n",
       "91          approaches  \n",
       "92             massive  \n",
       "93            survival  \n",
       "94                hits  \n",
       "95               hurry  \n",
       "96            location  \n",
       "97       #huricaneirma  \n",
       "98              direct  \n",
       "99             boarded  "
      ]
     },
     "execution_count": 465,
     "metadata": {},
     "output_type": "execute_result"
    }
   ],
   "source": [
    "related_words.iloc[90:100,0::2]"
   ]
  },
  {
   "cell_type": "markdown",
   "metadata": {},
   "source": [
    "## Identifying Relationships with Human Coded Data"
   ]
  },
  {
   "cell_type": "markdown",
   "metadata": {},
   "source": [
    "### Using the list of related words to identify an Irma Related tweet."
   ]
  },
  {
   "cell_type": "markdown",
   "metadata": {},
   "source": [
    "Importing a list of human coded tweets for 'irma related'"
   ]
  },
  {
   "cell_type": "code",
   "execution_count": 117,
   "metadata": {},
   "outputs": [],
   "source": [
    "coded_tweets = pd.read_csv(r'./irma_related_tweets.csv')\n",
    "\n",
    "tweets_on_date = tweet_full_en.loc[tweet_date:tweet_date+date_delta]\n",
    "\n",
    "tweet_encoded = pd.concat([coded_tweets.reset_index(),tweets_on_date.iloc[:-1].reset_index()],axis=1)"
   ]
  },
  {
   "cell_type": "markdown",
   "metadata": {},
   "source": [
    "The counts of human coded Irma related tweets: 0 = not related, 1 = 'irma' related"
   ]
  },
  {
   "cell_type": "code",
   "execution_count": 118,
   "metadata": {},
   "outputs": [
    {
     "name": "stdout",
     "output_type": "stream",
     "text": [
      "irma_rel\n",
      "0    10792\n",
      "1     8296\n",
      "dtype: int64\n"
     ]
    }
   ],
   "source": [
    "hc_encoded_counts = tweet_encoded.loc[:,['tweet_id','timestamp','irma_rel','tweet_text']].groupby('irma_rel').size()\n",
    "print(hc_encoded_counts)"
   ]
  },
  {
   "cell_type": "code",
   "execution_count": 388,
   "metadata": {},
   "outputs": [
    {
     "data": {
      "text/plain": [
       "0         pass\n",
       "1    currently\n",
       "2       arrive\n",
       "3     slightly\n",
       "4       around\n",
       "5    projected\n",
       "Name: 2017-09-10 00:00:00, dtype: object"
      ]
     },
     "execution_count": 388,
     "metadata": {},
     "output_type": "execute_result"
    }
   ],
   "source": [
    "related_words.iloc[0:6,0]"
   ]
  },
  {
   "cell_type": "markdown",
   "metadata": {},
   "source": [
    "### Calculating F1 scores"
   ]
  },
  {
   "cell_type": "markdown",
   "metadata": {},
   "source": [
    "Creating a function to evaluate F1 score for each iteration of the word list."
   ]
  },
  {
   "cell_type": "code",
   "execution_count": 480,
   "metadata": {},
   "outputs": [],
   "source": [
    "related_words_lists = related_words.iloc[:,0::2]"
   ]
  },
  {
   "cell_type": "code",
   "execution_count": 481,
   "metadata": {},
   "outputs": [],
   "source": [
    "def WordsCWScoreList(position,column=0):\n",
    "    related_word_list = list(related_words_lists.iloc[0:position,column])\n",
    "    related_word_list.append(search_term)\n",
    "    return \"|\".join(related_word_list)"
   ]
  },
  {
   "cell_type": "markdown",
   "metadata": {},
   "source": [
    "This function takes a numeric position as an input. From there it:\n",
    "- finds all of the words in the cosine-similarity ordered list for the range are at that position or above.\n",
    "- creates a list of those words.\n",
    "- appends the search term to that list.\n",
    "- converts that list to a pipe-delimited string.\n",
    "If the `related_word_list` dataframe has more than one set of related words (as columns) the the second argument allows subsequent columns' lists to be returned.\n",
    "\n",
    "This pipe-delimited string can be used as the input of the `pd.Series.str.contains()` method as a regular expression for matching rows who contain one or more of the terms."
   ]
  },
  {
   "cell_type": "code",
   "execution_count": 485,
   "metadata": {},
   "outputs": [
    {
     "data": {
      "text/plain": [
       "'pass|move|currently|slightly|arrive|directly|#hurricaineirma|projected|hurricane|around|irma'"
      ]
     },
     "execution_count": 485,
     "metadata": {},
     "output_type": "execute_result"
    }
   ],
   "source": [
    "WordsCWScoreList(10,7)"
   ]
  },
  {
   "cell_type": "code",
   "execution_count": 122,
   "metadata": {},
   "outputs": [],
   "source": [
    "# def WordsMMScoreGreater(score):\n",
    "#     related_word_list = list(related_words[related_words.iloc[:,1] > score].iloc[:,0])\n",
    "#     related_word_list.append(search_term)\n",
    "#     return \"|\".join(related_word_list)"
   ]
  },
  {
   "cell_type": "markdown",
   "metadata": {},
   "source": [
    "For purposes of evaluating the effectiveneness of the related words threshold, there are 4 categories of tweets:\n",
    "- human-coded 'irma-related' and the word list is a match (true positive)\n",
    "- human-coded 'not irma-related' and the word list is a match (false positive)\n",
    "- human-coded 'irma-related' and the word list is not a match (false negative)\n",
    "- human-coded 'not irma-related' and the word list is not a match (true negative)"
   ]
  },
  {
   "cell_type": "markdown",
   "metadata": {},
   "source": [
    "The `score_matrix` dataframe is initialized to be zeroes, to prevent contamination from previous iterations. The following for loop iterates over the `related_words_lists` dataframe from above to evaluate a tweet as related based upon containing one or more words of the subset of the word list for that particular window or minimum count."
   ]
  },
  {
   "cell_type": "code",
   "execution_count": 403,
   "metadata": {},
   "outputs": [],
   "source": [
    "score_matrix = pd.DataFrame(np.zeros(related_words_lists.shape))"
   ]
  },
  {
   "cell_type": "code",
   "execution_count": 493,
   "metadata": {},
   "outputs": [
    {
     "data": {
      "text/plain": [
       "0.7596559469676216"
      ]
     },
     "execution_count": 493,
     "metadata": {},
     "output_type": "execute_result"
    }
   ],
   "source": [
    "f1_score(tweet_encoded.irma_rel,tweet_encoded.tweet_text.str.contains(WordsCWScoreList(239,5),flags=re.IGNORECASE))"
   ]
  },
  {
   "cell_type": "code",
   "execution_count": 498,
   "metadata": {},
   "outputs": [
    {
     "data": {
      "text/plain": [
       "0.6962940644772522"
      ]
     },
     "execution_count": 498,
     "metadata": {},
     "output_type": "execute_result"
    }
   ],
   "source": [
    "precision_score(tweet_encoded.irma_rel,tweet_encoded.tweet_text.str.contains(WordsCWScoreList(239,5),flags=re.IGNORECASE))"
   ]
  },
  {
   "cell_type": "code",
   "execution_count": 497,
   "metadata": {},
   "outputs": [
    {
     "data": {
      "text/plain": [
       "0.8357039537126326"
      ]
     },
     "execution_count": 497,
     "metadata": {},
     "output_type": "execute_result"
    }
   ],
   "source": [
    "recall_score(tweet_encoded.irma_rel,tweet_encoded.tweet_text.str.contains(WordsCWScoreList(239,5),flags=re.IGNORECASE))"
   ]
  },
  {
   "cell_type": "code",
   "execution_count": 404,
   "metadata": {},
   "outputs": [
    {
     "name": "stdout",
     "output_type": "stream",
     "text": [
      "10:15:06.221784\n",
      "0    0.731549\n",
      "1    0.000000\n",
      "2    0.000000\n",
      "3    0.000000\n",
      "4    0.000000\n",
      "5    0.000000\n",
      "6    0.000000\n",
      "7    0.000000\n",
      "8    0.000000\n",
      "9    0.000000\n",
      "Name: 299, dtype: float64\n",
      "10:33:53.052474\n",
      "0    0.731549\n",
      "1    0.727039\n",
      "2    0.000000\n",
      "3    0.000000\n",
      "4    0.000000\n",
      "5    0.000000\n",
      "6    0.000000\n",
      "7    0.000000\n",
      "8    0.000000\n",
      "9    0.000000\n",
      "Name: 299, dtype: float64\n",
      "10:53:04.061579\n",
      "0    0.731549\n",
      "1    0.727039\n",
      "2    0.729410\n",
      "3    0.000000\n",
      "4    0.000000\n",
      "5    0.000000\n",
      "6    0.000000\n",
      "7    0.000000\n",
      "8    0.000000\n",
      "9    0.000000\n",
      "Name: 299, dtype: float64\n",
      "11:11:51.021415\n",
      "0    0.731549\n",
      "1    0.727039\n",
      "2    0.729410\n",
      "3    0.701540\n",
      "4    0.000000\n",
      "5    0.000000\n",
      "6    0.000000\n",
      "7    0.000000\n",
      "8    0.000000\n",
      "9    0.000000\n",
      "Name: 299, dtype: float64\n",
      "11:32:09.298321\n",
      "0    0.731549\n",
      "1    0.727039\n",
      "2    0.729410\n",
      "3    0.701540\n",
      "4    0.695297\n",
      "5    0.000000\n",
      "6    0.000000\n",
      "7    0.000000\n",
      "8    0.000000\n",
      "9    0.000000\n",
      "Name: 299, dtype: float64\n",
      "11:50:01.075187\n",
      "0    0.731549\n",
      "1    0.727039\n",
      "2    0.729410\n",
      "3    0.701540\n",
      "4    0.695297\n",
      "5    0.702798\n",
      "6    0.000000\n",
      "7    0.000000\n",
      "8    0.000000\n",
      "9    0.000000\n",
      "Name: 299, dtype: float64\n",
      "12:07:17.719548\n",
      "0    0.731549\n",
      "1    0.727039\n",
      "2    0.729410\n",
      "3    0.701540\n",
      "4    0.695297\n",
      "5    0.702798\n",
      "6    0.672017\n",
      "7    0.000000\n",
      "8    0.000000\n",
      "9    0.000000\n",
      "Name: 299, dtype: float64\n",
      "12:24:47.401450\n",
      "0    0.731549\n",
      "1    0.727039\n",
      "2    0.729410\n",
      "3    0.701540\n",
      "4    0.695297\n",
      "5    0.702798\n",
      "6    0.672017\n",
      "7    0.691714\n",
      "8    0.000000\n",
      "9    0.000000\n",
      "Name: 299, dtype: float64\n",
      "12:41:15.271296\n",
      "0    0.731549\n",
      "1    0.727039\n",
      "2    0.729410\n",
      "3    0.701540\n",
      "4    0.695297\n",
      "5    0.702798\n",
      "6    0.672017\n",
      "7    0.691714\n",
      "8    0.681938\n",
      "9    0.000000\n",
      "Name: 299, dtype: float64\n",
      "12:57:29.411236\n",
      "0    0.731549\n",
      "1    0.727039\n",
      "2    0.729410\n",
      "3    0.701540\n",
      "4    0.695297\n",
      "5    0.702798\n",
      "6    0.672017\n",
      "7    0.691714\n",
      "8    0.681938\n",
      "9    0.686258\n",
      "Name: 299, dtype: float64\n"
     ]
    }
   ],
   "source": [
    "# The commented lines should be uncommented for debug purposes.\n",
    "for i in range(0,related_words_lists.shape[1]):\n",
    "#     print(pd.Timestamp.now().time())\n",
    "    for j in range(0,related_words_lists.shape[0]):\n",
    "        score_matrix.iloc[j,i]=f1_score(tweet_encoded.irma_rel,tweet_encoded.tweet_text.str.contains(WordsCWScoreList(j,i),flags=re.IGNORECASE))   \n",
    "#     print(score_matrix.iloc[j,:])   "
   ]
  },
  {
   "cell_type": "code",
   "execution_count": 254,
   "metadata": {},
   "outputs": [],
   "source": [
    "import pickle"
   ]
  },
  {
   "cell_type": "code",
   "execution_count": 407,
   "metadata": {},
   "outputs": [],
   "source": [
    "# pickle.dump(score_matrix,open('./score_matrix_seed_term_min_count_10E.pkl',\"wb\"))"
   ]
  },
  {
   "cell_type": "code",
   "execution_count": 401,
   "metadata": {},
   "outputs": [],
   "source": [
    "# pickle.dump(related_words,open('./related_words_min_count_10E.pkl',\"wb\"))"
   ]
  },
  {
   "cell_type": "code",
   "execution_count": 428,
   "metadata": {},
   "outputs": [],
   "source": [
    "related_test = pickle.load(open('./related_words_window_10E.pkl',\"rb\"))"
   ]
  },
  {
   "cell_type": "code",
   "execution_count": 418,
   "metadata": {},
   "outputs": [],
   "source": [
    "score_matrix = pickle.load(open('./score_matrix_seed_term_window_10E.pkl',\"rb\"))"
   ]
  },
  {
   "cell_type": "code",
   "execution_count": 468,
   "metadata": {},
   "outputs": [
    {
     "data": {
      "text/plain": [
       "90          peace\n",
       "91           naps\n",
       "92           past\n",
       "93              3\n",
       "94      periscope\n",
       "95        balcony\n",
       "96         direct\n",
       "97          aghhh\n",
       "98        effects\n",
       "99    devastation\n",
       "Name: 2017-09-10 00:00:00, dtype: object"
      ]
     },
     "execution_count": 468,
     "metadata": {},
     "output_type": "execute_result"
    }
   ],
   "source": [
    "related_test.iloc[90:100,10]"
   ]
  },
  {
   "cell_type": "code",
   "execution_count": 488,
   "metadata": {},
   "outputs": [
    {
     "data": {
      "text/plain": [
       "68    0.687397\n",
       "69    0.688794\n",
       "70    0.688887\n",
       "71    0.741951\n",
       "72    0.741793\n",
       "Name: 5, dtype: float64"
      ]
     },
     "execution_count": 488,
     "metadata": {},
     "output_type": "execute_result"
    }
   ],
   "source": [
    "score_matrix.iloc[68:73,5]"
   ]
  },
  {
   "cell_type": "code",
   "execution_count": 409,
   "metadata": {},
   "outputs": [
    {
     "data": {
      "text/plain": [
       "True"
      ]
     },
     "execution_count": 409,
     "metadata": {},
     "output_type": "execute_result"
    }
   ],
   "source": [
    "# np.all(score_matrix == score_matrix_test)"
   ]
  },
  {
   "cell_type": "code",
   "execution_count": 230,
   "metadata": {},
   "outputs": [],
   "source": [
    "# for i in range(0,top_num_words,10):\n",
    "#     print(str(i)+\": \",end=\"\")\n",
    "#     print(f1_score(tweet_encoded.irma_rel,tweet_encoded.tweet_text.str.contains(WordsCWScoreList(i),flags=re.IGNORECASE)))      "
   ]
  },
  {
   "cell_type": "code",
   "execution_count": 126,
   "metadata": {},
   "outputs": [
    {
     "data": {
      "text/plain": [
       "0.5696248952221291"
      ]
     },
     "execution_count": 126,
     "metadata": {},
     "output_type": "execute_result"
    }
   ],
   "source": [
    "# accuracy_score(tweet_encoded.irma_rel,tweet_encoded.tweet_text.str.contains(WordsCWScoreList(1),flags=re.IGNORECASE))"
   ]
  },
  {
   "cell_type": "code",
   "execution_count": 232,
   "metadata": {},
   "outputs": [],
   "source": [
    "import matplotlib.pyplot as plt\n",
    "%matplotlib inline"
   ]
  },
  {
   "cell_type": "code",
   "execution_count": 499,
   "metadata": {},
   "outputs": [
    {
     "data": {
      "image/png": "[encoded data removed]",
      "text/plain": [
       "<Figure size 1152x576 with 1 Axes>"
      ]
     },
     "metadata": {
      "needs_background": "light"
     },
     "output_type": "display_data"
    }
   ],
   "source": [
    "fig = plt.figure(figsize=(16,8))\n",
    "plt.title(\"Word Vector Analysis of Terms By Window Size Trained in 10 Epochs\")\n",
    "plt.xlabel(\"Number of Terms (Including Search Term)\")\n",
    "plt.ylabel(\"F1 Score: Identifying Relatedness by Term Inclusion\")\n",
    "# for i in (range(1,11)):\n",
    "#     plt.plot(score_matrix.iloc[1:,i-1],label=\"min count: \"+str(i))\n",
    "i=6\n",
    "plt.plot(score_matrix.iloc[1:,i-1],label=\"min count: \"+str(i))\n",
    "plt.axvline(238)\n",
    "plt.legend();"
   ]
  },
  {
   "cell_type": "markdown",
   "metadata": {},
   "source": [
    "In the chart below, an increase in x represents a longer list of words whose inclusion would indicate an 'irma-related' tweet within the model. By allowing more words into this list, there is a larger number of tweets evaluated as a true positive result, but it also increases the false positives. The objective is to maximize the number of true positives, while minimizing false positives."
   ]
  },
  {
   "cell_type": "code",
   "execution_count": 128,
   "metadata": {},
   "outputs": [],
   "source": [
    "# fig = plt.figure(figsize=(16,8))\n",
    "# ax = fig.subplots()\n",
    "\n",
    "# color_list = [\"#562a72\", \"#862d63\", \"#aaa939\", \"#7e9f35\"]\n",
    "\n",
    "# ax.stackplot(score_matrix.iloc[1:,:].index, \n",
    "#              score_matrix.iloc[1:,:].TruePos, \n",
    "#              score_matrix.iloc[1:,:].FalseNeg, \n",
    "#              score_matrix.iloc[1:,:].FalsePos, \n",
    "#              score_matrix.iloc[1:,:].TrueNeg,\n",
    "#              labels=[\"True Positive\",\"False Negative\",\"False Positive\",\"True Negative\"],\n",
    "#             colors = color_list)\n",
    "# ax.axhline(hc_encoded_counts[1],linestyle=\"-.\",color=\"w\")\n",
    "# ax.legend(loc='upper left')\n",
    "# plt.show()"
   ]
  },
  {
   "cell_type": "code",
   "execution_count": 129,
   "metadata": {},
   "outputs": [],
   "source": [
    "# print(score_matrix.iloc[ceil(related_words.iloc[50].score)])"
   ]
  }
 ],
 "metadata": {
  "kernelspec": {
   "display_name": "Python 3",
   "language": "python",
   "name": "python3"
  },
  "language_info": {
   "codemirror_mode": {
    "name": "ipython",
    "version": 3
   },
   "file_extension": ".py",
   "mimetype": "text/x-python",
   "name": "python",
   "nbconvert_exporter": "python",
   "pygments_lexer": "ipython3",
   "version": "3.7.0"
  }
 },
 "nbformat": 4,
 "nbformat_minor": 2
}
