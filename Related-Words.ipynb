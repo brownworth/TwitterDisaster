{
 "cells": [
  {
   "cell_type": "markdown",
   "metadata": {},
   "source": [
    "# Monitoring changes in related words over time."
   ]
  },
  {
   "cell_type": "markdown",
   "metadata": {},
   "source": [
    "### This notebook will show how words related to a particular word will change over time deltas"
   ]
  },
  {
   "cell_type": "code",
   "execution_count": 2,
   "metadata": {},
   "outputs": [],
   "source": [
    "import pandas as pd\n",
    "import numpy as np\n",
    "from gensim.models import Word2Vec\n",
    "from nltk.tokenize import TweetTokenizer\n",
    "from nltk.corpus import stopwords\n",
    "from sklearn.decomposition import PCA\n",
    "from sklearn.manifold import TSNE\n",
    "from math import ceil\n",
    "import string\n",
    "from itertools import combinations\n",
    "import networkx as nx\n",
    "import re"
   ]
  },
  {
   "cell_type": "code",
   "execution_count": 3,
   "metadata": {},
   "outputs": [],
   "source": [
    "columns = ['tweet_id','timestamp','tweet_text','user_id',\n",
    "           'tweet_coords','tweet_coords_list','tweet_long','tweet_lat','location',\n",
    "           'enc_url','tweet_lang','hashtags']\n",
    "tweet_full = pd.read_csv(r'./tweetCoords.csv',\n",
    "                         header=None,\n",
    "                         names=columns,\n",
    "                         parse_dates=[1],\n",
    "                         infer_datetime_format=True,\n",
    "                         index_col='timestamp')"
   ]
  },
  {
   "cell_type": "markdown",
   "metadata": {},
   "source": [
    "Creating a separate dataframe for just the tweets classified as english."
   ]
  },
  {
   "cell_type": "code",
   "execution_count": 4,
   "metadata": {},
   "outputs": [],
   "source": [
    "tweet_full_en = tweet_full[tweet_full['tweet_lang'] == 'en']"
   ]
  },
  {
   "cell_type": "markdown",
   "metadata": {},
   "source": [
    "writing a custom text cleaner. Currently configured to remove all punctuation, _except #_."
   ]
  },
  {
   "cell_type": "code",
   "execution_count": 5,
   "metadata": {},
   "outputs": [],
   "source": [
    "tweet_stops = stopwords.words('english')\n",
    "tweet_tokenizer = TweetTokenizer(strip_handles=True,preserve_case=False,reduce_len=True)\n",
    "\n",
    "def clean_tweet(tweet):\n",
    "#     takes input string and converts or removes characters depending on settings.\n",
    "#     returns a string\n",
    "#     convert case:\n",
    "    tweet = tweet.lower()\n",
    "#     remove URLs:\n",
    "    tweet = re.sub('https?://\\S+','',tweet)\n",
    "#     remove @mentions, including those with a leading '-' or '.' : \n",
    "    tweet = re.sub('[-\\.]?@\\w+','',tweet)\n",
    "#     remove punctuation, but not hashtags:\n",
    "    tweet = tweet.translate(tweet.maketrans('','',string.punctuation.replace(\"#\",\"\")))\n",
    "#     remove non-hashtag '#'.\n",
    "    tweet = re.sub('#\\B','',tweet)\n",
    "#     remove 'amp', 'gt', 'lt', indicating decoded ampersand, greater-than, less-than characters\n",
    "    tweet = re.sub(r'\\b(amp|gt|lt)\\b','',tweet)\n",
    "#     remove punctuation, including hashtags:\n",
    "#     tweet = tweet.translate(tweet.maketrans('','',string.punctuation))\n",
    "    return tweet\n",
    "\n",
    "def tokens_no_stopwords(tweet_as_string):\n",
    "#     wrapper function that combines the tokenizer, cleaner, and stopword removal.\n",
    "#     takes a string and returns a list of strings\n",
    "    cleaned_tweet = clean_tweet(tweet_as_string)\n",
    "    tweet_as_tokens = tweet_tokenizer.tokenize(cleaned_tweet)\n",
    "    tweet_no_stops = [word for word in tweet_as_tokens if word not in tweet_stops]\n",
    "    \n",
    "    return tweet_no_stops\n",
    "    "
   ]
  },
  {
   "cell_type": "code",
   "execution_count": 6,
   "metadata": {
    "scrolled": true
   },
   "outputs": [
    {
     "name": "stdout",
     "output_type": "stream",
     "text": [
      "['tweetlt', 'withgtamp', '#stuff', '#in']\n"
     ]
    }
   ],
   "source": [
    "re_text = \"this is ! A TWEETlt withgtamp @some .@random amp gt lt @@extra #stuff ##in IT!?@>#! \"\n",
    "print(tokens_no_stopwords(re_text))"
   ]
  },
  {
   "cell_type": "markdown",
   "metadata": {},
   "source": [
    "What's the word we're comparing similarity to?"
   ]
  },
  {
   "cell_type": "code",
   "execution_count": 7,
   "metadata": {},
   "outputs": [],
   "source": [
    "search_term = \"irma\""
   ]
  },
  {
   "cell_type": "markdown",
   "metadata": {},
   "source": [
    "Starting here, begin the iteration over times."
   ]
  },
  {
   "cell_type": "code",
   "execution_count": 8,
   "metadata": {},
   "outputs": [],
   "source": [
    "related_words = pd.DataFrame()\n",
    "tweet_date = pd.to_datetime(\"2017-09-10 00:00:00\")\n",
    "date_delta = pd.Timedelta(\"24HR\")\n",
    "end_date = pd.to_datetime(\"2017-09-10 00:00:00\")"
   ]
  },
  {
   "cell_type": "code",
   "execution_count": 9,
   "metadata": {},
   "outputs": [],
   "source": [
    "top_num_words = 20 # number of words to include in cosine similarity ordered list\n",
    "pct_occ_thresh = .01 # words must occur a number of times >= this percent of number of tweets."
   ]
  },
  {
   "cell_type": "markdown",
   "metadata": {},
   "source": [
    "List of words from this time frame, based upon the occurrence threshold above:"
   ]
  },
  {
   "cell_type": "code",
   "execution_count": 10,
   "metadata": {},
   "outputs": [],
   "source": [
    "tweet_window = tweet_full_en.loc[tweet_date:tweet_date+date_delta]\n",
    "num_tweets = len(tweet_window)\n",
    "min_count = ceil(num_tweets * pct_occ_thresh)\n",
    "tweet_words = tweet_window['tweet_text'].apply(tokens_no_stopwords)\n",
    "word_counts = tweet_words.apply(pd.Series).stack().value_counts()"
   ]
  },
  {
   "cell_type": "markdown",
   "metadata": {},
   "source": [
    "histogram of word counts. Vertical line represents 1% threshold of word count."
   ]
  },
  {
   "cell_type": "code",
   "execution_count": 1,
   "metadata": {},
   "outputs": [],
   "source": [
    "import matplotlib.pyplot as plt\n",
    "%matplotlib inline"
   ]
  },
  {
   "cell_type": "code",
   "execution_count": 90,
   "metadata": {},
   "outputs": [
    {
     "data": {
      "image/png": "[encoded data removed]",
      "text/plain": [
       "<Figure size 864x576 with 1 Axes>"
      ]
     },
     "metadata": {
      "needs_background": "light"
     },
     "output_type": "display_data"
    }
   ],
   "source": [
    "hist_fig = plt.figure(figsize=(12,8))\n",
    "\n",
    "plt.hist(word_counts[word_counts > min_count/4], bins=35,cumulative=True,rwidth=.85);\n",
    "plt.axvline(min_count,color='r');"
   ]
  },
  {
   "cell_type": "code",
   "execution_count": 328,
   "metadata": {},
   "outputs": [
    {
     "data": {
      "text/plain": [
       "florida           1764\n",
       "#hurricaneirma    1633\n",
       "irma              1343\n",
       "hurricane         1294\n",
       "#irma             1199\n",
       "fl                1072\n",
       "reports            809\n",
       "storm              742\n",
       "power              679\n",
       "mph                659\n",
       "rain               632\n",
       "like               628\n",
       "wind               628\n",
       "safe               619\n",
       "gust               552\n",
       "asos               544\n",
       "get                539\n",
       "beach              532\n",
       "miami              531\n",
       "knots              509\n",
       "county             493\n",
       "still              492\n",
       "go                 466\n",
       "f                  436\n",
       "good               423\n",
       "stay               414\n",
       "us                 389\n",
       "love               369\n",
       "got                362\n",
       "going              361\n",
       "                  ... \n",
       "lol                237\n",
       "2                  237\n",
       "weather            236\n",
       "need               233\n",
       "fort               233\n",
       "humidity           233\n",
       "last               226\n",
       "really             226\n",
       "home               225\n",
       "st                 225\n",
       "live               215\n",
       "#hurrcaneirma      212\n",
       "#miami             211\n",
       "please             208\n",
       "orlando            208\n",
       "outside            207\n",
       "palm               205\n",
       "even               204\n",
       "ready              203\n",
       "1                  203\n",
       "fuck               202\n",
       "little             200\n",
       "want               200\n",
       "posted             197\n",
       "ese                195\n",
       "family             194\n",
       "much               194\n",
       "thanks             193\n",
       "well               192\n",
       "key                192\n",
       "Length: 83, dtype: int64"
      ]
     },
     "execution_count": 328,
     "metadata": {},
     "output_type": "execute_result"
    }
   ],
   "source": [
    "word_counts[word_counts > min_count]"
   ]
  },
  {
   "cell_type": "markdown",
   "metadata": {},
   "source": [
    "Stats on tokenized tweets. Starting with histogram of tweet length by word count, after processing into tokens."
   ]
  },
  {
   "cell_type": "code",
   "execution_count": 91,
   "metadata": {},
   "outputs": [
    {
     "data": {
      "text/plain": [
       "timestamp\n",
       "2017-09-10 00:00:01    15\n",
       "2017-09-10 00:00:03     7\n",
       "2017-09-10 00:00:03     9\n",
       "2017-09-10 00:00:06     6\n",
       "2017-09-10 00:00:08     4\n",
       "2017-09-10 00:00:10     6\n",
       "2017-09-10 00:00:11    20\n",
       "2017-09-10 00:00:11    11\n",
       "2017-09-10 00:00:12     9\n",
       "2017-09-10 00:00:14     3\n",
       "2017-09-10 00:00:14    14\n",
       "2017-09-10 00:00:16     2\n",
       "2017-09-10 00:00:24     2\n",
       "2017-09-10 00:00:24     9\n",
       "2017-09-10 00:00:24     5\n",
       "2017-09-10 00:00:37     1\n",
       "2017-09-10 00:00:38     2\n",
       "2017-09-10 00:00:46     3\n",
       "2017-09-10 00:00:48     7\n",
       "2017-09-10 00:00:50    11\n",
       "Name: tweet_text, dtype: int64"
      ]
     },
     "execution_count": 91,
     "metadata": {},
     "output_type": "execute_result"
    }
   ],
   "source": [
    "tweet_window['tweet_text'].head(20).apply(tokens_no_stopwords).apply(len)"
   ]
  },
  {
   "cell_type": "code",
   "execution_count": 88,
   "metadata": {},
   "outputs": [
    {
     "data": {
      "image/png": "[encoded data removed]",
      "text/plain": [
       "<Figure size 864x576 with 1 Axes>"
      ]
     },
     "metadata": {
      "needs_background": "light"
     },
     "output_type": "display_data"
    }
   ],
   "source": [
    "hist_fig2 = plt.figure(figsize=(12,8))\n",
    "plt.hist(tweet_window['tweet_text'].apply(tokens_no_stopwords).apply(len),bins=22,rwidth=.85);"
   ]
  },
  {
   "cell_type": "markdown",
   "metadata": {},
   "source": [
    "currently there is an incompatibility between gensim and numpy > 1.13"
   ]
  },
  {
   "cell_type": "code",
   "execution_count": 318,
   "metadata": {},
   "outputs": [
    {
     "name": "stderr",
     "output_type": "stream",
     "text": [
      "/Users/brown/.local/share/virtualenvs/TwitterDisaster-4Cppn-LV/lib/python3.7/site-packages/gensim/matutils.py:737: FutureWarning: Conversion of the second argument of issubdtype from `int` to `np.signedinteger` is deprecated. In future, it will be treated as `np.int64 == np.dtype(int).type`.\n",
      "  if np.issubdtype(vec.dtype, np.int):\n"
     ]
    }
   ],
   "source": [
    "for tweet_day in pd.date_range(start = tweet_date, end = end_date, freq = date_delta):\n",
    "    tweet_text = tweet_full_en.loc[tweet_day:tweet_day + date_delta,\"tweet_text\"]\n",
    "    min_count = ceil(len(tweet_text) * pct_occ_thresh)\n",
    "#     this line is just here for diagnostic purposes.\n",
    "#     print(str(tweet_day)+\": \"+str(len(tweet_text))+\" tweets (\"+str(min_count)+\" occurrence threshold)\") \n",
    "\n",
    "    tweets_tokens = tweet_text.apply(tokens_no_stopwords)\n",
    "    vector_model = Word2Vec(tweets_tokens, min_count=min_count, sg=1, window=3, workers=5, size=100)\n",
    "    word_matrix = vector_model.wv[vector_model.wv.vocab]\n",
    "#     tsne = TSNE(n_components=2)\n",
    "#     result = tsne.fit_transform(word_matrix)\n",
    "    pca = PCA(n_components=2)\n",
    "    result = pca.fit_transform(word_matrix)\n",
    "\n",
    "    terms_from_range = pd.DataFrame.from_records(vector_model.wv.most_similar(search_term,topn=top_num_words),columns=[tweet_day,\"Cos_Sim\"])\n",
    "    related_words = pd.concat([related_words,terms_from_range],axis=1)"
   ]
  },
  {
   "cell_type": "code",
   "execution_count": 32,
   "metadata": {},
   "outputs": [],
   "source": [
    "# vector_model.wv.get_vector(\"storm\").shape"
   ]
  },
  {
   "cell_type": "code",
   "execution_count": 33,
   "metadata": {},
   "outputs": [],
   "source": [
    "# vector_model.wv.similarity(\"storm\",\"rain\")"
   ]
  },
  {
   "cell_type": "code",
   "execution_count": 34,
   "metadata": {},
   "outputs": [],
   "source": [
    "# vector_model.wv.vocab"
   ]
  },
  {
   "cell_type": "code",
   "execution_count": 319,
   "metadata": {},
   "outputs": [
    {
     "data": {
      "text/html": [
       "<div>\n",
       "<style scoped>\n",
       "    .dataframe tbody tr th:only-of-type {\n",
       "        vertical-align: middle;\n",
       "    }\n",
       "\n",
       "    .dataframe tbody tr th {\n",
       "        vertical-align: top;\n",
       "    }\n",
       "\n",
       "    .dataframe thead th {\n",
       "        text-align: right;\n",
       "    }\n",
       "</style>\n",
       "<table border=\"1\" class=\"dataframe\">\n",
       "  <thead>\n",
       "    <tr style=\"text-align: right;\">\n",
       "      <th></th>\n",
       "      <th>2017-09-10 00:00:00</th>\n",
       "      <th>2017-09-10 00:00:00</th>\n",
       "    </tr>\n",
       "  </thead>\n",
       "  <tbody>\n",
       "    <tr>\n",
       "      <th>0</th>\n",
       "      <td>#irma</td>\n",
       "      <td>#irma</td>\n",
       "    </tr>\n",
       "    <tr>\n",
       "      <th>1</th>\n",
       "      <td>florida</td>\n",
       "      <td>stay</td>\n",
       "    </tr>\n",
       "    <tr>\n",
       "      <th>2</th>\n",
       "      <td>#florida</td>\n",
       "      <td>#hurricane</td>\n",
       "    </tr>\n",
       "    <tr>\n",
       "      <th>3</th>\n",
       "      <td>#hurricane</td>\n",
       "      <td>everyone</td>\n",
       "    </tr>\n",
       "    <tr>\n",
       "      <th>4</th>\n",
       "      <td>#miami</td>\n",
       "      <td>#hurricaneirma</td>\n",
       "    </tr>\n",
       "    <tr>\n",
       "      <th>5</th>\n",
       "      <td>stay</td>\n",
       "      <td>#florida</td>\n",
       "    </tr>\n",
       "    <tr>\n",
       "      <th>6</th>\n",
       "      <td>county</td>\n",
       "      <td>safe</td>\n",
       "    </tr>\n",
       "    <tr>\n",
       "      <th>7</th>\n",
       "      <td>us</td>\n",
       "      <td>house</td>\n",
       "    </tr>\n",
       "    <tr>\n",
       "      <th>8</th>\n",
       "      <td>#hurricaneirma</td>\n",
       "      <td>us</td>\n",
       "    </tr>\n",
       "    <tr>\n",
       "      <th>9</th>\n",
       "      <td>miami</td>\n",
       "      <td>like</td>\n",
       "    </tr>\n",
       "    <tr>\n",
       "      <th>10</th>\n",
       "      <td>safe</td>\n",
       "      <td>power</td>\n",
       "    </tr>\n",
       "    <tr>\n",
       "      <th>11</th>\n",
       "      <td>hurricane</td>\n",
       "      <td>still</td>\n",
       "    </tr>\n",
       "    <tr>\n",
       "      <th>12</th>\n",
       "      <td>doral</td>\n",
       "      <td>please</td>\n",
       "    </tr>\n",
       "    <tr>\n",
       "      <th>13</th>\n",
       "      <td>like</td>\n",
       "      <td>getting</td>\n",
       "    </tr>\n",
       "    <tr>\n",
       "      <th>14</th>\n",
       "      <td>getting</td>\n",
       "      <td>#miami</td>\n",
       "    </tr>\n",
       "    <tr>\n",
       "      <th>15</th>\n",
       "      <td>update</td>\n",
       "      <td>get</td>\n",
       "    </tr>\n",
       "    <tr>\n",
       "      <th>16</th>\n",
       "      <td>power</td>\n",
       "      <td>day</td>\n",
       "    </tr>\n",
       "    <tr>\n",
       "      <th>17</th>\n",
       "      <td>right</td>\n",
       "      <td>got</td>\n",
       "    </tr>\n",
       "    <tr>\n",
       "      <th>18</th>\n",
       "      <td>everyone</td>\n",
       "      <td>going</td>\n",
       "    </tr>\n",
       "    <tr>\n",
       "      <th>19</th>\n",
       "      <td>house</td>\n",
       "      <td>florida</td>\n",
       "    </tr>\n",
       "  </tbody>\n",
       "</table>\n",
       "</div>"
      ],
      "text/plain": [
       "   2017-09-10 00:00:00 2017-09-10 00:00:00\n",
       "0                #irma               #irma\n",
       "1              florida                stay\n",
       "2             #florida          #hurricane\n",
       "3           #hurricane            everyone\n",
       "4               #miami      #hurricaneirma\n",
       "5                 stay            #florida\n",
       "6               county                safe\n",
       "7                   us               house\n",
       "8       #hurricaneirma                  us\n",
       "9                miami                like\n",
       "10                safe               power\n",
       "11           hurricane               still\n",
       "12               doral              please\n",
       "13                like             getting\n",
       "14             getting              #miami\n",
       "15              update                 get\n",
       "16               power                 day\n",
       "17               right                 got\n",
       "18            everyone               going\n",
       "19               house             florida"
      ]
     },
     "execution_count": 319,
     "metadata": {},
     "output_type": "execute_result"
    }
   ],
   "source": [
    "related_words.iloc[:,0::2]"
   ]
  },
  {
   "cell_type": "code",
   "execution_count": 37,
   "metadata": {},
   "outputs": [],
   "source": [
    "# tweet_text[(tweet_text.str.contains(r\"\\bstorm\\b\",regex=True)) & (tweet_text.str.contains(r\"\\bdamage\\b\",regex=True))].values"
   ]
  },
  {
   "cell_type": "code",
   "execution_count": 38,
   "metadata": {},
   "outputs": [],
   "source": [
    "# tweet_text[(tweet_text.str.contains(r\"\\bstorm\\b\",regex=True)) & (tweet_text.str.contains(r\"\\bhelping\\b\",regex=True))].values"
   ]
  },
  {
   "cell_type": "markdown",
   "metadata": {},
   "source": [
    "Comparing words to hashtags:"
   ]
  },
  {
   "cell_type": "code",
   "execution_count": 92,
   "metadata": {},
   "outputs": [],
   "source": [
    "word_list = tweet_window.tweet_text.str.lower().str.split(r'\\s+',expand=True).stack().value_counts()"
   ]
  },
  {
   "cell_type": "code",
   "execution_count": 93,
   "metadata": {},
   "outputs": [],
   "source": [
    "hashtags_count = word_list[word_list.index.str[0] == '#']"
   ]
  },
  {
   "cell_type": "code",
   "execution_count": 94,
   "metadata": {},
   "outputs": [],
   "source": [
    "hashtag_words = hashtags_count.index.str[1:].values"
   ]
  },
  {
   "cell_type": "code",
   "execution_count": 95,
   "metadata": {},
   "outputs": [
    {
     "data": {
      "text/plain": [
       "the                        5791\n",
       "i                          4543\n",
       "to                         3990\n",
       "@                          3337\n",
       "a                          3286\n",
       "in                         3159\n",
       "and                        3025\n",
       "of                         2854\n",
       "is                         2728\n",
       "                           2463\n",
       "my                         2448\n",
       "this                       2228\n",
       "for                        2079\n",
       "you                        1952\n",
       "s                          1835\n",
       "florida                    1635\n",
       "it                         1635\n",
       "on                         1568\n",
       "#hurricaneirma             1566\n",
       "we                         1550\n",
       "at                         1497\n",
       "t                          1378\n",
       "from                       1275\n",
       "hurricane                  1217\n",
       "all                        1161\n",
       "#irma                      1150\n",
       "irma                       1132\n",
       "be                         1122\n",
       "are                        1121\n",
       "just                       1101\n",
       "                           ... \n",
       "https://t.co/fbyxtkowax       1\n",
       "windless                      1\n",
       "edits                         1\n",
       "https://t.co/donosdjids       1\n",
       "https://t.co/kf6j6dupzo       1\n",
       "dta                           1\n",
       "https://t.co/vd4belvcia       1\n",
       "https://t.co/welqssrcc0       1\n",
       "https://t.co/cllwqisnhm       1\n",
       "https://t.co/34uarpkavk       1\n",
       "https://t.co/yr53lewcxu       1\n",
       "#minos                        1\n",
       "veteran                       1\n",
       "https://t.co/jizsrc85rk       1\n",
       "https://t.co/yruziro1x9       1\n",
       "skulls                        1\n",
       "https://t.co/slwcvmmumf       1\n",
       "morons                        1\n",
       "https://t.co/x8e1l79pe3       1\n",
       "@slasherofhorror              1\n",
       "https://t.co/imr2ty5w84       1\n",
       "reading...                    1\n",
       "https://t.co/6gccejzyak       1\n",
       "@robertbg_                    1\n",
       "@motorworksbrew               1\n",
       "https://t.co/fxha9w5aaf       1\n",
       "https://t.co/53vco9jflh       1\n",
       "https://t.co/5hws1l8b8j       1\n",
       "https://t.co/xx782p5azv       1\n",
       "tempest                       1\n",
       "Length: 38535, dtype: int64"
      ]
     },
     "execution_count": 95,
     "metadata": {},
     "output_type": "execute_result"
    }
   ],
   "source": [
    "word_list"
   ]
  },
  {
   "cell_type": "code",
   "execution_count": 96,
   "metadata": {},
   "outputs": [
    {
     "data": {
      "text/plain": [
       "1566"
      ]
     },
     "execution_count": 96,
     "metadata": {},
     "output_type": "execute_result"
    }
   ],
   "source": [
    "word_list['#hurricaneirma']"
   ]
  },
  {
   "cell_type": "code",
   "execution_count": 97,
   "metadata": {},
   "outputs": [
    {
     "data": {
      "text/plain": [
       "Index(['.@mayorgimenez', '.@actionnewsjax', '.@manateesheriff',\n",
       "       '.@jason_lanning', '.@flgovscott', '.@jimsmallman', '.@cbs12',\n",
       "       '.@realdonaldtrump', '.@twcbreaking', '-@grant_gilmore',\n",
       "       '.@weatherchannel', '.@dukeenergy', '.@potus', '.@thecwsupergirl',\n",
       "       '.@mimperatowesh', 'w@30.', '.@nicoleebryan', '.@richarddymond',\n",
       "       '.@10newswtsp', '.@cstevenson7', '#@abc', '.@harrisfaulkner',\n",
       "       '.@miamidadecounty', '.@goabode', '.@occc', '.@twc_hurricane'],\n",
       "      dtype='object')"
      ]
     },
     "execution_count": 97,
     "metadata": {},
     "output_type": "execute_result"
    }
   ],
   "source": [
    "word_list[word_list.index.str[1]=='@'].index"
   ]
  },
  {
   "cell_type": "code",
   "execution_count": 45,
   "metadata": {},
   "outputs": [
    {
     "data": {
      "text/plain": [
       "                                   2811.0\n",
       "my                                 2334.0\n",
       "florida                            2124.0\n",
       "this                               2011.0\n",
       "you                                1741.0\n",
       "it                                 1612.0\n",
       "we                                 1607.0\n",
       "irma                               1289.0\n",
       "hurricane                          1257.0\n",
       "gust                               1074.0\n",
       "me                                  952.0\n",
       "power                               878.0\n",
       "fl                                  847.0\n",
       "wind                                656.0\n",
       "storm                               630.0\n",
       "our                                 563.0\n",
       "now                                 524.0\n",
       "rain                                499.0\n",
       "down                                477.0\n",
       "safe                                471.0\n",
       "miami                               468.0\n",
       "go                                  410.0\n",
       "will                                393.0\n",
       "beach                               384.0\n",
       "stay                                360.0\n",
       "tornado                             357.0\n",
       "us                                  345.0\n",
       "got                                 343.0\n",
       "winds                               317.0\n",
       "f                                   313.0\n",
       "                                    ...  \n",
       "fortmyers.                            NaN\n",
       "9september                            NaN\n",
       "doglife                               NaN\n",
       "piperlove                             NaN\n",
       "russiansinflorida                     NaN\n",
       "staybless                             NaN\n",
       "pawpaw                                NaN\n",
       "illinois                              NaN\n",
       "fortpierce,                           NaN\n",
       "uracanirma                            NaN\n",
       "btwwearesafe                          NaN\n",
       "iwon                                  NaN\n",
       "laryngitis#hurricaneirma#losttv       NaN\n",
       "mydailyinspiration                    NaN\n",
       "hotterthanthedevilsdick               NaN\n",
       "vibrantatanyage                       NaN\n",
       "ihateyouirma                          NaN\n",
       "mantra                                NaN\n",
       "itshappening                          NaN\n",
       "cholanews                             NaN\n",
       "gobucs                                NaN\n",
       "emcee                                 NaN\n",
       "expeditioneverest                     NaN\n",
       "loveislove                            NaN\n",
       "bibliotherapy                         NaN\n",
       "irma.ahora                            NaN\n",
       "lonelyplanet                          NaN\n",
       "palmaire                              NaN\n",
       "teelingwhiskey                        NaN\n",
       "interconmiami                         NaN\n",
       "Length: 4690, dtype: float64"
      ]
     },
     "execution_count": 45,
     "metadata": {},
     "output_type": "execute_result"
    }
   ],
   "source": [
    "word_list[hashtag_words].sort_values(ascending=False)"
   ]
  },
  {
   "cell_type": "code",
   "execution_count": 320,
   "metadata": {},
   "outputs": [],
   "source": [
    "word_pairs = list(combinations(list(vector_model.wv.vocab.keys()),2))"
   ]
  },
  {
   "cell_type": "code",
   "execution_count": 321,
   "metadata": {},
   "outputs": [],
   "source": [
    "tweet_graph = nx.Graph()"
   ]
  },
  {
   "cell_type": "code",
   "execution_count": 322,
   "metadata": {},
   "outputs": [],
   "source": [
    "for pair in word_pairs:\n",
    "    edge_weight = vector_model.wv.similarity(pair[0],pair[1])\n",
    "    if edge_weight > .80:\n",
    "        tweet_graph.add_edge(pair[0],pair[1],weight=edge_weight)"
   ]
  },
  {
   "cell_type": "code",
   "execution_count": 49,
   "metadata": {},
   "outputs": [],
   "source": [
    "# tweet_graph.add_nodes_from(vector_model.wv.vocab.keys())"
   ]
  },
  {
   "cell_type": "code",
   "execution_count": 323,
   "metadata": {},
   "outputs": [],
   "source": [
    "nx.write_gexf(tweet_graph,path=r'./tweet_graph.gexf')"
   ]
  },
  {
   "cell_type": "code",
   "execution_count": null,
   "metadata": {},
   "outputs": [],
   "source": []
  }
 ],
 "metadata": {
  "kernelspec": {
   "display_name": "Python 3",
   "language": "python",
   "name": "python3"
  },
  "language_info": {
   "codemirror_mode": {
    "name": "ipython",
    "version": 3
   },
   "file_extension": ".py",
   "mimetype": "text/x-python",
   "name": "python",
   "nbconvert_exporter": "python",
   "pygments_lexer": "ipython3",
   "version": "3.7.0"
  }
 },
 "nbformat": 4,
 "nbformat_minor": 2
}
